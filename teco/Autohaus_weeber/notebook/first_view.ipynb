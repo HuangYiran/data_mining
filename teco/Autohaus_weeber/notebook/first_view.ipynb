{
 "cells": [
  {
   "cell_type": "code",
   "execution_count": 128,
   "metadata": {
    "collapsed": true
   },
   "outputs": [],
   "source": [
    "# load package\n",
    "# string \n",
    "import re\n",
    "\n",
    "# math\n",
    "import pandas as pd\n",
    "import numpy as np\n",
    "import scipy as sp\n",
    "import random\n",
    "\n",
    "# sys\n",
    "import sys\n",
    "import os\n",
    "import time\n",
    "import warnings\n",
    "\n",
    "# machine learning\n",
    "from sklearn import svm, tree, linear_model, neighbors, naive_bayes, ensemble, gaussian_process, discriminant_analysis\n",
    "from xgboost import XGBClassifier\n",
    "\n",
    "# model utils\n",
    "from sklearn.preprocessing import OneHotEncoder, LabelEncoder\n",
    "from sklearn import feature_selection \n",
    "from sklearn import model_selection\n",
    "from sklearn import metrics\n",
    "\n",
    "# plot\n",
    "import matplotlib as mpl\n",
    "import matplotlib.pyplot as plt\n",
    "import matplotlib.pylab as pylab\n",
    "import seaborn as sns\n",
    "from pandas.tools.plotting import scatter_matrix #??\n",
    "# = show plots in Jupyter Notebook browser\n",
    "%matplotlib inline \n",
    "mpl.style.use('ggplot') #??\n",
    "sns.set_style('white')\n",
    "pylab.rcParams['figure.figsize'] = 12,8 #??\n",
    "\n",
    "# self define\n",
    "sys.path.append('../../utils/')"
   ]
  },
  {
   "cell_type": "code",
   "execution_count": 6,
   "metadata": {
    "collapsed": false
   },
   "outputs": [
    {
     "name": "stderr",
     "output_type": "stream",
     "text": [
      "/Users/ihuangyiran/anaconda2/envs/data_mining/lib/python3.6/site-packages/IPython/core/interactiveshell.py:2785: DtypeWarning: Columns (15) have mixed types. Specify dtype option on import or set low_memory=False.\n",
      "  interactivity=interactivity, compiler=compiler, result=result)\n",
      "/Users/ihuangyiran/anaconda2/envs/data_mining/lib/python3.6/site-packages/IPython/core/interactiveshell.py:2785: DtypeWarning: Columns (1,15) have mixed types. Specify dtype option on import or set low_memory=False.\n",
      "  interactivity=interactivity, compiler=compiler, result=result)\n"
     ]
    }
   ],
   "source": [
    "# read files\n",
    "lb_wsp_2014 = pd.read_csv('../data/Autohaus_weeber/leonberg_werkstattposten_2014.csv', sep = ';')\n",
    "lb_wsp_2015 = pd.read_csv('../data/Autohaus_weeber/leonberg_werkstattposten_2015.csv', sep = ';')\n",
    "lb_wsp_2016 = pd.read_csv('../data/Autohaus_weeber/leonberg_werkstattposten_2016.csv', sep = ';')\n",
    "lb_wsp_2017 = pd.read_csv('../data/Autohaus_weeber/leonberg_werkstattposten_2017.csv', sep = ';')\n",
    "lb_wsp_2018 = pd.read_csv('../data/Autohaus_weeber/leonberg_werkstattposten_2018.csv', sep = ';')\n",
    "std_wsp_2014 = pd.read_csv('../data/Autohaus_weeber/weil_der_stadt_werkstattposten_2014.csv', sep = ';')\n",
    "std_wsp_2015 = pd.read_csv('../data/Autohaus_weeber/weil_der_stadt_werkstattposten_2015.csv', sep = ';')\n",
    "std_wsp_2016 = pd.read_csv('../data/Autohaus_weeber/weil_der_stadt_werkstattposten_2016.csv', sep = ';')\n",
    "std_wsp_2017 = pd.read_csv('../data/Autohaus_weeber/weil_der_stadt_werkstattposten_2017.csv', sep = ';')\n",
    "std_wsp_2018 = pd.read_csv('../data/Autohaus_weeber/weil_der_stadt_werkstattposten_2018.csv', sep = ';')"
   ]
  },
  {
   "cell_type": "code",
   "execution_count": 10,
   "metadata": {
    "collapsed": false
   },
   "outputs": [],
   "source": [
    "# cat\n",
    "d1 = lb_wsp_2014.copy()\n",
    "d2 = lb_wsp_2015.copy()\n",
    "d3 = lb_wsp_2016.copy()\n",
    "d4 = lb_wsp_2017.copy()\n",
    "d5 = lb_wsp_2018.copy()\n",
    "data = pd.concat([d1,d2,d3,d4], 0)"
   ]
  },
  {
   "cell_type": "code",
   "execution_count": 87,
   "metadata": {
    "collapsed": false
   },
   "outputs": [],
   "source": [
    "d6 = std_wsp_2014.copy()\n",
    "d7 = std_wsp_2015.copy()\n",
    "d8 = std_wsp_2016.copy()\n",
    "d9 = std_wsp_2017.copy()\n",
    "d10 = std_wsp_2018.copy()\n",
    "data2 = pd.concat([d6,d7,d8,d9,d10], 0)"
   ]
  },
  {
   "cell_type": "code",
   "execution_count": 11,
   "metadata": {
    "collapsed": false
   },
   "outputs": [
    {
     "name": "stdout",
     "output_type": "stream",
     "text": [
      "<class 'pandas.core.frame.DataFrame'>\n",
      "Int64Index: 1001054 entries, 0 to 279792\n",
      "Data columns (total 21 columns):\n",
      "Auftragsnummer          1001054 non-null object\n",
      "AW-Nr                   437185 non-null object\n",
      "Teile-Nr                517935 non-null object\n",
      "KM-Stand                1000958 non-null object\n",
      "Beschreibung            1000315 non-null object\n",
      "Auftragsdatum           1001054 non-null object\n",
      "Markencode              995567 non-null object\n",
      "Lagerortcode            1001054 non-null object\n",
      "Adressanredecode        991514 non-null object\n",
      "Fahrgestellnummer       996850 non-null object\n",
      "Motorcode               979644 non-null object\n",
      "Fahrzeugmodellnummer    995486 non-null object\n",
      "Modell                  993023 non-null object\n",
      "Typ                     720265 non-null object\n",
      "Getriebecode            976875 non-null object\n",
      "Getriebeartcode         575 non-null object\n",
      "Gewicht                 995390 non-null object\n",
      "Leistung (KW)           995390 non-null float64\n",
      "Erstzulassungsdatum     995390 non-null object\n",
      "Neuwagen                571712 non-null object\n",
      "Unnamed: 20             0 non-null float64\n",
      "dtypes: float64(2), object(19)\n",
      "memory usage: 168.0+ MB\n"
     ]
    }
   ],
   "source": [
    "data.info()"
   ]
  },
  {
   "cell_type": "code",
   "execution_count": 88,
   "metadata": {
    "collapsed": false
   },
   "outputs": [
    {
     "name": "stdout",
     "output_type": "stream",
     "text": [
      "<class 'pandas.core.frame.DataFrame'>\n",
      "Int64Index: 2192193 entries, 0 to 291459\n",
      "Data columns (total 21 columns):\n",
      "Auftragsnummer          object\n",
      "AW-Nr                   object\n",
      "Teile-Nr                object\n",
      "KM-Stand                object\n",
      "Beschreibung            object\n",
      "Auftragsdatum           object\n",
      "Markencode              object\n",
      "Lagerortcode            object\n",
      "Adressanredecode        object\n",
      "Fahrgestellnummer       object\n",
      "Motorcode               object\n",
      "Fahrzeugmodellnummer    object\n",
      "Modell                  object\n",
      "Typ                     object\n",
      "Getriebecode            object\n",
      "Getriebeartcode         object\n",
      "Gewicht                 object\n",
      "Leistung (KW)           float64\n",
      "Erstzulassungsdatum     object\n",
      "Neuwagen                object\n",
      "Unnamed: 20             float64\n",
      "dtypes: float64(2), object(19)\n",
      "memory usage: 368.0+ MB\n"
     ]
    }
   ],
   "source": [
    "data2.info()"
   ]
  },
  {
   "cell_type": "code",
   "execution_count": 12,
   "metadata": {
    "collapsed": false
   },
   "outputs": [
    {
     "data": {
      "text/plain": [
       "Auftragsnummer                0\n",
       "AW-Nr                    563869\n",
       "Teile-Nr                 483119\n",
       "KM-Stand                     96\n",
       "Beschreibung                739\n",
       "Auftragsdatum                 0\n",
       "Markencode                 5487\n",
       "Lagerortcode                  0\n",
       "Adressanredecode           9540\n",
       "Fahrgestellnummer          4204\n",
       "Motorcode                 21410\n",
       "Fahrzeugmodellnummer       5568\n",
       "Modell                     8031\n",
       "Typ                      280789\n",
       "Getriebecode              24179\n",
       "Getriebeartcode         1000479\n",
       "Gewicht                    5664\n",
       "Leistung (KW)              5664\n",
       "Erstzulassungsdatum        5664\n",
       "Neuwagen                 429342\n",
       "Unnamed: 20             1001054\n",
       "dtype: int64"
      ]
     },
     "execution_count": 12,
     "metadata": {},
     "output_type": "execute_result"
    }
   ],
   "source": [
    "data.isnull().sum()"
   ]
  },
  {
   "cell_type": "markdown",
   "metadata": {},
   "source": [
    "## AW-Nr"
   ]
  },
  {
   "cell_type": "code",
   "execution_count": 92,
   "metadata": {
    "collapsed": false
   },
   "outputs": [],
   "source": [
    "aw = data['AW-Nr']"
   ]
  },
  {
   "cell_type": "code",
   "execution_count": null,
   "metadata": {
    "collapsed": true
   },
   "outputs": [],
   "source": []
  },
  {
   "cell_type": "code",
   "execution_count": 93,
   "metadata": {
    "collapsed": false
   },
   "outputs": [
    {
     "data": {
      "text/plain": [
       "563869"
      ]
     },
     "execution_count": 93,
     "metadata": {},
     "output_type": "execute_result"
    }
   ],
   "source": [
    "aw.isnull().sum()"
   ]
  },
  {
   "cell_type": "code",
   "execution_count": 94,
   "metadata": {
    "collapsed": false
   },
   "outputs": [
    {
     "data": {
      "text/plain": [
       "count       437185\n",
       "unique       18746\n",
       "top       99999994\n",
       "freq         15014\n",
       "Name: AW-Nr, dtype: object"
      ]
     },
     "execution_count": 94,
     "metadata": {},
     "output_type": "execute_result"
    }
   ],
   "source": [
    "aw.describe()"
   ]
  },
  {
   "cell_type": "markdown",
   "metadata": {
    "collapsed": false
   },
   "source": [
    "- 指定的是预计工时， 原来应该是float类型的，估计是有错乱\n",
    "- 一半的数值是缺失的，\n",
    "- 最大值top有问题啊.\n",
    "- count和unique的占比是40比1， \n",
    "- 因为是数值类型的，而且值域比较大，感觉应该先进行分段\n",
    "- 分布不均，觉得没有意义的数值，在里边的占比确实最大的，约1/3，"
   ]
  },
  {
   "cell_type": "code",
   "execution_count": 124,
   "metadata": {
    "collapsed": false
   },
   "outputs": [
    {
     "data": {
      "text/plain": [
       "Auftragsnummer          358\n",
       "AW-Nr                   358\n",
       "Teile-Nr                  0\n",
       "KM-Stand                358\n",
       "Beschreibung            358\n",
       "Auftragsdatum           358\n",
       "Markencode              355\n",
       "Lagerortcode            358\n",
       "Adressanredecode        344\n",
       "Fahrgestellnummer       357\n",
       "Motorcode               347\n",
       "Fahrzeugmodellnummer    355\n",
       "Modell                  351\n",
       "Typ                     236\n",
       "Getriebecode            343\n",
       "Getriebeartcode           0\n",
       "Gewicht                 355\n",
       "Leistung (KW)           355\n",
       "Erstzulassungsdatum     355\n",
       "Neuwagen                174\n",
       "Unnamed: 20               0\n",
       "dtype: int64"
      ]
     },
     "execution_count": 124,
     "metadata": {},
     "output_type": "execute_result"
    }
   ],
   "source": [
    "a = data.loc[aw == 51017133.0]\n",
    "a.count()"
   ]
  },
  {
   "cell_type": "code",
   "execution_count": 118,
   "metadata": {
    "collapsed": false
   },
   "outputs": [
    {
     "data": {
      "text/plain": [
       "array([nan, 51017133.0, 51017195.0, ..., '13731905', '58656500', '66341900'], dtype=object)"
      ]
     },
     "execution_count": 118,
     "metadata": {},
     "output_type": "execute_result"
    }
   ],
   "source": [
    "aw.unique()"
   ]
  },
  {
   "cell_type": "markdown",
   "metadata": {},
   "source": [
    "## Teile-Nr"
   ]
  },
  {
   "cell_type": "code",
   "execution_count": 98,
   "metadata": {
    "collapsed": true
   },
   "outputs": [],
   "source": [
    "tn = data['Teile-Nr']"
   ]
  },
  {
   "cell_type": "code",
   "execution_count": 99,
   "metadata": {
    "collapsed": false
   },
   "outputs": [
    {
     "data": {
      "text/plain": [
       "483119"
      ]
     },
     "execution_count": 99,
     "metadata": {},
     "output_type": "execute_result"
    }
   ],
   "source": [
    "tn.isnull().sum()"
   ]
  },
  {
   "cell_type": "code",
   "execution_count": 100,
   "metadata": {
    "collapsed": false
   },
   "outputs": [
    {
     "data": {
      "text/plain": [
       "count          517935\n",
       "unique          37008\n",
       "top       N  90813202\n",
       "freq            13922\n",
       "Name: Teile-Nr, dtype: object"
      ]
     },
     "execution_count": 100,
     "metadata": {},
     "output_type": "execute_result"
    }
   ],
   "source": [
    "tn.describe() # 相比于14年的有增加"
   ]
  },
  {
   "cell_type": "markdown",
   "metadata": {},
   "source": [
    "- 指部件的号码，每个号码指不同的部件\n",
    "- 一半的值是空值。数量和独立的比是20比1，也就是说5年间，他们所处理的任务极少是重复的。\n",
    "- 因为这是编号：应该具体了解一下编号各个数值的定义，从而合并一些小的范畴，减少数量，最简单的方法是每个数值作为一种新的属性，进行分析。\n",
    "- 分布不均 N. 占了1/5"
   ]
  },
  {
   "cell_type": "markdown",
   "metadata": {},
   "source": [
    "## KM-Stand"
   ]
  },
  {
   "cell_type": "code",
   "execution_count": 18,
   "metadata": {
    "collapsed": false
   },
   "outputs": [],
   "source": [
    "ka = data['KM-Stand']"
   ]
  },
  {
   "cell_type": "code",
   "execution_count": 25,
   "metadata": {
    "collapsed": false
   },
   "outputs": [
    {
     "data": {
      "text/plain": [
       "96"
      ]
     },
     "execution_count": 25,
     "metadata": {},
     "output_type": "execute_result"
    }
   ],
   "source": [
    "ka.isnull().sum()"
   ]
  },
  {
   "cell_type": "code",
   "execution_count": 19,
   "metadata": {
    "collapsed": false
   },
   "outputs": [
    {
     "data": {
      "text/plain": [
       "count     1000958\n",
       "unique      52607\n",
       "top         15,00\n",
       "freq        11404\n",
       "Name: KM-Stand, dtype: object"
      ]
     },
     "execution_count": 19,
     "metadata": {},
     "output_type": "execute_result"
    }
   ],
   "source": [
    "ka.describe() # 相比于14年的有"
   ]
  },
  {
   "cell_type": "markdown",
   "metadata": {},
   "source": [
    "- 指里程表， 应该是数值类型的，但是这里却不是，所以应该出现了一些乱码，可以用正则表达式找一下\n",
    "- 只有少量的null值，单看是可以忽略掉，数值类型可分段\n",
    "- 分布不均， 有1万多个是1500的"
   ]
  },
  {
   "cell_type": "markdown",
   "metadata": {},
   "source": [
    "## Beschreibung"
   ]
  },
  {
   "cell_type": "code",
   "execution_count": 20,
   "metadata": {
    "collapsed": true
   },
   "outputs": [],
   "source": [
    "bs = data['Beschreibung']"
   ]
  },
  {
   "cell_type": "code",
   "execution_count": 26,
   "metadata": {
    "collapsed": false
   },
   "outputs": [
    {
     "data": {
      "text/plain": [
       "739"
      ]
     },
     "execution_count": 26,
     "metadata": {},
     "output_type": "execute_result"
    }
   ],
   "source": [
    "bs.isnull().sum()"
   ]
  },
  {
   "cell_type": "code",
   "execution_count": 21,
   "metadata": {
    "collapsed": false,
    "scrolled": true
   },
   "outputs": [
    {
     "data": {
      "text/plain": [
       "count      1000315\n",
       "unique       61567\n",
       "top       SCHRAUBE\n",
       "freq         86845\n",
       "Name: Beschreibung, dtype: object"
      ]
     },
     "execution_count": 21,
     "metadata": {},
     "output_type": "execute_result"
    }
   ],
   "source": [
    "bs.describe() # 相比于14年的有"
   ]
  },
  {
   "cell_type": "markdown",
   "metadata": {},
   "source": [
    "- 对维护的描述\n",
    "- 有少量的空值\n",
    "- 类型多，每种类型大概出现有14次，可能是大小写导致的独立数目偏多？？？\n",
    "- 分布不均， schraube自己就占了8万多个"
   ]
  },
  {
   "cell_type": "code",
   "execution_count": 127,
   "metadata": {
    "collapsed": false
   },
   "outputs": [
    {
     "data": {
      "text/html": [
       "<div>\n",
       "<style scoped>\n",
       "    .dataframe tbody tr th:only-of-type {\n",
       "        vertical-align: middle;\n",
       "    }\n",
       "\n",
       "    .dataframe tbody tr th {\n",
       "        vertical-align: top;\n",
       "    }\n",
       "\n",
       "    .dataframe thead th {\n",
       "        text-align: right;\n",
       "    }\n",
       "</style>\n",
       "<table border=\"1\" class=\"dataframe\">\n",
       "  <thead>\n",
       "    <tr style=\"text-align: right;\">\n",
       "      <th></th>\n",
       "      <th>Auftragsnummer</th>\n",
       "      <th>AW-Nr</th>\n",
       "      <th>Teile-Nr</th>\n",
       "      <th>KM-Stand</th>\n",
       "      <th>Beschreibung</th>\n",
       "      <th>Auftragsdatum</th>\n",
       "      <th>Markencode</th>\n",
       "      <th>Lagerortcode</th>\n",
       "      <th>Adressanredecode</th>\n",
       "      <th>Fahrgestellnummer</th>\n",
       "      <th>...</th>\n",
       "      <th>Fahrzeugmodellnummer</th>\n",
       "      <th>Modell</th>\n",
       "      <th>Typ</th>\n",
       "      <th>Getriebecode</th>\n",
       "      <th>Getriebeartcode</th>\n",
       "      <th>Gewicht</th>\n",
       "      <th>Leistung (KW)</th>\n",
       "      <th>Erstzulassungsdatum</th>\n",
       "      <th>Neuwagen</th>\n",
       "      <th>Unnamed: 20</th>\n",
       "    </tr>\n",
       "  </thead>\n",
       "  <tbody>\n",
       "    <tr>\n",
       "      <th>347</th>\n",
       "      <td>WSAU214922</td>\n",
       "      <td>NaN</td>\n",
       "      <td>NaN</td>\n",
       "      <td>64311,00</td>\n",
       "      <td>Karosserie Lackierung vorbereitet</td>\n",
       "      <td>30.06.2014</td>\n",
       "      <td>SKODA</td>\n",
       "      <td>Weeber Leonberg Skoda (Hertichstraße 25, 71229...</td>\n",
       "      <td>Firma</td>\n",
       "      <td>TMBKT61Z4C2187428</td>\n",
       "      <td>...</td>\n",
       "      <td>1Z522Y</td>\n",
       "      <td>OCTAVIA COMBI II Ambiente 4X4</td>\n",
       "      <td>NaN</td>\n",
       "      <td>NFQ</td>\n",
       "      <td>NaN</td>\n",
       "      <td>1705,00</td>\n",
       "      <td>77.0</td>\n",
       "      <td>21.06.2012</td>\n",
       "      <td>als Neuwagen bezogen</td>\n",
       "      <td>NaN</td>\n",
       "    </tr>\n",
       "    <tr>\n",
       "      <th>409</th>\n",
       "      <td>WSAU214922</td>\n",
       "      <td>NaN</td>\n",
       "      <td>NaN</td>\n",
       "      <td>64311,00</td>\n",
       "      <td>Karosserie Lackierung vorbereitet</td>\n",
       "      <td>30.06.2014</td>\n",
       "      <td>SKODA</td>\n",
       "      <td>Weeber Leonberg Skoda (Hertichstraße 25, 71229...</td>\n",
       "      <td>Firma</td>\n",
       "      <td>TMBKT61Z4C2187428</td>\n",
       "      <td>...</td>\n",
       "      <td>1Z522Y</td>\n",
       "      <td>OCTAVIA COMBI II Ambiente 4X4</td>\n",
       "      <td>NaN</td>\n",
       "      <td>NFQ</td>\n",
       "      <td>NaN</td>\n",
       "      <td>1705,00</td>\n",
       "      <td>77.0</td>\n",
       "      <td>21.06.2012</td>\n",
       "      <td>als Neuwagen bezogen</td>\n",
       "      <td>NaN</td>\n",
       "    </tr>\n",
       "    <tr>\n",
       "      <th>411</th>\n",
       "      <td>WSAU214922</td>\n",
       "      <td>NaN</td>\n",
       "      <td>NaN</td>\n",
       "      <td>64311,00</td>\n",
       "      <td>Karosserie Lackierung vorbereitet</td>\n",
       "      <td>30.06.2014</td>\n",
       "      <td>SKODA</td>\n",
       "      <td>Weeber Leonberg Skoda (Hertichstraße 25, 71229...</td>\n",
       "      <td>Firma</td>\n",
       "      <td>TMBKT61Z4C2187428</td>\n",
       "      <td>...</td>\n",
       "      <td>1Z522Y</td>\n",
       "      <td>OCTAVIA COMBI II Ambiente 4X4</td>\n",
       "      <td>NaN</td>\n",
       "      <td>NFQ</td>\n",
       "      <td>NaN</td>\n",
       "      <td>1705,00</td>\n",
       "      <td>77.0</td>\n",
       "      <td>21.06.2012</td>\n",
       "      <td>als Neuwagen bezogen</td>\n",
       "      <td>NaN</td>\n",
       "    </tr>\n",
       "    <tr>\n",
       "      <th>412</th>\n",
       "      <td>WSAU214922</td>\n",
       "      <td>NaN</td>\n",
       "      <td>NaN</td>\n",
       "      <td>64311,00</td>\n",
       "      <td>Karosserie Lackierung vorbereitet</td>\n",
       "      <td>30.06.2014</td>\n",
       "      <td>SKODA</td>\n",
       "      <td>Weeber Leonberg Skoda (Hertichstraße 25, 71229...</td>\n",
       "      <td>Firma</td>\n",
       "      <td>TMBKT61Z4C2187428</td>\n",
       "      <td>...</td>\n",
       "      <td>1Z522Y</td>\n",
       "      <td>OCTAVIA COMBI II Ambiente 4X4</td>\n",
       "      <td>NaN</td>\n",
       "      <td>NFQ</td>\n",
       "      <td>NaN</td>\n",
       "      <td>1705,00</td>\n",
       "      <td>77.0</td>\n",
       "      <td>21.06.2012</td>\n",
       "      <td>als Neuwagen bezogen</td>\n",
       "      <td>NaN</td>\n",
       "    </tr>\n",
       "    <tr>\n",
       "      <th>420</th>\n",
       "      <td>WSAU214922</td>\n",
       "      <td>NaN</td>\n",
       "      <td>NaN</td>\n",
       "      <td>64311,00</td>\n",
       "      <td>Karosserie Lackierung vorbereitet</td>\n",
       "      <td>30.06.2014</td>\n",
       "      <td>SKODA</td>\n",
       "      <td>Weeber Leonberg Skoda (Hertichstraße 25, 71229...</td>\n",
       "      <td>Firma</td>\n",
       "      <td>TMBKT61Z4C2187428</td>\n",
       "      <td>...</td>\n",
       "      <td>1Z522Y</td>\n",
       "      <td>OCTAVIA COMBI II Ambiente 4X4</td>\n",
       "      <td>NaN</td>\n",
       "      <td>NFQ</td>\n",
       "      <td>NaN</td>\n",
       "      <td>1705,00</td>\n",
       "      <td>77.0</td>\n",
       "      <td>21.06.2012</td>\n",
       "      <td>als Neuwagen bezogen</td>\n",
       "      <td>NaN</td>\n",
       "    </tr>\n",
       "    <tr>\n",
       "      <th>421</th>\n",
       "      <td>WSAU214922</td>\n",
       "      <td>NaN</td>\n",
       "      <td>NaN</td>\n",
       "      <td>64311,00</td>\n",
       "      <td>Karosserie Lackierung vorbereitet</td>\n",
       "      <td>30.06.2014</td>\n",
       "      <td>SKODA</td>\n",
       "      <td>Weeber Leonberg Skoda (Hertichstraße 25, 71229...</td>\n",
       "      <td>Firma</td>\n",
       "      <td>TMBKT61Z4C2187428</td>\n",
       "      <td>...</td>\n",
       "      <td>1Z522Y</td>\n",
       "      <td>OCTAVIA COMBI II Ambiente 4X4</td>\n",
       "      <td>NaN</td>\n",
       "      <td>NFQ</td>\n",
       "      <td>NaN</td>\n",
       "      <td>1705,00</td>\n",
       "      <td>77.0</td>\n",
       "      <td>21.06.2012</td>\n",
       "      <td>als Neuwagen bezogen</td>\n",
       "      <td>NaN</td>\n",
       "    </tr>\n",
       "    <tr>\n",
       "      <th>1748</th>\n",
       "      <td>WSAU200473</td>\n",
       "      <td>NaN</td>\n",
       "      <td>NaN</td>\n",
       "      <td>933,00</td>\n",
       "      <td>Karosserie Lackierung vorbereitet</td>\n",
       "      <td>07.01.2014</td>\n",
       "      <td>AUDI</td>\n",
       "      <td>Weeber Leonberg Audi (Glemseckstraße 39, 71229...</td>\n",
       "      <td>Firma</td>\n",
       "      <td>WAUZZZ4H1EN010108</td>\n",
       "      <td>...</td>\n",
       "      <td>4HC0TA</td>\n",
       "      <td>Audi A8 Limousine 4.2 TDI clea</td>\n",
       "      <td>X0A</td>\n",
       "      <td>PRX</td>\n",
       "      <td>NaN</td>\n",
       "      <td>0,00</td>\n",
       "      <td>0.0</td>\n",
       "      <td>11.12.2013</td>\n",
       "      <td>als Neuwagen bezogen</td>\n",
       "      <td>NaN</td>\n",
       "    </tr>\n",
       "    <tr>\n",
       "      <th>1749</th>\n",
       "      <td>WSAU200473</td>\n",
       "      <td>NaN</td>\n",
       "      <td>NaN</td>\n",
       "      <td>933,00</td>\n",
       "      <td>Karosserie Lackierung vorbereitet</td>\n",
       "      <td>07.01.2014</td>\n",
       "      <td>AUDI</td>\n",
       "      <td>Weeber Leonberg Audi (Glemseckstraße 39, 71229...</td>\n",
       "      <td>Firma</td>\n",
       "      <td>WAUZZZ4H1EN010108</td>\n",
       "      <td>...</td>\n",
       "      <td>4HC0TA</td>\n",
       "      <td>Audi A8 Limousine 4.2 TDI clea</td>\n",
       "      <td>X0A</td>\n",
       "      <td>PRX</td>\n",
       "      <td>NaN</td>\n",
       "      <td>0,00</td>\n",
       "      <td>0.0</td>\n",
       "      <td>11.12.2013</td>\n",
       "      <td>als Neuwagen bezogen</td>\n",
       "      <td>NaN</td>\n",
       "    </tr>\n",
       "    <tr>\n",
       "      <th>1750</th>\n",
       "      <td>WSAU200473</td>\n",
       "      <td>NaN</td>\n",
       "      <td>NaN</td>\n",
       "      <td>933,00</td>\n",
       "      <td>Karosserie Lackierung vorbereitet</td>\n",
       "      <td>07.01.2014</td>\n",
       "      <td>AUDI</td>\n",
       "      <td>Weeber Leonberg Audi (Glemseckstraße 39, 71229...</td>\n",
       "      <td>Firma</td>\n",
       "      <td>WAUZZZ4H1EN010108</td>\n",
       "      <td>...</td>\n",
       "      <td>4HC0TA</td>\n",
       "      <td>Audi A8 Limousine 4.2 TDI clea</td>\n",
       "      <td>X0A</td>\n",
       "      <td>PRX</td>\n",
       "      <td>NaN</td>\n",
       "      <td>0,00</td>\n",
       "      <td>0.0</td>\n",
       "      <td>11.12.2013</td>\n",
       "      <td>als Neuwagen bezogen</td>\n",
       "      <td>NaN</td>\n",
       "    </tr>\n",
       "    <tr>\n",
       "      <th>1853</th>\n",
       "      <td>WSAU200480</td>\n",
       "      <td>NaN</td>\n",
       "      <td>NaN</td>\n",
       "      <td>18409,00</td>\n",
       "      <td>Karosserie Lackierung vorbereitet</td>\n",
       "      <td>02.01.2014</td>\n",
       "      <td>AUDI</td>\n",
       "      <td>Weeber Leonberg Audi (Glemseckstraße 39, 71229...</td>\n",
       "      <td>Frau</td>\n",
       "      <td>WAUZZZ8R4BA043108</td>\n",
       "      <td>...</td>\n",
       "      <td>8RB0MY</td>\n",
       "      <td>Audi Q5 SUV 2.0 TDI quattro</td>\n",
       "      <td>X0A</td>\n",
       "      <td>MSJ</td>\n",
       "      <td>NaN</td>\n",
       "      <td>0,00</td>\n",
       "      <td>0.0</td>\n",
       "      <td>07.07.2011</td>\n",
       "      <td>als Neuwagen bezogen</td>\n",
       "      <td>NaN</td>\n",
       "    </tr>\n",
       "    <tr>\n",
       "      <th>2684</th>\n",
       "      <td>WSAU200586</td>\n",
       "      <td>NaN</td>\n",
       "      <td>NaN</td>\n",
       "      <td>4546,00</td>\n",
       "      <td>Karosserie Lackierung vorbereitet</td>\n",
       "      <td>03.01.2014</td>\n",
       "      <td>SKODA</td>\n",
       "      <td>Weeber Leonberg Skoda (Hertichstraße 25, 71229...</td>\n",
       "      <td>Firma</td>\n",
       "      <td>TMBZZZAAZDD646342</td>\n",
       "      <td>...</td>\n",
       "      <td>NF12A1</td>\n",
       "      <td>Citigo 1.0</td>\n",
       "      <td>NaN</td>\n",
       "      <td>NZC</td>\n",
       "      <td>NaN</td>\n",
       "      <td>0,00</td>\n",
       "      <td>44.0</td>\n",
       "      <td>23.05.2013</td>\n",
       "      <td>NaN</td>\n",
       "      <td>NaN</td>\n",
       "    </tr>\n",
       "    <tr>\n",
       "      <th>2685</th>\n",
       "      <td>WSAU200586</td>\n",
       "      <td>NaN</td>\n",
       "      <td>NaN</td>\n",
       "      <td>4546,00</td>\n",
       "      <td>Karosserie Lackierung vorbereitet</td>\n",
       "      <td>03.01.2014</td>\n",
       "      <td>SKODA</td>\n",
       "      <td>Weeber Leonberg Skoda (Hertichstraße 25, 71229...</td>\n",
       "      <td>Firma</td>\n",
       "      <td>TMBZZZAAZDD646342</td>\n",
       "      <td>...</td>\n",
       "      <td>NF12A1</td>\n",
       "      <td>Citigo 1.0</td>\n",
       "      <td>NaN</td>\n",
       "      <td>NZC</td>\n",
       "      <td>NaN</td>\n",
       "      <td>0,00</td>\n",
       "      <td>44.0</td>\n",
       "      <td>23.05.2013</td>\n",
       "      <td>NaN</td>\n",
       "      <td>NaN</td>\n",
       "    </tr>\n",
       "    <tr>\n",
       "      <th>2686</th>\n",
       "      <td>WSAU200586</td>\n",
       "      <td>NaN</td>\n",
       "      <td>NaN</td>\n",
       "      <td>4546,00</td>\n",
       "      <td>Karosserie Lackierung vorbereitet</td>\n",
       "      <td>03.01.2014</td>\n",
       "      <td>SKODA</td>\n",
       "      <td>Weeber Leonberg Skoda (Hertichstraße 25, 71229...</td>\n",
       "      <td>Firma</td>\n",
       "      <td>TMBZZZAAZDD646342</td>\n",
       "      <td>...</td>\n",
       "      <td>NF12A1</td>\n",
       "      <td>Citigo 1.0</td>\n",
       "      <td>NaN</td>\n",
       "      <td>NZC</td>\n",
       "      <td>NaN</td>\n",
       "      <td>0,00</td>\n",
       "      <td>44.0</td>\n",
       "      <td>23.05.2013</td>\n",
       "      <td>NaN</td>\n",
       "      <td>NaN</td>\n",
       "    </tr>\n",
       "    <tr>\n",
       "      <th>2709</th>\n",
       "      <td>WSAU200586</td>\n",
       "      <td>NaN</td>\n",
       "      <td>NaN</td>\n",
       "      <td>4546,00</td>\n",
       "      <td>Karosserie Lackierung vorbereitet</td>\n",
       "      <td>03.01.2014</td>\n",
       "      <td>SKODA</td>\n",
       "      <td>Weeber Leonberg Skoda (Hertichstraße 25, 71229...</td>\n",
       "      <td>Firma</td>\n",
       "      <td>TMBZZZAAZDD646342</td>\n",
       "      <td>...</td>\n",
       "      <td>NF12A1</td>\n",
       "      <td>Citigo 1.0</td>\n",
       "      <td>NaN</td>\n",
       "      <td>NZC</td>\n",
       "      <td>NaN</td>\n",
       "      <td>0,00</td>\n",
       "      <td>44.0</td>\n",
       "      <td>23.05.2013</td>\n",
       "      <td>NaN</td>\n",
       "      <td>NaN</td>\n",
       "    </tr>\n",
       "    <tr>\n",
       "      <th>2710</th>\n",
       "      <td>WSAU200586</td>\n",
       "      <td>NaN</td>\n",
       "      <td>NaN</td>\n",
       "      <td>4546,00</td>\n",
       "      <td>Karosserie Lackierung vorbereitet</td>\n",
       "      <td>03.01.2014</td>\n",
       "      <td>SKODA</td>\n",
       "      <td>Weeber Leonberg Skoda (Hertichstraße 25, 71229...</td>\n",
       "      <td>Firma</td>\n",
       "      <td>TMBZZZAAZDD646342</td>\n",
       "      <td>...</td>\n",
       "      <td>NF12A1</td>\n",
       "      <td>Citigo 1.0</td>\n",
       "      <td>NaN</td>\n",
       "      <td>NZC</td>\n",
       "      <td>NaN</td>\n",
       "      <td>0,00</td>\n",
       "      <td>44.0</td>\n",
       "      <td>23.05.2013</td>\n",
       "      <td>NaN</td>\n",
       "      <td>NaN</td>\n",
       "    </tr>\n",
       "    <tr>\n",
       "      <th>2711</th>\n",
       "      <td>WSAU200586</td>\n",
       "      <td>NaN</td>\n",
       "      <td>NaN</td>\n",
       "      <td>4546,00</td>\n",
       "      <td>Karosserie Lackierung vorbereitet</td>\n",
       "      <td>03.01.2014</td>\n",
       "      <td>SKODA</td>\n",
       "      <td>Weeber Leonberg Skoda (Hertichstraße 25, 71229...</td>\n",
       "      <td>Firma</td>\n",
       "      <td>TMBZZZAAZDD646342</td>\n",
       "      <td>...</td>\n",
       "      <td>NF12A1</td>\n",
       "      <td>Citigo 1.0</td>\n",
       "      <td>NaN</td>\n",
       "      <td>NZC</td>\n",
       "      <td>NaN</td>\n",
       "      <td>0,00</td>\n",
       "      <td>44.0</td>\n",
       "      <td>23.05.2013</td>\n",
       "      <td>NaN</td>\n",
       "      <td>NaN</td>\n",
       "    </tr>\n",
       "    <tr>\n",
       "      <th>2734</th>\n",
       "      <td>WSAU200586</td>\n",
       "      <td>NaN</td>\n",
       "      <td>NaN</td>\n",
       "      <td>4546,00</td>\n",
       "      <td>Karosserie Lackierung vorbereitet</td>\n",
       "      <td>03.01.2014</td>\n",
       "      <td>SKODA</td>\n",
       "      <td>Weeber Leonberg Skoda (Hertichstraße 25, 71229...</td>\n",
       "      <td>Firma</td>\n",
       "      <td>TMBZZZAAZDD646342</td>\n",
       "      <td>...</td>\n",
       "      <td>NF12A1</td>\n",
       "      <td>Citigo 1.0</td>\n",
       "      <td>NaN</td>\n",
       "      <td>NZC</td>\n",
       "      <td>NaN</td>\n",
       "      <td>0,00</td>\n",
       "      <td>44.0</td>\n",
       "      <td>23.05.2013</td>\n",
       "      <td>NaN</td>\n",
       "      <td>NaN</td>\n",
       "    </tr>\n",
       "    <tr>\n",
       "      <th>2735</th>\n",
       "      <td>WSAU200586</td>\n",
       "      <td>NaN</td>\n",
       "      <td>NaN</td>\n",
       "      <td>4546,00</td>\n",
       "      <td>Karosserie Lackierung vorbereitet</td>\n",
       "      <td>03.01.2014</td>\n",
       "      <td>SKODA</td>\n",
       "      <td>Weeber Leonberg Skoda (Hertichstraße 25, 71229...</td>\n",
       "      <td>Firma</td>\n",
       "      <td>TMBZZZAAZDD646342</td>\n",
       "      <td>...</td>\n",
       "      <td>NF12A1</td>\n",
       "      <td>Citigo 1.0</td>\n",
       "      <td>NaN</td>\n",
       "      <td>NZC</td>\n",
       "      <td>NaN</td>\n",
       "      <td>0,00</td>\n",
       "      <td>44.0</td>\n",
       "      <td>23.05.2013</td>\n",
       "      <td>NaN</td>\n",
       "      <td>NaN</td>\n",
       "    </tr>\n",
       "    <tr>\n",
       "      <th>2736</th>\n",
       "      <td>WSAU200586</td>\n",
       "      <td>NaN</td>\n",
       "      <td>NaN</td>\n",
       "      <td>4546,00</td>\n",
       "      <td>Karosserie Lackierung vorbereitet</td>\n",
       "      <td>03.01.2014</td>\n",
       "      <td>SKODA</td>\n",
       "      <td>Weeber Leonberg Skoda (Hertichstraße 25, 71229...</td>\n",
       "      <td>Firma</td>\n",
       "      <td>TMBZZZAAZDD646342</td>\n",
       "      <td>...</td>\n",
       "      <td>NF12A1</td>\n",
       "      <td>Citigo 1.0</td>\n",
       "      <td>NaN</td>\n",
       "      <td>NZC</td>\n",
       "      <td>NaN</td>\n",
       "      <td>0,00</td>\n",
       "      <td>44.0</td>\n",
       "      <td>23.05.2013</td>\n",
       "      <td>NaN</td>\n",
       "      <td>NaN</td>\n",
       "    </tr>\n",
       "    <tr>\n",
       "      <th>3085</th>\n",
       "      <td>WSAU200614</td>\n",
       "      <td>5.10172e+07</td>\n",
       "      <td>NaN</td>\n",
       "      <td>18816,00</td>\n",
       "      <td>Karosserie Lackierung vorbereitet</td>\n",
       "      <td>08.01.2014</td>\n",
       "      <td>VW</td>\n",
       "      <td>Weeber Leonberg VW (Glemseckstraße 49, 71229 L...</td>\n",
       "      <td>Herr</td>\n",
       "      <td>WVWZZZ1KZAP070500</td>\n",
       "      <td>...</td>\n",
       "      <td>5K143M</td>\n",
       "      <td>Golf Highline 2,0 l</td>\n",
       "      <td>X0A</td>\n",
       "      <td>LQV</td>\n",
       "      <td>NaN</td>\n",
       "      <td>0,00</td>\n",
       "      <td>0.0</td>\n",
       "      <td>27.10.2009</td>\n",
       "      <td>NaN</td>\n",
       "      <td>NaN</td>\n",
       "    </tr>\n",
       "    <tr>\n",
       "      <th>3152</th>\n",
       "      <td>WSAU200625</td>\n",
       "      <td>NaN</td>\n",
       "      <td>NaN</td>\n",
       "      <td>40463,00</td>\n",
       "      <td>Karosserie Lackierung vorbereitet</td>\n",
       "      <td>03.01.2014</td>\n",
       "      <td>SKODA</td>\n",
       "      <td>Weeber Leonberg Skoda (Hertichstraße 25, 71229...</td>\n",
       "      <td>Firma</td>\n",
       "      <td>TMBJF73T4C9048781</td>\n",
       "      <td>...</td>\n",
       "      <td>3T539C</td>\n",
       "      <td>Superb Combi 2.0 TDI Elegance</td>\n",
       "      <td>NaN</td>\n",
       "      <td>NLN</td>\n",
       "      <td>NaN</td>\n",
       "      <td>0,00</td>\n",
       "      <td>125.0</td>\n",
       "      <td>06.03.2012</td>\n",
       "      <td>NaN</td>\n",
       "      <td>NaN</td>\n",
       "    </tr>\n",
       "    <tr>\n",
       "      <th>3752</th>\n",
       "      <td>WSAU200716</td>\n",
       "      <td>5.10172e+07</td>\n",
       "      <td>NaN</td>\n",
       "      <td>23899,00</td>\n",
       "      <td>Karosserie Lackierung vorbereitet</td>\n",
       "      <td>07.01.2014</td>\n",
       "      <td>VW</td>\n",
       "      <td>Weeber Leonberg VW (Glemseckstraße 49, 71229 L...</td>\n",
       "      <td>Firma</td>\n",
       "      <td>WV2ZZZ7HZDH076471</td>\n",
       "      <td>...</td>\n",
       "      <td>7EMCF1</td>\n",
       "      <td>T5 Kombi/Multivan MJ04&gt;</td>\n",
       "      <td>X10</td>\n",
       "      <td>PAV</td>\n",
       "      <td>NaN</td>\n",
       "      <td>0,00</td>\n",
       "      <td>0.0</td>\n",
       "      <td>14.01.2013</td>\n",
       "      <td>als Neuwagen bezogen</td>\n",
       "      <td>NaN</td>\n",
       "    </tr>\n",
       "    <tr>\n",
       "      <th>3951</th>\n",
       "      <td>WSAU200747</td>\n",
       "      <td>NaN</td>\n",
       "      <td>NaN</td>\n",
       "      <td>106069,00</td>\n",
       "      <td>Karosserie Lackierung vorbereitet</td>\n",
       "      <td>07.01.2014</td>\n",
       "      <td>AUDI</td>\n",
       "      <td>Weeber Leonberg Audi (Glemseckstraße 39, 71229...</td>\n",
       "      <td>Firma</td>\n",
       "      <td>WAUZZZ4GXCN087497</td>\n",
       "      <td>...</td>\n",
       "      <td>4G50JY</td>\n",
       "      <td>A6 Avant 3.0 TDI quattro</td>\n",
       "      <td>X0A</td>\n",
       "      <td>NPB</td>\n",
       "      <td>NaN</td>\n",
       "      <td>0,00</td>\n",
       "      <td>180.0</td>\n",
       "      <td>07.12.2011</td>\n",
       "      <td>NaN</td>\n",
       "      <td>NaN</td>\n",
       "    </tr>\n",
       "    <tr>\n",
       "      <th>3952</th>\n",
       "      <td>WSAU200747</td>\n",
       "      <td>NaN</td>\n",
       "      <td>NaN</td>\n",
       "      <td>106069,00</td>\n",
       "      <td>Karosserie Lackierung vorbereitet</td>\n",
       "      <td>07.01.2014</td>\n",
       "      <td>AUDI</td>\n",
       "      <td>Weeber Leonberg Audi (Glemseckstraße 39, 71229...</td>\n",
       "      <td>Firma</td>\n",
       "      <td>WAUZZZ4GXCN087497</td>\n",
       "      <td>...</td>\n",
       "      <td>4G50JY</td>\n",
       "      <td>A6 Avant 3.0 TDI quattro</td>\n",
       "      <td>X0A</td>\n",
       "      <td>NPB</td>\n",
       "      <td>NaN</td>\n",
       "      <td>0,00</td>\n",
       "      <td>180.0</td>\n",
       "      <td>07.12.2011</td>\n",
       "      <td>NaN</td>\n",
       "      <td>NaN</td>\n",
       "    </tr>\n",
       "    <tr>\n",
       "      <th>3953</th>\n",
       "      <td>WSAU200747</td>\n",
       "      <td>NaN</td>\n",
       "      <td>NaN</td>\n",
       "      <td>106069,00</td>\n",
       "      <td>Karosserie Lackierung vorbereitet</td>\n",
       "      <td>07.01.2014</td>\n",
       "      <td>AUDI</td>\n",
       "      <td>Weeber Leonberg Audi (Glemseckstraße 39, 71229...</td>\n",
       "      <td>Firma</td>\n",
       "      <td>WAUZZZ4GXCN087497</td>\n",
       "      <td>...</td>\n",
       "      <td>4G50JY</td>\n",
       "      <td>A6 Avant 3.0 TDI quattro</td>\n",
       "      <td>X0A</td>\n",
       "      <td>NPB</td>\n",
       "      <td>NaN</td>\n",
       "      <td>0,00</td>\n",
       "      <td>180.0</td>\n",
       "      <td>07.12.2011</td>\n",
       "      <td>NaN</td>\n",
       "      <td>NaN</td>\n",
       "    </tr>\n",
       "    <tr>\n",
       "      <th>4018</th>\n",
       "      <td>WSAU200753</td>\n",
       "      <td>NaN</td>\n",
       "      <td>NaN</td>\n",
       "      <td>57453,00</td>\n",
       "      <td>Karosserie Lackierung vorbereitet</td>\n",
       "      <td>07.01.2014</td>\n",
       "      <td>SKODA</td>\n",
       "      <td>Weeber Leonberg Skoda (Hertichstraße 25, 71229...</td>\n",
       "      <td>Firma</td>\n",
       "      <td>TMBGJ61Z5A2013909</td>\n",
       "      <td>...</td>\n",
       "      <td>1Z53L5</td>\n",
       "      <td>Octavia Combi 1,4 TSI Elegance</td>\n",
       "      <td>NaN</td>\n",
       "      <td>LHY</td>\n",
       "      <td>NaN</td>\n",
       "      <td>0,00</td>\n",
       "      <td>90.0</td>\n",
       "      <td>02.07.2009</td>\n",
       "      <td>NaN</td>\n",
       "      <td>NaN</td>\n",
       "    </tr>\n",
       "    <tr>\n",
       "      <th>4025</th>\n",
       "      <td>WSAU200753</td>\n",
       "      <td>NaN</td>\n",
       "      <td>NaN</td>\n",
       "      <td>57453,00</td>\n",
       "      <td>Karosserie Lackierung vorbereitet</td>\n",
       "      <td>07.01.2014</td>\n",
       "      <td>SKODA</td>\n",
       "      <td>Weeber Leonberg Skoda (Hertichstraße 25, 71229...</td>\n",
       "      <td>Firma</td>\n",
       "      <td>TMBGJ61Z5A2013909</td>\n",
       "      <td>...</td>\n",
       "      <td>1Z53L5</td>\n",
       "      <td>Octavia Combi 1,4 TSI Elegance</td>\n",
       "      <td>NaN</td>\n",
       "      <td>LHY</td>\n",
       "      <td>NaN</td>\n",
       "      <td>0,00</td>\n",
       "      <td>90.0</td>\n",
       "      <td>02.07.2009</td>\n",
       "      <td>NaN</td>\n",
       "      <td>NaN</td>\n",
       "    </tr>\n",
       "    <tr>\n",
       "      <th>4168</th>\n",
       "      <td>WSAU200781</td>\n",
       "      <td>5.10171e+07</td>\n",
       "      <td>NaN</td>\n",
       "      <td>55564,00</td>\n",
       "      <td>Karosserie Lackierung vorbereitet</td>\n",
       "      <td>08.01.2014</td>\n",
       "      <td>SKODA</td>\n",
       "      <td>Weeber Leonberg VW (Glemseckstraße 49, 71229 L...</td>\n",
       "      <td>Firma</td>\n",
       "      <td>TMBGJ61Z5A2013909</td>\n",
       "      <td>...</td>\n",
       "      <td>1Z53L5</td>\n",
       "      <td>Octavia Combi 1,4 TSI Elegance</td>\n",
       "      <td>NaN</td>\n",
       "      <td>LHY</td>\n",
       "      <td>NaN</td>\n",
       "      <td>0,00</td>\n",
       "      <td>90.0</td>\n",
       "      <td>02.07.2009</td>\n",
       "      <td>NaN</td>\n",
       "      <td>NaN</td>\n",
       "    </tr>\n",
       "    <tr>\n",
       "      <th>4314</th>\n",
       "      <td>WSAU200798</td>\n",
       "      <td>5.10172e+07</td>\n",
       "      <td>NaN</td>\n",
       "      <td>944,00</td>\n",
       "      <td>Karosserie Lackierung vorbereitet</td>\n",
       "      <td>08.01.2014</td>\n",
       "      <td>VW</td>\n",
       "      <td>Weeber Leonberg VW (Glemseckstraße 49, 71229 L...</td>\n",
       "      <td>Herr</td>\n",
       "      <td>WV2ZZZ7HZEH061885</td>\n",
       "      <td>...</td>\n",
       "      <td>7EMC37</td>\n",
       "      <td>T5 Multivan 2.0 TDI</td>\n",
       "      <td>X10</td>\n",
       "      <td>NZQ</td>\n",
       "      <td>NaN</td>\n",
       "      <td>0,00</td>\n",
       "      <td>103.0</td>\n",
       "      <td>13.12.2013</td>\n",
       "      <td>NaN</td>\n",
       "      <td>NaN</td>\n",
       "    </tr>\n",
       "    <tr>\n",
       "      <th>4954</th>\n",
       "      <td>WSAU200901</td>\n",
       "      <td>5.10172e+07</td>\n",
       "      <td>NaN</td>\n",
       "      <td>95553,00</td>\n",
       "      <td>Karosserie Lackierung vorbereitet</td>\n",
       "      <td>09.01.2014</td>\n",
       "      <td>SKODA</td>\n",
       "      <td>Weeber Leonberg VW (Glemseckstraße 49, 71229 L...</td>\n",
       "      <td>Firma</td>\n",
       "      <td>TMBJE73T1D9008338</td>\n",
       "      <td>...</td>\n",
       "      <td>3T5285</td>\n",
       "      <td>Superb Combi 2.0 TDI Ambition</td>\n",
       "      <td>NaN</td>\n",
       "      <td>NFP</td>\n",
       "      <td>NaN</td>\n",
       "      <td>0,00</td>\n",
       "      <td>103.0</td>\n",
       "      <td>19.06.2012</td>\n",
       "      <td>NaN</td>\n",
       "      <td>NaN</td>\n",
       "    </tr>\n",
       "    <tr>\n",
       "      <th>...</th>\n",
       "      <td>...</td>\n",
       "      <td>...</td>\n",
       "      <td>...</td>\n",
       "      <td>...</td>\n",
       "      <td>...</td>\n",
       "      <td>...</td>\n",
       "      <td>...</td>\n",
       "      <td>...</td>\n",
       "      <td>...</td>\n",
       "      <td>...</td>\n",
       "      <td>...</td>\n",
       "      <td>...</td>\n",
       "      <td>...</td>\n",
       "      <td>...</td>\n",
       "      <td>...</td>\n",
       "      <td>...</td>\n",
       "      <td>...</td>\n",
       "      <td>...</td>\n",
       "      <td>...</td>\n",
       "      <td>...</td>\n",
       "      <td>...</td>\n",
       "    </tr>\n",
       "    <tr>\n",
       "      <th>272100</th>\n",
       "      <td>WSAU318485</td>\n",
       "      <td>NaN</td>\n",
       "      <td>NaN</td>\n",
       "      <td>29572,00</td>\n",
       "      <td>Karosserie Lackierung vorbereitet</td>\n",
       "      <td>13.12.2017</td>\n",
       "      <td>SKODA</td>\n",
       "      <td>Weeber Leonberg Skoda (Hertichstraße 25, 71229...</td>\n",
       "      <td>Herr</td>\n",
       "      <td>TMBET6NHXF4549382</td>\n",
       "      <td>...</td>\n",
       "      <td>NH13PD</td>\n",
       "      <td>Rapid SB Ambition 1,4l TSI 90k</td>\n",
       "      <td>NaN</td>\n",
       "      <td>QHF</td>\n",
       "      <td>NaN</td>\n",
       "      <td>0,00</td>\n",
       "      <td>0.0</td>\n",
       "      <td>09.04.2015</td>\n",
       "      <td>NaN</td>\n",
       "      <td>NaN</td>\n",
       "    </tr>\n",
       "    <tr>\n",
       "      <th>272267</th>\n",
       "      <td>WSAU318658</td>\n",
       "      <td>NaN</td>\n",
       "      <td>NaN</td>\n",
       "      <td>11701,00</td>\n",
       "      <td>Karosserie Lackierung vorbereitet</td>\n",
       "      <td>14.12.2017</td>\n",
       "      <td>SKODA</td>\n",
       "      <td>Weeber Leonberg Skoda (Hertichstraße 25, 71229...</td>\n",
       "      <td>Frau</td>\n",
       "      <td>TMBJM6NJ9HZ095596</td>\n",
       "      <td>...</td>\n",
       "      <td>NJ53J4</td>\n",
       "      <td>Fabia Combi Ambition 1,2l TSI</td>\n",
       "      <td>NaN</td>\n",
       "      <td>PED</td>\n",
       "      <td>NaN</td>\n",
       "      <td>0,00</td>\n",
       "      <td>66.0</td>\n",
       "      <td>27.01.2017</td>\n",
       "      <td>NaN</td>\n",
       "      <td>NaN</td>\n",
       "    </tr>\n",
       "    <tr>\n",
       "      <th>272672</th>\n",
       "      <td>WSAU318489</td>\n",
       "      <td>NaN</td>\n",
       "      <td>NaN</td>\n",
       "      <td>30490,00</td>\n",
       "      <td>Karosserie Lackierung vorbereitet</td>\n",
       "      <td>13.12.2017</td>\n",
       "      <td>SKODA</td>\n",
       "      <td>Weeber Leonberg Skoda (Hertichstraße 25, 71229...</td>\n",
       "      <td>Herr</td>\n",
       "      <td>TMBJK8NE4G0183124</td>\n",
       "      <td>...</td>\n",
       "      <td>5E5695</td>\n",
       "      <td>Octavia Combi RS 2,0l TDI 135</td>\n",
       "      <td>NaN</td>\n",
       "      <td>PDT</td>\n",
       "      <td>NaN</td>\n",
       "      <td>0,00</td>\n",
       "      <td>0.0</td>\n",
       "      <td>15.08.2016</td>\n",
       "      <td>als Neuwagen bezogen</td>\n",
       "      <td>NaN</td>\n",
       "    </tr>\n",
       "    <tr>\n",
       "      <th>272673</th>\n",
       "      <td>WSAU318489</td>\n",
       "      <td>NaN</td>\n",
       "      <td>NaN</td>\n",
       "      <td>30490,00</td>\n",
       "      <td>Karosserie Lackierung vorbereitet</td>\n",
       "      <td>13.12.2017</td>\n",
       "      <td>SKODA</td>\n",
       "      <td>Weeber Leonberg Skoda (Hertichstraße 25, 71229...</td>\n",
       "      <td>Herr</td>\n",
       "      <td>TMBJK8NE4G0183124</td>\n",
       "      <td>...</td>\n",
       "      <td>5E5695</td>\n",
       "      <td>Octavia Combi RS 2,0l TDI 135</td>\n",
       "      <td>NaN</td>\n",
       "      <td>PDT</td>\n",
       "      <td>NaN</td>\n",
       "      <td>0,00</td>\n",
       "      <td>0.0</td>\n",
       "      <td>15.08.2016</td>\n",
       "      <td>als Neuwagen bezogen</td>\n",
       "      <td>NaN</td>\n",
       "    </tr>\n",
       "    <tr>\n",
       "      <th>273574</th>\n",
       "      <td>WSAU319423</td>\n",
       "      <td>NaN</td>\n",
       "      <td>NaN</td>\n",
       "      <td>22158,00</td>\n",
       "      <td>Karosserie Lackierung vorbereitet</td>\n",
       "      <td>28.12.2017</td>\n",
       "      <td>SKODA</td>\n",
       "      <td>Weeber Leonberg Skoda (Hertichstraße 25, 71229...</td>\n",
       "      <td>Frau</td>\n",
       "      <td>TMBEM6NJ2FZ077374</td>\n",
       "      <td>...</td>\n",
       "      <td>NJ33J4</td>\n",
       "      <td>Fabia Ambition 1,2l TSI 66 kW</td>\n",
       "      <td>NaN</td>\n",
       "      <td>PED</td>\n",
       "      <td>NaN</td>\n",
       "      <td>0,00</td>\n",
       "      <td>0.0</td>\n",
       "      <td>26.06.2015</td>\n",
       "      <td>NaN</td>\n",
       "      <td>NaN</td>\n",
       "    </tr>\n",
       "    <tr>\n",
       "      <th>273575</th>\n",
       "      <td>WSAU319423</td>\n",
       "      <td>NaN</td>\n",
       "      <td>NaN</td>\n",
       "      <td>22158,00</td>\n",
       "      <td>Karosserie Lackierung vorbereitet</td>\n",
       "      <td>28.12.2017</td>\n",
       "      <td>SKODA</td>\n",
       "      <td>Weeber Leonberg Skoda (Hertichstraße 25, 71229...</td>\n",
       "      <td>Frau</td>\n",
       "      <td>TMBEM6NJ2FZ077374</td>\n",
       "      <td>...</td>\n",
       "      <td>NJ33J4</td>\n",
       "      <td>Fabia Ambition 1,2l TSI 66 kW</td>\n",
       "      <td>NaN</td>\n",
       "      <td>PED</td>\n",
       "      <td>NaN</td>\n",
       "      <td>0,00</td>\n",
       "      <td>0.0</td>\n",
       "      <td>26.06.2015</td>\n",
       "      <td>NaN</td>\n",
       "      <td>NaN</td>\n",
       "    </tr>\n",
       "    <tr>\n",
       "      <th>276912</th>\n",
       "      <td>WSAU304393</td>\n",
       "      <td>NaN</td>\n",
       "      <td>NaN</td>\n",
       "      <td>10363,00</td>\n",
       "      <td>Karosserie Lackierung vorbereitet</td>\n",
       "      <td>11.07.2017</td>\n",
       "      <td>SKODA</td>\n",
       "      <td>Weeber Leonberg Skoda (Hertichstraße 25, 71229...</td>\n",
       "      <td>Herr</td>\n",
       "      <td>TMBZZZAAZGD618878</td>\n",
       "      <td>...</td>\n",
       "      <td>NF13D1</td>\n",
       "      <td>Citigo Ambition 1,0l MPI 55kW</td>\n",
       "      <td>NaN</td>\n",
       "      <td>QCG</td>\n",
       "      <td>NaN</td>\n",
       "      <td>0,00</td>\n",
       "      <td>55.0</td>\n",
       "      <td>31.03.2016</td>\n",
       "      <td>NaN</td>\n",
       "      <td>NaN</td>\n",
       "    </tr>\n",
       "    <tr>\n",
       "      <th>276913</th>\n",
       "      <td>WSAU304393</td>\n",
       "      <td>NaN</td>\n",
       "      <td>NaN</td>\n",
       "      <td>10363,00</td>\n",
       "      <td>Karosserie Lackierung vorbereitet</td>\n",
       "      <td>11.07.2017</td>\n",
       "      <td>SKODA</td>\n",
       "      <td>Weeber Leonberg Skoda (Hertichstraße 25, 71229...</td>\n",
       "      <td>Herr</td>\n",
       "      <td>TMBZZZAAZGD618878</td>\n",
       "      <td>...</td>\n",
       "      <td>NF13D1</td>\n",
       "      <td>Citigo Ambition 1,0l MPI 55kW</td>\n",
       "      <td>NaN</td>\n",
       "      <td>QCG</td>\n",
       "      <td>NaN</td>\n",
       "      <td>0,00</td>\n",
       "      <td>55.0</td>\n",
       "      <td>31.03.2016</td>\n",
       "      <td>NaN</td>\n",
       "      <td>NaN</td>\n",
       "    </tr>\n",
       "    <tr>\n",
       "      <th>276941</th>\n",
       "      <td>WSAU304393</td>\n",
       "      <td>NaN</td>\n",
       "      <td>NaN</td>\n",
       "      <td>10363,00</td>\n",
       "      <td>Karosserie Lackierung vorbereitet</td>\n",
       "      <td>11.07.2017</td>\n",
       "      <td>SKODA</td>\n",
       "      <td>Weeber Leonberg Skoda (Hertichstraße 25, 71229...</td>\n",
       "      <td>Herr</td>\n",
       "      <td>TMBZZZAAZGD618878</td>\n",
       "      <td>...</td>\n",
       "      <td>NF13D1</td>\n",
       "      <td>Citigo Ambition 1,0l MPI 55kW</td>\n",
       "      <td>NaN</td>\n",
       "      <td>QCG</td>\n",
       "      <td>NaN</td>\n",
       "      <td>0,00</td>\n",
       "      <td>55.0</td>\n",
       "      <td>31.03.2016</td>\n",
       "      <td>NaN</td>\n",
       "      <td>NaN</td>\n",
       "    </tr>\n",
       "    <tr>\n",
       "      <th>276942</th>\n",
       "      <td>WSAU304393</td>\n",
       "      <td>NaN</td>\n",
       "      <td>NaN</td>\n",
       "      <td>10363,00</td>\n",
       "      <td>Karosserie Lackierung vorbereitet</td>\n",
       "      <td>11.07.2017</td>\n",
       "      <td>SKODA</td>\n",
       "      <td>Weeber Leonberg Skoda (Hertichstraße 25, 71229...</td>\n",
       "      <td>Herr</td>\n",
       "      <td>TMBZZZAAZGD618878</td>\n",
       "      <td>...</td>\n",
       "      <td>NF13D1</td>\n",
       "      <td>Citigo Ambition 1,0l MPI 55kW</td>\n",
       "      <td>NaN</td>\n",
       "      <td>QCG</td>\n",
       "      <td>NaN</td>\n",
       "      <td>0,00</td>\n",
       "      <td>55.0</td>\n",
       "      <td>31.03.2016</td>\n",
       "      <td>NaN</td>\n",
       "      <td>NaN</td>\n",
       "    </tr>\n",
       "    <tr>\n",
       "      <th>276970</th>\n",
       "      <td>WSAU304393</td>\n",
       "      <td>NaN</td>\n",
       "      <td>NaN</td>\n",
       "      <td>10363,00</td>\n",
       "      <td>Karosserie Lackierung vorbereitet</td>\n",
       "      <td>11.07.2017</td>\n",
       "      <td>SKODA</td>\n",
       "      <td>Weeber Leonberg Skoda (Hertichstraße 25, 71229...</td>\n",
       "      <td>Herr</td>\n",
       "      <td>TMBZZZAAZGD618878</td>\n",
       "      <td>...</td>\n",
       "      <td>NF13D1</td>\n",
       "      <td>Citigo Ambition 1,0l MPI 55kW</td>\n",
       "      <td>NaN</td>\n",
       "      <td>QCG</td>\n",
       "      <td>NaN</td>\n",
       "      <td>0,00</td>\n",
       "      <td>55.0</td>\n",
       "      <td>31.03.2016</td>\n",
       "      <td>NaN</td>\n",
       "      <td>NaN</td>\n",
       "    </tr>\n",
       "    <tr>\n",
       "      <th>276971</th>\n",
       "      <td>WSAU304393</td>\n",
       "      <td>NaN</td>\n",
       "      <td>NaN</td>\n",
       "      <td>10363,00</td>\n",
       "      <td>Karosserie Lackierung vorbereitet</td>\n",
       "      <td>11.07.2017</td>\n",
       "      <td>SKODA</td>\n",
       "      <td>Weeber Leonberg Skoda (Hertichstraße 25, 71229...</td>\n",
       "      <td>Herr</td>\n",
       "      <td>TMBZZZAAZGD618878</td>\n",
       "      <td>...</td>\n",
       "      <td>NF13D1</td>\n",
       "      <td>Citigo Ambition 1,0l MPI 55kW</td>\n",
       "      <td>NaN</td>\n",
       "      <td>QCG</td>\n",
       "      <td>NaN</td>\n",
       "      <td>0,00</td>\n",
       "      <td>55.0</td>\n",
       "      <td>31.03.2016</td>\n",
       "      <td>NaN</td>\n",
       "      <td>NaN</td>\n",
       "    </tr>\n",
       "    <tr>\n",
       "      <th>277083</th>\n",
       "      <td>WSAU317488</td>\n",
       "      <td>NaN</td>\n",
       "      <td>NaN</td>\n",
       "      <td>15,00</td>\n",
       "      <td>Karosserie Lackierung vorbereitet</td>\n",
       "      <td>01.12.2017</td>\n",
       "      <td>SKODA</td>\n",
       "      <td>Weeber Leonberg Skoda (Hertichstraße 25, 71229...</td>\n",
       "      <td>NaN</td>\n",
       "      <td>TMBJU7NE1J0207097</td>\n",
       "      <td>...</td>\n",
       "      <td>5E56UD</td>\n",
       "      <td>OCTAVIA COMBI RS245 2,0l TSI</td>\n",
       "      <td>NaN</td>\n",
       "      <td>THZ</td>\n",
       "      <td>NaN</td>\n",
       "      <td>0,00</td>\n",
       "      <td>0.0</td>\n",
       "      <td>22.12.2017</td>\n",
       "      <td>als Neuwagen bezogen</td>\n",
       "      <td>NaN</td>\n",
       "    </tr>\n",
       "    <tr>\n",
       "      <th>277113</th>\n",
       "      <td>WSAU317488</td>\n",
       "      <td>NaN</td>\n",
       "      <td>NaN</td>\n",
       "      <td>15,00</td>\n",
       "      <td>Karosserie Lackierung vorbereitet</td>\n",
       "      <td>01.12.2017</td>\n",
       "      <td>SKODA</td>\n",
       "      <td>Weeber Leonberg Skoda (Hertichstraße 25, 71229...</td>\n",
       "      <td>NaN</td>\n",
       "      <td>TMBJU7NE1J0207097</td>\n",
       "      <td>...</td>\n",
       "      <td>5E56UD</td>\n",
       "      <td>OCTAVIA COMBI RS245 2,0l TSI</td>\n",
       "      <td>NaN</td>\n",
       "      <td>THZ</td>\n",
       "      <td>NaN</td>\n",
       "      <td>0,00</td>\n",
       "      <td>0.0</td>\n",
       "      <td>22.12.2017</td>\n",
       "      <td>als Neuwagen bezogen</td>\n",
       "      <td>NaN</td>\n",
       "    </tr>\n",
       "    <tr>\n",
       "      <th>278112</th>\n",
       "      <td>WSAU311806</td>\n",
       "      <td>NaN</td>\n",
       "      <td>NaN</td>\n",
       "      <td>94122,00</td>\n",
       "      <td>Karosserie Lackierung vorbereitet</td>\n",
       "      <td>10.10.2017</td>\n",
       "      <td>SKODA</td>\n",
       "      <td>Weeber Leonberg Skoda (Hertichstraße 25, 71229...</td>\n",
       "      <td>Herr</td>\n",
       "      <td>TMBJF73TXE9024066</td>\n",
       "      <td>...</td>\n",
       "      <td>3T539C</td>\n",
       "      <td>SUPERB COMBI ELEGANCE 2.0 TDI</td>\n",
       "      <td>NaN</td>\n",
       "      <td>PPX</td>\n",
       "      <td>NaN</td>\n",
       "      <td>0,00</td>\n",
       "      <td>125.0</td>\n",
       "      <td>21.10.2013</td>\n",
       "      <td>als Neuwagen bezogen</td>\n",
       "      <td>NaN</td>\n",
       "    </tr>\n",
       "    <tr>\n",
       "      <th>278136</th>\n",
       "      <td>WSAU311806</td>\n",
       "      <td>NaN</td>\n",
       "      <td>NaN</td>\n",
       "      <td>94122,00</td>\n",
       "      <td>Karosserie Lackierung vorbereitet</td>\n",
       "      <td>10.10.2017</td>\n",
       "      <td>SKODA</td>\n",
       "      <td>Weeber Leonberg Skoda (Hertichstraße 25, 71229...</td>\n",
       "      <td>Herr</td>\n",
       "      <td>TMBJF73TXE9024066</td>\n",
       "      <td>...</td>\n",
       "      <td>3T539C</td>\n",
       "      <td>SUPERB COMBI ELEGANCE 2.0 TDI</td>\n",
       "      <td>NaN</td>\n",
       "      <td>PPX</td>\n",
       "      <td>NaN</td>\n",
       "      <td>0,00</td>\n",
       "      <td>125.0</td>\n",
       "      <td>21.10.2013</td>\n",
       "      <td>als Neuwagen bezogen</td>\n",
       "      <td>NaN</td>\n",
       "    </tr>\n",
       "    <tr>\n",
       "      <th>278157</th>\n",
       "      <td>WSAU311806</td>\n",
       "      <td>NaN</td>\n",
       "      <td>NaN</td>\n",
       "      <td>94122,00</td>\n",
       "      <td>Karosserie Lackierung vorbereitet</td>\n",
       "      <td>10.10.2017</td>\n",
       "      <td>SKODA</td>\n",
       "      <td>Weeber Leonberg Skoda (Hertichstraße 25, 71229...</td>\n",
       "      <td>Herr</td>\n",
       "      <td>TMBJF73TXE9024066</td>\n",
       "      <td>...</td>\n",
       "      <td>3T539C</td>\n",
       "      <td>SUPERB COMBI ELEGANCE 2.0 TDI</td>\n",
       "      <td>NaN</td>\n",
       "      <td>PPX</td>\n",
       "      <td>NaN</td>\n",
       "      <td>0,00</td>\n",
       "      <td>125.0</td>\n",
       "      <td>21.10.2013</td>\n",
       "      <td>als Neuwagen bezogen</td>\n",
       "      <td>NaN</td>\n",
       "    </tr>\n",
       "    <tr>\n",
       "      <th>278376</th>\n",
       "      <td>WSAU312289</td>\n",
       "      <td>NaN</td>\n",
       "      <td>NaN</td>\n",
       "      <td>67086,00</td>\n",
       "      <td>Karosserie Lackierung vorbereitet</td>\n",
       "      <td>11.10.2017</td>\n",
       "      <td>SKODA</td>\n",
       "      <td>Weeber Leonberg Skoda (Hertichstraße 25, 71229...</td>\n",
       "      <td>Firma</td>\n",
       "      <td>TMBJH7NPXG7084423</td>\n",
       "      <td>...</td>\n",
       "      <td>3V5355</td>\n",
       "      <td>Superb Combi Ambition TDI 110</td>\n",
       "      <td>NaN</td>\n",
       "      <td>QFZ</td>\n",
       "      <td>NaN</td>\n",
       "      <td>0,00</td>\n",
       "      <td>0.0</td>\n",
       "      <td>17.05.2016</td>\n",
       "      <td>als Neuwagen bezogen</td>\n",
       "      <td>NaN</td>\n",
       "    </tr>\n",
       "    <tr>\n",
       "      <th>278377</th>\n",
       "      <td>WSAU312289</td>\n",
       "      <td>NaN</td>\n",
       "      <td>NaN</td>\n",
       "      <td>67086,00</td>\n",
       "      <td>Karosserie Lackierung vorbereitet</td>\n",
       "      <td>11.10.2017</td>\n",
       "      <td>SKODA</td>\n",
       "      <td>Weeber Leonberg Skoda (Hertichstraße 25, 71229...</td>\n",
       "      <td>Firma</td>\n",
       "      <td>TMBJH7NPXG7084423</td>\n",
       "      <td>...</td>\n",
       "      <td>3V5355</td>\n",
       "      <td>Superb Combi Ambition TDI 110</td>\n",
       "      <td>NaN</td>\n",
       "      <td>QFZ</td>\n",
       "      <td>NaN</td>\n",
       "      <td>0,00</td>\n",
       "      <td>0.0</td>\n",
       "      <td>17.05.2016</td>\n",
       "      <td>als Neuwagen bezogen</td>\n",
       "      <td>NaN</td>\n",
       "    </tr>\n",
       "    <tr>\n",
       "      <th>278435</th>\n",
       "      <td>WSAU312289</td>\n",
       "      <td>NaN</td>\n",
       "      <td>NaN</td>\n",
       "      <td>67086,00</td>\n",
       "      <td>Karosserie Lackierung vorbereitet</td>\n",
       "      <td>11.10.2017</td>\n",
       "      <td>SKODA</td>\n",
       "      <td>Weeber Leonberg Skoda (Hertichstraße 25, 71229...</td>\n",
       "      <td>Firma</td>\n",
       "      <td>TMBJH7NPXG7084423</td>\n",
       "      <td>...</td>\n",
       "      <td>3V5355</td>\n",
       "      <td>Superb Combi Ambition TDI 110</td>\n",
       "      <td>NaN</td>\n",
       "      <td>QFZ</td>\n",
       "      <td>NaN</td>\n",
       "      <td>0,00</td>\n",
       "      <td>0.0</td>\n",
       "      <td>17.05.2016</td>\n",
       "      <td>als Neuwagen bezogen</td>\n",
       "      <td>NaN</td>\n",
       "    </tr>\n",
       "    <tr>\n",
       "      <th>278436</th>\n",
       "      <td>WSAU312289</td>\n",
       "      <td>NaN</td>\n",
       "      <td>NaN</td>\n",
       "      <td>67086,00</td>\n",
       "      <td>Karosserie Lackierung vorbereitet</td>\n",
       "      <td>11.10.2017</td>\n",
       "      <td>SKODA</td>\n",
       "      <td>Weeber Leonberg Skoda (Hertichstraße 25, 71229...</td>\n",
       "      <td>Firma</td>\n",
       "      <td>TMBJH7NPXG7084423</td>\n",
       "      <td>...</td>\n",
       "      <td>3V5355</td>\n",
       "      <td>Superb Combi Ambition TDI 110</td>\n",
       "      <td>NaN</td>\n",
       "      <td>QFZ</td>\n",
       "      <td>NaN</td>\n",
       "      <td>0,00</td>\n",
       "      <td>0.0</td>\n",
       "      <td>17.05.2016</td>\n",
       "      <td>als Neuwagen bezogen</td>\n",
       "      <td>NaN</td>\n",
       "    </tr>\n",
       "    <tr>\n",
       "      <th>278571</th>\n",
       "      <td>WSAU299260</td>\n",
       "      <td>NaN</td>\n",
       "      <td>NaN</td>\n",
       "      <td>19628,00</td>\n",
       "      <td>Karosserie Lackierung vorbereitet</td>\n",
       "      <td>09.05.2017</td>\n",
       "      <td>SKODA</td>\n",
       "      <td>Weeber Leonberg Skoda (Hertichstraße 25, 71229...</td>\n",
       "      <td>Firma</td>\n",
       "      <td>TMBJG7NE3H0120142</td>\n",
       "      <td>...</td>\n",
       "      <td>5E5344</td>\n",
       "      <td>Octavia Combi Ambition 81 kW T</td>\n",
       "      <td>NaN</td>\n",
       "      <td>RTD</td>\n",
       "      <td>NaN</td>\n",
       "      <td>0,00</td>\n",
       "      <td>0.0</td>\n",
       "      <td>20.12.2016</td>\n",
       "      <td>als Neuwagen bezogen</td>\n",
       "      <td>NaN</td>\n",
       "    </tr>\n",
       "    <tr>\n",
       "      <th>278572</th>\n",
       "      <td>WSAU299260</td>\n",
       "      <td>NaN</td>\n",
       "      <td>NaN</td>\n",
       "      <td>19628,00</td>\n",
       "      <td>Karosserie Lackierung vorbereitet</td>\n",
       "      <td>09.05.2017</td>\n",
       "      <td>SKODA</td>\n",
       "      <td>Weeber Leonberg Skoda (Hertichstraße 25, 71229...</td>\n",
       "      <td>Firma</td>\n",
       "      <td>TMBJG7NE3H0120142</td>\n",
       "      <td>...</td>\n",
       "      <td>5E5344</td>\n",
       "      <td>Octavia Combi Ambition 81 kW T</td>\n",
       "      <td>NaN</td>\n",
       "      <td>RTD</td>\n",
       "      <td>NaN</td>\n",
       "      <td>0,00</td>\n",
       "      <td>0.0</td>\n",
       "      <td>20.12.2016</td>\n",
       "      <td>als Neuwagen bezogen</td>\n",
       "      <td>NaN</td>\n",
       "    </tr>\n",
       "    <tr>\n",
       "      <th>278605</th>\n",
       "      <td>WSAU299260</td>\n",
       "      <td>NaN</td>\n",
       "      <td>NaN</td>\n",
       "      <td>19628,00</td>\n",
       "      <td>Karosserie Lackierung vorbereitet</td>\n",
       "      <td>09.05.2017</td>\n",
       "      <td>SKODA</td>\n",
       "      <td>Weeber Leonberg Skoda (Hertichstraße 25, 71229...</td>\n",
       "      <td>Firma</td>\n",
       "      <td>TMBJG7NE3H0120142</td>\n",
       "      <td>...</td>\n",
       "      <td>5E5344</td>\n",
       "      <td>Octavia Combi Ambition 81 kW T</td>\n",
       "      <td>NaN</td>\n",
       "      <td>RTD</td>\n",
       "      <td>NaN</td>\n",
       "      <td>0,00</td>\n",
       "      <td>0.0</td>\n",
       "      <td>20.12.2016</td>\n",
       "      <td>als Neuwagen bezogen</td>\n",
       "      <td>NaN</td>\n",
       "    </tr>\n",
       "    <tr>\n",
       "      <th>278606</th>\n",
       "      <td>WSAU299260</td>\n",
       "      <td>NaN</td>\n",
       "      <td>NaN</td>\n",
       "      <td>19628,00</td>\n",
       "      <td>Karosserie Lackierung vorbereitet</td>\n",
       "      <td>09.05.2017</td>\n",
       "      <td>SKODA</td>\n",
       "      <td>Weeber Leonberg Skoda (Hertichstraße 25, 71229...</td>\n",
       "      <td>Firma</td>\n",
       "      <td>TMBJG7NE3H0120142</td>\n",
       "      <td>...</td>\n",
       "      <td>5E5344</td>\n",
       "      <td>Octavia Combi Ambition 81 kW T</td>\n",
       "      <td>NaN</td>\n",
       "      <td>RTD</td>\n",
       "      <td>NaN</td>\n",
       "      <td>0,00</td>\n",
       "      <td>0.0</td>\n",
       "      <td>20.12.2016</td>\n",
       "      <td>als Neuwagen bezogen</td>\n",
       "      <td>NaN</td>\n",
       "    </tr>\n",
       "    <tr>\n",
       "      <th>278630</th>\n",
       "      <td>WSAU299260</td>\n",
       "      <td>NaN</td>\n",
       "      <td>NaN</td>\n",
       "      <td>19628,00</td>\n",
       "      <td>Karosserie Lackierung vorbereitet</td>\n",
       "      <td>09.05.2017</td>\n",
       "      <td>SKODA</td>\n",
       "      <td>Weeber Leonberg Skoda (Hertichstraße 25, 71229...</td>\n",
       "      <td>Firma</td>\n",
       "      <td>TMBJG7NE3H0120142</td>\n",
       "      <td>...</td>\n",
       "      <td>5E5344</td>\n",
       "      <td>Octavia Combi Ambition 81 kW T</td>\n",
       "      <td>NaN</td>\n",
       "      <td>RTD</td>\n",
       "      <td>NaN</td>\n",
       "      <td>0,00</td>\n",
       "      <td>0.0</td>\n",
       "      <td>20.12.2016</td>\n",
       "      <td>als Neuwagen bezogen</td>\n",
       "      <td>NaN</td>\n",
       "    </tr>\n",
       "    <tr>\n",
       "      <th>278631</th>\n",
       "      <td>WSAU299260</td>\n",
       "      <td>NaN</td>\n",
       "      <td>NaN</td>\n",
       "      <td>19628,00</td>\n",
       "      <td>Karosserie Lackierung vorbereitet</td>\n",
       "      <td>09.05.2017</td>\n",
       "      <td>SKODA</td>\n",
       "      <td>Weeber Leonberg Skoda (Hertichstraße 25, 71229...</td>\n",
       "      <td>Firma</td>\n",
       "      <td>TMBJG7NE3H0120142</td>\n",
       "      <td>...</td>\n",
       "      <td>5E5344</td>\n",
       "      <td>Octavia Combi Ambition 81 kW T</td>\n",
       "      <td>NaN</td>\n",
       "      <td>RTD</td>\n",
       "      <td>NaN</td>\n",
       "      <td>0,00</td>\n",
       "      <td>0.0</td>\n",
       "      <td>20.12.2016</td>\n",
       "      <td>als Neuwagen bezogen</td>\n",
       "      <td>NaN</td>\n",
       "    </tr>\n",
       "    <tr>\n",
       "      <th>278660</th>\n",
       "      <td>WSAU299260</td>\n",
       "      <td>NaN</td>\n",
       "      <td>NaN</td>\n",
       "      <td>19628,00</td>\n",
       "      <td>Karosserie Lackierung vorbereitet</td>\n",
       "      <td>09.05.2017</td>\n",
       "      <td>SKODA</td>\n",
       "      <td>Weeber Leonberg Skoda (Hertichstraße 25, 71229...</td>\n",
       "      <td>Firma</td>\n",
       "      <td>TMBJG7NE3H0120142</td>\n",
       "      <td>...</td>\n",
       "      <td>5E5344</td>\n",
       "      <td>Octavia Combi Ambition 81 kW T</td>\n",
       "      <td>NaN</td>\n",
       "      <td>RTD</td>\n",
       "      <td>NaN</td>\n",
       "      <td>0,00</td>\n",
       "      <td>0.0</td>\n",
       "      <td>20.12.2016</td>\n",
       "      <td>als Neuwagen bezogen</td>\n",
       "      <td>NaN</td>\n",
       "    </tr>\n",
       "    <tr>\n",
       "      <th>278661</th>\n",
       "      <td>WSAU299260</td>\n",
       "      <td>NaN</td>\n",
       "      <td>NaN</td>\n",
       "      <td>19628,00</td>\n",
       "      <td>Karosserie Lackierung vorbereitet</td>\n",
       "      <td>09.05.2017</td>\n",
       "      <td>SKODA</td>\n",
       "      <td>Weeber Leonberg Skoda (Hertichstraße 25, 71229...</td>\n",
       "      <td>Firma</td>\n",
       "      <td>TMBJG7NE3H0120142</td>\n",
       "      <td>...</td>\n",
       "      <td>5E5344</td>\n",
       "      <td>Octavia Combi Ambition 81 kW T</td>\n",
       "      <td>NaN</td>\n",
       "      <td>RTD</td>\n",
       "      <td>NaN</td>\n",
       "      <td>0,00</td>\n",
       "      <td>0.0</td>\n",
       "      <td>20.12.2016</td>\n",
       "      <td>als Neuwagen bezogen</td>\n",
       "      <td>NaN</td>\n",
       "    </tr>\n",
       "    <tr>\n",
       "      <th>279414</th>\n",
       "      <td>WSAU319404</td>\n",
       "      <td>NaN</td>\n",
       "      <td>NaN</td>\n",
       "      <td>44459,00</td>\n",
       "      <td>Karosserie Lackierung vorbereitet</td>\n",
       "      <td>27.12.2017</td>\n",
       "      <td>SKODA</td>\n",
       "      <td>Weeber Leonberg Skoda (Hertichstraße 25, 71229...</td>\n",
       "      <td>Firma</td>\n",
       "      <td>TMBJL9NP5G7064719</td>\n",
       "      <td>...</td>\n",
       "      <td>3V54PD</td>\n",
       "      <td>Superb Combi Style TSI DSG 132</td>\n",
       "      <td>NaN</td>\n",
       "      <td>REY</td>\n",
       "      <td>NaN</td>\n",
       "      <td>0,00</td>\n",
       "      <td>0.0</td>\n",
       "      <td>14.04.2016</td>\n",
       "      <td>als Neuwagen bezogen</td>\n",
       "      <td>NaN</td>\n",
       "    </tr>\n",
       "  </tbody>\n",
       "</table>\n",
       "<p>1866 rows × 21 columns</p>\n",
       "</div>"
      ],
      "text/plain": [
       "       Auftragsnummer        AW-Nr Teile-Nr   KM-Stand  \\\n",
       "347        WSAU214922          NaN      NaN   64311,00   \n",
       "409        WSAU214922          NaN      NaN   64311,00   \n",
       "411        WSAU214922          NaN      NaN   64311,00   \n",
       "412        WSAU214922          NaN      NaN   64311,00   \n",
       "420        WSAU214922          NaN      NaN   64311,00   \n",
       "421        WSAU214922          NaN      NaN   64311,00   \n",
       "1748       WSAU200473          NaN      NaN     933,00   \n",
       "1749       WSAU200473          NaN      NaN     933,00   \n",
       "1750       WSAU200473          NaN      NaN     933,00   \n",
       "1853       WSAU200480          NaN      NaN   18409,00   \n",
       "2684       WSAU200586          NaN      NaN    4546,00   \n",
       "2685       WSAU200586          NaN      NaN    4546,00   \n",
       "2686       WSAU200586          NaN      NaN    4546,00   \n",
       "2709       WSAU200586          NaN      NaN    4546,00   \n",
       "2710       WSAU200586          NaN      NaN    4546,00   \n",
       "2711       WSAU200586          NaN      NaN    4546,00   \n",
       "2734       WSAU200586          NaN      NaN    4546,00   \n",
       "2735       WSAU200586          NaN      NaN    4546,00   \n",
       "2736       WSAU200586          NaN      NaN    4546,00   \n",
       "3085       WSAU200614  5.10172e+07      NaN   18816,00   \n",
       "3152       WSAU200625          NaN      NaN   40463,00   \n",
       "3752       WSAU200716  5.10172e+07      NaN   23899,00   \n",
       "3951       WSAU200747          NaN      NaN  106069,00   \n",
       "3952       WSAU200747          NaN      NaN  106069,00   \n",
       "3953       WSAU200747          NaN      NaN  106069,00   \n",
       "4018       WSAU200753          NaN      NaN   57453,00   \n",
       "4025       WSAU200753          NaN      NaN   57453,00   \n",
       "4168       WSAU200781  5.10171e+07      NaN   55564,00   \n",
       "4314       WSAU200798  5.10172e+07      NaN     944,00   \n",
       "4954       WSAU200901  5.10172e+07      NaN   95553,00   \n",
       "...               ...          ...      ...        ...   \n",
       "272100     WSAU318485          NaN      NaN   29572,00   \n",
       "272267     WSAU318658          NaN      NaN   11701,00   \n",
       "272672     WSAU318489          NaN      NaN   30490,00   \n",
       "272673     WSAU318489          NaN      NaN   30490,00   \n",
       "273574     WSAU319423          NaN      NaN   22158,00   \n",
       "273575     WSAU319423          NaN      NaN   22158,00   \n",
       "276912     WSAU304393          NaN      NaN   10363,00   \n",
       "276913     WSAU304393          NaN      NaN   10363,00   \n",
       "276941     WSAU304393          NaN      NaN   10363,00   \n",
       "276942     WSAU304393          NaN      NaN   10363,00   \n",
       "276970     WSAU304393          NaN      NaN   10363,00   \n",
       "276971     WSAU304393          NaN      NaN   10363,00   \n",
       "277083     WSAU317488          NaN      NaN      15,00   \n",
       "277113     WSAU317488          NaN      NaN      15,00   \n",
       "278112     WSAU311806          NaN      NaN   94122,00   \n",
       "278136     WSAU311806          NaN      NaN   94122,00   \n",
       "278157     WSAU311806          NaN      NaN   94122,00   \n",
       "278376     WSAU312289          NaN      NaN   67086,00   \n",
       "278377     WSAU312289          NaN      NaN   67086,00   \n",
       "278435     WSAU312289          NaN      NaN   67086,00   \n",
       "278436     WSAU312289          NaN      NaN   67086,00   \n",
       "278571     WSAU299260          NaN      NaN   19628,00   \n",
       "278572     WSAU299260          NaN      NaN   19628,00   \n",
       "278605     WSAU299260          NaN      NaN   19628,00   \n",
       "278606     WSAU299260          NaN      NaN   19628,00   \n",
       "278630     WSAU299260          NaN      NaN   19628,00   \n",
       "278631     WSAU299260          NaN      NaN   19628,00   \n",
       "278660     WSAU299260          NaN      NaN   19628,00   \n",
       "278661     WSAU299260          NaN      NaN   19628,00   \n",
       "279414     WSAU319404          NaN      NaN   44459,00   \n",
       "\n",
       "                             Beschreibung Auftragsdatum Markencode  \\\n",
       "347     Karosserie Lackierung vorbereitet    30.06.2014      SKODA   \n",
       "409     Karosserie Lackierung vorbereitet    30.06.2014      SKODA   \n",
       "411     Karosserie Lackierung vorbereitet    30.06.2014      SKODA   \n",
       "412     Karosserie Lackierung vorbereitet    30.06.2014      SKODA   \n",
       "420     Karosserie Lackierung vorbereitet    30.06.2014      SKODA   \n",
       "421     Karosserie Lackierung vorbereitet    30.06.2014      SKODA   \n",
       "1748    Karosserie Lackierung vorbereitet    07.01.2014       AUDI   \n",
       "1749    Karosserie Lackierung vorbereitet    07.01.2014       AUDI   \n",
       "1750    Karosserie Lackierung vorbereitet    07.01.2014       AUDI   \n",
       "1853    Karosserie Lackierung vorbereitet    02.01.2014       AUDI   \n",
       "2684    Karosserie Lackierung vorbereitet    03.01.2014      SKODA   \n",
       "2685    Karosserie Lackierung vorbereitet    03.01.2014      SKODA   \n",
       "2686    Karosserie Lackierung vorbereitet    03.01.2014      SKODA   \n",
       "2709    Karosserie Lackierung vorbereitet    03.01.2014      SKODA   \n",
       "2710    Karosserie Lackierung vorbereitet    03.01.2014      SKODA   \n",
       "2711    Karosserie Lackierung vorbereitet    03.01.2014      SKODA   \n",
       "2734    Karosserie Lackierung vorbereitet    03.01.2014      SKODA   \n",
       "2735    Karosserie Lackierung vorbereitet    03.01.2014      SKODA   \n",
       "2736    Karosserie Lackierung vorbereitet    03.01.2014      SKODA   \n",
       "3085    Karosserie Lackierung vorbereitet    08.01.2014         VW   \n",
       "3152    Karosserie Lackierung vorbereitet    03.01.2014      SKODA   \n",
       "3752    Karosserie Lackierung vorbereitet    07.01.2014         VW   \n",
       "3951    Karosserie Lackierung vorbereitet    07.01.2014       AUDI   \n",
       "3952    Karosserie Lackierung vorbereitet    07.01.2014       AUDI   \n",
       "3953    Karosserie Lackierung vorbereitet    07.01.2014       AUDI   \n",
       "4018    Karosserie Lackierung vorbereitet    07.01.2014      SKODA   \n",
       "4025    Karosserie Lackierung vorbereitet    07.01.2014      SKODA   \n",
       "4168    Karosserie Lackierung vorbereitet    08.01.2014      SKODA   \n",
       "4314    Karosserie Lackierung vorbereitet    08.01.2014         VW   \n",
       "4954    Karosserie Lackierung vorbereitet    09.01.2014      SKODA   \n",
       "...                                   ...           ...        ...   \n",
       "272100  Karosserie Lackierung vorbereitet    13.12.2017      SKODA   \n",
       "272267  Karosserie Lackierung vorbereitet    14.12.2017      SKODA   \n",
       "272672  Karosserie Lackierung vorbereitet    13.12.2017      SKODA   \n",
       "272673  Karosserie Lackierung vorbereitet    13.12.2017      SKODA   \n",
       "273574  Karosserie Lackierung vorbereitet    28.12.2017      SKODA   \n",
       "273575  Karosserie Lackierung vorbereitet    28.12.2017      SKODA   \n",
       "276912  Karosserie Lackierung vorbereitet    11.07.2017      SKODA   \n",
       "276913  Karosserie Lackierung vorbereitet    11.07.2017      SKODA   \n",
       "276941  Karosserie Lackierung vorbereitet    11.07.2017      SKODA   \n",
       "276942  Karosserie Lackierung vorbereitet    11.07.2017      SKODA   \n",
       "276970  Karosserie Lackierung vorbereitet    11.07.2017      SKODA   \n",
       "276971  Karosserie Lackierung vorbereitet    11.07.2017      SKODA   \n",
       "277083  Karosserie Lackierung vorbereitet    01.12.2017      SKODA   \n",
       "277113  Karosserie Lackierung vorbereitet    01.12.2017      SKODA   \n",
       "278112  Karosserie Lackierung vorbereitet    10.10.2017      SKODA   \n",
       "278136  Karosserie Lackierung vorbereitet    10.10.2017      SKODA   \n",
       "278157  Karosserie Lackierung vorbereitet    10.10.2017      SKODA   \n",
       "278376  Karosserie Lackierung vorbereitet    11.10.2017      SKODA   \n",
       "278377  Karosserie Lackierung vorbereitet    11.10.2017      SKODA   \n",
       "278435  Karosserie Lackierung vorbereitet    11.10.2017      SKODA   \n",
       "278436  Karosserie Lackierung vorbereitet    11.10.2017      SKODA   \n",
       "278571  Karosserie Lackierung vorbereitet    09.05.2017      SKODA   \n",
       "278572  Karosserie Lackierung vorbereitet    09.05.2017      SKODA   \n",
       "278605  Karosserie Lackierung vorbereitet    09.05.2017      SKODA   \n",
       "278606  Karosserie Lackierung vorbereitet    09.05.2017      SKODA   \n",
       "278630  Karosserie Lackierung vorbereitet    09.05.2017      SKODA   \n",
       "278631  Karosserie Lackierung vorbereitet    09.05.2017      SKODA   \n",
       "278660  Karosserie Lackierung vorbereitet    09.05.2017      SKODA   \n",
       "278661  Karosserie Lackierung vorbereitet    09.05.2017      SKODA   \n",
       "279414  Karosserie Lackierung vorbereitet    27.12.2017      SKODA   \n",
       "\n",
       "                                             Lagerortcode Adressanredecode  \\\n",
       "347     Weeber Leonberg Skoda (Hertichstraße 25, 71229...            Firma   \n",
       "409     Weeber Leonberg Skoda (Hertichstraße 25, 71229...            Firma   \n",
       "411     Weeber Leonberg Skoda (Hertichstraße 25, 71229...            Firma   \n",
       "412     Weeber Leonberg Skoda (Hertichstraße 25, 71229...            Firma   \n",
       "420     Weeber Leonberg Skoda (Hertichstraße 25, 71229...            Firma   \n",
       "421     Weeber Leonberg Skoda (Hertichstraße 25, 71229...            Firma   \n",
       "1748    Weeber Leonberg Audi (Glemseckstraße 39, 71229...            Firma   \n",
       "1749    Weeber Leonberg Audi (Glemseckstraße 39, 71229...            Firma   \n",
       "1750    Weeber Leonberg Audi (Glemseckstraße 39, 71229...            Firma   \n",
       "1853    Weeber Leonberg Audi (Glemseckstraße 39, 71229...             Frau   \n",
       "2684    Weeber Leonberg Skoda (Hertichstraße 25, 71229...            Firma   \n",
       "2685    Weeber Leonberg Skoda (Hertichstraße 25, 71229...            Firma   \n",
       "2686    Weeber Leonberg Skoda (Hertichstraße 25, 71229...            Firma   \n",
       "2709    Weeber Leonberg Skoda (Hertichstraße 25, 71229...            Firma   \n",
       "2710    Weeber Leonberg Skoda (Hertichstraße 25, 71229...            Firma   \n",
       "2711    Weeber Leonberg Skoda (Hertichstraße 25, 71229...            Firma   \n",
       "2734    Weeber Leonberg Skoda (Hertichstraße 25, 71229...            Firma   \n",
       "2735    Weeber Leonberg Skoda (Hertichstraße 25, 71229...            Firma   \n",
       "2736    Weeber Leonberg Skoda (Hertichstraße 25, 71229...            Firma   \n",
       "3085    Weeber Leonberg VW (Glemseckstraße 49, 71229 L...             Herr   \n",
       "3152    Weeber Leonberg Skoda (Hertichstraße 25, 71229...            Firma   \n",
       "3752    Weeber Leonberg VW (Glemseckstraße 49, 71229 L...            Firma   \n",
       "3951    Weeber Leonberg Audi (Glemseckstraße 39, 71229...            Firma   \n",
       "3952    Weeber Leonberg Audi (Glemseckstraße 39, 71229...            Firma   \n",
       "3953    Weeber Leonberg Audi (Glemseckstraße 39, 71229...            Firma   \n",
       "4018    Weeber Leonberg Skoda (Hertichstraße 25, 71229...            Firma   \n",
       "4025    Weeber Leonberg Skoda (Hertichstraße 25, 71229...            Firma   \n",
       "4168    Weeber Leonberg VW (Glemseckstraße 49, 71229 L...            Firma   \n",
       "4314    Weeber Leonberg VW (Glemseckstraße 49, 71229 L...             Herr   \n",
       "4954    Weeber Leonberg VW (Glemseckstraße 49, 71229 L...            Firma   \n",
       "...                                                   ...              ...   \n",
       "272100  Weeber Leonberg Skoda (Hertichstraße 25, 71229...             Herr   \n",
       "272267  Weeber Leonberg Skoda (Hertichstraße 25, 71229...             Frau   \n",
       "272672  Weeber Leonberg Skoda (Hertichstraße 25, 71229...             Herr   \n",
       "272673  Weeber Leonberg Skoda (Hertichstraße 25, 71229...             Herr   \n",
       "273574  Weeber Leonberg Skoda (Hertichstraße 25, 71229...             Frau   \n",
       "273575  Weeber Leonberg Skoda (Hertichstraße 25, 71229...             Frau   \n",
       "276912  Weeber Leonberg Skoda (Hertichstraße 25, 71229...             Herr   \n",
       "276913  Weeber Leonberg Skoda (Hertichstraße 25, 71229...             Herr   \n",
       "276941  Weeber Leonberg Skoda (Hertichstraße 25, 71229...             Herr   \n",
       "276942  Weeber Leonberg Skoda (Hertichstraße 25, 71229...             Herr   \n",
       "276970  Weeber Leonberg Skoda (Hertichstraße 25, 71229...             Herr   \n",
       "276971  Weeber Leonberg Skoda (Hertichstraße 25, 71229...             Herr   \n",
       "277083  Weeber Leonberg Skoda (Hertichstraße 25, 71229...              NaN   \n",
       "277113  Weeber Leonberg Skoda (Hertichstraße 25, 71229...              NaN   \n",
       "278112  Weeber Leonberg Skoda (Hertichstraße 25, 71229...             Herr   \n",
       "278136  Weeber Leonberg Skoda (Hertichstraße 25, 71229...             Herr   \n",
       "278157  Weeber Leonberg Skoda (Hertichstraße 25, 71229...             Herr   \n",
       "278376  Weeber Leonberg Skoda (Hertichstraße 25, 71229...            Firma   \n",
       "278377  Weeber Leonberg Skoda (Hertichstraße 25, 71229...            Firma   \n",
       "278435  Weeber Leonberg Skoda (Hertichstraße 25, 71229...            Firma   \n",
       "278436  Weeber Leonberg Skoda (Hertichstraße 25, 71229...            Firma   \n",
       "278571  Weeber Leonberg Skoda (Hertichstraße 25, 71229...            Firma   \n",
       "278572  Weeber Leonberg Skoda (Hertichstraße 25, 71229...            Firma   \n",
       "278605  Weeber Leonberg Skoda (Hertichstraße 25, 71229...            Firma   \n",
       "278606  Weeber Leonberg Skoda (Hertichstraße 25, 71229...            Firma   \n",
       "278630  Weeber Leonberg Skoda (Hertichstraße 25, 71229...            Firma   \n",
       "278631  Weeber Leonberg Skoda (Hertichstraße 25, 71229...            Firma   \n",
       "278660  Weeber Leonberg Skoda (Hertichstraße 25, 71229...            Firma   \n",
       "278661  Weeber Leonberg Skoda (Hertichstraße 25, 71229...            Firma   \n",
       "279414  Weeber Leonberg Skoda (Hertichstraße 25, 71229...            Firma   \n",
       "\n",
       "        Fahrgestellnummer     ...     Fahrzeugmodellnummer  \\\n",
       "347     TMBKT61Z4C2187428     ...                   1Z522Y   \n",
       "409     TMBKT61Z4C2187428     ...                   1Z522Y   \n",
       "411     TMBKT61Z4C2187428     ...                   1Z522Y   \n",
       "412     TMBKT61Z4C2187428     ...                   1Z522Y   \n",
       "420     TMBKT61Z4C2187428     ...                   1Z522Y   \n",
       "421     TMBKT61Z4C2187428     ...                   1Z522Y   \n",
       "1748    WAUZZZ4H1EN010108     ...                   4HC0TA   \n",
       "1749    WAUZZZ4H1EN010108     ...                   4HC0TA   \n",
       "1750    WAUZZZ4H1EN010108     ...                   4HC0TA   \n",
       "1853    WAUZZZ8R4BA043108     ...                   8RB0MY   \n",
       "2684    TMBZZZAAZDD646342     ...                   NF12A1   \n",
       "2685    TMBZZZAAZDD646342     ...                   NF12A1   \n",
       "2686    TMBZZZAAZDD646342     ...                   NF12A1   \n",
       "2709    TMBZZZAAZDD646342     ...                   NF12A1   \n",
       "2710    TMBZZZAAZDD646342     ...                   NF12A1   \n",
       "2711    TMBZZZAAZDD646342     ...                   NF12A1   \n",
       "2734    TMBZZZAAZDD646342     ...                   NF12A1   \n",
       "2735    TMBZZZAAZDD646342     ...                   NF12A1   \n",
       "2736    TMBZZZAAZDD646342     ...                   NF12A1   \n",
       "3085    WVWZZZ1KZAP070500     ...                   5K143M   \n",
       "3152    TMBJF73T4C9048781     ...                   3T539C   \n",
       "3752    WV2ZZZ7HZDH076471     ...                   7EMCF1   \n",
       "3951    WAUZZZ4GXCN087497     ...                   4G50JY   \n",
       "3952    WAUZZZ4GXCN087497     ...                   4G50JY   \n",
       "3953    WAUZZZ4GXCN087497     ...                   4G50JY   \n",
       "4018    TMBGJ61Z5A2013909     ...                   1Z53L5   \n",
       "4025    TMBGJ61Z5A2013909     ...                   1Z53L5   \n",
       "4168    TMBGJ61Z5A2013909     ...                   1Z53L5   \n",
       "4314    WV2ZZZ7HZEH061885     ...                   7EMC37   \n",
       "4954    TMBJE73T1D9008338     ...                   3T5285   \n",
       "...                   ...     ...                      ...   \n",
       "272100  TMBET6NHXF4549382     ...                   NH13PD   \n",
       "272267  TMBJM6NJ9HZ095596     ...                   NJ53J4   \n",
       "272672  TMBJK8NE4G0183124     ...                   5E5695   \n",
       "272673  TMBJK8NE4G0183124     ...                   5E5695   \n",
       "273574  TMBEM6NJ2FZ077374     ...                   NJ33J4   \n",
       "273575  TMBEM6NJ2FZ077374     ...                   NJ33J4   \n",
       "276912  TMBZZZAAZGD618878     ...                   NF13D1   \n",
       "276913  TMBZZZAAZGD618878     ...                   NF13D1   \n",
       "276941  TMBZZZAAZGD618878     ...                   NF13D1   \n",
       "276942  TMBZZZAAZGD618878     ...                   NF13D1   \n",
       "276970  TMBZZZAAZGD618878     ...                   NF13D1   \n",
       "276971  TMBZZZAAZGD618878     ...                   NF13D1   \n",
       "277083  TMBJU7NE1J0207097     ...                   5E56UD   \n",
       "277113  TMBJU7NE1J0207097     ...                   5E56UD   \n",
       "278112  TMBJF73TXE9024066     ...                   3T539C   \n",
       "278136  TMBJF73TXE9024066     ...                   3T539C   \n",
       "278157  TMBJF73TXE9024066     ...                   3T539C   \n",
       "278376  TMBJH7NPXG7084423     ...                   3V5355   \n",
       "278377  TMBJH7NPXG7084423     ...                   3V5355   \n",
       "278435  TMBJH7NPXG7084423     ...                   3V5355   \n",
       "278436  TMBJH7NPXG7084423     ...                   3V5355   \n",
       "278571  TMBJG7NE3H0120142     ...                   5E5344   \n",
       "278572  TMBJG7NE3H0120142     ...                   5E5344   \n",
       "278605  TMBJG7NE3H0120142     ...                   5E5344   \n",
       "278606  TMBJG7NE3H0120142     ...                   5E5344   \n",
       "278630  TMBJG7NE3H0120142     ...                   5E5344   \n",
       "278631  TMBJG7NE3H0120142     ...                   5E5344   \n",
       "278660  TMBJG7NE3H0120142     ...                   5E5344   \n",
       "278661  TMBJG7NE3H0120142     ...                   5E5344   \n",
       "279414  TMBJL9NP5G7064719     ...                   3V54PD   \n",
       "\n",
       "                                Modell  Typ Getriebecode Getriebeartcode  \\\n",
       "347     OCTAVIA COMBI II Ambiente 4X4   NaN          NFQ             NaN   \n",
       "409     OCTAVIA COMBI II Ambiente 4X4   NaN          NFQ             NaN   \n",
       "411     OCTAVIA COMBI II Ambiente 4X4   NaN          NFQ             NaN   \n",
       "412     OCTAVIA COMBI II Ambiente 4X4   NaN          NFQ             NaN   \n",
       "420     OCTAVIA COMBI II Ambiente 4X4   NaN          NFQ             NaN   \n",
       "421     OCTAVIA COMBI II Ambiente 4X4   NaN          NFQ             NaN   \n",
       "1748    Audi A8 Limousine 4.2 TDI clea  X0A          PRX             NaN   \n",
       "1749    Audi A8 Limousine 4.2 TDI clea  X0A          PRX             NaN   \n",
       "1750    Audi A8 Limousine 4.2 TDI clea  X0A          PRX             NaN   \n",
       "1853       Audi Q5 SUV 2.0 TDI quattro  X0A          MSJ             NaN   \n",
       "2684                        Citigo 1.0  NaN          NZC             NaN   \n",
       "2685                        Citigo 1.0  NaN          NZC             NaN   \n",
       "2686                        Citigo 1.0  NaN          NZC             NaN   \n",
       "2709                        Citigo 1.0  NaN          NZC             NaN   \n",
       "2710                        Citigo 1.0  NaN          NZC             NaN   \n",
       "2711                        Citigo 1.0  NaN          NZC             NaN   \n",
       "2734                        Citigo 1.0  NaN          NZC             NaN   \n",
       "2735                        Citigo 1.0  NaN          NZC             NaN   \n",
       "2736                        Citigo 1.0  NaN          NZC             NaN   \n",
       "3085               Golf Highline 2,0 l  X0A          LQV             NaN   \n",
       "3152     Superb Combi 2.0 TDI Elegance  NaN          NLN             NaN   \n",
       "3752           T5 Kombi/Multivan MJ04>  X10          PAV             NaN   \n",
       "3951          A6 Avant 3.0 TDI quattro  X0A          NPB             NaN   \n",
       "3952          A6 Avant 3.0 TDI quattro  X0A          NPB             NaN   \n",
       "3953          A6 Avant 3.0 TDI quattro  X0A          NPB             NaN   \n",
       "4018    Octavia Combi 1,4 TSI Elegance  NaN          LHY             NaN   \n",
       "4025    Octavia Combi 1,4 TSI Elegance  NaN          LHY             NaN   \n",
       "4168    Octavia Combi 1,4 TSI Elegance  NaN          LHY             NaN   \n",
       "4314               T5 Multivan 2.0 TDI  X10          NZQ             NaN   \n",
       "4954     Superb Combi 2.0 TDI Ambition  NaN          NFP             NaN   \n",
       "...                                ...  ...          ...             ...   \n",
       "272100  Rapid SB Ambition 1,4l TSI 90k  NaN          QHF             NaN   \n",
       "272267  Fabia Combi Ambition 1,2l TSI   NaN          PED             NaN   \n",
       "272672  Octavia Combi RS 2,0l TDI 135   NaN          PDT             NaN   \n",
       "272673  Octavia Combi RS 2,0l TDI 135   NaN          PDT             NaN   \n",
       "273574  Fabia Ambition 1,2l TSI 66 kW   NaN          PED             NaN   \n",
       "273575  Fabia Ambition 1,2l TSI 66 kW   NaN          PED             NaN   \n",
       "276912  Citigo Ambition 1,0l MPI 55kW   NaN          QCG             NaN   \n",
       "276913  Citigo Ambition 1,0l MPI 55kW   NaN          QCG             NaN   \n",
       "276941  Citigo Ambition 1,0l MPI 55kW   NaN          QCG             NaN   \n",
       "276942  Citigo Ambition 1,0l MPI 55kW   NaN          QCG             NaN   \n",
       "276970  Citigo Ambition 1,0l MPI 55kW   NaN          QCG             NaN   \n",
       "276971  Citigo Ambition 1,0l MPI 55kW   NaN          QCG             NaN   \n",
       "277083    OCTAVIA COMBI RS245 2,0l TSI  NaN          THZ             NaN   \n",
       "277113    OCTAVIA COMBI RS245 2,0l TSI  NaN          THZ             NaN   \n",
       "278112  SUPERB COMBI ELEGANCE 2.0 TDI   NaN          PPX             NaN   \n",
       "278136  SUPERB COMBI ELEGANCE 2.0 TDI   NaN          PPX             NaN   \n",
       "278157  SUPERB COMBI ELEGANCE 2.0 TDI   NaN          PPX             NaN   \n",
       "278376  Superb Combi Ambition TDI 110   NaN          QFZ             NaN   \n",
       "278377  Superb Combi Ambition TDI 110   NaN          QFZ             NaN   \n",
       "278435  Superb Combi Ambition TDI 110   NaN          QFZ             NaN   \n",
       "278436  Superb Combi Ambition TDI 110   NaN          QFZ             NaN   \n",
       "278571  Octavia Combi Ambition 81 kW T  NaN          RTD             NaN   \n",
       "278572  Octavia Combi Ambition 81 kW T  NaN          RTD             NaN   \n",
       "278605  Octavia Combi Ambition 81 kW T  NaN          RTD             NaN   \n",
       "278606  Octavia Combi Ambition 81 kW T  NaN          RTD             NaN   \n",
       "278630  Octavia Combi Ambition 81 kW T  NaN          RTD             NaN   \n",
       "278631  Octavia Combi Ambition 81 kW T  NaN          RTD             NaN   \n",
       "278660  Octavia Combi Ambition 81 kW T  NaN          RTD             NaN   \n",
       "278661  Octavia Combi Ambition 81 kW T  NaN          RTD             NaN   \n",
       "279414  Superb Combi Style TSI DSG 132  NaN          REY             NaN   \n",
       "\n",
       "        Gewicht Leistung (KW)  Erstzulassungsdatum              Neuwagen  \\\n",
       "347     1705,00          77.0           21.06.2012  als Neuwagen bezogen   \n",
       "409     1705,00          77.0           21.06.2012  als Neuwagen bezogen   \n",
       "411     1705,00          77.0           21.06.2012  als Neuwagen bezogen   \n",
       "412     1705,00          77.0           21.06.2012  als Neuwagen bezogen   \n",
       "420     1705,00          77.0           21.06.2012  als Neuwagen bezogen   \n",
       "421     1705,00          77.0           21.06.2012  als Neuwagen bezogen   \n",
       "1748       0,00           0.0           11.12.2013  als Neuwagen bezogen   \n",
       "1749       0,00           0.0           11.12.2013  als Neuwagen bezogen   \n",
       "1750       0,00           0.0           11.12.2013  als Neuwagen bezogen   \n",
       "1853       0,00           0.0           07.07.2011  als Neuwagen bezogen   \n",
       "2684       0,00          44.0           23.05.2013                   NaN   \n",
       "2685       0,00          44.0           23.05.2013                   NaN   \n",
       "2686       0,00          44.0           23.05.2013                   NaN   \n",
       "2709       0,00          44.0           23.05.2013                   NaN   \n",
       "2710       0,00          44.0           23.05.2013                   NaN   \n",
       "2711       0,00          44.0           23.05.2013                   NaN   \n",
       "2734       0,00          44.0           23.05.2013                   NaN   \n",
       "2735       0,00          44.0           23.05.2013                   NaN   \n",
       "2736       0,00          44.0           23.05.2013                   NaN   \n",
       "3085       0,00           0.0           27.10.2009                   NaN   \n",
       "3152       0,00         125.0           06.03.2012                   NaN   \n",
       "3752       0,00           0.0           14.01.2013  als Neuwagen bezogen   \n",
       "3951       0,00         180.0           07.12.2011                   NaN   \n",
       "3952       0,00         180.0           07.12.2011                   NaN   \n",
       "3953       0,00         180.0           07.12.2011                   NaN   \n",
       "4018       0,00          90.0           02.07.2009                   NaN   \n",
       "4025       0,00          90.0           02.07.2009                   NaN   \n",
       "4168       0,00          90.0           02.07.2009                   NaN   \n",
       "4314       0,00         103.0           13.12.2013                   NaN   \n",
       "4954       0,00         103.0           19.06.2012                   NaN   \n",
       "...         ...           ...                  ...                   ...   \n",
       "272100     0,00           0.0           09.04.2015                   NaN   \n",
       "272267     0,00          66.0           27.01.2017                   NaN   \n",
       "272672     0,00           0.0           15.08.2016  als Neuwagen bezogen   \n",
       "272673     0,00           0.0           15.08.2016  als Neuwagen bezogen   \n",
       "273574     0,00           0.0           26.06.2015                   NaN   \n",
       "273575     0,00           0.0           26.06.2015                   NaN   \n",
       "276912     0,00          55.0           31.03.2016                   NaN   \n",
       "276913     0,00          55.0           31.03.2016                   NaN   \n",
       "276941     0,00          55.0           31.03.2016                   NaN   \n",
       "276942     0,00          55.0           31.03.2016                   NaN   \n",
       "276970     0,00          55.0           31.03.2016                   NaN   \n",
       "276971     0,00          55.0           31.03.2016                   NaN   \n",
       "277083     0,00           0.0           22.12.2017  als Neuwagen bezogen   \n",
       "277113     0,00           0.0           22.12.2017  als Neuwagen bezogen   \n",
       "278112     0,00         125.0           21.10.2013  als Neuwagen bezogen   \n",
       "278136     0,00         125.0           21.10.2013  als Neuwagen bezogen   \n",
       "278157     0,00         125.0           21.10.2013  als Neuwagen bezogen   \n",
       "278376     0,00           0.0           17.05.2016  als Neuwagen bezogen   \n",
       "278377     0,00           0.0           17.05.2016  als Neuwagen bezogen   \n",
       "278435     0,00           0.0           17.05.2016  als Neuwagen bezogen   \n",
       "278436     0,00           0.0           17.05.2016  als Neuwagen bezogen   \n",
       "278571     0,00           0.0           20.12.2016  als Neuwagen bezogen   \n",
       "278572     0,00           0.0           20.12.2016  als Neuwagen bezogen   \n",
       "278605     0,00           0.0           20.12.2016  als Neuwagen bezogen   \n",
       "278606     0,00           0.0           20.12.2016  als Neuwagen bezogen   \n",
       "278630     0,00           0.0           20.12.2016  als Neuwagen bezogen   \n",
       "278631     0,00           0.0           20.12.2016  als Neuwagen bezogen   \n",
       "278660     0,00           0.0           20.12.2016  als Neuwagen bezogen   \n",
       "278661     0,00           0.0           20.12.2016  als Neuwagen bezogen   \n",
       "279414     0,00           0.0           14.04.2016  als Neuwagen bezogen   \n",
       "\n",
       "       Unnamed: 20  \n",
       "347            NaN  \n",
       "409            NaN  \n",
       "411            NaN  \n",
       "412            NaN  \n",
       "420            NaN  \n",
       "421            NaN  \n",
       "1748           NaN  \n",
       "1749           NaN  \n",
       "1750           NaN  \n",
       "1853           NaN  \n",
       "2684           NaN  \n",
       "2685           NaN  \n",
       "2686           NaN  \n",
       "2709           NaN  \n",
       "2710           NaN  \n",
       "2711           NaN  \n",
       "2734           NaN  \n",
       "2735           NaN  \n",
       "2736           NaN  \n",
       "3085           NaN  \n",
       "3152           NaN  \n",
       "3752           NaN  \n",
       "3951           NaN  \n",
       "3952           NaN  \n",
       "3953           NaN  \n",
       "4018           NaN  \n",
       "4025           NaN  \n",
       "4168           NaN  \n",
       "4314           NaN  \n",
       "4954           NaN  \n",
       "...            ...  \n",
       "272100         NaN  \n",
       "272267         NaN  \n",
       "272672         NaN  \n",
       "272673         NaN  \n",
       "273574         NaN  \n",
       "273575         NaN  \n",
       "276912         NaN  \n",
       "276913         NaN  \n",
       "276941         NaN  \n",
       "276942         NaN  \n",
       "276970         NaN  \n",
       "276971         NaN  \n",
       "277083         NaN  \n",
       "277113         NaN  \n",
       "278112         NaN  \n",
       "278136         NaN  \n",
       "278157         NaN  \n",
       "278376         NaN  \n",
       "278377         NaN  \n",
       "278435         NaN  \n",
       "278436         NaN  \n",
       "278571         NaN  \n",
       "278572         NaN  \n",
       "278605         NaN  \n",
       "278606         NaN  \n",
       "278630         NaN  \n",
       "278631         NaN  \n",
       "278660         NaN  \n",
       "278661         NaN  \n",
       "279414         NaN  \n",
       "\n",
       "[1866 rows x 21 columns]"
      ]
     },
     "execution_count": 127,
     "metadata": {},
     "output_type": "execute_result"
    }
   ],
   "source": [
    "b = data.loc[bs == 'Karosserie Lackierung vorbereitet']\n",
    "b"
   ]
  },
  {
   "cell_type": "markdown",
   "metadata": {},
   "source": [
    "## Auftragsdatum"
   ]
  },
  {
   "cell_type": "code",
   "execution_count": 28,
   "metadata": {
    "collapsed": false
   },
   "outputs": [],
   "source": [
    "ad = data['Auftragsdatum']"
   ]
  },
  {
   "cell_type": "code",
   "execution_count": 29,
   "metadata": {
    "collapsed": false
   },
   "outputs": [
    {
     "data": {
      "text/plain": [
       "0"
      ]
     },
     "execution_count": 29,
     "metadata": {},
     "output_type": "execute_result"
    }
   ],
   "source": [
    "ad.isnull().sum()"
   ]
  },
  {
   "cell_type": "code",
   "execution_count": 30,
   "metadata": {
    "collapsed": false
   },
   "outputs": [
    {
     "data": {
      "text/plain": [
       "count        1001054\n",
       "unique          1257\n",
       "top       14.11.2016\n",
       "freq            2036\n",
       "Name: Auftragsdatum, dtype: object"
      ]
     },
     "execution_count": 30,
     "metadata": {},
     "output_type": "execute_result"
    }
   ],
   "source": [
    "ad.describe()"
   ]
  },
  {
   "cell_type": "markdown",
   "metadata": {},
   "source": [
    "- 因为是时间，所以会想知道时间跨度，每个事件段里出现的次数。还有数量改变的大概趋势"
   ]
  },
  {
   "cell_type": "markdown",
   "metadata": {},
   "source": [
    "## Markencode"
   ]
  },
  {
   "cell_type": "code",
   "execution_count": 31,
   "metadata": {
    "collapsed": true
   },
   "outputs": [],
   "source": [
    "mc = data['Markencode']"
   ]
  },
  {
   "cell_type": "code",
   "execution_count": 32,
   "metadata": {
    "collapsed": false
   },
   "outputs": [
    {
     "data": {
      "text/plain": [
       "5487"
      ]
     },
     "execution_count": 32,
     "metadata": {},
     "output_type": "execute_result"
    }
   ],
   "source": [
    "mc.isnull().sum()"
   ]
  },
  {
   "cell_type": "code",
   "execution_count": 33,
   "metadata": {
    "collapsed": false
   },
   "outputs": [
    {
     "data": {
      "text/plain": [
       "count     995567\n",
       "unique        32\n",
       "top           VW\n",
       "freq      552930\n",
       "Name: Markencode, dtype: object"
      ]
     },
     "execution_count": 33,
     "metadata": {},
     "output_type": "execute_result"
    }
   ],
   "source": [
    "mc.describe()"
   ]
  },
  {
   "cell_type": "markdown",
   "metadata": {},
   "source": [
    "- 汽车品牌\n",
    "- 有少量缺失值\n",
    "- 分布不均，VW占了超过一半的量，会想看分布图"
   ]
  },
  {
   "cell_type": "markdown",
   "metadata": {},
   "source": [
    "## Lagerortcode"
   ]
  },
  {
   "cell_type": "code",
   "execution_count": 34,
   "metadata": {
    "collapsed": true
   },
   "outputs": [],
   "source": [
    "lc = data['Lagerortcode']"
   ]
  },
  {
   "cell_type": "code",
   "execution_count": 35,
   "metadata": {
    "collapsed": false
   },
   "outputs": [
    {
     "data": {
      "text/plain": [
       "0"
      ]
     },
     "execution_count": 35,
     "metadata": {},
     "output_type": "execute_result"
    }
   ],
   "source": [
    "lc.isnull().sum()"
   ]
  },
  {
   "cell_type": "code",
   "execution_count": 36,
   "metadata": {
    "collapsed": false
   },
   "outputs": [
    {
     "data": {
      "text/plain": [
       "count                                               1001054\n",
       "unique                                                    4\n",
       "top       Weeber Leonberg VW (Glemseckstraße 49, 71229 L...\n",
       "freq                                                 570972\n",
       "Name: Lagerortcode, dtype: object"
      ]
     },
     "execution_count": 36,
     "metadata": {},
     "output_type": "execute_result"
    }
   ],
   "source": [
    "lc.describe()"
   ]
  },
  {
   "cell_type": "markdown",
   "metadata": {},
   "source": [
    "- 车间地址\n",
    "- 没有空值，只有4个车间\n",
    "- 分布不均，其中一个车间占了一般的量"
   ]
  },
  {
   "cell_type": "markdown",
   "metadata": {},
   "source": [
    "## Adressanredecode"
   ]
  },
  {
   "cell_type": "code",
   "execution_count": 37,
   "metadata": {
    "collapsed": true
   },
   "outputs": [],
   "source": [
    "ac = data['Adressanredecode']"
   ]
  },
  {
   "cell_type": "code",
   "execution_count": 38,
   "metadata": {
    "collapsed": false
   },
   "outputs": [
    {
     "data": {
      "text/plain": [
       "9540"
      ]
     },
     "execution_count": 38,
     "metadata": {},
     "output_type": "execute_result"
    }
   ],
   "source": [
    "ac.isnull().sum()"
   ]
  },
  {
   "cell_type": "code",
   "execution_count": 39,
   "metadata": {
    "collapsed": false
   },
   "outputs": [
    {
     "data": {
      "text/plain": [
       "count     991514\n",
       "unique        14\n",
       "top        Firma\n",
       "freq      459305\n",
       "Name: Adressanredecode, dtype: object"
      ]
     },
     "execution_count": 39,
     "metadata": {},
     "output_type": "execute_result"
    }
   ],
   "source": [
    "ac.describe()"
   ]
  },
  {
   "cell_type": "markdown",
   "metadata": {},
   "source": [
    "- 指客户类型，\n",
    "- 少量缺失值\n",
    "- 仅14类，分布不均匀，大部分客户是来自公司的，约占总体的一半"
   ]
  },
  {
   "cell_type": "code",
   "execution_count": 83,
   "metadata": {
    "collapsed": false
   },
   "outputs": [
    {
     "data": {
      "text/plain": [
       "array(['Firma', 'Herr', 'Frau', nan, 'AN', 'FA_F', 'FA_M', 'HR.DR.',\n",
       "       'OHNE', 'AUTOHAUS', 'FR.DR.', 'HERR+FRAU', 'FAHRSCHULE', 'FR.PROF.',\n",
       "       'HR U. FR'], dtype=object)"
      ]
     },
     "execution_count": 83,
     "metadata": {},
     "output_type": "execute_result"
    }
   ],
   "source": [
    "ac.unique()"
   ]
  },
  {
   "cell_type": "markdown",
   "metadata": {},
   "source": [
    "## Fahrgestellnummer"
   ]
  },
  {
   "cell_type": "code",
   "execution_count": 40,
   "metadata": {
    "collapsed": true
   },
   "outputs": [],
   "source": [
    "fn = data['Fahrgestellnummer']"
   ]
  },
  {
   "cell_type": "code",
   "execution_count": 41,
   "metadata": {
    "collapsed": false
   },
   "outputs": [
    {
     "data": {
      "text/plain": [
       "4204"
      ]
     },
     "execution_count": 41,
     "metadata": {},
     "output_type": "execute_result"
    }
   ],
   "source": [
    "fn.isnull().sum()"
   ]
  },
  {
   "cell_type": "code",
   "execution_count": 42,
   "metadata": {
    "collapsed": false
   },
   "outputs": [
    {
     "data": {
      "text/plain": [
       "count                996850\n",
       "unique                24584\n",
       "top       WVWZZZAUZFW144310\n",
       "freq                    846\n",
       "Name: Fahrgestellnummer, dtype: object"
      ]
     },
     "execution_count": 42,
     "metadata": {},
     "output_type": "execute_result"
    }
   ],
   "source": [
    "fn.describe()"
   ]
  },
  {
   "cell_type": "markdown",
   "metadata": {},
   "source": [
    "- 汽车底盘上的编号，不知道是否唯一的，如果是就可以用来识别车辆，急需确认。。。。。。。。。。， 估计不是，因为最大的重复量是800多，应该不可能有人会在5年间重复维修汽车那么多次\n",
    "- 少量的空值，分布相对比较均匀了"
   ]
  },
  {
   "cell_type": "markdown",
   "metadata": {},
   "source": [
    "## Motorcode\n"
   ]
  },
  {
   "cell_type": "code",
   "execution_count": 43,
   "metadata": {
    "collapsed": true
   },
   "outputs": [],
   "source": [
    "mc = data['Motorcode']"
   ]
  },
  {
   "cell_type": "code",
   "execution_count": 44,
   "metadata": {
    "collapsed": false
   },
   "outputs": [
    {
     "data": {
      "text/plain": [
       "21410"
      ]
     },
     "execution_count": 44,
     "metadata": {},
     "output_type": "execute_result"
    }
   ],
   "source": [
    "mc.isnull().sum()"
   ]
  },
  {
   "cell_type": "code",
   "execution_count": 45,
   "metadata": {
    "collapsed": false
   },
   "outputs": [
    {
     "data": {
      "text/plain": [
       "count     979644\n",
       "unique       908\n",
       "top         CFFB\n",
       "freq       61955\n",
       "Name: Motorcode, dtype: object"
      ]
     },
     "execution_count": 45,
     "metadata": {},
     "output_type": "execute_result"
    }
   ],
   "source": [
    "mc.describe()"
   ]
  },
  {
   "cell_type": "markdown",
   "metadata": {},
   "source": []
  },
  {
   "cell_type": "markdown",
   "metadata": {},
   "source": [
    "## Fahrzeugmodellnummer"
   ]
  },
  {
   "cell_type": "code",
   "execution_count": 46,
   "metadata": {
    "collapsed": true
   },
   "outputs": [],
   "source": [
    "fn = data['Fahrzeugmodellnummer']"
   ]
  },
  {
   "cell_type": "code",
   "execution_count": 47,
   "metadata": {
    "collapsed": false
   },
   "outputs": [
    {
     "data": {
      "text/plain": [
       "5568"
      ]
     },
     "execution_count": 47,
     "metadata": {},
     "output_type": "execute_result"
    }
   ],
   "source": [
    "fn.isnull().sum()"
   ]
  },
  {
   "cell_type": "code",
   "execution_count": 48,
   "metadata": {
    "collapsed": false
   },
   "outputs": [
    {
     "data": {
      "text/plain": [
       "count     995486\n",
       "unique      4444\n",
       "top       36535Y\n",
       "freq       11110\n",
       "Name: Fahrzeugmodellnummer, dtype: object"
      ]
     },
     "execution_count": 48,
     "metadata": {},
     "output_type": "execute_result"
    }
   ],
   "source": [
    "fn.describe()"
   ]
  },
  {
   "cell_type": "code",
   "execution_count": null,
   "metadata": {
    "collapsed": true
   },
   "outputs": [],
   "source": []
  },
  {
   "cell_type": "markdown",
   "metadata": {},
   "source": [
    "## Modell"
   ]
  },
  {
   "cell_type": "code",
   "execution_count": 49,
   "metadata": {
    "collapsed": true
   },
   "outputs": [],
   "source": [
    "md = data['Modell']"
   ]
  },
  {
   "cell_type": "code",
   "execution_count": 50,
   "metadata": {
    "collapsed": false
   },
   "outputs": [
    {
     "data": {
      "text/plain": [
       "8031"
      ]
     },
     "execution_count": 50,
     "metadata": {},
     "output_type": "execute_result"
    }
   ],
   "source": [
    "md.isnull().sum()"
   ]
  },
  {
   "cell_type": "code",
   "execution_count": 51,
   "metadata": {
    "collapsed": false
   },
   "outputs": [
    {
     "data": {
      "text/plain": [
       "count                             993023\n",
       "unique                              4796\n",
       "top       Passat Variant Comfortline BM \n",
       "freq                               19857\n",
       "Name: Modell, dtype: object"
      ]
     },
     "execution_count": 51,
     "metadata": {},
     "output_type": "execute_result"
    }
   ],
   "source": [
    "md.describe()"
   ]
  },
  {
   "cell_type": "markdown",
   "metadata": {},
   "source": [
    "- 对比单号，可能是同一个人的所以模型是一样的，"
   ]
  },
  {
   "cell_type": "markdown",
   "metadata": {},
   "source": [
    "## Typ"
   ]
  },
  {
   "cell_type": "code",
   "execution_count": 52,
   "metadata": {
    "collapsed": true
   },
   "outputs": [],
   "source": [
    "tp = data['Typ']"
   ]
  },
  {
   "cell_type": "code",
   "execution_count": 53,
   "metadata": {
    "collapsed": false
   },
   "outputs": [
    {
     "data": {
      "text/plain": [
       "280789"
      ]
     },
     "execution_count": 53,
     "metadata": {},
     "output_type": "execute_result"
    }
   ],
   "source": [
    "tp.isnull().sum()"
   ]
  },
  {
   "cell_type": "code",
   "execution_count": 54,
   "metadata": {
    "collapsed": false
   },
   "outputs": [
    {
     "data": {
      "text/plain": [
       "count     720265\n",
       "unique        95\n",
       "top          X0A\n",
       "freq      635469\n",
       "Name: Typ, dtype: object"
      ]
     },
     "execution_count": 54,
     "metadata": {},
     "output_type": "execute_result"
    }
   ],
   "source": [
    "tp.describe()"
   ]
  },
  {
   "cell_type": "markdown",
   "metadata": {},
   "source": [
    "- 还不知道是什么意思\n",
    "- 大量的缺失值\n",
    "- 基本都是X0A，分布极端不均匀"
   ]
  },
  {
   "cell_type": "code",
   "execution_count": null,
   "metadata": {
    "collapsed": false
   },
   "outputs": [],
   "source": []
  },
  {
   "cell_type": "code",
   "execution_count": 82,
   "metadata": {
    "collapsed": false
   },
   "outputs": [
    {
     "data": {
      "text/plain": [
       "array(['X0A', nan, 'X10', 'Golf', 'Fabia', 'A4', 'Superb Combi', 'Eos',\n",
       "       'Transporter', '1K', 'Octavia', 'Polo', '1B15C1', 'Phaeton',\n",
       "       '3c5056', 'Roomster', 'Octavia Combi', '104919', 'Golf Plus',\n",
       "       '3c21h2', 'Tiguan', 'Touran', 'California', '3C5056', '2kb cz 2',\n",
       "       'A6', '1k10e1', 'A5', '3T527Y', '1K21L3', 'TDI Basis', 'A4 Avant',\n",
       "       'Fabia Combi', '1Z5345', '5J', '^', 'A3', '1k1BT2', '36535X',\n",
       "       'Octavia TDI', '1J', '7HA162', '1K51L2', 'Ocatvia',\n",
       "       'Passat Variant', '9N30M7', 'Touran 1.4 TSI', 'Caddy', 'Focus',\n",
       "       '3C5052', 'Style Edition', '1k10g2', 'x10', '5l7', ' (6R1) BlueGT',\n",
       "       '163', 'Audi A4', 'Fox', '9N12F4', 'Audi A6 Allroad quattro',\n",
       "       'Audi Q5', 'Caddy Maxi K0 Trend 77', 'Cayenne', 'Passat', 'Golf V',\n",
       "       '2CB T19', '1,4 HybHigh 110', '6C1BNX', '518I', 'A3 Cabrio', 'Leon',\n",
       "       'D 1.2 Twinport', '7M8285', 'S-MAx', '5422b4',\n",
       "       'BlueMotion Technology 2,0l TDI', 'A3 Sportback', '9N', 'A 8 L',\n",
       "       '6R12B4', 'Coupe', 'Mii', 'DK5AU7', '7EBX41', 'AZD', '5F', '5E',\n",
       "       'Golf Variant', '5F822X', 'SGH1H9', 'Astra Sports Tourer', '8K502H',\n",
       "       '4F', '7N', '5E Octavia', 'Caddy Maxi KABasis 92 TSI SG6'], dtype=object)"
      ]
     },
     "execution_count": 82,
     "metadata": {},
     "output_type": "execute_result"
    }
   ],
   "source": [
    "tp.unique()"
   ]
  },
  {
   "cell_type": "markdown",
   "metadata": {},
   "source": [
    "## Getriebecode"
   ]
  },
  {
   "cell_type": "code",
   "execution_count": 58,
   "metadata": {
    "collapsed": false
   },
   "outputs": [],
   "source": [
    "gc = data['Getriebecode']"
   ]
  },
  {
   "cell_type": "code",
   "execution_count": 59,
   "metadata": {
    "collapsed": false
   },
   "outputs": [
    {
     "data": {
      "text/plain": [
       "24179"
      ]
     },
     "execution_count": 59,
     "metadata": {},
     "output_type": "execute_result"
    }
   ],
   "source": [
    "gc.isnull().sum()"
   ]
  },
  {
   "cell_type": "code",
   "execution_count": 60,
   "metadata": {
    "collapsed": false
   },
   "outputs": [
    {
     "data": {
      "text/plain": [
       "count     976875\n",
       "unique      2124\n",
       "top          NFU\n",
       "freq       16295\n",
       "Name: Getriebecode, dtype: object"
      ]
     },
     "execution_count": 60,
     "metadata": {},
     "output_type": "execute_result"
    }
   ],
   "source": [
    "gc.describe()"
   ]
  },
  {
   "cell_type": "code",
   "execution_count": null,
   "metadata": {
    "collapsed": true
   },
   "outputs": [],
   "source": []
  },
  {
   "cell_type": "markdown",
   "metadata": {},
   "source": [
    "## Getriebeartcode"
   ]
  },
  {
   "cell_type": "code",
   "execution_count": 61,
   "metadata": {
    "collapsed": true
   },
   "outputs": [],
   "source": [
    "gac = data['Getriebeartcode']"
   ]
  },
  {
   "cell_type": "code",
   "execution_count": 62,
   "metadata": {
    "collapsed": false
   },
   "outputs": [
    {
     "data": {
      "text/plain": [
       "1000479"
      ]
     },
     "execution_count": 62,
     "metadata": {},
     "output_type": "execute_result"
    }
   ],
   "source": [
    "gac.isnull().sum()"
   ]
  },
  {
   "cell_type": "code",
   "execution_count": 63,
   "metadata": {
    "collapsed": false
   },
   "outputs": [
    {
     "data": {
      "text/plain": [
       "count     575\n",
       "unique     14\n",
       "top       M38\n",
       "freq      385\n",
       "Name: Getriebeartcode, dtype: object"
      ]
     },
     "execution_count": 63,
     "metadata": {},
     "output_type": "execute_result"
    }
   ],
   "source": [
    "gac.describe()"
   ]
  },
  {
   "cell_type": "markdown",
   "metadata": {},
   "source": [
    "## Gewicht"
   ]
  },
  {
   "cell_type": "code",
   "execution_count": 64,
   "metadata": {
    "collapsed": true
   },
   "outputs": [],
   "source": [
    "gw = data['Gewicht']"
   ]
  },
  {
   "cell_type": "code",
   "execution_count": 65,
   "metadata": {
    "collapsed": false
   },
   "outputs": [
    {
     "data": {
      "text/plain": [
       "5664"
      ]
     },
     "execution_count": 65,
     "metadata": {},
     "output_type": "execute_result"
    }
   ],
   "source": [
    "gw.isnull().sum()"
   ]
  },
  {
   "cell_type": "code",
   "execution_count": 66,
   "metadata": {
    "collapsed": false
   },
   "outputs": [
    {
     "data": {
      "text/plain": [
       "count     995390\n",
       "unique        40\n",
       "top         0,00\n",
       "freq      978648\n",
       "Name: Gewicht, dtype: object"
      ]
     },
     "execution_count": 66,
     "metadata": {},
     "output_type": "execute_result"
    }
   ],
   "source": [
    "gw.describe()"
   ]
  },
  {
   "cell_type": "markdown",
   "metadata": {},
   "source": [
    "- 无数个零"
   ]
  },
  {
   "cell_type": "markdown",
   "metadata": {},
   "source": [
    "## Leistung (KW)\n"
   ]
  },
  {
   "cell_type": "code",
   "execution_count": 69,
   "metadata": {
    "collapsed": false
   },
   "outputs": [],
   "source": [
    "ls = data['Leistung (KW)']"
   ]
  },
  {
   "cell_type": "code",
   "execution_count": 70,
   "metadata": {
    "collapsed": false
   },
   "outputs": [
    {
     "data": {
      "text/plain": [
       "5664"
      ]
     },
     "execution_count": 70,
     "metadata": {},
     "output_type": "execute_result"
    }
   ],
   "source": [
    "ls.isnull().sum()"
   ]
  },
  {
   "cell_type": "code",
   "execution_count": 71,
   "metadata": {
    "collapsed": false
   },
   "outputs": [
    {
     "data": {
      "text/plain": [
       "count    995390.000000\n",
       "mean         35.580716\n",
       "std          56.387796\n",
       "min           0.000000\n",
       "25%           0.000000\n",
       "50%           0.000000\n",
       "75%          75.000000\n",
       "max        1258.000000\n",
       "Name: Leistung (KW), dtype: float64"
      ]
     },
     "execution_count": 71,
     "metadata": {},
     "output_type": "execute_result"
    }
   ],
   "source": [
    "ls.describe()"
   ]
  },
  {
   "cell_type": "markdown",
   "metadata": {},
   "source": [
    "- 大量为0"
   ]
  },
  {
   "cell_type": "markdown",
   "metadata": {},
   "source": [
    "## Erstzulassungsdatum"
   ]
  },
  {
   "cell_type": "code",
   "execution_count": 72,
   "metadata": {
    "collapsed": true
   },
   "outputs": [],
   "source": [
    "ed = data['Erstzulassungsdatum']"
   ]
  },
  {
   "cell_type": "code",
   "execution_count": 73,
   "metadata": {
    "collapsed": false
   },
   "outputs": [
    {
     "data": {
      "text/plain": [
       "5664"
      ]
     },
     "execution_count": 73,
     "metadata": {},
     "output_type": "execute_result"
    }
   ],
   "source": [
    "ed.isnull().sum()"
   ]
  },
  {
   "cell_type": "code",
   "execution_count": 74,
   "metadata": {
    "collapsed": false
   },
   "outputs": [
    {
     "data": {
      "text/plain": [
       "count         995390\n",
       "unique          4723\n",
       "top       01.01.1753\n",
       "freq            6396\n",
       "Name: Erstzulassungsdatum, dtype: object"
      ]
     },
     "execution_count": 74,
     "metadata": {},
     "output_type": "execute_result"
    }
   ],
   "source": [
    "ed.describe()"
   ]
  },
  {
   "cell_type": "markdown",
   "metadata": {},
   "source": [
    "- 不知道指的是什么"
   ]
  },
  {
   "cell_type": "markdown",
   "metadata": {},
   "source": [
    "## Neuwagen"
   ]
  },
  {
   "cell_type": "code",
   "execution_count": 75,
   "metadata": {
    "collapsed": true
   },
   "outputs": [],
   "source": [
    "nw = data['Neuwagen']"
   ]
  },
  {
   "cell_type": "code",
   "execution_count": 76,
   "metadata": {
    "collapsed": false
   },
   "outputs": [
    {
     "data": {
      "text/plain": [
       "429342"
      ]
     },
     "execution_count": 76,
     "metadata": {},
     "output_type": "execute_result"
    }
   ],
   "source": [
    "nw.isnull().sum()"
   ]
  },
  {
   "cell_type": "code",
   "execution_count": 77,
   "metadata": {
    "collapsed": false
   },
   "outputs": [
    {
     "data": {
      "text/plain": [
       "count                   571712\n",
       "unique                       1\n",
       "top       als Neuwagen bezogen\n",
       "freq                    571712\n",
       "Name: Neuwagen, dtype: object"
      ]
     },
     "execution_count": 77,
     "metadata": {},
     "output_type": "execute_result"
    }
   ],
   "source": [
    "nw.describe()"
   ]
  },
  {
   "cell_type": "markdown",
   "metadata": {},
   "source": [
    "- 估计没写的就不是新车"
   ]
  },
  {
   "cell_type": "code",
   "execution_count": null,
   "metadata": {
    "collapsed": false
   },
   "outputs": [],
   "source": []
  },
  {
   "cell_type": "code",
   "execution_count": null,
   "metadata": {
    "collapsed": false
   },
   "outputs": [],
   "source": []
  },
  {
   "cell_type": "code",
   "execution_count": null,
   "metadata": {
    "collapsed": true
   },
   "outputs": [],
   "source": []
  }
 ],
 "metadata": {
  "kernelspec": {
   "display_name": "data_mining",
   "language": "python",
   "name": "data_mining"
  },
  "language_info": {
   "codemirror_mode": {
    "name": "ipython",
    "version": 3
   },
   "file_extension": ".py",
   "mimetype": "text/x-python",
   "name": "python",
   "nbconvert_exporter": "python",
   "pygments_lexer": "ipython3",
   "version": "3.6.5"
  }
 },
 "nbformat": 4,
 "nbformat_minor": 2
}
