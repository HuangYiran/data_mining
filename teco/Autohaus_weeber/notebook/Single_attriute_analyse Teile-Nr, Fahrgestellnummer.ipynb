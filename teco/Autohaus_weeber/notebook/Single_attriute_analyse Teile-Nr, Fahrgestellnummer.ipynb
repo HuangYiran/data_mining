{
 "cells": [
  {
   "cell_type": "code",
   "execution_count": 178,
   "metadata": {
    "collapsed": false
   },
   "outputs": [],
   "source": [
    "# load package\n",
    "# string \n",
    "import re\n",
    "\n",
    "# math\n",
    "import pandas as pd\n",
    "import numpy as np\n",
    "import scipy as sp\n",
    "import random\n",
    "\n",
    "# sys\n",
    "import sys\n",
    "import os\n",
    "import time\n",
    "import warnings\n",
    "\n",
    "# nlp\n",
    "from pattern.de import parse, conjugate, singularize, pluralize\n",
    "\n",
    "# machine learning\n",
    "from sklearn import svm, tree, linear_model, neighbors, naive_bayes, ensemble, gaussian_process, discriminant_analysis\n",
    "from xgboost import XGBClassifier\n",
    "\n",
    "# model utils\n",
    "from sklearn.preprocessing import OneHotEncoder, LabelEncoder\n",
    "from sklearn import feature_selection \n",
    "from sklearn import model_selection\n",
    "from sklearn import metrics\n",
    "\n",
    "# plot\n",
    "import matplotlib as mpl\n",
    "import matplotlib.pyplot as plt\n",
    "import matplotlib.pylab as pylab\n",
    "import seaborn as sns\n",
    "from pandas.tools.plotting import scatter_matrix #??\n",
    "# = show plots in Jupyter Notebook browser\n",
    "%matplotlib inline \n",
    "mpl.style.use('ggplot') #??\n",
    "sns.set_style('white')\n",
    "pylab.rcParams['figure.figsize'] = 12,8 #??\n",
    "\n",
    "# show all columns\n",
    "from IPython.display import display\n",
    "pd.options.display.max_columns = None\n",
    "\n",
    "# memory manage\n",
    "import gc\n",
    "\n",
    "# other\n",
    "import tqdm as tqdm\n",
    "\n",
    "# self define\n",
    "sys.path.append('../../utils/')"
   ]
  },
  {
   "cell_type": "code",
   "execution_count": 179,
   "metadata": {
    "collapsed": false
   },
   "outputs": [
    {
     "name": "stderr",
     "output_type": "stream",
     "text": [
      "/Users/ihuangyiran/anaconda2/envs/data_mining/lib/python3.6/site-packages/IPython/core/interactiveshell.py:2785: DtypeWarning: Columns (15) have mixed types. Specify dtype option on import or set low_memory=False.\n",
      "  interactivity=interactivity, compiler=compiler, result=result)\n",
      "/Users/ihuangyiran/anaconda2/envs/data_mining/lib/python3.6/site-packages/IPython/core/interactiveshell.py:2785: DtypeWarning: Columns (1,15) have mixed types. Specify dtype option on import or set low_memory=False.\n",
      "  interactivity=interactivity, compiler=compiler, result=result)\n"
     ]
    }
   ],
   "source": [
    "# read files\n",
    "lb_wsp_2014 = pd.read_csv('../data/Autohaus_weeber/leonberg_werkstattposten_2014.csv', sep = ';')\n",
    "lb_wsp_2015 = pd.read_csv('../data/Autohaus_weeber/leonberg_werkstattposten_2015.csv', sep = ';')\n",
    "lb_wsp_2016 = pd.read_csv('../data/Autohaus_weeber/leonberg_werkstattposten_2016.csv', sep = ';')\n",
    "lb_wsp_2017 = pd.read_csv('../data/Autohaus_weeber/leonberg_werkstattposten_2017.csv', sep = ';')\n",
    "lb_wsp_2018 = pd.read_csv('../data/Autohaus_weeber/leonberg_werkstattposten_2018.csv', sep = ';')\n",
    "std_wsp_2014 = pd.read_csv('../data/Autohaus_weeber/weil_der_stadt_werkstattposten_2014.csv', sep = ';')\n",
    "std_wsp_2015 = pd.read_csv('../data/Autohaus_weeber/weil_der_stadt_werkstattposten_2015.csv', sep = ';')\n",
    "std_wsp_2016 = pd.read_csv('../data/Autohaus_weeber/weil_der_stadt_werkstattposten_2016.csv', sep = ';')\n",
    "std_wsp_2017 = pd.read_csv('../data/Autohaus_weeber/weil_der_stadt_werkstattposten_2017.csv', sep = ';')\n",
    "std_wsp_2018 = pd.read_csv('../data/Autohaus_weeber/weil_der_stadt_werkstattposten_2018.csv', sep = ';')\n",
    "# cat\n",
    "d1 = lb_wsp_2014.copy()\n",
    "d2 = lb_wsp_2015.copy()\n",
    "d3 = lb_wsp_2016.copy()\n",
    "d4 = lb_wsp_2017.copy()\n",
    "d5 = lb_wsp_2018.copy()\n",
    "\n",
    "d6 = std_wsp_2014.copy()\n",
    "d7 = std_wsp_2015.copy()\n",
    "d8 = std_wsp_2016.copy()\n",
    "d9 = std_wsp_2017.copy()\n",
    "d10 = std_wsp_2018.copy()"
   ]
  },
  {
   "cell_type": "code",
   "execution_count": 183,
   "metadata": {
    "collapsed": false
   },
   "outputs": [],
   "source": [
    "# for training we use data from 14 - 17 in lb_wsp\n",
    "train1 = pd.concat([d1,d2,d3,d4,d5], 0)\n",
    "train2 = pd.concat([d6,d7,d8,d9,d10], 0)\n",
    "train1['Autohaus'] = 'leonberg'\n",
    "train2['Autohaus'] = 'weil'\n",
    "#train = pd.concat([train1, train2], 0)\n",
    "train = train1.copy()"
   ]
  },
  {
   "cell_type": "code",
   "execution_count": 4,
   "metadata": {
    "collapsed": false
   },
   "outputs": [
    {
     "data": {
      "text/plain": [
       "25"
      ]
     },
     "execution_count": 4,
     "metadata": {},
     "output_type": "execute_result"
    }
   ],
   "source": [
    "del d1,d2,d3,d4,d5, d6,d7,d8,d9,d10, train1, train2\n",
    "gc.collect()"
   ]
  },
  {
   "cell_type": "code",
   "execution_count": 5,
   "metadata": {
    "collapsed": true
   },
   "outputs": [],
   "source": [
    "# 转化为auftrag table， 但是这次合并的是Teile-Nr项\n",
    "# 给的数据的每一行都是一个维修项，初衷是，把属于同一个auftrag的维修项合并到一起，看一下，在同一个Auftrag中，经常一起修的是那些内容\n",
    "\n",
    "def toAuftragTable(df, att, auftn, clean = True):\n",
    "    \"\"\"\n",
    "    input:\n",
    "        df, DataFrame:\n",
    "            the dataframe\n",
    "        att, string:\n",
    "            the column name of the target attribute\n",
    "        auftn, string:\n",
    "            the column name of the aftragsnummer attribute\n",
    "        clean:\n",
    "            when true, drop the null item in auftn attribute.\n",
    "    output:\n",
    "        df_g, DataFrame:\n",
    "            dataframe contrains two columns auftn and att\n",
    "            type of item in att is string, separate with ';'\n",
    "    \"\"\"\n",
    "    # assert: make sure the type of the attributes inputted\n",
    "    \n",
    "    # extract the att and date columns\n",
    "    df = df[[att, auftn]]\n",
    "    # set type to object\n",
    "    #df[att] = df[att].astype('object')\n",
    "    #df[auftn] = df[auftn].astype('object')\n",
    "    # if clean is True, drop the fake data, like the null data\n",
    "    if clean:\n",
    "        print(\"Falls Null date exist, drop these dates directly\")\n",
    "        #df = df.drop(df[df[att].isnull()].index)\n",
    "        df = df.drop(df[df[auftn].isnull()].index)\n",
    "    # group and sum \n",
    "    df_g = df.groupby([auftn], as_index = False).apply(agg)\n",
    "    return df_g\n",
    "\n",
    "# apply 只能对单行进行处理，而不是对整个分组进行处理，所以估计应该把axis换成1，比较好\n",
    "def agg(x):\n",
    "    # 是否用‘ ’分隔会比较好，这样就不用对初始的属性，\n",
    "    # x 在这里是dataframe？？？\n",
    "    #x = [str(i) for i in x]\n",
    "    x = x.apply(lambda x: ';'.join(set([str(i) for i in x])), axis = 0)\n",
    "    #x = x.apply(lambda x: ' '.join(set(x)), axis = 0)\n",
    "    #print(x.columns.values)\n",
    "    return x"
   ]
  },
  {
   "cell_type": "code",
   "execution_count": 6,
   "metadata": {
    "collapsed": false
   },
   "outputs": [
    {
     "name": "stdout",
     "output_type": "stream",
     "text": [
      "Falls Null date exist, drop these dates directly\n"
     ]
    }
   ],
   "source": [
    "df = toAuftragTable(train, 'Teile-Nr', 'Auftragsnummer')"
   ]
  },
  {
   "cell_type": "code",
   "execution_count": 7,
   "metadata": {
    "collapsed": true
   },
   "outputs": [],
   "source": [
    "df = df.copy()"
   ]
  },
  {
   "cell_type": "code",
   "execution_count": 8,
   "metadata": {
    "collapsed": false
   },
   "outputs": [],
   "source": [
    "# remove wierd auftragsnummer\n",
    "df = df.drop(df[df['Auftragsnummer'] == '103K'].index)\n",
    "df = df.drop(df[df['Auftragsnummer'] == '77KW'].index)\n",
    "df = df.drop(df[df['Auftragsnummer'] == '110KW 2.0 '].index)\n",
    "df = df.drop(df[df['Auftragsnummer'] == '75KW'].index)"
   ]
  },
  {
   "cell_type": "code",
   "execution_count": 9,
   "metadata": {
    "collapsed": false
   },
   "outputs": [],
   "source": [
    "# merget the data original dataframe to df\n",
    "df_sel = train[['Auftragsnummer', 'KM-Stand', 'Auftragsdatum', 'Markencode', 'Lagerortcode', 'Adressanredecode', 'Fahrgestellnummer', 'Motorcode', 'Modell', 'Getriebecode']]\n",
    "df_sel = df_sel.drop_duplicates()\n",
    "df = pd.merge(df, df_sel, how = 'left', on = 'Auftragsnummer')"
   ]
  },
  {
   "cell_type": "code",
   "execution_count": 10,
   "metadata": {
    "collapsed": false
   },
   "outputs": [
    {
     "data": {
      "text/plain": [
       "138"
      ]
     },
     "execution_count": 10,
     "metadata": {},
     "output_type": "execute_result"
    }
   ],
   "source": [
    "del train\n",
    "gc.collect()"
   ]
  },
  {
   "cell_type": "markdown",
   "metadata": {},
   "source": [
    "## calcutelate the frequent of each Fahrgestellnummer"
   ]
  },
  {
   "cell_type": "markdown",
   "metadata": {},
   "source": [
    "- 可以很成一个方法，就是专门用来看频率的"
   ]
  },
  {
   "cell_type": "code",
   "execution_count": 85,
   "metadata": {
    "collapsed": false
   },
   "outputs": [],
   "source": [
    "df['year'] = df['Auftragsdatum'].map(lambda x: x[6:])"
   ]
  },
  {
   "cell_type": "code",
   "execution_count": 86,
   "metadata": {
    "collapsed": false
   },
   "outputs": [
    {
     "data": {
      "text/plain": [
       "array(['2018', '2014', '2013', '2015', '2016', '2017', '1753'], dtype=object)"
      ]
     },
     "execution_count": 86,
     "metadata": {},
     "output_type": "execute_result"
    }
   ],
   "source": [
    "df['year'].unique()"
   ]
  },
  {
   "cell_type": "code",
   "execution_count": 87,
   "metadata": {
    "collapsed": false
   },
   "outputs": [],
   "source": [
    "df_14 = df.loc[df['year'] == '2014', ]\n",
    "df_15 = df.loc[df['year'] == '2015', ]\n",
    "df_16 = df.loc[df['year'] == '2016', ]\n",
    "df_17 = df.loc[df['year'] == '2017', ]\n",
    "df_18 = df.loc[df['year'] == '2018', ]"
   ]
  },
  {
   "cell_type": "code",
   "execution_count": 88,
   "metadata": {
    "collapsed": false
   },
   "outputs": [],
   "source": [
    "# get the count of Fahrgestellnummer for year 2014\n",
    "def get_count_for_Fahrgestellnummer(df, name = '2014'):\n",
    "    tmp = df[['Fahrgestellnummer']]\n",
    "    tmp['count'] = 1\n",
    "    tmp = tmp.groupby('Fahrgestellnummer', as_index = False).count()\n",
    "    fi = sns.countplot('count', data = tmp)\n",
    "    fi.set_xlabel('frequent in '+str(name))\n",
    "    return tmp"
   ]
  },
  {
   "cell_type": "code",
   "execution_count": 135,
   "metadata": {
    "collapsed": false
   },
   "outputs": [],
   "source": [
    "def get_count_for_frequent(df, year = 2014, top = 5):\n",
    "    tmp = df[['Fahrgestellnummer']]\n",
    "    tmp['frequent'] = 1\n",
    "    tmp = tmp.groupby('Fahrgestellnummer', as_index = False).count()\n",
    "    tmp = tmp[['frequent']]\n",
    "    tmp['count'] = 1\n",
    "    tmp = tmp.groupby('frequent', as_index = False).count()\n",
    "    #plt.plot(tmp)\n",
    "    tmp['year'] = year\n",
    "    rest = pd.DataFrame({'frequent':['>5'], 'count':[tmp[tmp['frequent']> top]['count'].sum()], 'year':[year]})\n",
    "    tmp = tmp[tmp['frequent']<= top].append(rest)\n",
    "    tmp['count'] = tmp['count']/tmp['count'].sum()\n",
    "    return tmp"
   ]
  },
  {
   "cell_type": "code",
   "execution_count": 136,
   "metadata": {
    "collapsed": false
   },
   "outputs": [
    {
     "name": "stderr",
     "output_type": "stream",
     "text": [
      "/Users/ihuangyiran/anaconda2/envs/data_mining/lib/python3.6/site-packages/ipykernel_launcher.py:3: SettingWithCopyWarning: \n",
      "A value is trying to be set on a copy of a slice from a DataFrame.\n",
      "Try using .loc[row_indexer,col_indexer] = value instead\n",
      "\n",
      "See the caveats in the documentation: http://pandas.pydata.org/pandas-docs/stable/indexing.html#indexing-view-versus-copy\n",
      "  This is separate from the ipykernel package so we can avoid doing imports until\n"
     ]
    },
    {
     "data": {
      "text/plain": [
       "<function gc.collect>"
      ]
     },
     "execution_count": 136,
     "metadata": {},
     "output_type": "execute_result"
    }
   ],
   "source": [
    "t_14 = get_count_for_frequent(df_14)\n",
    "t_15 = get_count_for_frequent(df_15, 2015)\n",
    "t_16 = get_count_for_frequent(df_16, 2016)\n",
    "t_17 = get_count_for_frequent(df_17, 2017)\n",
    "t_18 = get_count_for_frequent(df_18, 2018)\n",
    "tmp = pd.concat([t_14,t_15,t_16,t_17,t_18], 0)\n",
    "del t_14, t_15, t_16, t_17, t_18\n",
    "gc.collect"
   ]
  },
  {
   "cell_type": "code",
   "execution_count": 138,
   "metadata": {
    "collapsed": false
   },
   "outputs": [
    {
     "data": {
      "text/plain": [
       "<matplotlib.legend.Legend at 0x1a4e99b080>"
      ]
     },
     "execution_count": 138,
     "metadata": {},
     "output_type": "execute_result"
    },
    {
     "data": {
      "image/png": "[encoded data removed]",
      "text/plain": [
       "<Figure size 1440x576 with 1 Axes>"
      ]
     },
     "metadata": {},
     "output_type": "display_data"
    }
   ],
   "source": [
    "f, ax = plt.subplots(figsize = (20, 8))\n",
    "sns.barplot(x = 'frequent', y='count',hue='year', data=tmp)\n",
    "ax.set_ylabel('propotion', fontsize=20, color='r')\n",
    "ax.set_xlabel('Frequent', fontsize=20, color='b')\n",
    "#ax.set_yticklabels(ax.get_yticklabels(), fontsize = 20)\n",
    "ax.set_xticklabels(ax.get_xticklabels(), fontsize = 20)\n",
    "#ax.set_title('Leonberg', fontsize=22, position=(0.5,1.05))\n",
    "plt.legend(loc = \"upper right\")"
   ]
  },
  {
   "cell_type": "code",
   "execution_count": 130,
   "metadata": {
    "collapsed": false,
    "scrolled": true
   },
   "outputs": [
    {
     "data": {
      "text/html": [
       "<div>\n",
       "<style scoped>\n",
       "    .dataframe tbody tr th:only-of-type {\n",
       "        vertical-align: middle;\n",
       "    }\n",
       "\n",
       "    .dataframe tbody tr th {\n",
       "        vertical-align: top;\n",
       "    }\n",
       "\n",
       "    .dataframe thead th {\n",
       "        text-align: right;\n",
       "    }\n",
       "</style>\n",
       "<table border=\"1\" class=\"dataframe\">\n",
       "  <thead>\n",
       "    <tr style=\"text-align: right;\">\n",
       "      <th></th>\n",
       "      <th>count</th>\n",
       "      <th>frequent</th>\n",
       "      <th>year</th>\n",
       "    </tr>\n",
       "  </thead>\n",
       "  <tbody>\n",
       "    <tr>\n",
       "      <th>0</th>\n",
       "      <td>4647</td>\n",
       "      <td>1</td>\n",
       "      <td>2014</td>\n",
       "    </tr>\n",
       "    <tr>\n",
       "      <th>1</th>\n",
       "      <td>2765</td>\n",
       "      <td>2</td>\n",
       "      <td>2014</td>\n",
       "    </tr>\n",
       "    <tr>\n",
       "      <th>2</th>\n",
       "      <td>1368</td>\n",
       "      <td>3</td>\n",
       "      <td>2014</td>\n",
       "    </tr>\n",
       "    <tr>\n",
       "      <th>3</th>\n",
       "      <td>721</td>\n",
       "      <td>4</td>\n",
       "      <td>2014</td>\n",
       "    </tr>\n",
       "    <tr>\n",
       "      <th>4</th>\n",
       "      <td>355</td>\n",
       "      <td>5</td>\n",
       "      <td>2014</td>\n",
       "    </tr>\n",
       "    <tr>\n",
       "      <th>0</th>\n",
       "      <td>337</td>\n",
       "      <td>&gt;5</td>\n",
       "      <td>2014</td>\n",
       "    </tr>\n",
       "    <tr>\n",
       "      <th>0</th>\n",
       "      <td>5027</td>\n",
       "      <td>1</td>\n",
       "      <td>2015</td>\n",
       "    </tr>\n",
       "    <tr>\n",
       "      <th>1</th>\n",
       "      <td>2565</td>\n",
       "      <td>2</td>\n",
       "      <td>2015</td>\n",
       "    </tr>\n",
       "    <tr>\n",
       "      <th>2</th>\n",
       "      <td>1303</td>\n",
       "      <td>3</td>\n",
       "      <td>2015</td>\n",
       "    </tr>\n",
       "    <tr>\n",
       "      <th>3</th>\n",
       "      <td>631</td>\n",
       "      <td>4</td>\n",
       "      <td>2015</td>\n",
       "    </tr>\n",
       "    <tr>\n",
       "      <th>4</th>\n",
       "      <td>315</td>\n",
       "      <td>5</td>\n",
       "      <td>2015</td>\n",
       "    </tr>\n",
       "    <tr>\n",
       "      <th>0</th>\n",
       "      <td>239</td>\n",
       "      <td>&gt;5</td>\n",
       "      <td>2015</td>\n",
       "    </tr>\n",
       "    <tr>\n",
       "      <th>0</th>\n",
       "      <td>4963</td>\n",
       "      <td>1</td>\n",
       "      <td>2016</td>\n",
       "    </tr>\n",
       "    <tr>\n",
       "      <th>1</th>\n",
       "      <td>2589</td>\n",
       "      <td>2</td>\n",
       "      <td>2016</td>\n",
       "    </tr>\n",
       "    <tr>\n",
       "      <th>2</th>\n",
       "      <td>1332</td>\n",
       "      <td>3</td>\n",
       "      <td>2016</td>\n",
       "    </tr>\n",
       "    <tr>\n",
       "      <th>3</th>\n",
       "      <td>749</td>\n",
       "      <td>4</td>\n",
       "      <td>2016</td>\n",
       "    </tr>\n",
       "    <tr>\n",
       "      <th>4</th>\n",
       "      <td>428</td>\n",
       "      <td>5</td>\n",
       "      <td>2016</td>\n",
       "    </tr>\n",
       "    <tr>\n",
       "      <th>0</th>\n",
       "      <td>338</td>\n",
       "      <td>&gt;5</td>\n",
       "      <td>2016</td>\n",
       "    </tr>\n",
       "    <tr>\n",
       "      <th>0</th>\n",
       "      <td>5199</td>\n",
       "      <td>1</td>\n",
       "      <td>2017</td>\n",
       "    </tr>\n",
       "    <tr>\n",
       "      <th>1</th>\n",
       "      <td>2862</td>\n",
       "      <td>2</td>\n",
       "      <td>2017</td>\n",
       "    </tr>\n",
       "    <tr>\n",
       "      <th>2</th>\n",
       "      <td>1452</td>\n",
       "      <td>3</td>\n",
       "      <td>2017</td>\n",
       "    </tr>\n",
       "    <tr>\n",
       "      <th>3</th>\n",
       "      <td>733</td>\n",
       "      <td>4</td>\n",
       "      <td>2017</td>\n",
       "    </tr>\n",
       "    <tr>\n",
       "      <th>4</th>\n",
       "      <td>370</td>\n",
       "      <td>5</td>\n",
       "      <td>2017</td>\n",
       "    </tr>\n",
       "    <tr>\n",
       "      <th>0</th>\n",
       "      <td>340</td>\n",
       "      <td>&gt;5</td>\n",
       "      <td>2017</td>\n",
       "    </tr>\n",
       "    <tr>\n",
       "      <th>0</th>\n",
       "      <td>4512</td>\n",
       "      <td>1</td>\n",
       "      <td>2018</td>\n",
       "    </tr>\n",
       "    <tr>\n",
       "      <th>1</th>\n",
       "      <td>2058</td>\n",
       "      <td>2</td>\n",
       "      <td>2018</td>\n",
       "    </tr>\n",
       "    <tr>\n",
       "      <th>2</th>\n",
       "      <td>716</td>\n",
       "      <td>3</td>\n",
       "      <td>2018</td>\n",
       "    </tr>\n",
       "    <tr>\n",
       "      <th>3</th>\n",
       "      <td>254</td>\n",
       "      <td>4</td>\n",
       "      <td>2018</td>\n",
       "    </tr>\n",
       "    <tr>\n",
       "      <th>4</th>\n",
       "      <td>94</td>\n",
       "      <td>5</td>\n",
       "      <td>2018</td>\n",
       "    </tr>\n",
       "    <tr>\n",
       "      <th>0</th>\n",
       "      <td>39</td>\n",
       "      <td>&gt;5</td>\n",
       "      <td>2018</td>\n",
       "    </tr>\n",
       "  </tbody>\n",
       "</table>\n",
       "</div>"
      ],
      "text/plain": [
       "   count frequent  year\n",
       "0   4647        1  2014\n",
       "1   2765        2  2014\n",
       "2   1368        3  2014\n",
       "3    721        4  2014\n",
       "4    355        5  2014\n",
       "0    337       >5  2014\n",
       "0   5027        1  2015\n",
       "1   2565        2  2015\n",
       "2   1303        3  2015\n",
       "3    631        4  2015\n",
       "4    315        5  2015\n",
       "0    239       >5  2015\n",
       "0   4963        1  2016\n",
       "1   2589        2  2016\n",
       "2   1332        3  2016\n",
       "3    749        4  2016\n",
       "4    428        5  2016\n",
       "0    338       >5  2016\n",
       "0   5199        1  2017\n",
       "1   2862        2  2017\n",
       "2   1452        3  2017\n",
       "3    733        4  2017\n",
       "4    370        5  2017\n",
       "0    340       >5  2017\n",
       "0   4512        1  2018\n",
       "1   2058        2  2018\n",
       "2    716        3  2018\n",
       "3    254        4  2018\n",
       "4     94        5  2018\n",
       "0     39       >5  2018"
      ]
     },
     "execution_count": 130,
     "metadata": {},
     "output_type": "execute_result"
    }
   ],
   "source": [
    "tmp"
   ]
  },
  {
   "cell_type": "code",
   "execution_count": 103,
   "metadata": {
    "collapsed": false
   },
   "outputs": [
    {
     "data": {
      "text/html": [
       "<div>\n",
       "<style scoped>\n",
       "    .dataframe tbody tr th:only-of-type {\n",
       "        vertical-align: middle;\n",
       "    }\n",
       "\n",
       "    .dataframe tbody tr th {\n",
       "        vertical-align: top;\n",
       "    }\n",
       "\n",
       "    .dataframe thead th {\n",
       "        text-align: right;\n",
       "    }\n",
       "</style>\n",
       "<table border=\"1\" class=\"dataframe\">\n",
       "  <thead>\n",
       "    <tr style=\"text-align: right;\">\n",
       "      <th></th>\n",
       "      <th>count</th>\n",
       "      <th>frequent</th>\n",
       "      <th>year</th>\n",
       "    </tr>\n",
       "  </thead>\n",
       "  <tbody>\n",
       "    <tr>\n",
       "      <th>0</th>\n",
       "      <td>33</td>\n",
       "      <td>&gt;5</td>\n",
       "      <td>2013</td>\n",
       "    </tr>\n",
       "  </tbody>\n",
       "</table>\n",
       "</div>"
      ],
      "text/plain": [
       "   count frequent  year\n",
       "0     33       >5  2013"
      ]
     },
     "execution_count": 103,
     "metadata": {},
     "output_type": "execute_result"
    }
   ],
   "source": [
    "pd.DataFrame({'frequent':['>5'], 'count':[33], 'year':[2013]})"
   ]
  },
  {
   "cell_type": "code",
   "execution_count": 30,
   "metadata": {
    "collapsed": false
   },
   "outputs": [
    {
     "data": {
      "text/plain": [
       "<seaborn.axisgrid.FacetGrid at 0x1a765eceb8>"
      ]
     },
     "execution_count": 30,
     "metadata": {},
     "output_type": "execute_result"
    },
    {
     "data": {
      "image/png": "[encoded data removed]",
      "text/plain": [
       "<Figure size 418.375x360 with 1 Axes>"
      ]
     },
     "metadata": {},
     "output_type": "display_data"
    }
   ],
   "source": [
    "sns.lmplot(x = 'frequent', y='count',hue='year', data=tmp,fit_reg = False)"
   ]
  },
  {
   "cell_type": "code",
   "execution_count": 18,
   "metadata": {
    "collapsed": false
   },
   "outputs": [
    {
     "data": {
      "text/plain": [
       "26"
      ]
     },
     "execution_count": 18,
     "metadata": {},
     "output_type": "execute_result"
    }
   ],
   "source": [
    "del tmp\n",
    "gc.collect()"
   ]
  },
  {
   "cell_type": "markdown",
   "metadata": {},
   "source": [
    "## 把每年出现次数大于一定阈值的顾客称为回头客，分析回头客和非回头客维修方向有什么不同"
   ]
  },
  {
   "cell_type": "code",
   "execution_count": 11,
   "metadata": {
    "collapsed": true
   },
   "outputs": [],
   "source": [
    "#TODO\n",
    "def get_frequent_customer(df, th = 5):\n",
    "    tmp = df[['Fahrgestellnummer']]\n",
    "    tmp['count'] = 1\n",
    "    tmp = tmp.groupby('Fahrgestellnummer', as_index = False).count()\n",
    "    tmp['is_frequent'] = tmp['count'] > th\n",
    "    tmp = pd.merge(df, tmp, on = 'Fahrgestellnummer', how = 'left')\n",
    "    return tmp"
   ]
  },
  {
   "cell_type": "code",
   "execution_count": 14,
   "metadata": {
    "collapsed": false
   },
   "outputs": [
    {
     "name": "stderr",
     "output_type": "stream",
     "text": [
      "/Users/ihuangyiran/anaconda2/envs/data_mining/lib/python3.6/site-packages/ipykernel_launcher.py:4: SettingWithCopyWarning: \n",
      "A value is trying to be set on a copy of a slice from a DataFrame.\n",
      "Try using .loc[row_indexer,col_indexer] = value instead\n",
      "\n",
      "See the caveats in the documentation: http://pandas.pydata.org/pandas-docs/stable/indexing.html#indexing-view-versus-copy\n",
      "  after removing the cwd from sys.path.\n"
     ]
    }
   ],
   "source": [
    "tmp = get_frequent_customer(df, 12)"
   ]
  },
  {
   "cell_type": "code",
   "execution_count": 43,
   "metadata": {
    "collapsed": false
   },
   "outputs": [
    {
     "data": {
      "text/plain": [
       "False    80394\n",
       "True     17119\n",
       "Name: is_frequent, dtype: int64"
      ]
     },
     "execution_count": 43,
     "metadata": {},
     "output_type": "execute_result"
    }
   ],
   "source": [
    "tmp['is_frequent'].value_counts()"
   ]
  },
  {
   "cell_type": "code",
   "execution_count": 16,
   "metadata": {
    "collapsed": false
   },
   "outputs": [],
   "source": [
    "tmp = tmp.drop(tmp[tmp['is_frequent'].isna()].index, axis=0)"
   ]
  },
  {
   "cell_type": "code",
   "execution_count": 44,
   "metadata": {
    "collapsed": false
   },
   "outputs": [],
   "source": [
    "fre = tmp[tmp['is_frequent']]\n",
    "nf = tmp[tmp['is_frequent'].map(lambda x: not x)].sample(n = 17119)"
   ]
  },
  {
   "cell_type": "code",
   "execution_count": 45,
   "metadata": {
    "collapsed": false
   },
   "outputs": [],
   "source": [
    "fre['Teile-Nr'].to_csv('/tmp/tmp.csv', sep = ';', index = False)\n",
    "dic1 = FreDict('/tmp/tmp.csv', header = True, sep = ';', clean = True, recover = True, singular = False)"
   ]
  },
  {
   "cell_type": "code",
   "execution_count": 46,
   "metadata": {
    "collapsed": false
   },
   "outputs": [],
   "source": [
    "nf['Teile-Nr'].to_csv('/tmp/tmp.csv', sep = ';', index = False)\n",
    "dic2 = FreDict('/tmp/tmp.csv', header = True, sep = ';', clean = True, recover = True, singular = False)"
   ]
  },
  {
   "cell_type": "code",
   "execution_count": 47,
   "metadata": {
    "collapsed": false
   },
   "outputs": [
    {
     "data": {
      "text/plain": [
       "1.6666666666666667"
      ]
     },
     "execution_count": 47,
     "metadata": {},
     "output_type": "execute_result"
    }
   ],
   "source": [
    "A = [i[0] for i in dic1.top(20)]\n",
    "B = [i[0] for i in dic2.top(20)]\n",
    "C = set(A + B)\n",
    "dis = len(C)/(len(A) + len(B) - len(C))\n",
    "dis"
   ]
  },
  {
   "cell_type": "code",
   "execution_count": 12,
   "metadata": {
    "collapsed": false
   },
   "outputs": [],
   "source": [
    "def get_distance(df, th = 10):\n",
    "    tmp = get_frequent_customer(df, th)\n",
    "    tmp = tmp.drop(tmp[tmp['is_frequent'].isna()].index, axis=0)\n",
    "    fre = tmp[tmp['is_frequent']]\n",
    "    nf = tmp[tmp['is_frequent'].map(lambda x: not x)]\n",
    "    fre['Teile-Nr'].to_csv('/tmp/tmp.csv', sep = ';', index = False)\n",
    "    dic1 = FreDict('/tmp/tmp.csv', header = True, sep = ';', clean = True, recover = True, singular = False)\n",
    "    nf['Teile-Nr'].to_csv('/tmp/tmp.csv', sep = ';', index = False)\n",
    "    dic2 = FreDict('/tmp/tmp.csv', header = True, sep = ';', clean = True, recover = True, singular = False)\n",
    "    A = [i[0] for i in dic1.top(20)]\n",
    "    B = [i[0] for i in dic2.top(20)]\n",
    "    C = set(A + B)\n",
    "    dis = len(C)/(len(A) + len(B) - len(C))\n",
    "    print('############')\n",
    "    print('th = ' +str(th) +' => dis = ' + str(dis))\n",
    "    print('len(A):' + str(len(A)))\n",
    "    print('len(B):' + str(len(B)))\n",
    "    print('len(C):' + str(len(C)))\n",
    "    print('A', A)\n",
    "    print('B', B)\n",
    "    del tmp, fre, nf, dic1, dic2\n",
    "    gc.collect()\n",
    "    return dis"
   ]
  },
  {
   "cell_type": "code",
   "execution_count": null,
   "metadata": {
    "collapsed": false
   },
   "outputs": [],
   "source": [
    "#for i in range(1,20):\n",
    "#    get_distance(df, i)"
   ]
  },
  {
   "cell_type": "code",
   "execution_count": 164,
   "metadata": {
    "collapsed": false
   },
   "outputs": [
    {
     "name": "stdout",
     "output_type": "stream",
     "text": [
      "############\n",
      "th = 1 => dis = 1.5\n",
      "len(A):20\n",
      "len(B):20\n",
      "A ['nan', '90813202', 'SKN', '000DS', '052164DS', 'OEL02', 'WHT000729A', 'ZZ', '10648301', 'W-AG-EM', '000010006', '03L115562', '1K1819653B', '0138157', 'GRU', '9B9', 'SKBV18', '1100', '03N115562', '2000']\n",
      "B ['nan', '90813202', 'SKN', '000DS', '052164DS', '000010006', 'ZZ', 'GRU', '9B9', 'OEL02', 'WHT000729A', '1K1819653B', '10648301', '013DS', '0138157', '03L115562', 'W-LRA', '1100', 'LMW030000Z0', '03C']\n"
     ]
    },
    {
     "data": {
      "text/plain": [
       "1.5"
      ]
     },
     "execution_count": 164,
     "metadata": {},
     "output_type": "execute_result"
    }
   ],
   "source": [
    "get_distance(df,1)"
   ]
  },
  {
   "cell_type": "code",
   "execution_count": 16,
   "metadata": {
    "collapsed": false
   },
   "outputs": [
    {
     "name": "stderr",
     "output_type": "stream",
     "text": [
      "/Users/ihuangyiran/anaconda2/envs/data_mining/lib/python3.6/site-packages/ipykernel_launcher.py:4: SettingWithCopyWarning: \n",
      "A value is trying to be set on a copy of a slice from a DataFrame.\n",
      "Try using .loc[row_indexer,col_indexer] = value instead\n",
      "\n",
      "See the caveats in the documentation: http://pandas.pydata.org/pandas-docs/stable/indexing.html#indexing-view-versus-copy\n",
      "  after removing the cwd from sys.path.\n"
     ]
    },
    {
     "name": "stdout",
     "output_type": "stream",
     "text": [
      "############\n",
      "th = 2 => dis = 1.2222222222222223\n",
      "len(A):20\n",
      "len(B):20\n",
      "len(C):22\n",
      "A ['nan', '90813202', 'SKN', '052164DS', '000DS', 'OEL02', 'WHT000729A', '10648301', 'W-AG-EM', 'ZZ', '03L115562', '000010006', '1K1819653B', '0138157', 'GRU', '9B9', 'SKBV18', '1100', '03N115562', '2000']\n",
      "B ['nan', '90813202', 'SKN', '000DS', '000010006', '052164DS', 'ZZ', '9B9', 'OEL02', 'WHT000729A', 'GRU', '1K1819653B', '10648301', '03L115562', '0138157', '013DS', '1100', 'W-LRA', 'W-AG-EM', 'SKBV18']\n"
     ]
    },
    {
     "data": {
      "text/plain": [
       "1.2222222222222223"
      ]
     },
     "execution_count": 16,
     "metadata": {},
     "output_type": "execute_result"
    }
   ],
   "source": [
    "get_distance(df,2)"
   ]
  },
  {
   "cell_type": "code",
   "execution_count": 17,
   "metadata": {
    "collapsed": false
   },
   "outputs": [
    {
     "name": "stderr",
     "output_type": "stream",
     "text": [
      "/Users/ihuangyiran/anaconda2/envs/data_mining/lib/python3.6/site-packages/ipykernel_launcher.py:4: SettingWithCopyWarning: \n",
      "A value is trying to be set on a copy of a slice from a DataFrame.\n",
      "Try using .loc[row_indexer,col_indexer] = value instead\n",
      "\n",
      "See the caveats in the documentation: http://pandas.pydata.org/pandas-docs/stable/indexing.html#indexing-view-versus-copy\n",
      "  after removing the cwd from sys.path.\n"
     ]
    },
    {
     "name": "stdout",
     "output_type": "stream",
     "text": [
      "############\n",
      "th = 3 => dis = 1.105263157894737\n",
      "len(A):20\n",
      "len(B):20\n",
      "len(C):21\n",
      "A ['nan', '90813202', 'SKN', '052164DS', '000DS', 'OEL02', 'WHT000729A', 'W-AG-EM', '10648301', 'ZZ', '03L115562', '000010006', '1K1819653B', '0138157', 'GRU', '9B9', 'SKBV18', '1100', '2000', '03N115562']\n",
      "B ['nan', '90813202', 'SKN', '000DS', '052164DS', '000010006', 'ZZ', 'WHT000729A', 'OEL02', '9B9', 'GRU', '1K1819653B', '10648301', '03L115562', '0138157', '1100', '013DS', 'W-AG-EM', 'SKBV18', '03N115562']\n"
     ]
    },
    {
     "data": {
      "text/plain": [
       "1.105263157894737"
      ]
     },
     "execution_count": 17,
     "metadata": {},
     "output_type": "execute_result"
    }
   ],
   "source": [
    "get_distance(df,3)"
   ]
  },
  {
   "cell_type": "code",
   "execution_count": 14,
   "metadata": {
    "collapsed": false
   },
   "outputs": [
    {
     "name": "stderr",
     "output_type": "stream",
     "text": [
      "/Users/ihuangyiran/anaconda2/envs/data_mining/lib/python3.6/site-packages/ipykernel_launcher.py:4: SettingWithCopyWarning: \n",
      "A value is trying to be set on a copy of a slice from a DataFrame.\n",
      "Try using .loc[row_indexer,col_indexer] = value instead\n",
      "\n",
      "See the caveats in the documentation: http://pandas.pydata.org/pandas-docs/stable/indexing.html#indexing-view-versus-copy\n",
      "  after removing the cwd from sys.path.\n"
     ]
    },
    {
     "name": "stdout",
     "output_type": "stream",
     "text": [
      "############\n",
      "th = 4 => dis = 1.2222222222222223\n",
      "len(A):20\n",
      "len(B):20\n",
      "len(C):22\n",
      "A ['nan', 'SKN', '90813202', '052164DS', '000DS', 'OEL02', 'W-AG-EM', 'WHT000729A', '10648301', 'ZZ', '03L115562', '0138157', 'GRU', '000010006', '1K1819653B', '9B9', 'SKBV18', '1100', '2000', 'E2000']\n",
      "B ['nan', '90813202', 'SKN', '000DS', '052164DS', '000010006', 'WHT000729A', 'ZZ', 'OEL02', '9B9', '1K1819653B', 'GRU', '03L115562', '10648301', '0138157', '1100', 'W-AG-EM', '013DS', 'SKBV18', '03N115562']\n"
     ]
    },
    {
     "data": {
      "text/plain": [
       "1.2222222222222223"
      ]
     },
     "execution_count": 14,
     "metadata": {},
     "output_type": "execute_result"
    }
   ],
   "source": [
    "get_distance(df,4)"
   ]
  },
  {
   "cell_type": "code",
   "execution_count": 16,
   "metadata": {
    "collapsed": false
   },
   "outputs": [
    {
     "name": "stderr",
     "output_type": "stream",
     "text": [
      "/Users/ihuangyiran/anaconda2/envs/data_mining/lib/python3.6/site-packages/ipykernel_launcher.py:4: SettingWithCopyWarning: \n",
      "A value is trying to be set on a copy of a slice from a DataFrame.\n",
      "Try using .loc[row_indexer,col_indexer] = value instead\n",
      "\n",
      "See the caveats in the documentation: http://pandas.pydata.org/pandas-docs/stable/indexing.html#indexing-view-versus-copy\n",
      "  after removing the cwd from sys.path.\n"
     ]
    },
    {
     "name": "stdout",
     "output_type": "stream",
     "text": [
      "############\n",
      "th = 5 => dis = 1.2222222222222223\n",
      "len(A):20\n",
      "len(B):20\n",
      "len(C):22\n",
      "A ['nan', 'SKN', '90813202', '052164DS', '000DS', 'OEL02', 'W-AG-EM', '10648301', 'WHT000729A', '03L115562', 'ZZ', '0138157', 'GRU', '1K1819653B', '000010006', '9B9', 'SKBV18', '2000', 'E2000', '1100']\n",
      "B ['nan', '90813202', 'SKN', '000DS', '052164DS', '000010006', 'WHT000729A', 'OEL02', 'ZZ', '1K1819653B', '9B9', '03L115562', 'GRU', '10648301', '0138157', 'W-AG-EM', '1100', 'SKBV18', '013DS', '03N115562']\n"
     ]
    },
    {
     "data": {
      "text/plain": [
       "1.2222222222222223"
      ]
     },
     "execution_count": 16,
     "metadata": {},
     "output_type": "execute_result"
    }
   ],
   "source": [
    "get_distance(df,5)"
   ]
  },
  {
   "cell_type": "code",
   "execution_count": null,
   "metadata": {
    "collapsed": true
   },
   "outputs": [],
   "source": [
    "get_distance(df,6)"
   ]
  },
  {
   "cell_type": "code",
   "execution_count": 1,
   "metadata": {
    "collapsed": false
   },
   "outputs": [
    {
     "ename": "NameError",
     "evalue": "name 'get_distance' is not defined",
     "output_type": "error",
     "traceback": [
      "\u001b[0;31m---------------------------------------------------------\u001b[0m",
      "\u001b[0;31mNameError\u001b[0m               Traceback (most recent call last)",
      "\u001b[0;32m<ipython-input-1-1323eedb3ffa>\u001b[0m in \u001b[0;36m<module>\u001b[0;34m()\u001b[0m\n\u001b[0;32m----> 1\u001b[0;31m \u001b[0mget_distance\u001b[0m\u001b[0;34m(\u001b[0m\u001b[0mdf\u001b[0m\u001b[0;34m,\u001b[0m\u001b[0;36m8\u001b[0m\u001b[0;34m)\u001b[0m\u001b[0;34m\u001b[0m\u001b[0m\n\u001b[0m",
      "\u001b[0;31mNameError\u001b[0m: name 'get_distance' is not defined"
     ]
    }
   ],
   "source": [
    "get_distance(df,8)"
   ]
  },
  {
   "cell_type": "code",
   "execution_count": 14,
   "metadata": {
    "collapsed": false
   },
   "outputs": [
    {
     "name": "stderr",
     "output_type": "stream",
     "text": [
      "/Users/ihuangyiran/anaconda2/envs/data_mining/lib/python3.6/site-packages/ipykernel_launcher.py:4: SettingWithCopyWarning: \n",
      "A value is trying to be set on a copy of a slice from a DataFrame.\n",
      "Try using .loc[row_indexer,col_indexer] = value instead\n",
      "\n",
      "See the caveats in the documentation: http://pandas.pydata.org/pandas-docs/stable/indexing.html#indexing-view-versus-copy\n",
      "  after removing the cwd from sys.path.\n"
     ]
    },
    {
     "name": "stdout",
     "output_type": "stream",
     "text": [
      "############\n",
      "th = 10 => dis = 1.5\n",
      "len(A):20\n",
      "len(B):20\n",
      "len(C):24\n",
      "A ['nan', 'SKN', '90813202', '052164DS', 'OEL02', '000DS', 'W-AG-EM', '10648301', 'E2000', '2000', 'WHT000729A', '03L115562', 'ZZ', 'GRU', '9B9', '052910DS', '0138157', 'SKBV18', '311601361', '1K1819653B']\n",
      "B ['nan', '90813202', 'SKN', '000DS', '052164DS', 'OEL02', 'WHT000729A', '000010006', 'ZZ', '03L115562', '10648301', '1K1819653B', 'W-AG-EM', '9B9', '0138157', 'GRU', '1100', 'SKBV18', '013DS', '03N115562']\n"
     ]
    },
    {
     "data": {
      "text/plain": [
       "1.5"
      ]
     },
     "execution_count": 14,
     "metadata": {},
     "output_type": "execute_result"
    }
   ],
   "source": [
    "get_distance(df,10)"
   ]
  },
  {
   "cell_type": "code",
   "execution_count": 15,
   "metadata": {
    "collapsed": false
   },
   "outputs": [
    {
     "name": "stderr",
     "output_type": "stream",
     "text": [
      "/Users/ihuangyiran/anaconda2/envs/data_mining/lib/python3.6/site-packages/ipykernel_launcher.py:4: SettingWithCopyWarning: \n",
      "A value is trying to be set on a copy of a slice from a DataFrame.\n",
      "Try using .loc[row_indexer,col_indexer] = value instead\n",
      "\n",
      "See the caveats in the documentation: http://pandas.pydata.org/pandas-docs/stable/indexing.html#indexing-view-versus-copy\n",
      "  after removing the cwd from sys.path.\n"
     ]
    },
    {
     "name": "stdout",
     "output_type": "stream",
     "text": [
      "############\n",
      "th = 12 => dis = 1.6666666666666667\n",
      "len(A):20\n",
      "len(B):20\n",
      "len(C):25\n",
      "A ['nan', 'SKN', '90813202', '052164DS', 'OEL02', '000DS', 'W-AG-EM', '10648301', 'E2000', '2000', 'ZZ', 'WHT000729A', '03L115562', 'GRU', '052910DS', '9B9', '311601361', 'AULGEWI', '0138157', 'SKBV18']\n",
      "B ['nan', '90813202', 'SKN', '000DS', '052164DS', 'OEL02', 'WHT000729A', '000010006', 'ZZ', '10648301', '03L115562', '1K1819653B', 'W-AG-EM', '0138157', 'GRU', '9B9', '1100', 'SKBV18', '03N115562', '013DS']\n"
     ]
    },
    {
     "data": {
      "text/plain": [
       "1.6666666666666667"
      ]
     },
     "execution_count": 15,
     "metadata": {},
     "output_type": "execute_result"
    }
   ],
   "source": [
    "get_distance(df,12)"
   ]
  },
  {
   "cell_type": "code",
   "execution_count": null,
   "metadata": {
    "collapsed": true
   },
   "outputs": [],
   "source": [
    "get_distance(df,14)"
   ]
  },
  {
   "cell_type": "code",
   "execution_count": 16,
   "metadata": {
    "collapsed": false
   },
   "outputs": [
    {
     "name": "stderr",
     "output_type": "stream",
     "text": [
      "/Users/ihuangyiran/anaconda2/envs/data_mining/lib/python3.6/site-packages/ipykernel_launcher.py:4: SettingWithCopyWarning: \n",
      "A value is trying to be set on a copy of a slice from a DataFrame.\n",
      "Try using .loc[row_indexer,col_indexer] = value instead\n",
      "\n",
      "See the caveats in the documentation: http://pandas.pydata.org/pandas-docs/stable/indexing.html#indexing-view-versus-copy\n",
      "  after removing the cwd from sys.path.\n"
     ]
    },
    {
     "name": "stdout",
     "output_type": "stream",
     "text": [
      "############\n",
      "th = 16 => dis = 1.6666666666666667\n",
      "len(A):20\n",
      "len(B):20\n",
      "len(C):25\n",
      "A ['nan', 'SKN', '90813202', '052164DS', 'OEL02', '000DS', 'E2000', 'W-AG-EM', '10648301', '052910DS', 'GRU', 'ZZ', '9B9', '2000', 'AULGEWI', '311601361', 'SKBV18', '03L115562', '0138157', 'WHT000729A']\n",
      "B ['nan', '90813202', 'SKN', '000DS', '052164DS', 'OEL02', 'WHT000729A', 'ZZ', '000010006', '10648301', '03L115562', 'W-AG-EM', '1K1819653B', 'GRU', '0138157', '9B9', '1100', 'SKBV18', '03N115562', '013DS']\n"
     ]
    },
    {
     "data": {
      "text/plain": [
       "1.6666666666666667"
      ]
     },
     "execution_count": 16,
     "metadata": {},
     "output_type": "execute_result"
    }
   ],
   "source": [
    "get_distance(df,16)"
   ]
  },
  {
   "cell_type": "code",
   "execution_count": null,
   "metadata": {
    "collapsed": true
   },
   "outputs": [],
   "source": [
    "get_distance(df,18)"
   ]
  },
  {
   "cell_type": "code",
   "execution_count": 14,
   "metadata": {
    "collapsed": false
   },
   "outputs": [
    {
     "name": "stderr",
     "output_type": "stream",
     "text": [
      "/Users/ihuangyiran/anaconda2/envs/data_mining/lib/python3.6/site-packages/ipykernel_launcher.py:4: SettingWithCopyWarning: \n",
      "A value is trying to be set on a copy of a slice from a DataFrame.\n",
      "Try using .loc[row_indexer,col_indexer] = value instead\n",
      "\n",
      "See the caveats in the documentation: http://pandas.pydata.org/pandas-docs/stable/indexing.html#indexing-view-versus-copy\n",
      "  after removing the cwd from sys.path.\n"
     ]
    },
    {
     "name": "stdout",
     "output_type": "stream",
     "text": [
      "############\n",
      "th = 20 => dis = 2.076923076923077\n",
      "len(A):20\n",
      "len(B):20\n",
      "len(C):27\n",
      "A ['nan', 'SKN', '90813202', 'OEL02', '052910DS', '052164DS', 'W-AG-EM', '000DS', '10648301', 'ZZ', 'AULGEWI', '311601361', 'E2000', 'SKBV18', 'GRU', '9B9', '0138157', 'GEWI', '1000', 'SKG']\n",
      "B ['nan', '90813202', 'SKN', '000DS', '052164DS', 'OEL02', 'WHT000729A', 'ZZ', '000010006', '10648301', '03L115562', 'W-AG-EM', '1K1819653B', 'GRU', '9B9', '0138157', '1100', 'SKBV18', '03N115562', '013DS']\n"
     ]
    },
    {
     "data": {
      "text/plain": [
       "2.076923076923077"
      ]
     },
     "execution_count": 14,
     "metadata": {},
     "output_type": "execute_result"
    }
   ],
   "source": [
    "get_distance(df,20)"
   ]
  },
  {
   "cell_type": "code",
   "execution_count": null,
   "metadata": {
    "collapsed": true
   },
   "outputs": [],
   "source": [
    "get_distance(df,25)"
   ]
  },
  {
   "cell_type": "code",
   "execution_count": 15,
   "metadata": {
    "collapsed": true
   },
   "outputs": [],
   "source": [
    "t = pd.DataFrame({'TH': [2,3,4,5,10,12,16,20], 'dis': [1.22,1.22,1.22,1.22,1.5,1.66,1.66,2.07]})"
   ]
  },
  {
   "cell_type": "code",
   "execution_count": 29,
   "metadata": {
    "collapsed": false
   },
   "outputs": [],
   "source": [
    "t2 = pd.DataFrame({'2':[1.22],'3':[1.22],'4':[1.22],'5':[1.22],'10':[1.5],'12':[1.66],'16':[1.66],'20':[2.07]})"
   ]
  },
  {
   "cell_type": "code",
   "execution_count": 27,
   "metadata": {
    "collapsed": false
   },
   "outputs": [
    {
     "ename": "NameError",
     "evalue": "name 'var' is not defined",
     "output_type": "error",
     "traceback": [
      "\u001b[0;31m---------------------------------------------------------\u001b[0m",
      "\u001b[0;31mNameError\u001b[0m               Traceback (most recent call last)",
      "\u001b[0;32m<ipython-input-27-273753319a8a>\u001b[0m in \u001b[0;36m<module>\u001b[0;34m()\u001b[0m\n\u001b[1;32m      2\u001b[0m \u001b[0msns\u001b[0m\u001b[0;34m.\u001b[0m\u001b[0mlmplot\u001b[0m\u001b[0;34m(\u001b[0m\u001b[0mx\u001b[0m \u001b[0;34m=\u001b[0m \u001b[0;34m'TH'\u001b[0m\u001b[0;34m,\u001b[0m \u001b[0my\u001b[0m\u001b[0;34m=\u001b[0m \u001b[0;34m'dis'\u001b[0m\u001b[0;34m,\u001b[0m \u001b[0mdata\u001b[0m \u001b[0;34m=\u001b[0m \u001b[0mt\u001b[0m\u001b[0;34m,\u001b[0m \u001b[0mfit_reg\u001b[0m\u001b[0;34m=\u001b[0m\u001b[0;32mFalse\u001b[0m\u001b[0;34m)\u001b[0m\u001b[0;34m\u001b[0m\u001b[0m\n\u001b[1;32m      3\u001b[0m \u001b[0max\u001b[0m\u001b[0;34m.\u001b[0m\u001b[0mset_ylabel\u001b[0m\u001b[0;34m(\u001b[0m\u001b[0;34m'count'\u001b[0m\u001b[0;34m,\u001b[0m \u001b[0mfontsize\u001b[0m\u001b[0;34m=\u001b[0m\u001b[0;36m20\u001b[0m\u001b[0;34m,\u001b[0m \u001b[0mcolor\u001b[0m\u001b[0;34m=\u001b[0m\u001b[0;34m'r'\u001b[0m\u001b[0;34m)\u001b[0m\u001b[0;34m\u001b[0m\u001b[0m\n\u001b[0;32m----> 4\u001b[0;31m \u001b[0max\u001b[0m\u001b[0;34m.\u001b[0m\u001b[0mset_xlabel\u001b[0m\u001b[0;34m(\u001b[0m\u001b[0mvar\u001b[0m\u001b[0;34m+\u001b[0m\u001b[0;34m'(sotiert nach Anzahl der Auftrags)'\u001b[0m\u001b[0;34m,\u001b[0m \u001b[0mfontsize\u001b[0m\u001b[0;34m=\u001b[0m\u001b[0;36m20\u001b[0m\u001b[0;34m,\u001b[0m \u001b[0mcolor\u001b[0m\u001b[0;34m=\u001b[0m\u001b[0;34m'b'\u001b[0m\u001b[0;34m)\u001b[0m\u001b[0;34m\u001b[0m\u001b[0m\n\u001b[0m",
      "\u001b[0;31mNameError\u001b[0m: name 'var' is not defined"
     ]
    },
    {
     "data": {
      "image/png": "[encoded data removed]",
      "text/plain": [
       "<Figure size 720x576 with 1 Axes>"
      ]
     },
     "metadata": {},
     "output_type": "display_data"
    },
    {
     "data": {
      "image/png": "[encoded data removed]",
      "text/plain": [
       "<Figure size 360x360 with 1 Axes>"
      ]
     },
     "metadata": {},
     "output_type": "display_data"
    }
   ],
   "source": [
    "f, ax = plt.subplots(figsize = (10, 8))\n",
    "sns.lmplot(x = 'TH', y= 'dis', data = t, fit_reg=False)\n",
    "ax.set_ylabel('count', fontsize=20, color='r')\n",
    "ax.set_xlabel(var+'(sotiert nach Anzahl der Auftrags)', fontsize=20, color='b')"
   ]
  },
  {
   "cell_type": "code",
   "execution_count": 164,
   "metadata": {
    "collapsed": false
   },
   "outputs": [],
   "source": [
    "top100 = dic1.top(10)"
   ]
  },
  {
   "cell_type": "code",
   "execution_count": 165,
   "metadata": {
    "collapsed": false
   },
   "outputs": [],
   "source": [
    "t_w = [i[0] for i in top100]\n",
    "t_c = [i[1] for i in top100]"
   ]
  },
  {
   "cell_type": "code",
   "execution_count": 166,
   "metadata": {
    "collapsed": false
   },
   "outputs": [],
   "source": [
    "top100_b = [i.to_list() for i in dic2.get_words(t_w)]"
   ]
  },
  {
   "cell_type": "code",
   "execution_count": 167,
   "metadata": {
    "collapsed": false,
    "scrolled": true
   },
   "outputs": [],
   "source": [
    "t_w2 = [i[0] for i in top100_b]\n",
    "t_c2 = [i[1] for i in top100_b]"
   ]
  },
  {
   "cell_type": "code",
   "execution_count": null,
   "metadata": {
    "collapsed": false
   },
   "outputs": [],
   "source": []
  },
  {
   "cell_type": "code",
   "execution_count": 168,
   "metadata": {
    "collapsed": false
   },
   "outputs": [],
   "source": [
    "#d = pd.DataFrame({'Teile-Nr': t_w, 'count_sk':t_c, 'count_nsk':t_c2})\n",
    "d1 = pd.DataFrame({'Teile-Nr': t_w, 'count': t_c, 'is_sk': 'JA'})\n",
    "d2 = pd.DataFrame({'Teile-Nr': t_w, 'count': t_c2, 'is_sk': 'Nein'})\n",
    "d = pd.concat([d1,d2], axis=0)\n",
    "d = d.drop([0], axis=0)"
   ]
  },
  {
   "cell_type": "code",
   "execution_count": 169,
   "metadata": {
    "collapsed": false
   },
   "outputs": [],
   "source": [
    "# get propotion\n",
    "d['count'] = d['count']/d['count'].sum()"
   ]
  },
  {
   "cell_type": "code",
   "execution_count": 170,
   "metadata": {
    "collapsed": false
   },
   "outputs": [],
   "source": [
    "def draw_distribution(var):\n",
    "    af = toAuftragTable(data1, var, 'Auftragsnummer')\n",
    "    cv = af[var].value_counts()\n",
    "    df_vc = pd.DataFrame({var:cv.index, 'count': cv.tolist()})\n",
    "    tp = df_vc[['count']]\n",
    "    f, ax = plt.subplots(figsize = (10, 8))\n",
    "    tp.plot(ax=ax)\n",
    "    ax.set_ylabel('count', fontsize=20, color='r')\n",
    "    ax.set_xlabel(var+'(sotiert nach Anzahl der Auftrags)', fontsize=20, color='b')\n",
    "    return df_vc"
   ]
  },
  {
   "cell_type": "code",
   "execution_count": 171,
   "metadata": {
    "collapsed": false
   },
   "outputs": [
    {
     "data": {
      "text/plain": [
       "Text(0.5,0,'Teile-Nr')"
      ]
     },
     "execution_count": 171,
     "metadata": {},
     "output_type": "execute_result"
    },
    {
     "data": {
      "image/png": "[encoded data removed]",
      "text/plain": [
       "<Figure size 720x576 with 1 Axes>"
      ]
     },
     "metadata": {},
     "output_type": "display_data"
    }
   ],
   "source": [
    "f, ax = plt.subplots(figsize = (10, 8))\n",
    "sns.barplot(x = 'Teile-Nr', y= 'count', data=d, hue = 'is_sk')\n",
    "ax.set_xticklabels(ax.get_xticklabels(), rotation=45)\n",
    "ax.set_ylabel('count', fontsize=20, color='r')\n",
    "ax.set_xlabel('Teile-Nr', fontsize=20, color='b')"
   ]
  },
  {
   "cell_type": "code",
   "execution_count": null,
   "metadata": {
    "collapsed": false
   },
   "outputs": [],
   "source": []
  },
  {
   "cell_type": "code",
   "execution_count": 83,
   "metadata": {
    "collapsed": false
   },
   "outputs": [
    {
     "data": {
      "text/plain": [
       "Text(0.5,0,'am häufigsten gekauften Komponenten')"
      ]
     },
     "execution_count": 83,
     "metadata": {},
     "output_type": "execute_result"
    },
    {
     "data": {
      "image/png": "[encoded data removed]",
      "text/plain": [
       "<Figure size 720x576 with 1 Axes>"
      ]
     },
     "metadata": {},
     "output_type": "display_data"
    }
   ],
   "source": [
    "f, ax = plt.subplots(figsize = (10, 8))\n",
    "sns.barplot(x = 'Teile-Nr', y= 'count', data=d, hue = 'is_sk')\n",
    "ax.set_xticklabels(ax.get_xticklabels(), rotation=45)\n",
    "ax.set_ylabel('count', fontsize=20, color='r')\n",
    "ax.set_xlabel('am häufigsten gekauften Komponenten', fontsize=20, color='b')"
   ]
  },
  {
   "cell_type": "code",
   "execution_count": 69,
   "metadata": {
    "collapsed": false
   },
   "outputs": [
    {
     "data": {
      "text/html": [
       "<div>\n",
       "<style scoped>\n",
       "    .dataframe tbody tr th:only-of-type {\n",
       "        vertical-align: middle;\n",
       "    }\n",
       "\n",
       "    .dataframe tbody tr th {\n",
       "        vertical-align: top;\n",
       "    }\n",
       "\n",
       "    .dataframe thead th {\n",
       "        text-align: right;\n",
       "    }\n",
       "</style>\n",
       "<table border=\"1\" class=\"dataframe\">\n",
       "  <thead>\n",
       "    <tr style=\"text-align: right;\">\n",
       "      <th></th>\n",
       "      <th>Teile-Nr</th>\n",
       "      <th>count</th>\n",
       "      <th>is_sk</th>\n",
       "    </tr>\n",
       "  </thead>\n",
       "  <tbody>\n",
       "    <tr>\n",
       "      <th>1</th>\n",
       "      <td>SKN</td>\n",
       "      <td>3030</td>\n",
       "      <td>True</td>\n",
       "    </tr>\n",
       "    <tr>\n",
       "      <th>2</th>\n",
       "      <td>90813202</td>\n",
       "      <td>2403</td>\n",
       "      <td>True</td>\n",
       "    </tr>\n",
       "    <tr>\n",
       "      <th>3</th>\n",
       "      <td>052164DS</td>\n",
       "      <td>1899</td>\n",
       "      <td>True</td>\n",
       "    </tr>\n",
       "    <tr>\n",
       "      <th>4</th>\n",
       "      <td>OEL02</td>\n",
       "      <td>1492</td>\n",
       "      <td>True</td>\n",
       "    </tr>\n",
       "    <tr>\n",
       "      <th>5</th>\n",
       "      <td>000DS</td>\n",
       "      <td>1303</td>\n",
       "      <td>True</td>\n",
       "    </tr>\n",
       "    <tr>\n",
       "      <th>6</th>\n",
       "      <td>W-AG-EM</td>\n",
       "      <td>1017</td>\n",
       "      <td>True</td>\n",
       "    </tr>\n",
       "    <tr>\n",
       "      <th>7</th>\n",
       "      <td>10648301</td>\n",
       "      <td>997</td>\n",
       "      <td>True</td>\n",
       "    </tr>\n",
       "    <tr>\n",
       "      <th>8</th>\n",
       "      <td>E2000</td>\n",
       "      <td>979</td>\n",
       "      <td>True</td>\n",
       "    </tr>\n",
       "    <tr>\n",
       "      <th>9</th>\n",
       "      <td>2000</td>\n",
       "      <td>859</td>\n",
       "      <td>True</td>\n",
       "    </tr>\n",
       "    <tr>\n",
       "      <th>10</th>\n",
       "      <td>ZZ</td>\n",
       "      <td>752</td>\n",
       "      <td>True</td>\n",
       "    </tr>\n",
       "    <tr>\n",
       "      <th>11</th>\n",
       "      <td>WHT000729A</td>\n",
       "      <td>741</td>\n",
       "      <td>True</td>\n",
       "    </tr>\n",
       "    <tr>\n",
       "      <th>12</th>\n",
       "      <td>03L115562</td>\n",
       "      <td>732</td>\n",
       "      <td>True</td>\n",
       "    </tr>\n",
       "    <tr>\n",
       "      <th>13</th>\n",
       "      <td>GRU</td>\n",
       "      <td>708</td>\n",
       "      <td>True</td>\n",
       "    </tr>\n",
       "    <tr>\n",
       "      <th>14</th>\n",
       "      <td>052910DS</td>\n",
       "      <td>704</td>\n",
       "      <td>True</td>\n",
       "    </tr>\n",
       "    <tr>\n",
       "      <th>15</th>\n",
       "      <td>9B9</td>\n",
       "      <td>667</td>\n",
       "      <td>True</td>\n",
       "    </tr>\n",
       "    <tr>\n",
       "      <th>16</th>\n",
       "      <td>311601361</td>\n",
       "      <td>631</td>\n",
       "      <td>True</td>\n",
       "    </tr>\n",
       "    <tr>\n",
       "      <th>17</th>\n",
       "      <td>AULGEWI</td>\n",
       "      <td>612</td>\n",
       "      <td>True</td>\n",
       "    </tr>\n",
       "    <tr>\n",
       "      <th>18</th>\n",
       "      <td>0138157</td>\n",
       "      <td>611</td>\n",
       "      <td>True</td>\n",
       "    </tr>\n",
       "    <tr>\n",
       "      <th>19</th>\n",
       "      <td>SKBV18</td>\n",
       "      <td>588</td>\n",
       "      <td>True</td>\n",
       "    </tr>\n",
       "    <tr>\n",
       "      <th>20</th>\n",
       "      <td>1000</td>\n",
       "      <td>556</td>\n",
       "      <td>True</td>\n",
       "    </tr>\n",
       "    <tr>\n",
       "      <th>21</th>\n",
       "      <td>03N115562</td>\n",
       "      <td>503</td>\n",
       "      <td>True</td>\n",
       "    </tr>\n",
       "    <tr>\n",
       "      <th>22</th>\n",
       "      <td>1K1819653B</td>\n",
       "      <td>493</td>\n",
       "      <td>True</td>\n",
       "    </tr>\n",
       "    <tr>\n",
       "      <th>23</th>\n",
       "      <td>1100</td>\n",
       "      <td>490</td>\n",
       "      <td>True</td>\n",
       "    </tr>\n",
       "    <tr>\n",
       "      <th>24</th>\n",
       "      <td>000010006</td>\n",
       "      <td>468</td>\n",
       "      <td>True</td>\n",
       "    </tr>\n",
       "    <tr>\n",
       "      <th>25</th>\n",
       "      <td>E4000</td>\n",
       "      <td>440</td>\n",
       "      <td>True</td>\n",
       "    </tr>\n",
       "    <tr>\n",
       "      <th>26</th>\n",
       "      <td>SKG</td>\n",
       "      <td>432</td>\n",
       "      <td>True</td>\n",
       "    </tr>\n",
       "    <tr>\n",
       "      <th>27</th>\n",
       "      <td>00950025</td>\n",
       "      <td>423</td>\n",
       "      <td>True</td>\n",
       "    </tr>\n",
       "    <tr>\n",
       "      <th>28</th>\n",
       "      <td>7000</td>\n",
       "      <td>388</td>\n",
       "      <td>True</td>\n",
       "    </tr>\n",
       "    <tr>\n",
       "      <th>29</th>\n",
       "      <td>GEWI</td>\n",
       "      <td>386</td>\n",
       "      <td>True</td>\n",
       "    </tr>\n",
       "    <tr>\n",
       "      <th>30</th>\n",
       "      <td>E3000</td>\n",
       "      <td>380</td>\n",
       "      <td>True</td>\n",
       "    </tr>\n",
       "    <tr>\n",
       "      <th>...</th>\n",
       "      <td>...</td>\n",
       "      <td>...</td>\n",
       "      <td>...</td>\n",
       "    </tr>\n",
       "    <tr>\n",
       "      <th>70</th>\n",
       "      <td>KLE</td>\n",
       "      <td>276</td>\n",
       "      <td>False</td>\n",
       "    </tr>\n",
       "    <tr>\n",
       "      <th>71</th>\n",
       "      <td>H-S</td>\n",
       "      <td>232</td>\n",
       "      <td>False</td>\n",
       "    </tr>\n",
       "    <tr>\n",
       "      <th>72</th>\n",
       "      <td>SK1000</td>\n",
       "      <td>62</td>\n",
       "      <td>False</td>\n",
       "    </tr>\n",
       "    <tr>\n",
       "      <th>73</th>\n",
       "      <td>90948802</td>\n",
       "      <td>172</td>\n",
       "      <td>False</td>\n",
       "    </tr>\n",
       "    <tr>\n",
       "      <th>74</th>\n",
       "      <td>0177326</td>\n",
       "      <td>118</td>\n",
       "      <td>False</td>\n",
       "    </tr>\n",
       "    <tr>\n",
       "      <th>75</th>\n",
       "      <td>SK03L115562</td>\n",
       "      <td>152</td>\n",
       "      <td>False</td>\n",
       "    </tr>\n",
       "    <tr>\n",
       "      <th>76</th>\n",
       "      <td>SK03N115562</td>\n",
       "      <td>187</td>\n",
       "      <td>False</td>\n",
       "    </tr>\n",
       "    <tr>\n",
       "      <th>77</th>\n",
       "      <td>91126801</td>\n",
       "      <td>85</td>\n",
       "      <td>False</td>\n",
       "    </tr>\n",
       "    <tr>\n",
       "      <th>78</th>\n",
       "      <td>0209022</td>\n",
       "      <td>199</td>\n",
       "      <td>False</td>\n",
       "    </tr>\n",
       "    <tr>\n",
       "      <th>79</th>\n",
       "      <td>SKGEWI</td>\n",
       "      <td>85</td>\n",
       "      <td>False</td>\n",
       "    </tr>\n",
       "    <tr>\n",
       "      <th>80</th>\n",
       "      <td>052164M2</td>\n",
       "      <td>90</td>\n",
       "      <td>False</td>\n",
       "    </tr>\n",
       "    <tr>\n",
       "      <th>81</th>\n",
       "      <td>2ZZ</td>\n",
       "      <td>151</td>\n",
       "      <td>False</td>\n",
       "    </tr>\n",
       "    <tr>\n",
       "      <th>82</th>\n",
       "      <td>1K0129620D</td>\n",
       "      <td>234</td>\n",
       "      <td>False</td>\n",
       "    </tr>\n",
       "    <tr>\n",
       "      <th>83</th>\n",
       "      <td>180</td>\n",
       "      <td>167</td>\n",
       "      <td>False</td>\n",
       "    </tr>\n",
       "    <tr>\n",
       "      <th>84</th>\n",
       "      <td>8U0955609</td>\n",
       "      <td>72</td>\n",
       "      <td>False</td>\n",
       "    </tr>\n",
       "    <tr>\n",
       "      <th>85</th>\n",
       "      <td>90894601</td>\n",
       "      <td>141</td>\n",
       "      <td>False</td>\n",
       "    </tr>\n",
       "    <tr>\n",
       "      <th>86</th>\n",
       "      <td>052529A2</td>\n",
       "      <td>82</td>\n",
       "      <td>False</td>\n",
       "    </tr>\n",
       "    <tr>\n",
       "      <th>87</th>\n",
       "      <td>03C115561H</td>\n",
       "      <td>349</td>\n",
       "      <td>False</td>\n",
       "    </tr>\n",
       "    <tr>\n",
       "      <th>88</th>\n",
       "      <td>7E0955425</td>\n",
       "      <td>104</td>\n",
       "      <td>False</td>\n",
       "    </tr>\n",
       "    <tr>\n",
       "      <th>89</th>\n",
       "      <td>W-GU-MECH</td>\n",
       "      <td>143</td>\n",
       "      <td>False</td>\n",
       "    </tr>\n",
       "    <tr>\n",
       "      <th>90</th>\n",
       "      <td>4G9955425</td>\n",
       "      <td>58</td>\n",
       "      <td>False</td>\n",
       "    </tr>\n",
       "    <tr>\n",
       "      <th>91</th>\n",
       "      <td>91084901</td>\n",
       "      <td>110</td>\n",
       "      <td>False</td>\n",
       "    </tr>\n",
       "    <tr>\n",
       "      <th>92</th>\n",
       "      <td>SK311601361</td>\n",
       "      <td>77</td>\n",
       "      <td>False</td>\n",
       "    </tr>\n",
       "    <tr>\n",
       "      <th>93</th>\n",
       "      <td>ZVWL381381</td>\n",
       "      <td>159</td>\n",
       "      <td>False</td>\n",
       "    </tr>\n",
       "    <tr>\n",
       "      <th>94</th>\n",
       "      <td>381224TE</td>\n",
       "      <td>152</td>\n",
       "      <td>False</td>\n",
       "    </tr>\n",
       "    <tr>\n",
       "      <th>95</th>\n",
       "      <td>SK000010006</td>\n",
       "      <td>211</td>\n",
       "      <td>False</td>\n",
       "    </tr>\n",
       "    <tr>\n",
       "      <th>96</th>\n",
       "      <td>10106402</td>\n",
       "      <td>139</td>\n",
       "      <td>False</td>\n",
       "    </tr>\n",
       "    <tr>\n",
       "      <th>97</th>\n",
       "      <td>8K0698451A</td>\n",
       "      <td>131</td>\n",
       "      <td>False</td>\n",
       "    </tr>\n",
       "    <tr>\n",
       "      <th>98</th>\n",
       "      <td>SKWHT000729A</td>\n",
       "      <td>160</td>\n",
       "      <td>False</td>\n",
       "    </tr>\n",
       "    <tr>\n",
       "      <th>99</th>\n",
       "      <td>8K0201196AG</td>\n",
       "      <td>85</td>\n",
       "      <td>False</td>\n",
       "    </tr>\n",
       "  </tbody>\n",
       "</table>\n",
       "<p>198 rows × 3 columns</p>\n",
       "</div>"
      ],
      "text/plain": [
       "        Teile-Nr  count  is_sk\n",
       "1            SKN   3030   True\n",
       "2       90813202   2403   True\n",
       "3       052164DS   1899   True\n",
       "4          OEL02   1492   True\n",
       "5          000DS   1303   True\n",
       "6        W-AG-EM   1017   True\n",
       "7       10648301    997   True\n",
       "8          E2000    979   True\n",
       "9           2000    859   True\n",
       "10            ZZ    752   True\n",
       "11    WHT000729A    741   True\n",
       "12     03L115562    732   True\n",
       "13           GRU    708   True\n",
       "14      052910DS    704   True\n",
       "15           9B9    667   True\n",
       "16     311601361    631   True\n",
       "17       AULGEWI    612   True\n",
       "18       0138157    611   True\n",
       "19        SKBV18    588   True\n",
       "20          1000    556   True\n",
       "21     03N115562    503   True\n",
       "22    1K1819653B    493   True\n",
       "23          1100    490   True\n",
       "24     000010006    468   True\n",
       "25         E4000    440   True\n",
       "26           SKG    432   True\n",
       "27      00950025    423   True\n",
       "28          7000    388   True\n",
       "29          GEWI    386   True\n",
       "30         E3000    380   True\n",
       "..           ...    ...    ...\n",
       "70           KLE    276  False\n",
       "71           H-S    232  False\n",
       "72        SK1000     62  False\n",
       "73      90948802    172  False\n",
       "74       0177326    118  False\n",
       "75   SK03L115562    152  False\n",
       "76   SK03N115562    187  False\n",
       "77      91126801     85  False\n",
       "78       0209022    199  False\n",
       "79        SKGEWI     85  False\n",
       "80      052164M2     90  False\n",
       "81           2ZZ    151  False\n",
       "82    1K0129620D    234  False\n",
       "83           180    167  False\n",
       "84     8U0955609     72  False\n",
       "85      90894601    141  False\n",
       "86      052529A2     82  False\n",
       "87    03C115561H    349  False\n",
       "88     7E0955425    104  False\n",
       "89     W-GU-MECH    143  False\n",
       "90     4G9955425     58  False\n",
       "91      91084901    110  False\n",
       "92   SK311601361     77  False\n",
       "93    ZVWL381381    159  False\n",
       "94      381224TE    152  False\n",
       "95   SK000010006    211  False\n",
       "96      10106402    139  False\n",
       "97    8K0698451A    131  False\n",
       "98  SKWHT000729A    160  False\n",
       "99   8K0201196AG     85  False\n",
       "\n",
       "[198 rows x 3 columns]"
      ]
     },
     "execution_count": 69,
     "metadata": {},
     "output_type": "execute_result"
    }
   ],
   "source": [
    "d"
   ]
  },
  {
   "cell_type": "markdown",
   "metadata": {},
   "source": [
    "## oftest gekaufte Komponenten"
   ]
  },
  {
   "cell_type": "code",
   "execution_count": 212,
   "metadata": {
    "collapsed": false
   },
   "outputs": [],
   "source": [
    "class FreDict:\n",
    "    \"\"\"\n",
    "    统计单词和出现的频率\n",
    "    文档中的每个字都会被记录进去，所以应该确认输入的文件内容，只含有目标列属性\n",
    "    \"\"\"\n",
    "    def __init__(self, path, header = True, sep = ';', clean = False, recover = False, singular = False):\n",
    "        \"\"\"\n",
    "        input:\n",
    "            path: string\n",
    "                the path of the file\n",
    "            header: boolean\n",
    "                weather the file contains header of not\n",
    "            sep: string\n",
    "                the sep of the file in each line\n",
    "            clean: boolean\n",
    "                remove the word with single buchstachben or not\n",
    "            recover: boolean\n",
    "                transform 'ae', 'oe', 'ue', 'ss' back to 'ä', 'ö', 'ü', 'ß' usw.\n",
    "            singular: boolean\n",
    "                weather turns the word to singular or not\n",
    "        \"\"\"\n",
    "        self.dict_re = {'ae': 'ä', 'oe': 'ö', 'ue': 'ü', 'ß': 'ss', 'u.': 'und ', 'fzg': 'fahrzeug', ' f ': ' für '}\n",
    "        self.words, self.dict_count = self._load_data(path, header, sep, clean, recover, singular) # list of Words\n",
    "        self.ls_sorted = self._sort_dict(self.words) # list of list\n",
    "        self.len = len(self.words)\n",
    "    \n",
    "    def get_word(self, w):\n",
    "        if w in self.dict_count.keys():\n",
    "            return self.dict_count[w]\n",
    "        else:\n",
    "            return Word('x', 0, 'NAW')\n",
    "    \n",
    "    def get_words(self, ws):\n",
    "        out = []\n",
    "        for w in ws:\n",
    "            out.append(self.get_word(w))\n",
    "        return out\n",
    "    \n",
    "    def get_best(self, s):\n",
    "        \"\"\"\n",
    "        input:\n",
    "            s string:\n",
    "                list of words in form of string\n",
    "        output:\n",
    "            out string:\n",
    "                the frequentest word\n",
    "        \"\"\"\n",
    "        words = s.split(' ')\n",
    "        words = [word.strip() for word in words]\n",
    "        out = 'xxx'\n",
    "        count = 0\n",
    "        for word in words:\n",
    "            tmp = self.get_word(word)\n",
    "            if tmp.get_count() > count:\n",
    "                out = tmp.get_word()\n",
    "                count = tmp.get_count()\n",
    "        return out\n",
    "        \n",
    "    def top(self, n = 10):\n",
    "        # return list of list\n",
    "        # get the top n item \n",
    "        if n == -1:\n",
    "            return self.ls_sorted\n",
    "        return self.ls_sorted[:n]\n",
    "    \n",
    "    def top_norm(self, n = 10):\n",
    "        # get the top n norm\n",
    "        out = []\n",
    "        counter = 0\n",
    "        for i in self.ls_sorted:\n",
    "            if counter >= n and n != -1:\n",
    "                break\n",
    "            if i[2] == 'NN' or i[2] == 'NNP' or i[2] == 'NNS' or i[2] == 'NNPS':\n",
    "                out.append(i)\n",
    "            counter += 1\n",
    "        return out\n",
    "    \n",
    "    def top_verb(self, n = 10):\n",
    "        # get the top n verb\n",
    "        out = []\n",
    "        counter = 0\n",
    "        for i in self.ls_sorted:\n",
    "            if counter >= n and n != -1:\n",
    "                break\n",
    "            if i[2] == 'VB' or i[2] == 'VBZ' or i[2] == 'VBP' or i[2] == 'VBD' or i[2] == 'VBN' or i[2] == 'VBG':\n",
    "                out.append(i)\n",
    "            counter += 1\n",
    "        return out\n",
    "    \n",
    "    def _load_data(self, path, header, sep, clean, recover, singular):\n",
    "        \"\"\"\n",
    "        return list of words and count dictionary\n",
    "        \"\"\"\n",
    "        dic = {}\n",
    "        with open(path) as fi:\n",
    "            counter = 0\n",
    "            for li in fi:\n",
    "                li = li.strip()\n",
    "                if li[0] == '\"':\n",
    "                    li = li[1:]\n",
    "                if li[-1] == '\"':\n",
    "                    li = li[:-1]\n",
    "                if header and counter == 0:\n",
    "                    # drop first line if header is true\n",
    "                    counter += 1\n",
    "                    continue\n",
    "                li = li.strip()\n",
    "                if recover:\n",
    "                    # recover same express if necessary\n",
    "                    for i, j in self.dict_re.items():\n",
    "                        if i in li:\n",
    "                            li = re.sub(i, j, li)\n",
    "                #items = re.split('[;, ]', li)\n",
    "                items = li.split(sep)\n",
    "                for item in items:\n",
    "                    if item not in dic.keys():\n",
    "                        if clean and len(item) <= 1:\n",
    "                            # remove the item with less than 2 ziffer\n",
    "                            continue\n",
    "                        else:\n",
    "                            dic[item] = 1\n",
    "                    else:\n",
    "                        dic[item] += 1\n",
    "                counter += 1\n",
    "        # transform to Word\n",
    "        words = []\n",
    "        for i, j in dic.items():\n",
    "            try:\n",
    "                if singular:\n",
    "                    i = singularize(i).lower()\n",
    "                words.append(Word(i, j, parse(i).split('/')[1]))\n",
    "                #words.append(Word(i, j, parse(conjugate(i)).split('/')[1]))\n",
    "            except:\n",
    "                words.append(Word(i, j, ''))\n",
    "        # pack the dic\n",
    "        dic = {i: Word(i, j, parse(i).split('/')[1]) for i, j in dic.items() if len(i) > 0 }\n",
    "        # return \n",
    "        return words, dic\n",
    "    \n",
    "    def _sort_dict(self, words):\n",
    "        # return list of words, sorted according to the count\n",
    "        li_sorted = sorted(words, key = lambda x: x.get_count(), reverse = True) \n",
    "        # transform to list\n",
    "        out = []\n",
    "        for i in li_sorted:\n",
    "            out.append(i.to_list())\n",
    "        return out\n",
    "    \n",
    "class Word:\n",
    "    \"\"\"\n",
    "    use @property to rewrite the class\n",
    "    \"\"\"\n",
    "    def __init__(self, word = 'NN', count = 1, tag = 'NN'):\n",
    "        self.word = word\n",
    "        self.count = count\n",
    "        self.tag = tag\n",
    "\n",
    "    def to_list(self):\n",
    "        out = [self.word, self.count, self.tag]\n",
    "        return out\n",
    "    \n",
    "    def __str__(self):\n",
    "        return self.word + \" \" + self.count + \" \" + self.tag\n",
    "\n",
    "    def get_count(self):\n",
    "        return self.count\n",
    "\n",
    "    def get_tag(self):\n",
    "        return self.tag\n",
    "\n",
    "    def get_word(self):\n",
    "        return self.word\n",
    "\n",
    "    def set_count(self, c):\n",
    "        self.count = c\n",
    "\n",
    "    def set_tag(self, t):\n",
    "        self.tag = t\n",
    "\n",
    "    def set_word(self, w):\n",
    "        self.word = w"
   ]
  },
  {
   "cell_type": "code",
   "execution_count": 213,
   "metadata": {
    "collapsed": false
   },
   "outputs": [
    {
     "data": {
      "text/plain": [
       "[['nan', 91408, 'NN'],\n",
       " ['N  90813202', 13322, 'NN'],\n",
       " ['B  000DS', 8948, 'NN'],\n",
       " ['G  052164DS', 8939, 'NN'],\n",
       " ['OEL02', 7451, 'NN'],\n",
       " ['WHT000729A', 5849, 'NNP'],\n",
       " ['000010006', 5248, 'CD'],\n",
       " ['W-AG-EM', 5107, 'NN'],\n",
       " ['03L115562', 4907, 'NN'],\n",
       " ['1K1819653B', 4479, 'NN']]"
      ]
     },
     "execution_count": 213,
     "metadata": {},
     "output_type": "execute_result"
    }
   ],
   "source": [
    "df['Teile-Nr'].to_csv('/tmp/tmp.csv', sep = ';', index = False)\n",
    "dic = FreDict('/tmp/tmp.csv', header = True, sep = ';', clean = True, recover = True, singular = False)\n",
    "dic.top()"
   ]
  },
  {
   "cell_type": "code",
   "execution_count": 214,
   "metadata": {
    "collapsed": false
   },
   "outputs": [],
   "source": [
    "df_14['Teile-Nr'].to_csv('/tmp/tmp.csv', sep = ';', index = False)\n",
    "dic = FreDict('/tmp/tmp.csv', header = True, sep = ';', clean = True, recover = True, singular = False)\n",
    "a = dic.top()"
   ]
  },
  {
   "cell_type": "code",
   "execution_count": 215,
   "metadata": {
    "collapsed": false
   },
   "outputs": [
    {
     "name": "stdout",
     "output_type": "stream",
     "text": [
      "['nan', 'N  90813202', 'B  000DS', 'G  052164DS', 'OEL02', '03L115562', '1K1819653B', 'N  10648301', '1100', '000010006']\n",
      "[19654, 3173, 1959, 1934, 1648, 1336, 1275, 998, 952, 910]\n"
     ]
    }
   ],
   "source": [
    "print([b[0] for b in a])\n",
    "print([b[1] for b in a])"
   ]
  },
  {
   "cell_type": "code",
   "execution_count": 216,
   "metadata": {
    "collapsed": false
   },
   "outputs": [
    {
     "name": "stdout",
     "output_type": "stream",
     "text": [
      "['nan', 'N  90813202', 'G  052164DS', 'B  000DS', 'OEL02', '03L115562', '1K1819653B', 'N  10648301', 'WHT000729A', 'N  0138157']\n",
      "[18240, 2993, 2264, 1937, 1598, 1350, 1228, 931, 931, 928]\n"
     ]
    }
   ],
   "source": [
    "df_15['Teile-Nr'].to_csv('/tmp/tmp.csv', sep = ';', index = False)\n",
    "dic = FreDict('/tmp/tmp.csv', header = True, sep = ';', clean = True, recover = True, singular = False)\n",
    "#dic.top()\n",
    "a = dic.top()\n",
    "print([b[0] for b in a])\n",
    "print([b[1] for b in a])"
   ]
  },
  {
   "cell_type": "code",
   "execution_count": 217,
   "metadata": {
    "collapsed": false
   },
   "outputs": [
    {
     "name": "stdout",
     "output_type": "stream",
     "text": [
      "['nan', 'N  90813202', 'G  052164DS', 'B  000DS', 'OEL02', 'WHT000729A', '000010006', 'W-AG-EM', '03L115562', '1K1819653B']\n",
      "[20259, 2870, 2162, 1821, 1638, 1386, 1259, 1236, 1101, 1010]\n"
     ]
    }
   ],
   "source": [
    "df_16['Teile-Nr'].to_csv('/tmp/tmp.csv', sep = ';', index = False)\n",
    "dic = FreDict('/tmp/tmp.csv', header = True, sep = ';', clean = True, recover = True, singular = False)\n",
    "#dic.top()\n",
    "a = dic.top()\n",
    "print([b[0] for b in a])\n",
    "print([b[1] for b in a])"
   ]
  },
  {
   "cell_type": "code",
   "execution_count": 237,
   "metadata": {
    "collapsed": false
   },
   "outputs": [
    {
     "name": "stdout",
     "output_type": "stream",
     "text": [
      "['nan', 'N  90813202', '000010006', 'B  000DS', 'OEL02', 'WHT000729A', 'W-AG-EM', 'G  052164DS', '03N115562', 'N  10648301', 'G  052910DS', 'SKBV18', 'N  0138157', '03L115562', 'SKN  90813202', '1K1819653B', '2000', '5Q0819653', '1100', 'D  00950025']\n",
      "[21383, 2731, 2006, 1937, 1638, 1615, 1610, 1560, 1116, 925, 886, 871, 827, 751, 719, 639, 605, 582, 539, 531]\n"
     ]
    }
   ],
   "source": [
    "df_17['Teile-Nr'].to_csv('/tmp/tmp.csv', sep = ';', index = False)\n",
    "dic = FreDict('/tmp/tmp.csv', header = True, sep = ';', clean = True, recover = True, singular = False)\n",
    "#dic.top()\n",
    "a = dic.top(20)\n",
    "print([b[0] for b in a])\n",
    "print([b[1] for b in a])"
   ]
  },
  {
   "cell_type": "code",
   "execution_count": 223,
   "metadata": {
    "collapsed": false
   },
   "outputs": [],
   "source": [
    "df_tn = pd.DataFrame({\n",
    "    'Teile-Nr': [\n",
    "        'N  90813202', 'B  000DS', 'G  052164DS', 'OEL02', '03L115562',\n",
    "        'N  90813202', 'G  052164DS', 'B  000DS', 'OEL02', '03L115562',\n",
    "        'N  90813202', 'G  052164DS', 'B  000DS', 'OEL02', '03L115562',\n",
    "        'N  90813202', 'B  000DS', 'OEL02', 'G  052164DS', '03L115562',\n",
    "    ],\n",
    "    'count': [\n",
    "        3173, 1959, 1934, 1648, 1336,\n",
    "        2993, 2264, 1937, 1598, 1350,\n",
    "        2870, 2162, 1821, 1638, 1386,\n",
    "        2731, 1937, 1638, 1560, 827,\n",
    "    ],\n",
    "    'year':[2014,2014,2014,2014,2014,\n",
    "           2015,2015,2015,2015,2015,\n",
    "           2016,2016,2016,2016,1236,\n",
    "           2017,2017,2017,2017,2017]\n",
    "})"
   ]
  },
  {
   "cell_type": "code",
   "execution_count": 209,
   "metadata": {
    "collapsed": false
   },
   "outputs": [],
   "source": [
    "# oftest gekauft komponent:'90813202', 'SKN', '000DS', '000010006'\n",
    "df_tn = pd.DataFrame({\n",
    "    'Teile-Nr': ['SCHRAUBE(N)', 'SCHRAUBE(SKN)', 'BREMSFLÜSSIG', 'SCHEIBENREINIGER', 'Shell 0W-30',\n",
    "                'SCHRAUBE(N)', 'SCHRAUBE(SKN)', 'SCHEIBENREINIGER', 'BREMSFLÜSSIG', 'Shell 0W-30',\n",
    "                 'SCHRAUBE(N)', 'SCHRAUBE(SKN)', 'SCHEIBENREINIGER', 'BREMSFLÜSSIG', 'Shell 0W-30',\n",
    "                 'SCHRAUBE(SKN)', 'SCHRAUBE(N)', 'BREMSFLÜSSIG', 'SCHEIBENREINIGER', 'Shell 0W-30',\n",
    "                ],\n",
    "    'count': [3873, 3359, 1959, 1934, 1648,\n",
    "             3757, 3471, 2264, 1937, 1598,\n",
    "             3641, 3150, 2288, 1939, 1638,\n",
    "             3715, 3485, 2326, 1753, 1638],\n",
    "    'year':[2014,2014,2014,2014,2014,\n",
    "           2015,2015,2015,2015,2015,\n",
    "           2016,2016,2016,2016,2016,\n",
    "           2017,2017,2017,2017,2017]\n",
    "})"
   ]
  },
  {
   "cell_type": "code",
   "execution_count": 219,
   "metadata": {
    "collapsed": true
   },
   "outputs": [],
   "source": [
    "# oftest gekauft komponent:'90813202', 'SKN', '000DS', '000010006'\n",
    "df_tn = pd.DataFrame({\n",
    "    'Teile-Nr': ['SCHRAUBE(SKN)', 'BREMSFLÜSSIG', 'SCHEIBENREINIGER', 'Shell 0W-30',\n",
    "                'SCHRAUBE(SKN)', 'SCHEIBENREINIGER', 'BREMSFLÜSSIG', 'Shell 0W-30',\n",
    "                 'SCHRAUBE(SKN)', 'SCHEIBENREINIGER', 'BREMSFLÜSSIG', 'Shell 0W-30',\n",
    "                 'SCHRAUBE(SKN)', 'BREMSFLÜSSIG', 'SCHEIBENREINIGER', 'Shell 0W-30',\n",
    "                ],\n",
    "    'count': [3359, 1959, 1934, 1648,\n",
    "             3471, 2264, 1937, 1598,\n",
    "             3150, 2288, 1939, 1638,\n",
    "             3715, 2326, 1753, 1638],\n",
    "    'year':[2014,2014,2014,2014,\n",
    "           2015,2015,2015,2015,\n",
    "           2016,2016,2016,2016,\n",
    "           2017,2017,2017,2017]\n",
    "})"
   ]
  },
  {
   "cell_type": "code",
   "execution_count": 239,
   "metadata": {
    "collapsed": false
   },
   "outputs": [
    {
     "data": {
      "text/plain": [
       "<matplotlib.legend.Legend at 0x1a1e5d01d0>"
      ]
     },
     "execution_count": 239,
     "metadata": {},
     "output_type": "execute_result"
    },
    {
     "data": {
      "image/png": "[encoded data removed]",
      "text/plain": [
       "<Figure size 864x576 with 1 Axes>"
      ]
     },
     "metadata": {},
     "output_type": "display_data"
    }
   ],
   "source": [
    "sns.barplot(x = 'year', y='count',hue='Teile-Nr', data=df_tn)\n",
    "plt.legend(loc = \"upper right\")"
   ]
  },
  {
   "cell_type": "code",
   "execution_count": 240,
   "metadata": {
    "collapsed": false
   },
   "outputs": [
    {
     "data": {
      "text/plain": [
       "<matplotlib.legend.Legend at 0x11627e320>"
      ]
     },
     "execution_count": 240,
     "metadata": {},
     "output_type": "execute_result"
    },
    {
     "data": {
      "image/png": "[encoded data removed]",
      "text/plain": [
       "<Figure size 864x576 with 1 Axes>"
      ]
     },
     "metadata": {},
     "output_type": "display_data"
    }
   ],
   "source": [
    "sns.barplot(x = 'Teile-Nr', y='count',hue='year', data=df_tn)\n",
    "plt.legend(loc = \"upper right\")"
   ]
  },
  {
   "cell_type": "code",
   "execution_count": 197,
   "metadata": {
    "collapsed": false
   },
   "outputs": [
    {
     "data": {
      "text/plain": [
       "array(['SCHRAUBE', nan, 'Schraube', 'OELABLASSCHRAUBE', 'ÖLABLASSSCHRAUBE',\n",
       "       'Ölablasschraube'], dtype=object)"
      ]
     },
     "execution_count": 197,
     "metadata": {},
     "output_type": "execute_result"
    }
   ],
   "source": [
    "train[train['Teile-Nr'] == 'N  90813202']['Beschreibung'].unique()"
   ]
  },
  {
   "cell_type": "code",
   "execution_count": 193,
   "metadata": {
    "collapsed": false
   },
   "outputs": [
    {
     "data": {
      "text/plain": [
       "array(['SCHRAUBE'], dtype=object)"
      ]
     },
     "execution_count": 193,
     "metadata": {},
     "output_type": "execute_result"
    }
   ],
   "source": [
    "train[train['Teile-Nr'] == 'SKN  90813202']['Beschreibung'].unique()"
   ]
  },
  {
   "cell_type": "code",
   "execution_count": 233,
   "metadata": {
    "collapsed": false
   },
   "outputs": [
    {
     "data": {
      "text/plain": [
       "array(['HINWSCHILD', '^', nan], dtype=object)"
      ]
     },
     "execution_count": 233,
     "metadata": {},
     "output_type": "execute_result"
    }
   ],
   "source": [
    "train[train['Teile-Nr'] == '000010006']['Beschreibung'].unique()"
   ]
  },
  {
   "cell_type": "code",
   "execution_count": 238,
   "metadata": {
    "collapsed": true
   },
   "outputs": [],
   "source": [
    "df_tn = pd.DataFrame({\n",
    "    'Teile-Nr': [\n",
    "        'SCHRAUBE', 'BREMSFLÜSSIG', 'SCHEIBENREINIGER', 'Shell 5W-30', 'Filtereinsatz',\n",
    "        'SCHRAUBE', 'SCHEIBENREINIGER', 'BREMSFLÜSSIG', 'Shell 5W-30', 'Filtereinsatz',\n",
    "        'SCHRAUBE', 'SCHEIBENREINIGER', 'BREMSFLÜSSIG', 'Shell 5W-30', 'Filtereinsatz',\n",
    "        'SCHRAUBE', 'BREMSFLÜSSIG', 'Shell 5W-30', 'SCHEIBENREINIGER', 'Filtereinsatz',\n",
    "    ],\n",
    "    'count': [\n",
    "        3173, 1959, 1934, 1648, 1336,\n",
    "        2993, 2264, 1937, 1598, 1350,\n",
    "        2870, 2162, 1821, 1638, 1236,\n",
    "        2731, 2006, 1937, 1560, 827,\n",
    "    ],\n",
    "    'year':[2014,2014,2014,2014,2014,\n",
    "           2015,2015,2015,2015,2015,\n",
    "           2016,2016,2016,2016,2016,\n",
    "           2017,2017,2017,2017,2017]\n",
    "})"
   ]
  },
  {
   "cell_type": "code",
   "execution_count": null,
   "metadata": {
    "collapsed": true
   },
   "outputs": [],
   "source": [
    "df_tn = pd.DataFrame({\n",
    "    'Teile-Nr': [\n",
    "        'N  90813202', 'B  000DS', 'G  052164DS', 'OEL02', '03L115562',\n",
    "        'N  90813202', 'G  052164DS', 'B  000DS', 'OEL02', '03L115562',\n",
    "        'N  90813202', 'G  052164DS', 'B  000DS', 'OEL02', '03L115562',\n",
    "        'N  90813202', 'B  000DS', 'OEL02', 'G  052164DS', '03L115562',\n",
    "    ],\n",
    "    'count': [\n",
    "        3173, 1959, 1934, 1648, 1336,\n",
    "        2993, 2264, 1937, 1598, 1350,\n",
    "        2870, 2162, 1821, 1638, 1386,\n",
    "        2731, 1937, 1638, 1560, 827,\n",
    "    ],\n",
    "    'year':[2014,2014,2014,2014,2014,\n",
    "           2015,2015,2015,2015,2015,\n",
    "           2016,2016,2016,2016,1236,\n",
    "           2017,2017,2017,2017,2017]\n",
    "})"
   ]
  },
  {
   "cell_type": "code",
   "execution_count": 241,
   "metadata": {
    "collapsed": false
   },
   "outputs": [
    {
     "data": {
      "text/plain": [
       "N  90813202         15718\n",
       "G  052164DS         10950\n",
       "B  000DS            10494\n",
       "OEL02                9120\n",
       "W-AG-EM              7307\n",
       "N  10648301          7169\n",
       "WHT000729A           6941\n",
       "000010006            6305\n",
       "03L115562            5890\n",
       "1K1819653B           5033\n",
       "N  0138157           4414\n",
       "SKBV18               4353\n",
       "1100                 4151\n",
       "SKN  90813202        3981\n",
       "03N115562            3628\n",
       "G  013DS             3432\n",
       "2000                 3077\n",
       "G  052910DS          3059\n",
       "E2000                2701\n",
       "ZVWLWASSER           2496\n",
       "GEWI                 2473\n",
       "D  00950025          2464\n",
       "LMW030000Z0          2340\n",
       "839601361            2321\n",
       "311601361            2313\n",
       "1K0825951            2288\n",
       "7000                 2241\n",
       "AULGEWI              2099\n",
       "D  00940104          2011\n",
       "W-SONST              1972\n",
       "                    ...  \n",
       "1J6945095BA             1\n",
       "4L0821102               1\n",
       "SK03C145299C            1\n",
       "058903018 X             1\n",
       "701010090H              1\n",
       "5M0941109               1\n",
       "SK5J6804875B            1\n",
       "04L906054               1\n",
       "8X0711327D 1KT          1\n",
       "5G0601025BQ88Z          1\n",
       "SK6U0905851C            1\n",
       "ZTW226457VCS80          1\n",
       "ZTS226458WGGP1          1\n",
       "4H0825190B              1\n",
       "8T1819636A 6PS          1\n",
       "N  10742901             1\n",
       "SK1K0815479B            1\n",
       "03L906018SJ             1\n",
       "S7N0837701B             1\n",
       "1Q0881405DLC0S          1\n",
       "1K0971845AE             1\n",
       "SK028145757             1\n",
       "SK3T9857448  RAA        1\n",
       "SK5E9827550A            1\n",
       "SK5JA052000             1\n",
       "8X0813301TB             1\n",
       "06A103469BB             1\n",
       "8T8813295               1\n",
       "4F0820031C              1\n",
       "8K0807285T 1RR          1\n",
       "Name: Teile-Nr, Length: 40860, dtype: int64"
      ]
     },
     "execution_count": 241,
     "metadata": {},
     "output_type": "execute_result"
    }
   ],
   "source": [
    "train['Teile-Nr'].value_counts()"
   ]
  },
  {
   "cell_type": "code",
   "execution_count": null,
   "metadata": {
    "collapsed": true
   },
   "outputs": [],
   "source": []
  }
 ],
 "metadata": {
  "kernelspec": {
   "display_name": "data_mining",
   "language": "python",
   "name": "data_mining"
  },
  "language_info": {
   "codemirror_mode": {
    "name": "ipython",
    "version": 3
   },
   "file_extension": ".py",
   "mimetype": "text/x-python",
   "name": "python",
   "nbconvert_exporter": "python",
   "pygments_lexer": "ipython3",
   "version": "3.6.5"
  }
 },
 "nbformat": 4,
 "nbformat_minor": 2
}
