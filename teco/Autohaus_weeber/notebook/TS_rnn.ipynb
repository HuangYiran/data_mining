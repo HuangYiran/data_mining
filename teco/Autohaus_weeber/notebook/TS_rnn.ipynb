{
 "cells": [
  {
   "cell_type": "code",
   "execution_count": 1,
   "metadata": {
    "collapsed": true
   },
   "outputs": [],
   "source": [
    "# load package\n",
    "# string \n",
    "import re\n",
    "\n",
    "# date\n",
    "from datetime import datetime\n",
    "\n",
    "# math\n",
    "import pandas as pd\n",
    "import numpy as np\n",
    "import scipy as sp\n",
    "import random\n",
    "\n",
    "# nlp\n",
    "from pattern.de import parse, conjugate, singularize, pluralize\n",
    "\n",
    "# sys\n",
    "import sys\n",
    "import os\n",
    "import time\n",
    "import warnings\n",
    "\n",
    "# machine learning\n",
    "from sklearn import svm, tree, linear_model, neighbors, naive_bayes, ensemble, gaussian_process, discriminant_analysis\n",
    "from xgboost import XGBClassifier\n",
    "\n",
    "# model utils\n",
    "from sklearn.preprocessing import OneHotEncoder, LabelEncoder\n",
    "from sklearn import feature_selection \n",
    "from sklearn import model_selection\n",
    "from sklearn import metrics\n",
    "\n",
    "# plot\n",
    "import matplotlib as mpl\n",
    "import matplotlib.pyplot as plt\n",
    "import matplotlib.pylab as pylab\n",
    "import seaborn as sns\n",
    "from pandas.tools.plotting import scatter_matrix #??\n",
    "# = show plots in Jupyter Notebook browser\n",
    "%matplotlib inline \n",
    "mpl.style.use('ggplot') #??\n",
    "sns.set_style('white')\n",
    "pylab.rcParams['figure.figsize'] = 12,8 #??\n",
    "\n",
    "# show all columns\n",
    "from IPython.display import display\n",
    "pd.options.display.max_columns = None\n",
    "\n",
    "# self define\n",
    "sys.path.append('../../utils/')"
   ]
  },
  {
   "cell_type": "code",
   "execution_count": 2,
   "metadata": {
    "collapsed": false
   },
   "outputs": [
    {
     "name": "stderr",
     "output_type": "stream",
     "text": [
      "/Users/ihuangyiran/anaconda2/envs/data_mining/lib/python3.6/site-packages/IPython/core/interactiveshell.py:2785: DtypeWarning: Columns (15) have mixed types. Specify dtype option on import or set low_memory=False.\n",
      "  interactivity=interactivity, compiler=compiler, result=result)\n",
      "/Users/ihuangyiran/anaconda2/envs/data_mining/lib/python3.6/site-packages/IPython/core/interactiveshell.py:2785: DtypeWarning: Columns (1,15) have mixed types. Specify dtype option on import or set low_memory=False.\n",
      "  interactivity=interactivity, compiler=compiler, result=result)\n"
     ]
    }
   ],
   "source": [
    "# read files\n",
    "lb_wsp_2014 = pd.read_csv('../data/Autohaus_weeber/leonberg_werkstattposten_2014.csv', sep = ';')\n",
    "lb_wsp_2015 = pd.read_csv('../data/Autohaus_weeber/leonberg_werkstattposten_2015.csv', sep = ';')\n",
    "lb_wsp_2016 = pd.read_csv('../data/Autohaus_weeber/leonberg_werkstattposten_2016.csv', sep = ';')\n",
    "lb_wsp_2017 = pd.read_csv('../data/Autohaus_weeber/leonberg_werkstattposten_2017.csv', sep = ';')\n",
    "lb_wsp_2018 = pd.read_csv('../data/Autohaus_weeber/leonberg_werkstattposten_2018.csv', sep = ';')\n",
    "std_wsp_2014 = pd.read_csv('../data/Autohaus_weeber/weil_der_stadt_werkstattposten_2014.csv', sep = ';')\n",
    "std_wsp_2015 = pd.read_csv('../data/Autohaus_weeber/weil_der_stadt_werkstattposten_2015.csv', sep = ';')\n",
    "std_wsp_2016 = pd.read_csv('../data/Autohaus_weeber/weil_der_stadt_werkstattposten_2016.csv', sep = ';')\n",
    "std_wsp_2017 = pd.read_csv('../data/Autohaus_weeber/weil_der_stadt_werkstattposten_2017.csv', sep = ';')\n",
    "std_wsp_2018 = pd.read_csv('../data/Autohaus_weeber/weil_der_stadt_werkstattposten_2018.csv', sep = ';')\n",
    "# cat\n",
    "d1 = lb_wsp_2014.copy()\n",
    "d2 = lb_wsp_2015.copy()\n",
    "d3 = lb_wsp_2016.copy()\n",
    "d4 = lb_wsp_2017.copy()\n",
    "d5 = lb_wsp_2018.copy()\n",
    "\n",
    "d6 = std_wsp_2014.copy()\n",
    "d7 = std_wsp_2015.copy()\n",
    "d8 = std_wsp_2016.copy()\n",
    "d9 = std_wsp_2017.copy()\n",
    "d10 = std_wsp_2018.copy()"
   ]
  },
  {
   "cell_type": "code",
   "execution_count": 3,
   "metadata": {
    "collapsed": true
   },
   "outputs": [],
   "source": [
    "# for training we use data from 14 - 17 in lb_wsp\n",
    "train = pd.concat([d1,d2,d3,d4], 0)\n",
    "test = d5\n",
    "data = [train, test]"
   ]
  },
  {
   "cell_type": "code",
   "execution_count": 4,
   "metadata": {
    "collapsed": false
   },
   "outputs": [
    {
     "name": "stdout",
     "output_type": "stream",
     "text": [
      "<class 'pandas.core.frame.DataFrame'>\n",
      "Int64Index: 1001054 entries, 0 to 279792\n",
      "Data columns (total 21 columns):\n",
      "Auftragsnummer          1001054 non-null object\n",
      "AW-Nr                   437185 non-null object\n",
      "Teile-Nr                517935 non-null object\n",
      "KM-Stand                1000958 non-null object\n",
      "Beschreibung            1000315 non-null object\n",
      "Auftragsdatum           1001054 non-null object\n",
      "Markencode              995567 non-null object\n",
      "Lagerortcode            1001054 non-null object\n",
      "Adressanredecode        991514 non-null object\n",
      "Fahrgestellnummer       996850 non-null object\n",
      "Motorcode               979644 non-null object\n",
      "Fahrzeugmodellnummer    995486 non-null object\n",
      "Modell                  993023 non-null object\n",
      "Typ                     720265 non-null object\n",
      "Getriebecode            976875 non-null object\n",
      "Getriebeartcode         575 non-null object\n",
      "Gewicht                 995390 non-null object\n",
      "Leistung (KW)           995390 non-null float64\n",
      "Erstzulassungsdatum     995390 non-null object\n",
      "Neuwagen                571712 non-null object\n",
      "Unnamed: 20             0 non-null float64\n",
      "dtypes: float64(2), object(19)\n",
      "memory usage: 168.0+ MB\n"
     ]
    }
   ],
   "source": [
    "train.info()"
   ]
  },
  {
   "cell_type": "code",
   "execution_count": 4,
   "metadata": {
    "collapsed": true
   },
   "outputs": [],
   "source": [
    "# 转化为auftrag table， 但是这次合并的是Teile-Nr项\n",
    "# 给的数据的每一行都是一个维修项，初衷是，把属于同一个auftrag的维修项合并到一起，看一下，在同一个Auftrag中，经常一起修的是那些内容\n",
    "\n",
    "def toAuftragTable(df, att, auftn, clean = True):\n",
    "    \"\"\"\n",
    "    input:\n",
    "        df, DataFrame:\n",
    "            the dataframe\n",
    "        att, string:\n",
    "            the column name of the target attribute\n",
    "        auftn, string:\n",
    "            the column name of the aftragsnummer attribute\n",
    "        clean:\n",
    "            when true, drop the null item in auftn attribute.\n",
    "    output:\n",
    "        df_g, DataFrame:\n",
    "            dataframe contrains two columns auftn and att\n",
    "            type of item in att is string, separate with ';'\n",
    "    \"\"\"\n",
    "    # assert: make sure the type of the attributes inputted\n",
    "    \n",
    "    # extract the att and date columns\n",
    "    df = df[[att, auftn]]\n",
    "    # set type to object\n",
    "    #df[att] = df[att].astype('object')\n",
    "    #df[auftn] = df[auftn].astype('object')\n",
    "    # if clean is True, drop the fake data, like the null data\n",
    "    if clean:\n",
    "        print(\"Falls Null date exist, drop these dates directly\")\n",
    "        #df = df.drop(df[df[att].isnull()].index)\n",
    "        df = df.drop(df[df[auftn].isnull()].index)\n",
    "    # group and sum \n",
    "    df_g = df.groupby([auftn], as_index = False).apply(agg)\n",
    "    return df_g\n",
    "\n",
    "# apply 只能对单行进行处理，而不是对整个分组进行处理，所以估计应该把axis换成1，比较好\n",
    "def agg(x):\n",
    "    # 是否用‘ ’分隔会比较好，这样就不用对初始的属性，\n",
    "    # x 在这里是dataframe？？？\n",
    "    #x = [str(i) for i in x]\n",
    "    x = x.apply(lambda x: ';'.join(set([str(i) for i in x])), axis = 0)\n",
    "    #x = x.apply(lambda x: ' '.join(set(x)), axis = 0)\n",
    "    #print(x.columns.values)\n",
    "    return x"
   ]
  },
  {
   "cell_type": "code",
   "execution_count": 16,
   "metadata": {
    "collapsed": false
   },
   "outputs": [
    {
     "name": "stdout",
     "output_type": "stream",
     "text": [
      "Null date exist, drop these dates directly\n"
     ]
    }
   ],
   "source": [
    "df_train = toAuftragTable(train, 'Teile-Nr', 'Auftragsnummer')"
   ]
  },
  {
   "cell_type": "code",
   "execution_count": 17,
   "metadata": {
    "collapsed": false
   },
   "outputs": [
    {
     "data": {
      "text/html": [
       "<div>\n",
       "<style scoped>\n",
       "    .dataframe tbody tr th:only-of-type {\n",
       "        vertical-align: middle;\n",
       "    }\n",
       "\n",
       "    .dataframe tbody tr th {\n",
       "        vertical-align: top;\n",
       "    }\n",
       "\n",
       "    .dataframe thead th {\n",
       "        text-align: right;\n",
       "    }\n",
       "</style>\n",
       "<table border=\"1\" class=\"dataframe\">\n",
       "  <thead>\n",
       "    <tr style=\"text-align: right;\">\n",
       "      <th></th>\n",
       "      <th>Teile-Nr</th>\n",
       "      <th>Auftragsnummer</th>\n",
       "    </tr>\n",
       "  </thead>\n",
       "  <tbody>\n",
       "    <tr>\n",
       "      <th>0</th>\n",
       "      <td>HDV;JLU</td>\n",
       "      <td>103K</td>\n",
       "    </tr>\n",
       "    <tr>\n",
       "      <th>1</th>\n",
       "      <td>JCR;GQQ</td>\n",
       "      <td>77KW</td>\n",
       "    </tr>\n",
       "    <tr>\n",
       "      <th>2</th>\n",
       "      <td>nan</td>\n",
       "      <td>WSAU000839</td>\n",
       "    </tr>\n",
       "    <tr>\n",
       "      <th>3</th>\n",
       "      <td>ZZ MET;LMW030000Z0;nan;D  330KD2A1;ZZ UBS</td>\n",
       "      <td>WSAU195981</td>\n",
       "    </tr>\n",
       "    <tr>\n",
       "      <th>4</th>\n",
       "      <td>N  10648301;8K0698451A;8K0127400A;N  91041702;...</td>\n",
       "      <td>WSAU198256</td>\n",
       "    </tr>\n",
       "    <tr>\n",
       "      <th>5</th>\n",
       "      <td>1Q1998002;071115562C;N  10591501;N  90813202;n...</td>\n",
       "      <td>WSAU200129</td>\n",
       "    </tr>\n",
       "    <tr>\n",
       "      <th>6</th>\n",
       "      <td>1J5853601C 739;N  0385491;N  0120053;1J0092155...</td>\n",
       "      <td>WSAU200223</td>\n",
       "    </tr>\n",
       "    <tr>\n",
       "      <th>7</th>\n",
       "      <td>03L903137A;071115562C;8K9955425;8K1998002A;nan...</td>\n",
       "      <td>WSAU200258</td>\n",
       "    </tr>\n",
       "    <tr>\n",
       "      <th>8</th>\n",
       "      <td>B  000DS;06A115561B;N  90813202;nan;8E0819439;...</td>\n",
       "      <td>WSAU200259</td>\n",
       "    </tr>\n",
       "    <tr>\n",
       "      <th>9</th>\n",
       "      <td>W-AN-GAR;N  0209022;nan;8P0963555G;8P0881361G</td>\n",
       "      <td>WSAU200260</td>\n",
       "    </tr>\n",
       "    <tr>\n",
       "      <th>10</th>\n",
       "      <td>N  10648301;059963319M;E3000;B  000DS;N  01381...</td>\n",
       "      <td>WSAU200263</td>\n",
       "    </tr>\n",
       "    <tr>\n",
       "      <th>11</th>\n",
       "      <td>Z  381381TE;4G0845099  NVB;D  00940104;4G88456...</td>\n",
       "      <td>WSAU200264</td>\n",
       "    </tr>\n",
       "    <tr>\n",
       "      <th>12</th>\n",
       "      <td>Z  381381TE;8E0845631;8E0845099AHNVB;nan;8E001...</td>\n",
       "      <td>WSAU200269</td>\n",
       "    </tr>\n",
       "    <tr>\n",
       "      <th>13</th>\n",
       "      <td>06L103801;06L115562;nan;ZZ 07;OEL02</td>\n",
       "      <td>WSAU200270</td>\n",
       "    </tr>\n",
       "    <tr>\n",
       "      <th>14</th>\n",
       "      <td>B  000DS;W-AG-EM;nan</td>\n",
       "      <td>WSAU200272</td>\n",
       "    </tr>\n",
       "    <tr>\n",
       "      <th>15</th>\n",
       "      <td>OEL02;nan;N  0138157;059198405</td>\n",
       "      <td>WSAU200275</td>\n",
       "    </tr>\n",
       "    <tr>\n",
       "      <th>16</th>\n",
       "      <td>8F1998002A;1J0955205A 9B9;nan;N  90813202;G  0...</td>\n",
       "      <td>WSAU200276</td>\n",
       "    </tr>\n",
       "    <tr>\n",
       "      <th>17</th>\n",
       "      <td>03L131120A;03K131547C;B  000750S0;8K0721257A;nan</td>\n",
       "      <td>WSAU200278</td>\n",
       "    </tr>\n",
       "    <tr>\n",
       "      <th>18</th>\n",
       "      <td>N  91167901;8R0133843K;N  0138157;8K1998002A;n...</td>\n",
       "      <td>WSAU200279</td>\n",
       "    </tr>\n",
       "    <tr>\n",
       "      <th>19</th>\n",
       "      <td>839601361;03C905601B;1K1819653B;G  052164DS;na...</td>\n",
       "      <td>WSAU200286</td>\n",
       "    </tr>\n",
       "    <tr>\n",
       "      <th>20</th>\n",
       "      <td>1K0615301AK;N  10648301;000093113BS;101000033A...</td>\n",
       "      <td>WSAU200287</td>\n",
       "    </tr>\n",
       "    <tr>\n",
       "      <th>21</th>\n",
       "      <td>000979009E;000979941;nan</td>\n",
       "      <td>WSAU200288</td>\n",
       "    </tr>\n",
       "    <tr>\n",
       "      <th>22</th>\n",
       "      <td>7E5807417B GRU;N  90335005;7H3853932;7H0807322...</td>\n",
       "      <td>WSAU200289</td>\n",
       "    </tr>\n",
       "    <tr>\n",
       "      <th>23</th>\n",
       "      <td>Z  381381TE;D  00940104;8E0845631;nan;35784595...</td>\n",
       "      <td>WSAU200293</td>\n",
       "    </tr>\n",
       "    <tr>\n",
       "      <th>24</th>\n",
       "      <td>N  0138495;N  0385491;4A0805163;4A0805121C;B  ...</td>\n",
       "      <td>WSAU200294</td>\n",
       "    </tr>\n",
       "    <tr>\n",
       "      <th>25</th>\n",
       "      <td>N  0138157;nan;059198405;G  052164M2;OEL02;533...</td>\n",
       "      <td>WSAU200325</td>\n",
       "    </tr>\n",
       "    <tr>\n",
       "      <th>26</th>\n",
       "      <td>nan</td>\n",
       "      <td>WSAU200326</td>\n",
       "    </tr>\n",
       "    <tr>\n",
       "      <th>27</th>\n",
       "      <td>N  10648301;4G0698451;nan;059198405;4G0121448A...</td>\n",
       "      <td>WSAU200327</td>\n",
       "    </tr>\n",
       "    <tr>\n",
       "      <th>28</th>\n",
       "      <td>N  10648301;8K0698451A;8K0127400A;B  000DS;N  ...</td>\n",
       "      <td>WSAU200328</td>\n",
       "    </tr>\n",
       "    <tr>\n",
       "      <th>29</th>\n",
       "      <td>8K0127400A;071115562C;8K1998002A;nan;N  908132...</td>\n",
       "      <td>WSAU200329</td>\n",
       "    </tr>\n",
       "    <tr>\n",
       "      <th>...</th>\n",
       "      <td>...</td>\n",
       "      <td>...</td>\n",
       "    </tr>\n",
       "    <tr>\n",
       "      <th>86602</th>\n",
       "      <td>8R1998002;nan</td>\n",
       "      <td>WSAU319530</td>\n",
       "    </tr>\n",
       "    <tr>\n",
       "      <th>86603</th>\n",
       "      <td>nan</td>\n",
       "      <td>WSAU319532</td>\n",
       "    </tr>\n",
       "    <tr>\n",
       "      <th>86604</th>\n",
       "      <td>nan;1K1819653B;Z  093164</td>\n",
       "      <td>WSAU319533</td>\n",
       "    </tr>\n",
       "    <tr>\n",
       "      <th>86605</th>\n",
       "      <td>N  0177632;nan;N  0177535</td>\n",
       "      <td>WSAU319535</td>\n",
       "    </tr>\n",
       "    <tr>\n",
       "      <th>86606</th>\n",
       "      <td>nan</td>\n",
       "      <td>WSAU319536</td>\n",
       "    </tr>\n",
       "    <tr>\n",
       "      <th>86607</th>\n",
       "      <td>5G0601147B YTI;ZKW205556HS4O1;nan;ZKW205556HS4O2</td>\n",
       "      <td>WSAU319537</td>\n",
       "    </tr>\n",
       "    <tr>\n",
       "      <th>86608</th>\n",
       "      <td>2000</td>\n",
       "      <td>WSAU319539</td>\n",
       "    </tr>\n",
       "    <tr>\n",
       "      <th>86609</th>\n",
       "      <td>5000;nan;G  052164DS</td>\n",
       "      <td>WSAU319543</td>\n",
       "    </tr>\n",
       "    <tr>\n",
       "      <th>86610</th>\n",
       "      <td>N  10648301;5K0698451C;N  91168901;H-S;nan;5Q0...</td>\n",
       "      <td>WSAU319546</td>\n",
       "    </tr>\n",
       "    <tr>\n",
       "      <th>86611</th>\n",
       "      <td>nan</td>\n",
       "      <td>WSAU319547</td>\n",
       "    </tr>\n",
       "    <tr>\n",
       "      <th>86612</th>\n",
       "      <td>nan</td>\n",
       "      <td>WSAU319549</td>\n",
       "    </tr>\n",
       "    <tr>\n",
       "      <th>86613</th>\n",
       "      <td>8W0060866M;8V0073536  8Z8;8V0063192A;8V0073636...</td>\n",
       "      <td>WSAU319551</td>\n",
       "    </tr>\n",
       "    <tr>\n",
       "      <th>86614</th>\n",
       "      <td>SK06L115562;nan;SK06L103801;SKBV18</td>\n",
       "      <td>WSAU319638</td>\n",
       "    </tr>\n",
       "    <tr>\n",
       "      <th>86615</th>\n",
       "      <td>nan</td>\n",
       "      <td>WSAU319851</td>\n",
       "    </tr>\n",
       "    <tr>\n",
       "      <th>86616</th>\n",
       "      <td>nan</td>\n",
       "      <td>WSAU319878</td>\n",
       "    </tr>\n",
       "    <tr>\n",
       "      <th>86617</th>\n",
       "      <td>C90210F1</td>\n",
       "      <td>WSAU320347</td>\n",
       "    </tr>\n",
       "    <tr>\n",
       "      <th>86618</th>\n",
       "      <td>nan</td>\n",
       "      <td>WSAU320454</td>\n",
       "    </tr>\n",
       "    <tr>\n",
       "      <th>86619</th>\n",
       "      <td>nan</td>\n",
       "      <td>WSAU320539</td>\n",
       "    </tr>\n",
       "    <tr>\n",
       "      <th>86620</th>\n",
       "      <td>3G9955427B;ZTW213606HPZ31;03N115562;N  9081320...</td>\n",
       "      <td>WSAU320611</td>\n",
       "    </tr>\n",
       "    <tr>\n",
       "      <th>86621</th>\n",
       "      <td>SKG  013A8JS0;W-SONST;SK038109454A;SKN  910488...</td>\n",
       "      <td>WSAU320643</td>\n",
       "    </tr>\n",
       "    <tr>\n",
       "      <th>86622</th>\n",
       "      <td>SK3AF943021A;nan</td>\n",
       "      <td>WSAU320795</td>\n",
       "    </tr>\n",
       "    <tr>\n",
       "      <th>86623</th>\n",
       "      <td>nan</td>\n",
       "      <td>WSAU320922</td>\n",
       "    </tr>\n",
       "    <tr>\n",
       "      <th>86624</th>\n",
       "      <td>nan</td>\n",
       "      <td>WSAU321505</td>\n",
       "    </tr>\n",
       "    <tr>\n",
       "      <th>86625</th>\n",
       "      <td>W-AN-GAR</td>\n",
       "      <td>WSAU323927</td>\n",
       "    </tr>\n",
       "    <tr>\n",
       "      <th>86626</th>\n",
       "      <td>nan</td>\n",
       "      <td>WSAU325870</td>\n",
       "    </tr>\n",
       "    <tr>\n",
       "      <th>86627</th>\n",
       "      <td>nan</td>\n",
       "      <td>WSAU325976</td>\n",
       "    </tr>\n",
       "    <tr>\n",
       "      <th>86628</th>\n",
       "      <td>nan</td>\n",
       "      <td>WSAU326110</td>\n",
       "    </tr>\n",
       "    <tr>\n",
       "      <th>86629</th>\n",
       "      <td>nan</td>\n",
       "      <td>WSAU328805</td>\n",
       "    </tr>\n",
       "    <tr>\n",
       "      <th>86630</th>\n",
       "      <td>nan</td>\n",
       "      <td>WSAU329117</td>\n",
       "    </tr>\n",
       "    <tr>\n",
       "      <th>86631</th>\n",
       "      <td>02Z301230J;N  91021102;nan;7H0711051N;N  90761102</td>\n",
       "      <td>WSAU330854</td>\n",
       "    </tr>\n",
       "  </tbody>\n",
       "</table>\n",
       "<p>86632 rows × 2 columns</p>\n",
       "</div>"
      ],
      "text/plain": [
       "                                                Teile-Nr Auftragsnummer\n",
       "0                                                HDV;JLU           103K\n",
       "1                                                JCR;GQQ           77KW\n",
       "2                                                    nan     WSAU000839\n",
       "3              ZZ MET;LMW030000Z0;nan;D  330KD2A1;ZZ UBS     WSAU195981\n",
       "4      N  10648301;8K0698451A;8K0127400A;N  91041702;...     WSAU198256\n",
       "5      1Q1998002;071115562C;N  10591501;N  90813202;n...     WSAU200129\n",
       "6      1J5853601C 739;N  0385491;N  0120053;1J0092155...     WSAU200223\n",
       "7      03L903137A;071115562C;8K9955425;8K1998002A;nan...     WSAU200258\n",
       "8      B  000DS;06A115561B;N  90813202;nan;8E0819439;...     WSAU200259\n",
       "9          W-AN-GAR;N  0209022;nan;8P0963555G;8P0881361G     WSAU200260\n",
       "10     N  10648301;059963319M;E3000;B  000DS;N  01381...     WSAU200263\n",
       "11     Z  381381TE;4G0845099  NVB;D  00940104;4G88456...     WSAU200264\n",
       "12     Z  381381TE;8E0845631;8E0845099AHNVB;nan;8E001...     WSAU200269\n",
       "13                   06L103801;06L115562;nan;ZZ 07;OEL02     WSAU200270\n",
       "14                                  B  000DS;W-AG-EM;nan     WSAU200272\n",
       "15                        OEL02;nan;N  0138157;059198405     WSAU200275\n",
       "16     8F1998002A;1J0955205A 9B9;nan;N  90813202;G  0...     WSAU200276\n",
       "17      03L131120A;03K131547C;B  000750S0;8K0721257A;nan     WSAU200278\n",
       "18     N  91167901;8R0133843K;N  0138157;8K1998002A;n...     WSAU200279\n",
       "19     839601361;03C905601B;1K1819653B;G  052164DS;na...     WSAU200286\n",
       "20     1K0615301AK;N  10648301;000093113BS;101000033A...     WSAU200287\n",
       "21                              000979009E;000979941;nan     WSAU200288\n",
       "22     7E5807417B GRU;N  90335005;7H3853932;7H0807322...     WSAU200289\n",
       "23     Z  381381TE;D  00940104;8E0845631;nan;35784595...     WSAU200293\n",
       "24     N  0138495;N  0385491;4A0805163;4A0805121C;B  ...     WSAU200294\n",
       "25     N  0138157;nan;059198405;G  052164M2;OEL02;533...     WSAU200325\n",
       "26                                                   nan     WSAU200326\n",
       "27     N  10648301;4G0698451;nan;059198405;4G0121448A...     WSAU200327\n",
       "28     N  10648301;8K0698451A;8K0127400A;B  000DS;N  ...     WSAU200328\n",
       "29     8K0127400A;071115562C;8K1998002A;nan;N  908132...     WSAU200329\n",
       "...                                                  ...            ...\n",
       "86602                                      8R1998002;nan     WSAU319530\n",
       "86603                                                nan     WSAU319532\n",
       "86604                           nan;1K1819653B;Z  093164     WSAU319533\n",
       "86605                          N  0177632;nan;N  0177535     WSAU319535\n",
       "86606                                                nan     WSAU319536\n",
       "86607   5G0601147B YTI;ZKW205556HS4O1;nan;ZKW205556HS4O2     WSAU319537\n",
       "86608                                               2000     WSAU319539\n",
       "86609                               5000;nan;G  052164DS     WSAU319543\n",
       "86610  N  10648301;5K0698451C;N  91168901;H-S;nan;5Q0...     WSAU319546\n",
       "86611                                                nan     WSAU319547\n",
       "86612                                                nan     WSAU319549\n",
       "86613  8W0060866M;8V0073536  8Z8;8V0063192A;8V0073636...     WSAU319551\n",
       "86614                 SK06L115562;nan;SK06L103801;SKBV18     WSAU319638\n",
       "86615                                                nan     WSAU319851\n",
       "86616                                                nan     WSAU319878\n",
       "86617                                           C90210F1     WSAU320347\n",
       "86618                                                nan     WSAU320454\n",
       "86619                                                nan     WSAU320539\n",
       "86620  3G9955427B;ZTW213606HPZ31;03N115562;N  9081320...     WSAU320611\n",
       "86621  SKG  013A8JS0;W-SONST;SK038109454A;SKN  910488...     WSAU320643\n",
       "86622                                   SK3AF943021A;nan     WSAU320795\n",
       "86623                                                nan     WSAU320922\n",
       "86624                                                nan     WSAU321505\n",
       "86625                                           W-AN-GAR     WSAU323927\n",
       "86626                                                nan     WSAU325870\n",
       "86627                                                nan     WSAU325976\n",
       "86628                                                nan     WSAU326110\n",
       "86629                                                nan     WSAU328805\n",
       "86630                                                nan     WSAU329117\n",
       "86631  02Z301230J;N  91021102;nan;7H0711051N;N  90761102     WSAU330854\n",
       "\n",
       "[86632 rows x 2 columns]"
      ]
     },
     "execution_count": 17,
     "metadata": {},
     "output_type": "execute_result"
    }
   ],
   "source": [
    "df_train"
   ]
  },
  {
   "cell_type": "code",
   "execution_count": 5,
   "metadata": {
    "collapsed": false,
    "scrolled": true
   },
   "outputs": [],
   "source": [
    "class FreDict:\n",
    "    \"\"\"\n",
    "    统计单词和出现的频率\n",
    "    文档中的每个字都会被记录进去，所以应该确认输入的文件内容，只含有目标列属性\n",
    "    \"\"\"\n",
    "    def __init__(self, path, header = True, sep = ';', clean = False, recover = False, singular = False):\n",
    "        \"\"\"\n",
    "        input:\n",
    "            path: string\n",
    "                the path of the file\n",
    "            header: boolean\n",
    "                weather the file contains header of not\n",
    "            sep: string\n",
    "                the sep of the file in each line\n",
    "            clean: boolean\n",
    "                remove the word with single buchstachben or not\n",
    "            recover: boolean\n",
    "                transform 'ae', 'oe', 'ue', 'ss' back to 'ä', 'ö', 'ü', 'ß' usw.\n",
    "            singular: boolean\n",
    "                weather turns the word to singular or not\n",
    "        \"\"\"\n",
    "        self.dict_re = {'ae': 'ä', 'oe': 'ö', 'ue': 'ü', 'ß': 'ss', 'u.': 'und ', 'fzg': 'fahrzeug', ' f ': ' für '}\n",
    "        self.words, self.dict_count = self._load_data(path, header, sep, clean, recover, singular) # list of Words\n",
    "        self.ls_sorted = self._sort_dict(self.words) # list of list\n",
    "        self.len = len(self.words)\n",
    "    \n",
    "    def get_word(self, w):\n",
    "        if w in self.dict_count.keys():\n",
    "            return self.dict_count[w]\n",
    "        else:\n",
    "            return Word('x', 0, 'NAW')\n",
    "    \n",
    "    def get_best(self, s):\n",
    "        \"\"\"\n",
    "        input:\n",
    "            s string:\n",
    "                list of words in form of string\n",
    "        output:\n",
    "            out string:\n",
    "                the frequentest word\n",
    "        \"\"\"\n",
    "        words = s.split(' ')\n",
    "        words = [word.strip() for word in words]\n",
    "        out = 'xxx'\n",
    "        count = 0\n",
    "        for word in words:\n",
    "            tmp = self.get_word(word)\n",
    "            if tmp.get_count() > count:\n",
    "                out = tmp.get_word()\n",
    "                count = tmp.get_count()\n",
    "        return out\n",
    "        \n",
    "    def top(self, n = 10):\n",
    "        # return list of list\n",
    "        # get the top n item \n",
    "        if n == -1:\n",
    "            return self.ls_sorted\n",
    "        return self.ls_sorted[:n]\n",
    "    \n",
    "    def top_norm(self, n = 10):\n",
    "        # get the top n norm\n",
    "        out = []\n",
    "        counter = 0\n",
    "        for i in self.ls_sorted:\n",
    "            if counter >= n and n != -1:\n",
    "                break\n",
    "            if i[2] == 'NN' or i[2] == 'NNP' or i[2] == 'NNS' or i[2] == 'NNPS':\n",
    "                out.append(i)\n",
    "            counter += 1\n",
    "        return out\n",
    "    \n",
    "    def top_verb(self, n = 10):\n",
    "        # get the top n verb\n",
    "        out = []\n",
    "        counter = 0\n",
    "        for i in self.ls_sorted:\n",
    "            if counter >= n and n != -1:\n",
    "                break\n",
    "            if i[2] == 'VB' or i[2] == 'VBZ' or i[2] == 'VBP' or i[2] == 'VBD' or i[2] == 'VBN' or i[2] == 'VBG':\n",
    "                out.append(i)\n",
    "            counter += 1\n",
    "        return out\n",
    "    \n",
    "    def _load_data(self, path, header, sep, clean, recover, singular):\n",
    "        \"\"\"\n",
    "        return list of words and count dictionary\n",
    "        \"\"\"\n",
    "        dic = {}\n",
    "        with open(path) as fi:\n",
    "            counter = 0\n",
    "            for li in fi:\n",
    "                li = li.strip()\n",
    "                if li[0] == '\"':\n",
    "                    li = li[1:]\n",
    "                if li[-1] == '\"':\n",
    "                    li = li[:-1]\n",
    "                if header and counter == 0:\n",
    "                    # drop first line if header is true\n",
    "                    counter += 1\n",
    "                    continue\n",
    "                li = li.strip()\n",
    "                if recover:\n",
    "                    # recover same express if necessary\n",
    "                    for i, j in self.dict_re.items():\n",
    "                        if i in li:\n",
    "                            li = re.sub(i, j, li)\n",
    "                items = re.split('[;, ]', li)\n",
    "                #items = li.split(sep)\n",
    "                for item in items:\n",
    "                    if item not in dic.keys():\n",
    "                        if clean and len(item) <= 1:\n",
    "                            # remove the item with less than 2 ziffer\n",
    "                            continue\n",
    "                        else:\n",
    "                            dic[item] = 1\n",
    "                    else:\n",
    "                        dic[item] += 1\n",
    "                counter += 1\n",
    "        # transform to Word\n",
    "        words = []\n",
    "        for i, j in dic.items():\n",
    "            try:\n",
    "                if singular:\n",
    "                    i = singularize(i).lower()\n",
    "                words.append(Word(i, j, parse(i).split('/')[1]))\n",
    "                #words.append(Word(i, j, parse(conjugate(i)).split('/')[1]))\n",
    "            except:\n",
    "                words.append(Word(i, j, ''))\n",
    "        # pack the dic\n",
    "        dic = {i: Word(i, j, parse(i).split('/')[1]) for i, j in dic.items() if len(i) > 0 }\n",
    "        # return \n",
    "        return words, dic\n",
    "    \n",
    "    def _sort_dict(self, words):\n",
    "        # return list of words, sorted according to the count\n",
    "        li_sorted = sorted(words, key = lambda x: x.get_count(), reverse = True) \n",
    "        # transform to list\n",
    "        out = []\n",
    "        for i in li_sorted:\n",
    "            out.append(i.to_list())\n",
    "        return out\n",
    "    \n",
    "class Word:\n",
    "    \"\"\"\n",
    "    use @property to rewrite the class\n",
    "    \"\"\"\n",
    "    def __init__(self, word = 'NN', count = 1, tag = 'NN'):\n",
    "        self.word = word\n",
    "        self.count = count\n",
    "        self.tag = tag\n",
    "\n",
    "    def to_list(self):\n",
    "        out = [self.word, self.count, self.tag]\n",
    "        return out\n",
    "    \n",
    "    def __str__(self):\n",
    "        return self.word + \" \" + self.count + \" \" + self.tag\n",
    "\n",
    "    def get_count(self):\n",
    "        return self.count\n",
    "\n",
    "    def get_tag(self):\n",
    "        return self.tag\n",
    "\n",
    "    def get_word(self):\n",
    "        return self.word\n",
    "\n",
    "    def set_count(self, c):\n",
    "        self.count = c\n",
    "\n",
    "    def set_tag(self, t):\n",
    "        self.tag = t\n",
    "\n",
    "    def set_word(self, w):\n",
    "        self.word = w"
   ]
  },
  {
   "cell_type": "code",
   "execution_count": 30,
   "metadata": {
    "collapsed": false,
    "scrolled": true
   },
   "outputs": [],
   "source": [
    "# 找出全null的auftrag 到底都干了点什么\n",
    "nun_auftrag_list = df_train[df_train['Teile-Nr'] == 'nan']['Auftragsnummer'].tolist()"
   ]
  },
  {
   "cell_type": "code",
   "execution_count": 32,
   "metadata": {
    "collapsed": false
   },
   "outputs": [],
   "source": [
    "num_bool = train['Auftragsnummer'].map(lambda x: True if x in nun_auftrag_list else False)"
   ]
  },
  {
   "cell_type": "code",
   "execution_count": 33,
   "metadata": {
    "collapsed": false
   },
   "outputs": [],
   "source": [
    "#把所有纯服务的，Beschreibung找出来，做一个统计\n",
    "nun_bs = train[num_bool]['Beschreibung']"
   ]
  },
  {
   "cell_type": "code",
   "execution_count": 46,
   "metadata": {
    "collapsed": false
   },
   "outputs": [],
   "source": [
    "nun_bs.to_csv('/tmp/tmp.csv', sep = ';', index = False)\n",
    "dic = FreDict('/tmp/tmp.csv', header = True, sep = ';', clean = True, recover = True, singular = False)"
   ]
  },
  {
   "cell_type": "code",
   "execution_count": 47,
   "metadata": {
    "collapsed": false,
    "scrolled": true
   },
   "outputs": [
    {
     "data": {
      "text/plain": [
       "[['und', 2139, 'CC'],\n",
       " ['Batterie', 2070, 'NN'],\n",
       " ['geladen', 1964, 'VBN'],\n",
       " ['Softwareupdate', 1799, 'NN'],\n",
       " ['RÄDER', 1491, 'NN'],\n",
       " ['AUS-', 1377, 'IN'],\n",
       " ['GEPRÜFT', 1352, 'VBN'],\n",
       " ['GFS/GEFÜHRTE', 1282, 'NN'],\n",
       " ['FUNKTION', 1278, 'NN'],\n",
       " ['aund', 1268, 'NN'],\n",
       " ['UND', 997, 'CC'],\n",
       " ['eingebaund', 968, 'NN'],\n",
       " ['Funktion', 966, 'NN'],\n",
       " ['GFS/Geführte', 964, 'NN'],\n",
       " ['EINGEBAUT', 932, 'NNP'],\n",
       " ['FLÜSSIGKEITSSTÄNDE', 857, 'NN'],\n",
       " ['A+E', 853, 'NN'],\n",
       " ['BELEUCHTUNGS-CHECK', 811, 'NNP'],\n",
       " ['DURCHGEFÜHRT', 712, 'VBN'],\n",
       " ['Aktion', 646, 'NN'],\n",
       " ['für', 631, 'IN'],\n",
       " ['FAHRZEUG', 587, 'NN'],\n",
       " ['geprüft', 566, 'VBN'],\n",
       " ['hinten', 553, 'RB'],\n",
       " ['Räder', 531, 'NN'],\n",
       " ['Abschleppen', 530, 'VB'],\n",
       " ['aus-', 522, 'IN'],\n",
       " ['(AKTIONSPREIS)', 509, '('],\n",
       " ['23Q7', 504, 'NN'],\n",
       " ['ausgeführt', 503, 'VBN'],\n",
       " ['Gebühren', 501, 'NN'],\n",
       " ['Fremdleistung', 499, 'NN'],\n",
       " ['OHNE', 482, 'IN'],\n",
       " ['eingebaut', 480, 'NN'],\n",
       " ['vorn', 468, 'RB'],\n",
       " ['WAGENWÄSCHE', 468, 'NN'],\n",
       " ['BERECHNUNG', 465, 'NN'],\n",
       " ['U.EINGEBAUT', 440, 'NNP'],\n",
       " ['BATTERIE', 425, 'NN'],\n",
       " ['AUDI', 415, 'NNP'],\n",
       " ['nach', 395, 'IN'],\n",
       " ['Mietwagen', 367, 'NN'],\n",
       " ['GELADEN', 349, 'VBN'],\n",
       " ['DIALOGANNAHME', 307, 'NN'],\n",
       " ['ÜBERPRÜFUNG', 299, 'NN'],\n",
       " ['des', 298, 'DT'],\n",
       " ['TÜV', 296, 'NNP'],\n",
       " ['Anweisung', 291, 'NN'],\n",
       " ['Zusatzleistung', 289, 'NN'],\n",
       " ['Herstellers', 289, 'NN'],\n",
       " ['Stossfänger', 287, 'NN'],\n",
       " ['durchlaufender', 278, 'NN'],\n",
       " ['Posten/Agenturware', 277, 'NN'],\n",
       " ['Karosserie', 276, 'NN'],\n",
       " ['AU-SERVICE', 256, 'NN'],\n",
       " ['Lackierung', 255, 'NN'],\n",
       " ['HINTEN', 251, 'RB'],\n",
       " ['Skoda', 228, 'NN'],\n",
       " ['a+e', 217, 'NN'],\n",
       " ['Er', 213, 'PRP'],\n",
       " ['eingestellt', 210, 'VBN'],\n",
       " ['vorbereitet', 199, 'VBN'],\n",
       " ['AU-Service', 193, 'NN'],\n",
       " ['lackiert', 186, 'NN'],\n",
       " ['SANFT', 184, 'JJ'],\n",
       " ['der', 181, 'DT'],\n",
       " ['SETZEN', 180, 'VB'],\n",
       " ['MOB', 177, 'NN'],\n",
       " ['30%', 174, 'CD'],\n",
       " ['Eigenleistung', 172, 'NN'],\n",
       " ['Anteil', 172, 'NN'],\n",
       " ['prüfen', 169, 'VB'],\n",
       " ['INST', 166, 'NNP'],\n",
       " ['Europcar', 163, 'NN'],\n",
       " ['Abdeckung', 163, 'NN'],\n",
       " ['LINKS', 163, 'RB'],\n",
       " ['durchgeführt', 153, 'VBN'],\n",
       " ['im', 151, 'IN'],\n",
       " ['VORNE', 150, 'RB'],\n",
       " ['Euromobil', 147, 'NN'],\n",
       " ['Abdeckund', 145, 'NN'],\n",
       " ['Fahrzeugwäsche', 135, 'NN'],\n",
       " ['VORN', 134, 'RB'],\n",
       " ['von', 133, 'IN'],\n",
       " ['Pannenhilfe', 131, 'NN'],\n",
       " ['ABDECKUNG', 129, 'NN'],\n",
       " ['LONGLIFE', 128, 'NN'],\n",
       " ['NACH', 128, 'IN'],\n",
       " ['DEKRA', 127, 'NNP'],\n",
       " ['Lack', 125, 'NN'],\n",
       " ['RECHTS', 124, 'RB'],\n",
       " ['Wert', 124, 'NN'],\n",
       " ['5W30', 120, 'NN'],\n",
       " ['einbaün', 120, 'NN'],\n",
       " ['III', 119, 'CD'],\n",
       " ['Material', 113, 'NN'],\n",
       " ['00\\x80', 110, 'NN'],\n",
       " ['Weiterberechnung', 108, 'NN'],\n",
       " ['Check', 106, 'NN'],\n",
       " ['Türverkleidund', 105, 'NN']]"
      ]
     },
     "execution_count": 47,
     "metadata": {},
     "output_type": "execute_result"
    }
   ],
   "source": [
    "dic.top(100)"
   ]
  },
  {
   "cell_type": "markdown",
   "metadata": {},
   "source": [
    "#### conclusion so for \n",
    "- 共86632个Auftrag, 其中10094个Auftrag是纯服务型的，就是没有购买任何东西，占总体的1/8。\n",
    "- 所以光用Teile-Nr来分析他们的服务的话，只怕是不全面的。"
   ]
  },
  {
   "cell_type": "markdown",
   "metadata": {},
   "source": [
    "# 下面内容主要用于为后面的RNN提取训练以及测试的数据集"
   ]
  },
  {
   "cell_type": "markdown",
   "metadata": {},
   "source": [
    "### 数据加工\n",
    "具体操作，依据实现顺序，应该包括\n",
    "- 生成以Auftrag为id的数据表\n",
    "- 合并AW-Nr（抛弃非数字以及99999的项）\n",
    "- 提取年份和月份\n",
    "- Markencode归类\n",
    "- Addressanrede归类\n",
    "- Motor code归类\n",
    "- modell nummer归类\n",
    "- modell 归类\n",
    "- 依据fahrgestellsnummer做分组\n",
    "- 算时间间隔，放弃没有前置项的家伙\n",
    "- 算KM-stand间隔，放弃没有前置项的家伙\n",
    "- 对categories的属性进行编码或使用one-hot（确保数量不大的情况下）\n",
    "- 提取训练数据，target是下一个时间间隔。因为最后一项没有target，所以也应该被放弃掉。这里的一个问题是，应该把seq-len应该设为多少。"
   ]
  },
  {
   "cell_type": "code",
   "execution_count": 6,
   "metadata": {
    "collapsed": true
   },
   "outputs": [],
   "source": [
    "df = train.copy()"
   ]
  },
  {
   "cell_type": "code",
   "execution_count": 7,
   "metadata": {
    "collapsed": true
   },
   "outputs": [],
   "source": [
    "def toAuftragTable(df, att, auftn, clean = True):\n",
    "    \"\"\"\n",
    "    input:\n",
    "        df, DataFrame:\n",
    "            the dataframe\n",
    "        att, string:\n",
    "            the column name of the target attribute\n",
    "        auftn, string:\n",
    "            the column name of the aftragsnummer attribute\n",
    "        clean:\n",
    "            when true, drop the null item in auftn attribute.\n",
    "    output:\n",
    "        df_g, DataFrame:\n",
    "            dataframe contrains two columns auftn and att\n",
    "            type of item in att is string, separate with ';'\n",
    "    \"\"\"\n",
    "    # assert: make sure the type of the attributes inputted\n",
    "    \n",
    "    # extract the att and date columns\n",
    "    df = df[[att, auftn]]\n",
    "    # set type to object\n",
    "    #df[att] = df[att].astype('object')\n",
    "    #df[auftn] = df[auftn].astype('object')\n",
    "    # if clean is True, drop the fake data, like the null data\n",
    "    if clean:\n",
    "        print(\"Null date exist, drop these dates directly\")\n",
    "        #df = df.drop(df[df[att].isnull()].index)\n",
    "        df = df.drop(df[df[auftn].isnull()].index)\n",
    "    # group and sum \n",
    "    df_g = df.groupby([auftn], as_index = False).apply(agg)\n",
    "    return df_g\n",
    "\n",
    "# apply 只能对单行进行处理，而不是对整个分组进行处理，所以估计应该把axis换成1，比较好\n",
    "def agg(x):\n",
    "    # 是否用‘ ’分隔会比较好，这样就不用对初始的属性，\n",
    "    # x 在这里是dataframe？？？，还是就是一列\n",
    "    #x = [str(i) for i in x]\n",
    "    x = x.apply(lambda x: ';'.join(set([str(i) for i in x])), axis = 0)\n",
    "    #x = x.apply(lambda x: ' '.join(set(x)), axis = 0)\n",
    "    #print(x.columns.values)\n",
    "    return x"
   ]
  },
  {
   "cell_type": "code",
   "execution_count": 8,
   "metadata": {
    "collapsed": false
   },
   "outputs": [
    {
     "name": "stderr",
     "output_type": "stream",
     "text": [
      "/Users/ihuangyiran/anaconda2/envs/data_mining/lib/python3.6/site-packages/ipykernel_launcher.py:2: SettingWithCopyWarning: \n",
      "A value is trying to be set on a copy of a slice from a DataFrame\n",
      "\n",
      "See the caveats in the documentation: http://pandas.pydata.org/pandas-docs/stable/indexing.html#indexing-view-versus-copy\n",
      "  \n",
      "/Users/ihuangyiran/anaconda2/envs/data_mining/lib/python3.6/site-packages/ipykernel_launcher.py:3: SettingWithCopyWarning: \n",
      "A value is trying to be set on a copy of a slice from a DataFrame\n",
      "\n",
      "See the caveats in the documentation: http://pandas.pydata.org/pandas-docs/stable/indexing.html#indexing-view-versus-copy\n",
      "  This is separate from the ipykernel package so we can avoid doing imports until\n"
     ]
    }
   ],
   "source": [
    "# remove the items, that contain ziffer in the AW-Nr, set data type to int\n",
    "df['AW-Nr'][df['AW-Nr'].isnull()] = 0 # set null value to 0\n",
    "df['AW-Nr'][df['AW-Nr'] == '99999999'] = 0 # set 99999999 to 0\n",
    "df['AW-Nr'] = df['AW-Nr'].map(lambda x: re.sub(' ', '', str(x)))# remove space between the number\n",
    "del_index = df[df['AW-Nr'].map(lambda x: bool(re.search('[a-zA-Z]', str(x))))].index # remove fake data\n",
    "df = df.drop(del_index) \n",
    "df['AW-Nr'] = df['AW-Nr'].astype('float')"
   ]
  },
  {
   "cell_type": "code",
   "execution_count": 28,
   "metadata": {
    "collapsed": true
   },
   "outputs": [],
   "source": [
    "# remove wierd auftragsnummer\n",
    "df = df.drop(df[df['Auftragsnummer'] == '103K'].index)\n",
    "df = df.drop(df[df['Auftragsnummer'] == '77KW'].index)"
   ]
  },
  {
   "cell_type": "code",
   "execution_count": 29,
   "metadata": {
    "collapsed": false,
    "scrolled": true
   },
   "outputs": [
    {
     "name": "stdout",
     "output_type": "stream",
     "text": [
      "Null date exist, drop these dates directly\n"
     ]
    }
   ],
   "source": [
    "# transform to auftrag table and summieren the AW-Nr attribute for the same auftrag\n",
    "df_auf = toAuftragTable(df, 'AW-Nr', 'Auftragsnummer', clean = True)"
   ]
  },
  {
   "cell_type": "code",
   "execution_count": 30,
   "metadata": {
    "collapsed": false,
    "scrolled": false
   },
   "outputs": [],
   "source": [
    "# sum the AW-Nr\n",
    "df_auf['AW-Nr'] = df_auf['AW-Nr'].map(lambda x: sum([float(i) for i in x.split(';')]))"
   ]
  },
  {
   "cell_type": "code",
   "execution_count": 31,
   "metadata": {
    "collapsed": false
   },
   "outputs": [],
   "source": [
    "# merget the data original dataframe to df\n",
    "df_sel = df[['Auftragsnummer', 'KM-Stand', 'Auftragsdatum', 'Markencode', 'Lagerortcode', 'Adressanredecode', 'Fahrgestellnummer', 'Motorcode', 'Modell', 'Getriebecode']]\n",
    "df_sel = df_sel.drop_duplicates()"
   ]
  },
  {
   "cell_type": "code",
   "execution_count": 32,
   "metadata": {
    "collapsed": false,
    "scrolled": true
   },
   "outputs": [],
   "source": [
    "df_auf = pd.merge(df_auf, df_sel, how = 'left', on = 'Auftragsnummer')"
   ]
  },
  {
   "cell_type": "code",
   "execution_count": 33,
   "metadata": {
    "collapsed": false
   },
   "outputs": [],
   "source": [
    "# extract month and year attribute\n",
    "df_auf['month'] = df_auf['Auftragsdatum'].map(lambda x: int(x.split('.')[1]))\n",
    "df_auf['year'] = df_auf['Auftragsdatum'].map(lambda x: int(x.split('.')[2]))"
   ]
  },
  {
   "cell_type": "code",
   "execution_count": 13,
   "metadata": {
    "collapsed": false
   },
   "outputs": [],
   "source": [
    "# combine items in Markencode\n",
    "df_auf.loc[(df_auf['Markencode'] != 'VW') & (df_auf['Markencode'] != 'AUDI') & (df_auf['Markencode'] != 'SKODA'), 'Markencode'] = 'others'"
   ]
  },
  {
   "cell_type": "code",
   "execution_count": 14,
   "metadata": {
    "collapsed": false,
    "scrolled": true
   },
   "outputs": [],
   "source": [
    "# !!!!!!! 可以包装成一个方法，给属性中满足特定条件的项换值\n",
    "# combine items in Motor count < 100 will be set to other\n",
    "tmp = df_auf.copy()\n",
    "tmp['count'] = 1\n",
    "motor = tmp[['Motorcode', 'count']]\n",
    "mc = motor.groupby('Motorcode', as_index = False).count()\n",
    "tmp = pd.merge(df_auf, mc, how = 'left', on = 'Motorcode')\n",
    "tmp.loc[tmp['count'] < 100, 'Motorcode'] = 'others'\n",
    "tmp.drop('count', axis= 1, inplace= True)\n",
    "df_auf = tmp"
   ]
  },
  {
   "cell_type": "code",
   "execution_count": 15,
   "metadata": {
    "collapsed": false
   },
   "outputs": [],
   "source": [
    "# modell nummer\n",
    "tmp = df_auf.copy()\n",
    "tmp['count'] = 1\n",
    "motor = tmp[['Modell', 'count']]\n",
    "mc = motor.groupby('Modell', as_index = False).count()\n",
    "tmp = pd.merge(df_auf, mc, how = 'left', on = 'Modell')\n",
    "tmp.loc[tmp['count'] < 100, 'Modell'] = 'others'\n",
    "tmp.drop('count', axis= 1, inplace= True)\n",
    "df_auf = tmp"
   ]
  },
  {
   "cell_type": "code",
   "execution_count": 146,
   "metadata": {
    "collapsed": false
   },
   "outputs": [],
   "source": [
    "# getriebecode\n",
    "tmp = df_auf.copy()\n",
    "tmp['count'] = 1\n",
    "motor = tmp[['Getriebecode', 'count']]\n",
    "mc = motor.groupby('Getriebecode', as_index = False).count()\n",
    "tmp = pd.merge(df_auf, mc, how = 'left', on = 'Getriebecode')\n",
    "tmp.loc[tmp['count'] < 100, 'Getriebecode'] = 'others'\n",
    "tmp.drop('count', axis= 1, inplace= True)\n",
    "df_auf = tmp"
   ]
  },
  {
   "cell_type": "code",
   "execution_count": 266,
   "metadata": {
    "collapsed": true
   },
   "outputs": [],
   "source": [
    "# Adressanredecode\n",
    "data1 = df_auf.copy()\n",
    "#tmp['count'] = 1\n",
    "#motor = tmp[['Adressanredecode', 'count']]\n",
    "#mc = motor.groupby('Adressanredecode', as_index = False).count()\n",
    "#tmp = pd.merge(df_auf, mc, how = 'left', on = 'Adressanredecode')\n",
    "#tmp.loc[tmp['count'] < 400, 'Adressanredecode'] = 'others'\n",
    "#tmp.drop('count', axis= 1, inplace= True)\n",
    "data1.loc[data1['Adressanredecode'] == 'FR.DR.','Adressanredecode'] = 'Frau'\n",
    "data1.loc[data1['Adressanredecode'] == 'FA_F','Adressanredecode'] = 'Frau'\n",
    "data1.loc[data1['Adressanredecode'] == 'FR.PROF.','Adressanredecode'] = 'Frau'\n",
    "data1.loc[data1['Adressanredecode'] == 'FA_M','Adressanredecode'] = 'Herr'\n",
    "data1.loc[data1['Adressanredecode'] == 'HR.DR.','Adressanredecode'] = 'Herr'\n",
    "data1.loc[data1['Adressanredecode'] == 'PR','Adressanredecode'] = 'Herr'\n",
    "data1.loc[data1['Adressanredecode'] == 'HE','Adressanredecode'] = 'Herr'\n",
    "data1.loc[data1['Adressanredecode'] == 'OHNE','Adressanredecode'] = 'unbekannt'\n",
    "data1.loc[data1['Adressanredecode'] == 'AN','Adressanredecode'] = 'unbekannt'\n",
    "data1.loc[data1['Adressanredecode'].isna(),'Adressanredecode'] = 'unbekannt'\n",
    "#data1.loc[data1['Adressanredecode'] == 'FAHRSCHULE','Adressanredecode'] = 'Firma'\n",
    "data1.loc[data1['Adressanredecode'] == 'AUTOHAUS','Adressanredecode'] = 'Firma'\n",
    "data1.loc[data1['Adressanredecode'] == 'HERR+FRAU','Adressanredecode'] = 'Ehepaar'\n",
    "data1.loc[data1['Adressanredecode'] == 'FRAU+HEER','Adressanredecode'] = 'Ehepaar'\n",
    "data1.loc[data1['Adressanredecode'] == 'FAMILIE','Adressanredecode'] = 'Ehepaar'\n",
    "data1.loc[data1['Adressanredecode'] == 'HERR UND F','Adressanredecode'] = 'Ehepaar'\n",
    "data1.loc[data1['Adressanredecateode'] == 'FRAU U HER','Adressanredecode'] = 'Ehepaar'\n",
    "data1.loc[data1['Adressanredecode'] == 'HR U. FR','Adressanredecode'] = 'Ehepaar'\n",
    "df_auf = tmp"
   ]
  },
  {
   "cell_type": "code",
   "execution_count": 61,
   "metadata": {
    "collapsed": false
   },
   "outputs": [],
   "source": [
    "# groupby fahrgestellsnummer and compute the date distance between the nearby items\n",
    "# the condition of the operate below is: we sort the data with 'Fahrgestellnumm' and 'Auftragsdatum'\n",
    "tmp = df_auf.copy()\n",
    "td = tmp[['Auftragsdatum', 'Fahrgestellnummer']]\n",
    "#td['Auftragsdatum'] = pd.to_datetime(td['Auftragsdatum'])\n",
    "td = td.drop_duplicates() # drop duplicate\n",
    "td['Auftragsdatum1'] = pd.to_datetime(td['Auftragsdatum'], dayfirst= True) # transfer to datetime\n",
    "td = td.sort_values(['Fahrgestellnummer', 'Auftragsdatum1']) # sort with Fahrgestellnummer\n",
    "td = td.reset_index(drop= True) # shift the data so that we can compute the distance\n",
    "td['Auftragsdatum2'] = pd.concat([pd.Series(datetime(2010,1,1)), td['Auftragsdatum1'][:-1]],ignore_index=True)\n",
    "#td['Auftragsdatum2'] = pd.concat([td['Auftragsdatum'][1:], pd.Series('0.0.0')],ignore_index=True)\n",
    "# compute the date distance\n",
    "#td['date_dis'] = pd.to_datetime(td['Auftragsdatum']) - pd.to_datetime(td['Auftragsdatum2'])\n",
    "td['date_dis'] = td['Auftragsdatum1'] - td['Auftragsdatum2']\n",
    "#td = td[['Auftragsdatum', 'Fahrgestellnummer', 'date_dis']]\n",
    "# merge back to the"
   ]
  },
  {
   "cell_type": "code",
   "execution_count": null,
   "metadata": {
    "collapsed": true
   },
   "outputs": [],
   "source": []
  },
  {
   "cell_type": "code",
   "execution_count": 150,
   "metadata": {
    "collapsed": false,
    "scrolled": true
   },
   "outputs": [],
   "source": [
    " \n",
    "df_auf= pd.merge(df_auf, td, how = 'left', on = ['Fahrgestellnummer', 'Auftragsdatum'])"
   ]
  },
  {
   "cell_type": "code",
   "execution_count": 151,
   "metadata": {
    "collapsed": false
   },
   "outputs": [],
   "source": [
    "# groupby fahrgestellsnummer and compute the KM-Stand distance between the nearby items\n",
    "tmp = df_auf.copy()\n",
    "td = tmp[['KM-Stand', 'Fahrgestellnummer', 'Auftragsdatum']]\n",
    "td = td.drop_duplicates() # drop duplicate\n",
    "td['Auftragsdatum1'] = pd.to_datetime(td['Auftragsdatum'], dayfirst= True) # transfer to datetime\n",
    "td['KM-Stand'] = td['KM-Stand'].map(lambda x: re.sub(',', '.', x)).astype('float') # change KM-stand's type\n",
    "td = td.sort_values(['Fahrgestellnummer', 'Auftragsdatum1']) # sort with Fahrgestellnummer and datum\n",
    "td = td.reset_index(drop= True) # shift the data so that we can compute the distance\n",
    "td['KM-Stand2'] = pd.concat([pd.Series([0]), td['KM-Stand'][:-1]],ignore_index=True)\n",
    "#td['Auftragsdatum2'] = pd.concat([td['Auftragsdatum'][1:], pd.Series('0.0.0')],ignore_index=True)\n",
    "# compute the date distance\n",
    "#td['date_dis'] = pd.to_datetime(td['Auftragsdatum']) - pd.to_datetime(td['Auftragsdatum2'])\n",
    "td['km_dis'] = td['KM-Stand'] - td['KM-Stand2']\n",
    "td = td[['Auftragsdatum', 'Fahrgestellnummer', 'km_dis']]\n",
    "# merge back to the \n",
    "df_auf = pd.merge(df_auf, td, how = 'left', on = ['Fahrgestellnummer', 'Auftragsdatum'])"
   ]
  },
  {
   "cell_type": "code",
   "execution_count": null,
   "metadata": {
    "collapsed": true
   },
   "outputs": [],
   "source": [
    "# 增加属性频率, （其实仅出现频率大于一定数量，才会被记录, 频率小的就没有办法了）"
   ]
  },
  {
   "cell_type": "code",
   "execution_count": 262,
   "metadata": {
    "collapsed": false
   },
   "outputs": [],
   "source": [
    "tmp  = df_auf.copy()"
   ]
  },
  {
   "cell_type": "code",
   "execution_count": 219,
   "metadata": {
    "collapsed": false
   },
   "outputs": [],
   "source": [
    "## LabelEncoder \n",
    "tmp  = df_auf.copy()\n",
    "from sklearn.preprocessing import LabelEncoder\n",
    "# LabelEncoder : Motorcode  \n",
    "tmp[\"Motorcode\"].replace(np.nan,\"Other\",inplace = True)\n",
    "le = LabelEncoder()\n",
    "tmp[\"Motorcode\"] = le.fit_transform(tmp[\"Motorcode\"])\n",
    "# LabelEncoder : Modell  \n",
    "tmp[\"Modell\"].replace(np.nan,\"Other\",inplace = True)\n",
    "le = LabelEncoder()\n",
    "tmp[\"Modell\"] = le.fit_transform(tmp[\"Modell\"])\n",
    "# LabelEncoder : Getriebecode \n",
    "tmp[\"Getriebecode\"].replace(np.nan,\"Other\",inplace = True)\n",
    "le = LabelEncoder()\n",
    "tmp[\"Getriebecode\"] = le.fit_transform(tmp[\"Getriebecode\"])"
   ]
  },
  {
   "cell_type": "code",
   "execution_count": 274,
   "metadata": {
    "collapsed": false
   },
   "outputs": [
    {
     "name": "stderr",
     "output_type": "stream",
     "text": [
      "/Users/ihuangyiran/anaconda2/envs/data_mining/lib/python3.6/site-packages/sklearn/utils/validation.py:475: DataConversionWarning: Data with input dtype int64 was converted to float64 by StandardScaler.\n",
      "  warnings.warn(msg, DataConversionWarning)\n"
     ]
    }
   ],
   "source": [
    "## StandardScaler : AW-Nr\n",
    "tmp  = df_auf.copy()\n",
    "from sklearn.preprocessing import StandardScaler\n",
    "std = StandardScaler()\n",
    "tmp[\"AW-Nr_nor\"] = std.fit_transform(tmp[\"AW-Nr\"].values.reshape(-1,1))\n",
    "# StandardScaler : date_dis\n",
    "tmp[\"date_dis\"] = std.fit_transform(tmp[\"date_dis\"].values.reshape(-1,1))\n",
    "# StandardScaler : km_dis\n",
    "tmp[\"km_dis_nor\"] = std.fit_transform(tmp[\"km_dis\"].values.reshape(-1,1))\n",
    "# StandardScaler : month\n",
    "tmp[\"month_nor\"] = std.fit_transform(tmp[\"month\"].values.reshape(-1,1))\n",
    "# StandardScaler : year\n",
    "tmp[\"year_nor\"] = std.fit_transform(tmp[\"year\"].values.reshape(-1,1))\n",
    "df_auf = tmp"
   ]
  },
  {
   "cell_type": "code",
   "execution_count": 220,
   "metadata": {
    "collapsed": false,
    "scrolled": false
   },
   "outputs": [],
   "source": [
    "## One Hot Encoder\n",
    "tmp  = df_auf.copy()\n",
    "from sklearn.preprocessing import LabelEncoder\n",
    "from sklearn.preprocessing import OneHotEncoder\n",
    "# OneHotEncoder \n",
    "tmp[\"Motorcode\"].replace(np.nan,\"Theother\",inplace = True)\n",
    "mot = LabelEncoder()\n",
    "tmp[\"Motorcode\"] = mot.fit_transform(tmp[\"Motorcode\"])\n",
    "ohe = OneHotEncoder()\n",
    "tmp[\"Motorcode\"] = ohe.fit_transform(tmp[\"Motorcode\"].values.reshape(-1,1))\n",
    "# Onehot\n",
    "le = LabelEncoder()\n",
    "ohe = OneHotEncoder()\n",
    "W = ohe.fit_transform(le.fit_transform(tmp[\"Markencode\"].values).reshape(-1,1)).toarray()\n",
    "w = pd.DataFrame(W)\n",
    "tmp = pd.concat([tmp, w], axis= 1)"
   ]
  },
  {
   "cell_type": "code",
   "execution_count": 339,
   "metadata": {
    "collapsed": false
   },
   "outputs": [],
   "source": [
    "# set target: the date_dis in next line\n",
    "tmp  = df_auf.copy()\n",
    "tmp['Target'] = pd.concat([tmp['date_dis'][1:], pd.Series([0])],ignore_index=True)\n",
    "df_auf = tmp"
   ]
  },
  {
   "cell_type": "code",
   "execution_count": 291,
   "metadata": {
    "collapsed": false
   },
   "outputs": [],
   "source": [
    "#############################################\n",
    "#!!!!!!!!!!!!! Attention !!!!!!!!!!!!!!!!!!!#\n",
    "#############################################\n",
    "# not all lines can be used to train the model\n",
    "# we take all the data here only to test the model\n",
    "\n",
    "\n",
    "# extract the value that used in the training\n",
    "# train 1: AW-Nr_nor, km_dis_nor, month_nor, year_nor\n",
    "#tmp = df_auf.copy()\n",
    "#train_x1 = tmp[['AW-Nr_nor', 'km_dis_nor', 'month_nor', 'year_nor']][:-500]\n",
    "#train_y1 = tmp['Target'][:-500]\n",
    "#test_x1 = tmp[['AW-Nr_nor', 'km_dis_nor', 'month_nor', 'year_nor']][-500:]\n",
    "#test_y1 = tmp['Target'][-500:]"
   ]
  },
  {
   "cell_type": "code",
   "execution_count": 327,
   "metadata": {
    "collapsed": false
   },
   "outputs": [],
   "source": [
    "# extract the useful items for TS_rnn 1\n",
    "#tmp = df_auf[['AW-Nr_nor', 'km_dis_nor', 'month_nor', 'year_nor', 'Target', 'Fahrgestellnummer']].copy()\n",
    "tmp = df_auf[['AW-Nr_nor', 'month_nor', 'year_nor', 'Target', 'Fahrgestellnummer']]\n",
    "ds = []\n",
    "tmp1 = tmp.groupby('Fahrgestellnummer')"
   ]
  },
  {
   "cell_type": "code",
   "execution_count": 343,
   "metadata": {
    "collapsed": false
   },
   "outputs": [
    {
     "name": "stdout",
     "output_type": "stream",
     "text": [
      "29657\n"
     ]
    }
   ],
   "source": [
    "# extract the useful items for TS_rnn 2\n",
    "# drop the first line in each group\n",
    "# only extract traiing data from the group, which count is larger than 'seq_len'\n",
    "out = []\n",
    "seq_len = 4\n",
    "\n",
    "for name, group in tmp1:\n",
    "    #print(name, len(group))\n",
    "    if len(group) > seq_len:\n",
    "        num_fs = len(group.columns)\n",
    "        np_tmp = group.values\n",
    "        com = []\n",
    "        for i in range(1, len(group) - seq_len + 1):\n",
    "            tmp = np_tmp[i:i+seq_len, :-1].reshape(1, seq_len, -1).astype(np.float32)\n",
    "            com.append(tmp)\n",
    "        out.append(np.concatenate(com, axis = 0))\n",
    "out = np.concatenate(out, axis = 0)\n",
    "\n",
    "leng = out.shape[0]\n",
    "train_x1 = out[:int(leng*0.9), :, :-1]\n",
    "train_y1 = out[:int(leng*0.9), :, -1]\n",
    "test_x1 = out[int(leng*0.9):, :, :-1]\n",
    "test_y1 = out[int(leng*0.9):, :, -1]\n",
    "print(leng)"
   ]
  },
  {
   "cell_type": "code",
   "execution_count": 344,
   "metadata": {
    "collapsed": false
   },
   "outputs": [],
   "source": [
    "# save the training data\n",
    "np.save('/tmp/train_x', train_x1)\n",
    "np.save('/tmp/train_y', train_y1)\n",
    "np.save('/tmp/test_x', test_x1)\n",
    "np.save('/tmp/test_y', test_y1)"
   ]
  },
  {
   "cell_type": "markdown",
   "metadata": {},
   "source": [
    "### To extract the training data for mlp network, for each item, we need more data from the past."
   ]
  },
  {
   "cell_type": "code",
   "execution_count": 350,
   "metadata": {
    "collapsed": true
   },
   "outputs": [],
   "source": [
    "# groupby fahrgestellsnummer and auftragsdatum, shift the data the get the past recode\n",
    "# attention 往前看的数量，不应该超出\n",
    "tmp = df_auf.copy()\n",
    "td = tmp[['Auftragsdatum', 'Fahrgestellnummer', 'date_dis']]\n",
    "td = td.drop_duplicates() # drop duplicate\n",
    "td['Auftragsdatum1'] = pd.to_datetime(td['Auftragsdatum']) # transfer to datetime\n",
    "td = td.sort_values(['Fahrgestellnummer', 'Auftragsdatum1']) # sort with Fahrgestellnummer\n",
    "td = td.reset_index(drop= True) # shift the data so that we can compute the distance\n",
    "td['date_dis-1'] = pd.concat([pd.Series([0]), td['date_dis'][:-1]],ignore_index=True)\n",
    "td['date_dis-2'] = pd.concat([pd.Series([0, 0]), td['date_dis'][:-2]],ignore_index=True)\n",
    "td['date_dis-3'] = pd.concat([pd.Series([0, 0, 0]), td['date_dis'][:-3]],ignore_index=True)\n",
    "td['date_dis-4'] = pd.concat([pd.Series([0, 0, 0, 0]), td['date_dis'][:-4]],ignore_index=True)\n",
    "# merge back to the \n",
    "tmp = pd.merge(tmp, td, how = 'left', on = ['Fahrgestellnummer', 'Auftragsdatum'])\n",
    "#df_auf= pd.merge(df_auf, td, how = 'left', on = ['Fahrgestellnummer', 'Auftragsdatum'])"
   ]
  },
  {
   "cell_type": "code",
   "execution_count": 354,
   "metadata": {
    "collapsed": false
   },
   "outputs": [
    {
     "name": "stdout",
     "output_type": "stream",
     "text": [
      "<class 'pandas.core.frame.DataFrame'>\n",
      "Int64Index: 90039 entries, 0 to 90038\n",
      "Data columns (total 26 columns):\n",
      "AW-Nr                90039 non-null float64\n",
      "Auftragsnummer       90039 non-null object\n",
      "KM-Stand             90039 non-null object\n",
      "Auftragsdatum        90039 non-null object\n",
      "Markencode           90039 non-null object\n",
      "Lagerortcode         90039 non-null object\n",
      "Adressanredecode     88678 non-null object\n",
      "Fahrgestellnummer    88312 non-null object\n",
      "Motorcode            86105 non-null object\n",
      "Modell               87940 non-null object\n",
      "Getriebecode         85866 non-null object\n",
      "month                90039 non-null int64\n",
      "year                 90039 non-null int64\n",
      "date_dis_x           90039 non-null float64\n",
      "km_dis               90039 non-null float64\n",
      "AW-Nr_nor            90039 non-null float64\n",
      "km_dis_nor           90039 non-null float64\n",
      "month_nor            90039 non-null float64\n",
      "year_nor             90039 non-null float64\n",
      "Target               90039 non-null float64\n",
      "date_dis_y           90039 non-null float64\n",
      "Auftragsdatum1       90039 non-null datetime64[ns]\n",
      "date_dis-1           90039 non-null float64\n",
      "date_dis-2           90039 non-null float64\n",
      "date_dis-3           90039 non-null float64\n",
      "date_dis-4           90039 non-null float64\n",
      "dtypes: datetime64[ns](1), float64(13), int64(2), object(10)\n",
      "memory usage: 18.5+ MB\n"
     ]
    }
   ],
   "source": [
    "tmp.info()"
   ]
  },
  {
   "cell_type": "code",
   "execution_count": 83,
   "metadata": {
    "collapsed": false
   },
   "outputs": [],
   "source": [
    "a = td[td['Fahrgestellnummer'] == 'TMBJJ7NE6D0034366'][['date_dis', 'Auftragsdatum1', 'Auftragsdatum']]\n",
    "a = a.drop_duplicates()[1:]\n",
    "a['date_dis'] = a['date_dis'].map(lambda x: x.days)"
   ]
  },
  {
   "cell_type": "code",
   "execution_count": 84,
   "metadata": {
    "collapsed": false
   },
   "outputs": [
    {
     "data": {
      "text/plain": [
       "(735305.0, 736170.0)"
      ]
     },
     "execution_count": 84,
     "metadata": {},
     "output_type": "execute_result"
    },
    {
     "data": {
      "text/plain": [
       "<Figure size 432x288 with 0 Axes>"
      ]
     },
     "metadata": {},
     "output_type": "display_data"
    },
    {
     "data": {
      "image/png": "[encoded data removed]",
      "text/plain": [
       "<Figure size 432x288 with 1 Axes>"
      ]
     },
     "metadata": {},
     "output_type": "display_data"
    }
   ],
   "source": [
    "fig = plt.figure()\n",
    "#plt.plot(a['Auftragsdatum1'], a['date_dis'])\n",
    "ts = a.plot(x = 'Auftragsdatum1', y = 'date_dis')\n",
    "#fig.suptitle('Fahrgestellnummer == \"TMBJJ7NE6D0034366\"')\n",
    "ts.set_title('Fahrgestellnummer == \"TMBJJ7NE6D0034366\"')\n",
    "plt.xlabel('Auftragsdatum')\n",
    "plt.ylabel('date_dis')\n",
    "ts.set_xlim(a['Auftragsdatum1'].iloc[0], a['Auftragsdatum1'].iloc[-1])"
   ]
  },
  {
   "cell_type": "code",
   "execution_count": 82,
   "metadata": {
    "collapsed": false,
    "scrolled": true
   },
   "outputs": [
    {
     "data": {
      "text/plain": [
       "7583     31\n",
       "7584     25\n",
       "7585      2\n",
       "7586     41\n",
       "7587      7\n",
       "7588      6\n",
       "7589     42\n",
       "7590      7\n",
       "7591     11\n",
       "7592      7\n",
       "7593     77\n",
       "7594     97\n",
       "7595     68\n",
       "7596     21\n",
       "7597     48\n",
       "7598     36\n",
       "7599     85\n",
       "7600    135\n",
       "7601     21\n",
       "7602     32\n",
       "7603     52\n",
       "7604     45\n",
       "Name: date_dis, dtype: int64"
      ]
     },
     "execution_count": 82,
     "metadata": {},
     "output_type": "execute_result"
    }
   ],
   "source": [
    "a['date_dis'].map(lambda x: x.days)"
   ]
  },
  {
   "cell_type": "markdown",
   "metadata": {},
   "source": [
    " - 有些类型种类还是太多了，应该问一下分类的方法。\n",
    " - 主要分析的是，返回率大于一定阈值的客户的返回间隔\n",
    " - !!!出现了两个date_dis, 估计哪里在合并的时候出现了错误（两个表拥都拥有属性date_dis），找一下，然后给改过来\n",
    " - ！！！数据里面出现了负数，说明没有排序好，看一下\n",
    " - ！！！AW-Nr里面也出现了负数，这就不知道是什么原因了，得找找看，预计是后面处理失误，导致的\n",
    " - ！！！有些AW-Nr中间有空格，不知是何意\n",
    " - !!! timedelta化为直接整形是以秒为单位的，为了timedelta的days属性，保存这期对应的天数"
   ]
  },
  {
   "cell_type": "code",
   "execution_count": null,
   "metadata": {
    "collapsed": false
   },
   "outputs": [],
   "source": []
  },
  {
   "cell_type": "code",
   "execution_count": null,
   "metadata": {
    "collapsed": false
   },
   "outputs": [],
   "source": []
  },
  {
   "cell_type": "code",
   "execution_count": null,
   "metadata": {
    "collapsed": true
   },
   "outputs": [],
   "source": []
  }
 ],
 "metadata": {
  "kernelspec": {
   "display_name": "data_mining",
   "language": "python",
   "name": "data_mining"
  },
  "language_info": {
   "codemirror_mode": {
    "name": "ipython",
    "version": 3
   },
   "file_extension": ".py",
   "mimetype": "text/x-python",
   "name": "python",
   "nbconvert_exporter": "python",
   "pygments_lexer": "ipython3",
   "version": "3.6.5"
  }
 },
 "nbformat": 4,
 "nbformat_minor": 2
}
