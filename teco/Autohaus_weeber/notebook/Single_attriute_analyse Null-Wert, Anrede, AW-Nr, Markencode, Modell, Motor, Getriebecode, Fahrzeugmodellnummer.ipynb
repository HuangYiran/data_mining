{
 "cells": [
  {
   "cell_type": "code",
   "execution_count": 12,
   "metadata": {
    "collapsed": true
   },
   "outputs": [],
   "source": [
    "# load package\n",
    "# string \n",
    "import re\n",
    "\n",
    "# math\n",
    "import pandas as pd\n",
    "import numpy as np\n",
    "import scipy as sp\n",
    "import random\n",
    "\n",
    "# sys\n",
    "import sys\n",
    "import os\n",
    "import time\n",
    "import warnings\n",
    "\n",
    "# machine learning\n",
    "from sklearn import svm, tree, linear_model, neighbors, naive_bayes, ensemble, gaussian_process, discriminant_analysis\n",
    "from xgboost import XGBClassifier\n",
    "\n",
    "# model utils\n",
    "from sklearn.preprocessing import OneHotEncoder, LabelEncoder\n",
    "from sklearn import feature_selection \n",
    "from sklearn import model_selection\n",
    "from sklearn import metrics\n",
    "\n",
    "# plot\n",
    "import matplotlib as mpl\n",
    "import matplotlib.pyplot as plt\n",
    "import matplotlib.pylab as pylab\n",
    "import seaborn as sns\n",
    "from pandas.tools.plotting import scatter_matrix #??\n",
    "# = show plots in Jupyter Notebook browser\n",
    "%matplotlib inline \n",
    "mpl.style.use('ggplot') #??\n",
    "sns.set_style('white')\n",
    "pylab.rcParams['figure.figsize'] = 12,8 #??\n",
    "\n",
    "# show all columns\n",
    "from IPython.display import display\n",
    "pd.options.display.max_columns = None\n",
    "\n",
    "# self define\n",
    "sys.path.append('../../utils/')"
   ]
  },
  {
   "cell_type": "code",
   "execution_count": 13,
   "metadata": {
    "collapsed": false
   },
   "outputs": [
    {
     "name": "stderr",
     "output_type": "stream",
     "text": [
      "/Users/ihuangyiran/anaconda2/envs/data_mining/lib/python3.6/site-packages/IPython/core/interactiveshell.py:2785: DtypeWarning: Columns (15) have mixed types. Specify dtype option on import or set low_memory=False.\n",
      "  interactivity=interactivity, compiler=compiler, result=result)\n",
      "/Users/ihuangyiran/anaconda2/envs/data_mining/lib/python3.6/site-packages/IPython/core/interactiveshell.py:2785: DtypeWarning: Columns (1,15) have mixed types. Specify dtype option on import or set low_memory=False.\n",
      "  interactivity=interactivity, compiler=compiler, result=result)\n"
     ]
    }
   ],
   "source": [
    "# read files\n",
    "lb_wsp_2014 = pd.read_csv('../data/Autohaus_weeber/leonberg_werkstattposten_2014.csv', sep = ';')\n",
    "lb_wsp_2015 = pd.read_csv('../data/Autohaus_weeber/leonberg_werkstattposten_2015.csv', sep = ';')\n",
    "lb_wsp_2016 = pd.read_csv('../data/Autohaus_weeber/leonberg_werkstattposten_2016.csv', sep = ';')\n",
    "lb_wsp_2017 = pd.read_csv('../data/Autohaus_weeber/leonberg_werkstattposten_2017.csv', sep = ';')\n",
    "lb_wsp_2018 = pd.read_csv('../data/Autohaus_weeber/leonberg_werkstattposten_2018.csv', sep = ';')\n",
    "std_wsp_2014 = pd.read_csv('../data/Autohaus_weeber/weil_der_stadt_werkstattposten_2014.csv', sep = ';')\n",
    "std_wsp_2015 = pd.read_csv('../data/Autohaus_weeber/weil_der_stadt_werkstattposten_2015.csv', sep = ';')\n",
    "std_wsp_2016 = pd.read_csv('../data/Autohaus_weeber/weil_der_stadt_werkstattposten_2016.csv', sep = ';')\n",
    "std_wsp_2017 = pd.read_csv('../data/Autohaus_weeber/weil_der_stadt_werkstattposten_2017.csv', sep = ';')\n",
    "std_wsp_2018 = pd.read_csv('../data/Autohaus_weeber/weil_der_stadt_werkstattposten_2018.csv', sep = ';')\n",
    "# cat\n",
    "d1 = lb_wsp_2014.copy()\n",
    "d2 = lb_wsp_2015.copy()\n",
    "d3 = lb_wsp_2016.copy()\n",
    "d4 = lb_wsp_2017.copy()\n",
    "d5 = lb_wsp_2018.copy()\n",
    "data1 = pd.concat([d1,d2,d3,d4,d5], 0)\n",
    "d6 = std_wsp_2014.copy()\n",
    "d7 = std_wsp_2015.copy()\n",
    "d8 = std_wsp_2016.copy()\n",
    "d9 = std_wsp_2017.copy()\n",
    "d10 = std_wsp_2018.copy()\n",
    "data2 = pd.concat([d6,d7,d8,d9,d10], 0)\n",
    "data = pd.concat([data1, data2], 0)"
   ]
  },
  {
   "cell_type": "code",
   "execution_count": 3,
   "metadata": {
    "collapsed": true
   },
   "outputs": [],
   "source": [
    "def to_count_table(df, cols):\n",
    "    df['count'] = '1'\n",
    "    df = df[[cols[0], 'count']]\n",
    "    return df.groupby(cols[0], as_index = False).count().sort_values(by = 'count', ascending = False)"
   ]
  },
  {
   "cell_type": "code",
   "execution_count": 14,
   "metadata": {
    "collapsed": true
   },
   "outputs": [],
   "source": [
    "# 初衷是通过一个个的账单，统计每个属性，对应属性项在一段时间内出现的次数\n",
    "\n",
    "def toFreqTable(df, att, date, clean = True):\n",
    "    \"\"\"\n",
    "    input:\n",
    "        df, DataFrame:\n",
    "            the dataframe\n",
    "        att, string:\n",
    "            the column name of the target attribute\n",
    "        date, string:\n",
    "            the column name of the date attribute\n",
    "    \"\"\"\n",
    "    # extract the att and date columns\n",
    "    df = df[[att, date]]\n",
    "    \n",
    "    # change string date to date type\n",
    "    # detect outlier\n",
    "    fake = df[date].map(check_date)\n",
    "    # if clean is True, drop the fake data\n",
    "    if clean:\n",
    "        print(\"Fake date exist, drop these dates directly\")\n",
    "        df = df.drop(df[fake].index)\n",
    "    df[date] = pd.to_datetime(df[date])\n",
    "    # add new column named 'count'\n",
    "    df['count'] = pd.Series([1 for i in range(len(df))])\n",
    "    # group and sum \n",
    "    df_g = df.groupby([date, att], as_index = False).agg({'count': 'sum'})\n",
    "    return df_g\n",
    "\n",
    "def check_date(s, sep = '.'):\n",
    "    \"\"\"\n",
    "    only check the date grobly,\n",
    "    set the fake date to True and the right date to false\n",
    "    \"\"\"\n",
    "    items = s.split('.')\n",
    "    #print(items)\n",
    "    if len(items) <3:\n",
    "        return True\n",
    "    day = int(items[0])\n",
    "    month = int(items[1])\n",
    "    year = int(items[2])\n",
    "    if day <= 31 and day > 0 and month <= 12 and month > 0 and year > 0:\n",
    "        return False\n",
    "    else:\n",
    "        return True"
   ]
  },
  {
   "cell_type": "code",
   "execution_count": 17,
   "metadata": {
    "collapsed": true
   },
   "outputs": [],
   "source": [
    "# 转化为auftrag table， 但是这次合并的是Teile-Nr项\n",
    "# 给的数据的每一行都是一个维修项，初衷是，把属于同一个auftrag的维修项合并到一起，看一下，在同一个Auftrag中，经常一起修的是那些内容\n",
    "\n",
    "def toAuftragTable(df, att, auftn, clean = True):\n",
    "    \"\"\"\n",
    "    input:\n",
    "        df, DataFrame:\n",
    "            the dataframe\n",
    "        att, string:\n",
    "            the column name of the target attribute\n",
    "        auftn, string:\n",
    "            the column name of the aftragsnummer attribute\n",
    "        clean:\n",
    "            when true, drop the null item in auftn attribute.\n",
    "    output:\n",
    "        df_g, DataFrame:\n",
    "            dataframe contrains two columns auftn and att\n",
    "            type of item in att is string, separate with ';'\n",
    "    \"\"\"\n",
    "    # assert: make sure the type of the attributes inputted\n",
    "    \n",
    "    # extract the att and date columns\n",
    "    df = df[[att, auftn]]\n",
    "    # set type to object\n",
    "    #df[att] = df[att].astype('object')\n",
    "    #df[auftn] = df[auftn].astype('object')\n",
    "    # if clean is True, drop the fake data, like the null data\n",
    "    if clean:\n",
    "        print(\"Falls Null date exist, drop these dates directly\")\n",
    "        #df = df.drop(df[df[att].isnull()].index)\n",
    "        df = df.drop(df[df[auftn].isnull()].index)\n",
    "    # group and sum \n",
    "    df_g = df.groupby([auftn], as_index = False).apply(agg)\n",
    "    return df_g\n",
    "\n",
    "# apply 只能对单行进行处理，而不是对整个分组进行处理，所以估计应该把axis换成1，比较好\n",
    "def agg(x):\n",
    "    # 是否用‘ ’分隔会比较好，这样就不用对初始的属性，\n",
    "    # x 在这里是dataframe？？？\n",
    "    #x = [str(i) for i in x]\n",
    "    x = x.apply(lambda x: ';'.join(set([str(i) for i in x])), axis = 0)\n",
    "    #x = x.apply(lambda x: ' '.join(set(x)), axis = 0)\n",
    "    #print(x.columns.values)\n",
    "    return x"
   ]
  },
  {
   "cell_type": "markdown",
   "metadata": {},
   "source": [
    "### veiteilung analyse: Adressanredecode"
   ]
  },
  {
   "cell_type": "code",
   "execution_count": 281,
   "metadata": {
    "collapsed": false
   },
   "outputs": [],
   "source": [
    "av  = lb_wsp_2014[['Auftragsdatum', 'Adressanredecode']]"
   ]
  },
  {
   "cell_type": "code",
   "execution_count": 282,
   "metadata": {
    "collapsed": false
   },
   "outputs": [
    {
     "name": "stderr",
     "output_type": "stream",
     "text": [
      "/Users/ihuangyiran/anaconda2/envs/data_mining/lib/python3.6/site-packages/ipykernel_launcher.py:1: SettingWithCopyWarning: \n",
      "A value is trying to be set on a copy of a slice from a DataFrame\n",
      "\n",
      "See the caveats in the documentation: http://pandas.pydata.org/pandas-docs/stable/indexing.html#indexing-view-versus-copy\n",
      "  \"\"\"Entry point for launching an IPython kernel.\n"
     ]
    }
   ],
   "source": [
    "av['Adressanredecode'].loc[(av['Adressanredecode'] != 'Firma') & (av['Adressanredecode'] != 'Herr') & (av['Adressanredecode'] != 'Frau')] = 'other'"
   ]
  },
  {
   "cell_type": "code",
   "execution_count": 283,
   "metadata": {
    "collapsed": false
   },
   "outputs": [
    {
     "name": "stderr",
     "output_type": "stream",
     "text": [
      "/Users/ihuangyiran/anaconda2/envs/data_mining/lib/python3.6/site-packages/ipykernel_launcher.py:2: SettingWithCopyWarning: \n",
      "A value is trying to be set on a copy of a slice from a DataFrame.\n",
      "Try using .loc[row_indexer,col_indexer] = value instead\n",
      "\n",
      "See the caveats in the documentation: http://pandas.pydata.org/pandas-docs/stable/indexing.html#indexing-view-versus-copy\n",
      "  \n"
     ]
    },
    {
     "data": {
      "text/html": [
       "<div>\n",
       "<style scoped>\n",
       "    .dataframe tbody tr th:only-of-type {\n",
       "        vertical-align: middle;\n",
       "    }\n",
       "\n",
       "    .dataframe tbody tr th {\n",
       "        vertical-align: top;\n",
       "    }\n",
       "\n",
       "    .dataframe thead th {\n",
       "        text-align: right;\n",
       "    }\n",
       "</style>\n",
       "<table border=\"1\" class=\"dataframe\">\n",
       "  <thead>\n",
       "    <tr style=\"text-align: right;\">\n",
       "      <th></th>\n",
       "      <th>Adressanredecode</th>\n",
       "      <th>count</th>\n",
       "    </tr>\n",
       "  </thead>\n",
       "  <tbody>\n",
       "    <tr>\n",
       "      <th>0</th>\n",
       "      <td>Firma</td>\n",
       "      <td>104481</td>\n",
       "    </tr>\n",
       "    <tr>\n",
       "      <th>2</th>\n",
       "      <td>Herr</td>\n",
       "      <td>83843</td>\n",
       "    </tr>\n",
       "    <tr>\n",
       "      <th>1</th>\n",
       "      <td>Frau</td>\n",
       "      <td>39669</td>\n",
       "    </tr>\n",
       "    <tr>\n",
       "      <th>3</th>\n",
       "      <td>other</td>\n",
       "      <td>7658</td>\n",
       "    </tr>\n",
       "  </tbody>\n",
       "</table>\n",
       "</div>"
      ],
      "text/plain": [
       "  Adressanredecode   count\n",
       "0            Firma  104481\n",
       "2             Herr   83843\n",
       "1             Frau   39669\n",
       "3            other    7658"
      ]
     },
     "execution_count": 283,
     "metadata": {},
     "output_type": "execute_result"
    }
   ],
   "source": [
    "to_count_table(av, ['Adressanredecode'])"
   ]
  },
  {
   "cell_type": "code",
   "execution_count": 294,
   "metadata": {
    "collapsed": false
   },
   "outputs": [],
   "source": [
    "tmp = pd.DataFrame({'Firma':104481/235651, 'Herr':83843/235651, 'Frau':39669/235651, 'other':7658/235651}, index = ['count'])"
   ]
  },
  {
   "cell_type": "code",
   "execution_count": 296,
   "metadata": {
    "collapsed": false
   },
   "outputs": [
    {
     "data": {
      "text/html": [
       "<div>\n",
       "<style scoped>\n",
       "    .dataframe tbody tr th:only-of-type {\n",
       "        vertical-align: middle;\n",
       "    }\n",
       "\n",
       "    .dataframe tbody tr th {\n",
       "        vertical-align: top;\n",
       "    }\n",
       "\n",
       "    .dataframe thead th {\n",
       "        text-align: right;\n",
       "    }\n",
       "</style>\n",
       "<table border=\"1\" class=\"dataframe\">\n",
       "  <thead>\n",
       "    <tr style=\"text-align: right;\">\n",
       "      <th></th>\n",
       "      <th>Firma</th>\n",
       "      <th>Frau</th>\n",
       "      <th>Herr</th>\n",
       "      <th>other</th>\n",
       "    </tr>\n",
       "  </thead>\n",
       "  <tbody>\n",
       "    <tr>\n",
       "      <th>count</th>\n",
       "      <td>0.443372</td>\n",
       "      <td>0.168338</td>\n",
       "      <td>0.355793</td>\n",
       "      <td>0.032497</td>\n",
       "    </tr>\n",
       "  </tbody>\n",
       "</table>\n",
       "</div>"
      ],
      "text/plain": [
       "          Firma      Frau      Herr     other\n",
       "count  0.443372  0.168338  0.355793  0.032497"
      ]
     },
     "execution_count": 296,
     "metadata": {},
     "output_type": "execute_result"
    }
   ],
   "source": [
    "tmp"
   ]
  },
  {
   "cell_type": "code",
   "execution_count": 298,
   "metadata": {
    "collapsed": false
   },
   "outputs": [
    {
     "data": {
      "text/plain": [
       "<matplotlib.axes._subplots.AxesSubplot at 0x1a2bb1c978>"
      ]
     },
     "execution_count": 298,
     "metadata": {},
     "output_type": "execute_result"
    },
    {
     "data": {
      "image/png": "[encoded data removed]",
      "text/plain": [
       "<Figure size 864x576 with 1 Axes>"
      ]
     },
     "metadata": {},
     "output_type": "display_data"
    }
   ],
   "source": [
    "#f, ax = plt.subplots(1, figsize=(20,16))\n",
    "sns.barplot(data = tmp)\n",
    "#sns.barplot(data = tmp2, y = 'index', x = 'null count', ax = ax[0], color = '#95a5a6')"
   ]
  },
  {
   "cell_type": "code",
   "execution_count": 7,
   "metadata": {
    "collapsed": false
   },
   "outputs": [
    {
     "data": {
      "text/plain": [
       "array(['Firma', 'Herr', 'Frau', nan, 'FA_F', 'OHNE', 'AN', 'AUTOHAUS',\n",
       "       'HR.DR.', 'FAHRSCHULE', 'FA_M', 'FR.DR.', 'HERR+FRAU', 'PR',\n",
       "       'FRAU+HERR', 'HE', 'FAMILIE', 'HERR UND F', 'FRAU U HER'], dtype=object)"
      ]
     },
     "execution_count": 7,
     "metadata": {},
     "output_type": "execute_result"
    }
   ],
   "source": [
    "data2['Adressanredecode'].unique()"
   ]
  },
  {
   "cell_type": "code",
   "execution_count": 247,
   "metadata": {
    "collapsed": true
   },
   "outputs": [],
   "source": [
    "data1.loc[data1['Adressanredecode'] == 'FR.DR.','Adressanredecode'] = 'Frau'\n",
    "data1.loc[data1['Adressanredecode'] == 'FA_F','Adressanredecode'] = 'Frau'\n",
    "data1.loc[data1['Adressanredecode'] == 'FR.PROF.','Adressanredecode'] = 'Frau'\n",
    "data1.loc[data1['Adressanredecode'] == 'FA_M','Adressanredecode'] = 'Herr'\n",
    "data1.loc[data1['Adressanredecode'] == 'HR.DR.','Adressanredecode'] = 'Herr'\n",
    "data1.loc[data1['Adressanredecode'] == 'PR','Adressanredecode'] = 'Herr'\n",
    "data1.loc[data1['Adressanredecode'] == 'HE','Adressanredecode'] = 'Herr'\n",
    "data1.loc[data1['Adressanredecode'] == 'OHNE','Adressanredecode'] = 'unbekannt'\n",
    "data1.loc[data1['Adressanredecode'] == 'AN','Adressanredecode'] = 'unbekannt'\n",
    "data1.loc[data1['Adressanredecode'].isna(),'Adressanredecode'] = 'unbekannt'\n",
    "data1.loc[data1['Adressanredecode'] == 'FAHRSCHULE','Adressanredecode'] = 'Firma'\n",
    "data1.loc[data1['Adressanredecode'] == 'AUTOHAUS','Adressanredecode'] = 'Firma'\n",
    "data1.loc[data1['Adressanredecode'] == 'HERR+FRAU','Adressanredecode'] = 'Ehepaar'\n",
    "data1.loc[data1['Adressanredecode'] == 'FRAU+HEER','Adressanredecode'] = 'Ehepaar'\n",
    "data1.loc[data1['Adressanredecode'] == 'FAMILIE','Adressanredecode'] = 'Ehepaar'\n",
    "data1.loc[data1['Adressanredecode'] == 'HERR UND F','Adressanredecode'] = 'Ehepaar'\n",
    "data1.loc[data1['Adressanredecode'] == 'FRAU U HER','Adressanredecode'] = 'Ehepaar'\n",
    "data1.loc[data1['Adressanredecode'] == 'HR U. FR','Adressanredecode'] = 'Ehepaar'"
   ]
  },
  {
   "cell_type": "code",
   "execution_count": 248,
   "metadata": {
    "collapsed": false
   },
   "outputs": [
    {
     "data": {
      "text/plain": [
       "Firma        531871\n",
       "Herr         409923\n",
       "Frau         202427\n",
       "unbekannt     13535\n",
       "Ehepaar         166\n",
       "Name: Adressanredecode, dtype: int64"
      ]
     },
     "execution_count": 248,
     "metadata": {},
     "output_type": "execute_result"
    }
   ],
   "source": [
    "data1['Adressanredecode'].value_counts()"
   ]
  },
  {
   "cell_type": "code",
   "execution_count": 251,
   "metadata": {
    "collapsed": false
   },
   "outputs": [],
   "source": [
    "tmp = pd.DataFrame({'Firma':531871/1001054, 'Herr':409923/1157922, 'Frau':202427/1157922, 'Ehepaar': 166/1157922, 'Unbekannt':13535/1157922}, index = ['count'])"
   ]
  },
  {
   "cell_type": "code",
   "execution_count": 252,
   "metadata": {
    "collapsed": false
   },
   "outputs": [
    {
     "data": {
      "text/plain": [
       "531871"
      ]
     },
     "execution_count": 252,
     "metadata": {},
     "output_type": "execute_result"
    }
   ],
   "source": [
    "data1.loc[data1['Adressanredecode'] == 'Firma', 'Adressanredecode'].count()"
   ]
  },
  {
   "cell_type": "code",
   "execution_count": 253,
   "metadata": {
    "collapsed": false
   },
   "outputs": [
    {
     "data": {
      "text/plain": [
       "1157922"
      ]
     },
     "execution_count": 253,
     "metadata": {},
     "output_type": "execute_result"
    }
   ],
   "source": [
    "data1['Adressanredecode'].count()"
   ]
  },
  {
   "cell_type": "code",
   "execution_count": 256,
   "metadata": {
    "collapsed": false
   },
   "outputs": [
    {
     "data": {
      "text/plain": [
       "[Text(0,0,'Ehepaar'),\n",
       " Text(0,0,'Firma'),\n",
       " Text(0,0,'Frau'),\n",
       " Text(0,0,'Herr'),\n",
       " Text(0,0,'Unbekannt')]"
      ]
     },
     "execution_count": 256,
     "metadata": {},
     "output_type": "execute_result"
    },
    {
     "data": {
      "image/png": "[encoded data removed]",
      "text/plain": [
       "<Figure size 1440x576 with 1 Axes>"
      ]
     },
     "metadata": {},
     "output_type": "display_data"
    }
   ],
   "source": [
    "f, ax = plt.subplots(figsize = (20, 8))\n",
    "sns.barplot(data = tmp)\n",
    "ax.set_xticklabels(ax.get_xticklabels(), rotation=45, fontsize = 20)"
   ]
  },
  {
   "cell_type": "markdown",
   "metadata": {},
   "source": [
    "### zeitreihe analyse: adressanredecode(einheit in Auftrag)"
   ]
  },
  {
   "cell_type": "code",
   "execution_count": 285,
   "metadata": {
    "collapsed": false
   },
   "outputs": [
    {
     "name": "stdout",
     "output_type": "stream",
     "text": [
      "Fake date exist, drop these dates directly\n"
     ]
    }
   ],
   "source": [
    "# to freq table\n",
    "av_ref = toFreqTable(av, 'Adressanredecode', 'Auftragsdatum')"
   ]
  },
  {
   "cell_type": "code",
   "execution_count": 286,
   "metadata": {
    "collapsed": false
   },
   "outputs": [
    {
     "data": {
      "text/html": [
       "<div>\n",
       "<style scoped>\n",
       "    .dataframe tbody tr th:only-of-type {\n",
       "        vertical-align: middle;\n",
       "    }\n",
       "\n",
       "    .dataframe tbody tr th {\n",
       "        vertical-align: top;\n",
       "    }\n",
       "\n",
       "    .dataframe thead th {\n",
       "        text-align: right;\n",
       "    }\n",
       "</style>\n",
       "<table border=\"1\" class=\"dataframe\">\n",
       "  <thead>\n",
       "    <tr style=\"text-align: right;\">\n",
       "      <th></th>\n",
       "      <th>Auftragsdatum</th>\n",
       "      <th>Adressanredecode</th>\n",
       "      <th>count</th>\n",
       "    </tr>\n",
       "  </thead>\n",
       "  <tbody>\n",
       "    <tr>\n",
       "      <th>0</th>\n",
       "      <td>1753-01-01</td>\n",
       "      <td>other</td>\n",
       "      <td>0.0</td>\n",
       "    </tr>\n",
       "    <tr>\n",
       "      <th>1</th>\n",
       "      <td>2013-12-30</td>\n",
       "      <td>Firma</td>\n",
       "      <td>2.0</td>\n",
       "    </tr>\n",
       "    <tr>\n",
       "      <th>2</th>\n",
       "      <td>2014-01-02</td>\n",
       "      <td>Firma</td>\n",
       "      <td>95.0</td>\n",
       "    </tr>\n",
       "    <tr>\n",
       "      <th>3</th>\n",
       "      <td>2014-01-02</td>\n",
       "      <td>Frau</td>\n",
       "      <td>14.0</td>\n",
       "    </tr>\n",
       "    <tr>\n",
       "      <th>4</th>\n",
       "      <td>2014-01-02</td>\n",
       "      <td>Herr</td>\n",
       "      <td>19.0</td>\n",
       "    </tr>\n",
       "  </tbody>\n",
       "</table>\n",
       "</div>"
      ],
      "text/plain": [
       "  Auftragsdatum Adressanredecode  count\n",
       "0    1753-01-01            other    0.0\n",
       "1    2013-12-30            Firma    2.0\n",
       "2    2014-01-02            Firma   95.0\n",
       "3    2014-01-02             Frau   14.0\n",
       "4    2014-01-02             Herr   19.0"
      ]
     },
     "execution_count": 286,
     "metadata": {},
     "output_type": "execute_result"
    }
   ],
   "source": [
    "av_ref.head()"
   ]
  },
  {
   "cell_type": "code",
   "execution_count": null,
   "metadata": {
    "collapsed": true
   },
   "outputs": [],
   "source": [
    "a"
   ]
  },
  {
   "cell_type": "code",
   "execution_count": 173,
   "metadata": {
    "collapsed": true
   },
   "outputs": [],
   "source": [
    "# create full table \n",
    "def create(x):\n",
    "    tmp = pd.DataFrame({'Adressanredecode': av_ref['Adressanredecode'].unique()})\n",
    "    tmp['Auftragsdatum'] = x.iloc[0, 0]\n",
    "    return tmp\n",
    "av_new = av_ref.groupby('Auftragsdatum', as_index = False).apply(create)"
   ]
  },
  {
   "cell_type": "code",
   "execution_count": 174,
   "metadata": {
    "collapsed": false,
    "scrolled": true
   },
   "outputs": [],
   "source": [
    "av_new = av_new.reset_index()[['Auftragsdatum', 'Adressanredecode']]"
   ]
  },
  {
   "cell_type": "code",
   "execution_count": 175,
   "metadata": {
    "collapsed": false
   },
   "outputs": [],
   "source": [
    "# merge the table to the original one\n",
    "av_full = pd.merge(av_ref, av_new, how = 'right')"
   ]
  },
  {
   "cell_type": "code",
   "execution_count": null,
   "metadata": {
    "collapsed": false
   },
   "outputs": [],
   "source": []
  },
  {
   "cell_type": "code",
   "execution_count": 176,
   "metadata": {
    "collapsed": false
   },
   "outputs": [
    {
     "name": "stdout",
     "output_type": "stream",
     "text": [
      "<class 'pandas.core.frame.DataFrame'>\n",
      "Int64Index: 3780 entries, 0 to 3779\n",
      "Data columns (total 3 columns):\n",
      "Auftragsdatum       3780 non-null datetime64[ns]\n",
      "Adressanredecode    3780 non-null object\n",
      "count               1161 non-null float64\n",
      "dtypes: datetime64[ns](1), float64(1), object(1)\n",
      "memory usage: 118.1+ KB\n"
     ]
    }
   ],
   "source": [
    "av_full.info()"
   ]
  },
  {
   "cell_type": "code",
   "execution_count": 177,
   "metadata": {
    "collapsed": false
   },
   "outputs": [],
   "source": [
    "av_full = av_full.sort_values(by = 'Auftragsdatum')"
   ]
  },
  {
   "cell_type": "code",
   "execution_count": 221,
   "metadata": {
    "collapsed": false
   },
   "outputs": [],
   "source": [
    "tmp = av_full.copy()"
   ]
  },
  {
   "cell_type": "markdown",
   "metadata": {},
   "source": [
    "聚合一个月的数据"
   ]
  },
  {
   "cell_type": "code",
   "execution_count": 222,
   "metadata": {
    "collapsed": false
   },
   "outputs": [],
   "source": [
    "tmp['count'] = tmp.iloc[:, 2].replace(np.nan,0)"
   ]
  },
  {
   "cell_type": "code",
   "execution_count": 238,
   "metadata": {
    "collapsed": false
   },
   "outputs": [],
   "source": [
    "tmp['month'] = tmp['Auftragsdatum'].map(lambda x: str(x)[5:7])"
   ]
  },
  {
   "cell_type": "code",
   "execution_count": 240,
   "metadata": {
    "collapsed": false
   },
   "outputs": [],
   "source": [
    "tmp['year'] = tmp['Auftragsdatum'].map(lambda x: str(x)[0:4])"
   ]
  },
  {
   "cell_type": "code",
   "execution_count": 246,
   "metadata": {
    "collapsed": false,
    "scrolled": false
   },
   "outputs": [],
   "source": [
    "tmp['date'] = tmp['year'] +'-'+ tmp['month']"
   ]
  },
  {
   "cell_type": "code",
   "execution_count": 251,
   "metadata": {
    "collapsed": false
   },
   "outputs": [],
   "source": [
    "df_agg = tmp.groupby(['date', 'Adressanredecode'], as_index = False).sum()"
   ]
  },
  {
   "cell_type": "code",
   "execution_count": 255,
   "metadata": {
    "collapsed": false
   },
   "outputs": [
    {
     "data": {
      "text/html": [
       "<div>\n",
       "<style scoped>\n",
       "    .dataframe tbody tr th:only-of-type {\n",
       "        vertical-align: middle;\n",
       "    }\n",
       "\n",
       "    .dataframe tbody tr th {\n",
       "        vertical-align: top;\n",
       "    }\n",
       "\n",
       "    .dataframe thead th {\n",
       "        text-align: right;\n",
       "    }\n",
       "</style>\n",
       "<table border=\"1\" class=\"dataframe\">\n",
       "  <thead>\n",
       "    <tr style=\"text-align: right;\">\n",
       "      <th></th>\n",
       "      <th>Auftragsdatum</th>\n",
       "      <th>Adressanredecode</th>\n",
       "      <th>count</th>\n",
       "      <th>month</th>\n",
       "      <th>year</th>\n",
       "      <th>date</th>\n",
       "    </tr>\n",
       "  </thead>\n",
       "  <tbody>\n",
       "    <tr>\n",
       "      <th>0</th>\n",
       "      <td>2013-12-30</td>\n",
       "      <td>Firma</td>\n",
       "      <td>2.0</td>\n",
       "      <td>12</td>\n",
       "      <td>2013</td>\n",
       "      <td>2013-12</td>\n",
       "    </tr>\n",
       "    <tr>\n",
       "      <th>1</th>\n",
       "      <td>2014-01-02</td>\n",
       "      <td>Firma</td>\n",
       "      <td>95.0</td>\n",
       "      <td>01</td>\n",
       "      <td>2014</td>\n",
       "      <td>2014-01</td>\n",
       "    </tr>\n",
       "    <tr>\n",
       "      <th>4</th>\n",
       "      <td>2014-01-03</td>\n",
       "      <td>Firma</td>\n",
       "      <td>4.0</td>\n",
       "      <td>01</td>\n",
       "      <td>2014</td>\n",
       "      <td>2014-01</td>\n",
       "    </tr>\n",
       "    <tr>\n",
       "      <th>9</th>\n",
       "      <td>2014-01-04</td>\n",
       "      <td>Firma</td>\n",
       "      <td>525.0</td>\n",
       "      <td>01</td>\n",
       "      <td>2014</td>\n",
       "      <td>2014-01</td>\n",
       "    </tr>\n",
       "    <tr>\n",
       "      <th>1197</th>\n",
       "      <td>2014-01-05</td>\n",
       "      <td>Firma</td>\n",
       "      <td>0.0</td>\n",
       "      <td>01</td>\n",
       "      <td>2014</td>\n",
       "      <td>2014-01</td>\n",
       "    </tr>\n",
       "    <tr>\n",
       "      <th>1208</th>\n",
       "      <td>2014-01-06</td>\n",
       "      <td>Firma</td>\n",
       "      <td>0.0</td>\n",
       "      <td>01</td>\n",
       "      <td>2014</td>\n",
       "      <td>2014-01</td>\n",
       "    </tr>\n",
       "    <tr>\n",
       "      <th>15</th>\n",
       "      <td>2014-01-07</td>\n",
       "      <td>Firma</td>\n",
       "      <td>529.0</td>\n",
       "      <td>01</td>\n",
       "      <td>2014</td>\n",
       "      <td>2014-01</td>\n",
       "    </tr>\n",
       "    <tr>\n",
       "      <th>18</th>\n",
       "      <td>2014-01-08</td>\n",
       "      <td>Firma</td>\n",
       "      <td>205.0</td>\n",
       "      <td>01</td>\n",
       "      <td>2014</td>\n",
       "      <td>2014-01</td>\n",
       "    </tr>\n",
       "    <tr>\n",
       "      <th>22</th>\n",
       "      <td>2014-01-09</td>\n",
       "      <td>Firma</td>\n",
       "      <td>599.0</td>\n",
       "      <td>01</td>\n",
       "      <td>2014</td>\n",
       "      <td>2014-01</td>\n",
       "    </tr>\n",
       "    <tr>\n",
       "      <th>27</th>\n",
       "      <td>2014-01-10</td>\n",
       "      <td>Firma</td>\n",
       "      <td>346.0</td>\n",
       "      <td>01</td>\n",
       "      <td>2014</td>\n",
       "      <td>2014-01</td>\n",
       "    </tr>\n",
       "    <tr>\n",
       "      <th>1251</th>\n",
       "      <td>2014-01-11</td>\n",
       "      <td>Firma</td>\n",
       "      <td>0.0</td>\n",
       "      <td>01</td>\n",
       "      <td>2014</td>\n",
       "      <td>2014-01</td>\n",
       "    </tr>\n",
       "    <tr>\n",
       "      <th>31</th>\n",
       "      <td>2014-01-12</td>\n",
       "      <td>Firma</td>\n",
       "      <td>791.0</td>\n",
       "      <td>01</td>\n",
       "      <td>2014</td>\n",
       "      <td>2014-01</td>\n",
       "    </tr>\n",
       "    <tr>\n",
       "      <th>35</th>\n",
       "      <td>2014-01-13</td>\n",
       "      <td>Firma</td>\n",
       "      <td>376.0</td>\n",
       "      <td>01</td>\n",
       "      <td>2014</td>\n",
       "      <td>2014-01</td>\n",
       "    </tr>\n",
       "    <tr>\n",
       "      <th>40</th>\n",
       "      <td>2014-01-14</td>\n",
       "      <td>Firma</td>\n",
       "      <td>521.0</td>\n",
       "      <td>01</td>\n",
       "      <td>2014</td>\n",
       "      <td>2014-01</td>\n",
       "    </tr>\n",
       "    <tr>\n",
       "      <th>44</th>\n",
       "      <td>2014-01-15</td>\n",
       "      <td>Firma</td>\n",
       "      <td>256.0</td>\n",
       "      <td>01</td>\n",
       "      <td>2014</td>\n",
       "      <td>2014-01</td>\n",
       "    </tr>\n",
       "    <tr>\n",
       "      <th>49</th>\n",
       "      <td>2014-01-16</td>\n",
       "      <td>Firma</td>\n",
       "      <td>382.0</td>\n",
       "      <td>01</td>\n",
       "      <td>2014</td>\n",
       "      <td>2014-01</td>\n",
       "    </tr>\n",
       "    <tr>\n",
       "      <th>54</th>\n",
       "      <td>2014-01-17</td>\n",
       "      <td>Firma</td>\n",
       "      <td>508.0</td>\n",
       "      <td>01</td>\n",
       "      <td>2014</td>\n",
       "      <td>2014-01</td>\n",
       "    </tr>\n",
       "    <tr>\n",
       "      <th>1308</th>\n",
       "      <td>2014-01-18</td>\n",
       "      <td>Firma</td>\n",
       "      <td>0.0</td>\n",
       "      <td>01</td>\n",
       "      <td>2014</td>\n",
       "      <td>2014-01</td>\n",
       "    </tr>\n",
       "    <tr>\n",
       "      <th>1319</th>\n",
       "      <td>2014-01-19</td>\n",
       "      <td>Firma</td>\n",
       "      <td>0.0</td>\n",
       "      <td>01</td>\n",
       "      <td>2014</td>\n",
       "      <td>2014-01</td>\n",
       "    </tr>\n",
       "    <tr>\n",
       "      <th>60</th>\n",
       "      <td>2014-01-20</td>\n",
       "      <td>Firma</td>\n",
       "      <td>474.0</td>\n",
       "      <td>01</td>\n",
       "      <td>2014</td>\n",
       "      <td>2014-01</td>\n",
       "    </tr>\n",
       "    <tr>\n",
       "      <th>64</th>\n",
       "      <td>2014-01-21</td>\n",
       "      <td>Firma</td>\n",
       "      <td>575.0</td>\n",
       "      <td>01</td>\n",
       "      <td>2014</td>\n",
       "      <td>2014-01</td>\n",
       "    </tr>\n",
       "    <tr>\n",
       "      <th>69</th>\n",
       "      <td>2014-01-22</td>\n",
       "      <td>Firma</td>\n",
       "      <td>237.0</td>\n",
       "      <td>01</td>\n",
       "      <td>2014</td>\n",
       "      <td>2014-01</td>\n",
       "    </tr>\n",
       "    <tr>\n",
       "      <th>72</th>\n",
       "      <td>2014-01-23</td>\n",
       "      <td>Firma</td>\n",
       "      <td>203.0</td>\n",
       "      <td>01</td>\n",
       "      <td>2014</td>\n",
       "      <td>2014-01</td>\n",
       "    </tr>\n",
       "    <tr>\n",
       "      <th>78</th>\n",
       "      <td>2014-01-24</td>\n",
       "      <td>Firma</td>\n",
       "      <td>411.0</td>\n",
       "      <td>01</td>\n",
       "      <td>2014</td>\n",
       "      <td>2014-01</td>\n",
       "    </tr>\n",
       "    <tr>\n",
       "      <th>81</th>\n",
       "      <td>2014-01-25</td>\n",
       "      <td>Firma</td>\n",
       "      <td>1.0</td>\n",
       "      <td>01</td>\n",
       "      <td>2014</td>\n",
       "      <td>2014-01</td>\n",
       "    </tr>\n",
       "    <tr>\n",
       "      <th>86</th>\n",
       "      <td>2014-01-27</td>\n",
       "      <td>Firma</td>\n",
       "      <td>619.0</td>\n",
       "      <td>01</td>\n",
       "      <td>2014</td>\n",
       "      <td>2014-01</td>\n",
       "    </tr>\n",
       "    <tr>\n",
       "      <th>90</th>\n",
       "      <td>2014-01-28</td>\n",
       "      <td>Firma</td>\n",
       "      <td>382.0</td>\n",
       "      <td>01</td>\n",
       "      <td>2014</td>\n",
       "      <td>2014-01</td>\n",
       "    </tr>\n",
       "    <tr>\n",
       "      <th>94</th>\n",
       "      <td>2014-01-29</td>\n",
       "      <td>Firma</td>\n",
       "      <td>244.0</td>\n",
       "      <td>01</td>\n",
       "      <td>2014</td>\n",
       "      <td>2014-01</td>\n",
       "    </tr>\n",
       "    <tr>\n",
       "      <th>98</th>\n",
       "      <td>2014-01-30</td>\n",
       "      <td>Firma</td>\n",
       "      <td>278.0</td>\n",
       "      <td>01</td>\n",
       "      <td>2014</td>\n",
       "      <td>2014-01</td>\n",
       "    </tr>\n",
       "    <tr>\n",
       "      <th>103</th>\n",
       "      <td>2014-01-31</td>\n",
       "      <td>Firma</td>\n",
       "      <td>349.0</td>\n",
       "      <td>01</td>\n",
       "      <td>2014</td>\n",
       "      <td>2014-01</td>\n",
       "    </tr>\n",
       "    <tr>\n",
       "      <th>...</th>\n",
       "      <td>...</td>\n",
       "      <td>...</td>\n",
       "      <td>...</td>\n",
       "      <td>...</td>\n",
       "      <td>...</td>\n",
       "      <td>...</td>\n",
       "    </tr>\n",
       "    <tr>\n",
       "      <th>1065</th>\n",
       "      <td>2014-11-26</td>\n",
       "      <td>Firma</td>\n",
       "      <td>364.0</td>\n",
       "      <td>11</td>\n",
       "      <td>2014</td>\n",
       "      <td>2014-11</td>\n",
       "    </tr>\n",
       "    <tr>\n",
       "      <th>1068</th>\n",
       "      <td>2014-11-27</td>\n",
       "      <td>Firma</td>\n",
       "      <td>587.0</td>\n",
       "      <td>11</td>\n",
       "      <td>2014</td>\n",
       "      <td>2014-11</td>\n",
       "    </tr>\n",
       "    <tr>\n",
       "      <th>1073</th>\n",
       "      <td>2014-11-28</td>\n",
       "      <td>Firma</td>\n",
       "      <td>333.0</td>\n",
       "      <td>11</td>\n",
       "      <td>2014</td>\n",
       "      <td>2014-11</td>\n",
       "    </tr>\n",
       "    <tr>\n",
       "      <th>1076</th>\n",
       "      <td>2014-11-29</td>\n",
       "      <td>Firma</td>\n",
       "      <td>3.0</td>\n",
       "      <td>11</td>\n",
       "      <td>2014</td>\n",
       "      <td>2014-11</td>\n",
       "    </tr>\n",
       "    <tr>\n",
       "      <th>1079</th>\n",
       "      <td>2014-12-01</td>\n",
       "      <td>Firma</td>\n",
       "      <td>20.0</td>\n",
       "      <td>12</td>\n",
       "      <td>2014</td>\n",
       "      <td>2014-12</td>\n",
       "    </tr>\n",
       "    <tr>\n",
       "      <th>1080</th>\n",
       "      <td>2014-12-02</td>\n",
       "      <td>Firma</td>\n",
       "      <td>512.0</td>\n",
       "      <td>12</td>\n",
       "      <td>2014</td>\n",
       "      <td>2014-12</td>\n",
       "    </tr>\n",
       "    <tr>\n",
       "      <th>1083</th>\n",
       "      <td>2014-12-03</td>\n",
       "      <td>Firma</td>\n",
       "      <td>323.0</td>\n",
       "      <td>12</td>\n",
       "      <td>2014</td>\n",
       "      <td>2014-12</td>\n",
       "    </tr>\n",
       "    <tr>\n",
       "      <th>1086</th>\n",
       "      <td>2014-12-04</td>\n",
       "      <td>Firma</td>\n",
       "      <td>46.0</td>\n",
       "      <td>12</td>\n",
       "      <td>2014</td>\n",
       "      <td>2014-12</td>\n",
       "    </tr>\n",
       "    <tr>\n",
       "      <th>1091</th>\n",
       "      <td>2014-12-05</td>\n",
       "      <td>Firma</td>\n",
       "      <td>516.0</td>\n",
       "      <td>12</td>\n",
       "      <td>2014</td>\n",
       "      <td>2014-12</td>\n",
       "    </tr>\n",
       "    <tr>\n",
       "      <th>1094</th>\n",
       "      <td>2014-12-06</td>\n",
       "      <td>Firma</td>\n",
       "      <td>633.0</td>\n",
       "      <td>12</td>\n",
       "      <td>2014</td>\n",
       "      <td>2014-12</td>\n",
       "    </tr>\n",
       "    <tr>\n",
       "      <th>3604</th>\n",
       "      <td>2014-12-07</td>\n",
       "      <td>Firma</td>\n",
       "      <td>0.0</td>\n",
       "      <td>12</td>\n",
       "      <td>2014</td>\n",
       "      <td>2014-12</td>\n",
       "    </tr>\n",
       "    <tr>\n",
       "      <th>1098</th>\n",
       "      <td>2014-12-08</td>\n",
       "      <td>Firma</td>\n",
       "      <td>379.0</td>\n",
       "      <td>12</td>\n",
       "      <td>2014</td>\n",
       "      <td>2014-12</td>\n",
       "    </tr>\n",
       "    <tr>\n",
       "      <th>1102</th>\n",
       "      <td>2014-12-09</td>\n",
       "      <td>Firma</td>\n",
       "      <td>141.0</td>\n",
       "      <td>12</td>\n",
       "      <td>2014</td>\n",
       "      <td>2014-12</td>\n",
       "    </tr>\n",
       "    <tr>\n",
       "      <th>1105</th>\n",
       "      <td>2014-12-11</td>\n",
       "      <td>Firma</td>\n",
       "      <td>386.0</td>\n",
       "      <td>12</td>\n",
       "      <td>2014</td>\n",
       "      <td>2014-12</td>\n",
       "    </tr>\n",
       "    <tr>\n",
       "      <th>1108</th>\n",
       "      <td>2014-12-12</td>\n",
       "      <td>Firma</td>\n",
       "      <td>352.0</td>\n",
       "      <td>12</td>\n",
       "      <td>2014</td>\n",
       "      <td>2014-12</td>\n",
       "    </tr>\n",
       "    <tr>\n",
       "      <th>1111</th>\n",
       "      <td>2014-12-13</td>\n",
       "      <td>Firma</td>\n",
       "      <td>13.0</td>\n",
       "      <td>12</td>\n",
       "      <td>2014</td>\n",
       "      <td>2014-12</td>\n",
       "    </tr>\n",
       "    <tr>\n",
       "      <th>1115</th>\n",
       "      <td>2014-12-15</td>\n",
       "      <td>Firma</td>\n",
       "      <td>503.0</td>\n",
       "      <td>12</td>\n",
       "      <td>2014</td>\n",
       "      <td>2014-12</td>\n",
       "    </tr>\n",
       "    <tr>\n",
       "      <th>1119</th>\n",
       "      <td>2014-12-16</td>\n",
       "      <td>Firma</td>\n",
       "      <td>322.0</td>\n",
       "      <td>12</td>\n",
       "      <td>2014</td>\n",
       "      <td>2014-12</td>\n",
       "    </tr>\n",
       "    <tr>\n",
       "      <th>1124</th>\n",
       "      <td>2014-12-17</td>\n",
       "      <td>Firma</td>\n",
       "      <td>308.0</td>\n",
       "      <td>12</td>\n",
       "      <td>2014</td>\n",
       "      <td>2014-12</td>\n",
       "    </tr>\n",
       "    <tr>\n",
       "      <th>1129</th>\n",
       "      <td>2014-12-18</td>\n",
       "      <td>Firma</td>\n",
       "      <td>428.0</td>\n",
       "      <td>12</td>\n",
       "      <td>2014</td>\n",
       "      <td>2014-12</td>\n",
       "    </tr>\n",
       "    <tr>\n",
       "      <th>1133</th>\n",
       "      <td>2014-12-19</td>\n",
       "      <td>Firma</td>\n",
       "      <td>442.0</td>\n",
       "      <td>12</td>\n",
       "      <td>2014</td>\n",
       "      <td>2014-12</td>\n",
       "    </tr>\n",
       "    <tr>\n",
       "      <th>1136</th>\n",
       "      <td>2014-12-20</td>\n",
       "      <td>Firma</td>\n",
       "      <td>169.0</td>\n",
       "      <td>12</td>\n",
       "      <td>2014</td>\n",
       "      <td>2014-12</td>\n",
       "    </tr>\n",
       "    <tr>\n",
       "      <th>3706</th>\n",
       "      <td>2014-12-21</td>\n",
       "      <td>Firma</td>\n",
       "      <td>0.0</td>\n",
       "      <td>12</td>\n",
       "      <td>2014</td>\n",
       "      <td>2014-12</td>\n",
       "    </tr>\n",
       "    <tr>\n",
       "      <th>1141</th>\n",
       "      <td>2014-12-22</td>\n",
       "      <td>Firma</td>\n",
       "      <td>335.0</td>\n",
       "      <td>12</td>\n",
       "      <td>2014</td>\n",
       "      <td>2014-12</td>\n",
       "    </tr>\n",
       "    <tr>\n",
       "      <th>1144</th>\n",
       "      <td>2014-12-23</td>\n",
       "      <td>Firma</td>\n",
       "      <td>220.0</td>\n",
       "      <td>12</td>\n",
       "      <td>2014</td>\n",
       "      <td>2014-12</td>\n",
       "    </tr>\n",
       "    <tr>\n",
       "      <th>1147</th>\n",
       "      <td>2014-12-27</td>\n",
       "      <td>Firma</td>\n",
       "      <td>19.0</td>\n",
       "      <td>12</td>\n",
       "      <td>2014</td>\n",
       "      <td>2014-12</td>\n",
       "    </tr>\n",
       "    <tr>\n",
       "      <th>1150</th>\n",
       "      <td>2014-12-29</td>\n",
       "      <td>Firma</td>\n",
       "      <td>214.0</td>\n",
       "      <td>12</td>\n",
       "      <td>2014</td>\n",
       "      <td>2014-12</td>\n",
       "    </tr>\n",
       "    <tr>\n",
       "      <th>1153</th>\n",
       "      <td>2014-12-30</td>\n",
       "      <td>Firma</td>\n",
       "      <td>140.0</td>\n",
       "      <td>12</td>\n",
       "      <td>2014</td>\n",
       "      <td>2014-12</td>\n",
       "    </tr>\n",
       "    <tr>\n",
       "      <th>1157</th>\n",
       "      <td>2014-12-31</td>\n",
       "      <td>Firma</td>\n",
       "      <td>0.0</td>\n",
       "      <td>12</td>\n",
       "      <td>2014</td>\n",
       "      <td>2014-12</td>\n",
       "    </tr>\n",
       "    <tr>\n",
       "      <th>3769</th>\n",
       "      <td>2018-02-21</td>\n",
       "      <td>Firma</td>\n",
       "      <td>0.0</td>\n",
       "      <td>02</td>\n",
       "      <td>2018</td>\n",
       "      <td>2018-02</td>\n",
       "    </tr>\n",
       "  </tbody>\n",
       "</table>\n",
       "<p>315 rows × 6 columns</p>\n",
       "</div>"
      ],
      "text/plain": [
       "     Auftragsdatum Adressanredecode  count month  year     date\n",
       "0       2013-12-30            Firma    2.0    12  2013  2013-12\n",
       "1       2014-01-02            Firma   95.0    01  2014  2014-01\n",
       "4       2014-01-03            Firma    4.0    01  2014  2014-01\n",
       "9       2014-01-04            Firma  525.0    01  2014  2014-01\n",
       "1197    2014-01-05            Firma    0.0    01  2014  2014-01\n",
       "1208    2014-01-06            Firma    0.0    01  2014  2014-01\n",
       "15      2014-01-07            Firma  529.0    01  2014  2014-01\n",
       "18      2014-01-08            Firma  205.0    01  2014  2014-01\n",
       "22      2014-01-09            Firma  599.0    01  2014  2014-01\n",
       "27      2014-01-10            Firma  346.0    01  2014  2014-01\n",
       "1251    2014-01-11            Firma    0.0    01  2014  2014-01\n",
       "31      2014-01-12            Firma  791.0    01  2014  2014-01\n",
       "35      2014-01-13            Firma  376.0    01  2014  2014-01\n",
       "40      2014-01-14            Firma  521.0    01  2014  2014-01\n",
       "44      2014-01-15            Firma  256.0    01  2014  2014-01\n",
       "49      2014-01-16            Firma  382.0    01  2014  2014-01\n",
       "54      2014-01-17            Firma  508.0    01  2014  2014-01\n",
       "1308    2014-01-18            Firma    0.0    01  2014  2014-01\n",
       "1319    2014-01-19            Firma    0.0    01  2014  2014-01\n",
       "60      2014-01-20            Firma  474.0    01  2014  2014-01\n",
       "64      2014-01-21            Firma  575.0    01  2014  2014-01\n",
       "69      2014-01-22            Firma  237.0    01  2014  2014-01\n",
       "72      2014-01-23            Firma  203.0    01  2014  2014-01\n",
       "78      2014-01-24            Firma  411.0    01  2014  2014-01\n",
       "81      2014-01-25            Firma    1.0    01  2014  2014-01\n",
       "86      2014-01-27            Firma  619.0    01  2014  2014-01\n",
       "90      2014-01-28            Firma  382.0    01  2014  2014-01\n",
       "94      2014-01-29            Firma  244.0    01  2014  2014-01\n",
       "98      2014-01-30            Firma  278.0    01  2014  2014-01\n",
       "103     2014-01-31            Firma  349.0    01  2014  2014-01\n",
       "...            ...              ...    ...   ...   ...      ...\n",
       "1065    2014-11-26            Firma  364.0    11  2014  2014-11\n",
       "1068    2014-11-27            Firma  587.0    11  2014  2014-11\n",
       "1073    2014-11-28            Firma  333.0    11  2014  2014-11\n",
       "1076    2014-11-29            Firma    3.0    11  2014  2014-11\n",
       "1079    2014-12-01            Firma   20.0    12  2014  2014-12\n",
       "1080    2014-12-02            Firma  512.0    12  2014  2014-12\n",
       "1083    2014-12-03            Firma  323.0    12  2014  2014-12\n",
       "1086    2014-12-04            Firma   46.0    12  2014  2014-12\n",
       "1091    2014-12-05            Firma  516.0    12  2014  2014-12\n",
       "1094    2014-12-06            Firma  633.0    12  2014  2014-12\n",
       "3604    2014-12-07            Firma    0.0    12  2014  2014-12\n",
       "1098    2014-12-08            Firma  379.0    12  2014  2014-12\n",
       "1102    2014-12-09            Firma  141.0    12  2014  2014-12\n",
       "1105    2014-12-11            Firma  386.0    12  2014  2014-12\n",
       "1108    2014-12-12            Firma  352.0    12  2014  2014-12\n",
       "1111    2014-12-13            Firma   13.0    12  2014  2014-12\n",
       "1115    2014-12-15            Firma  503.0    12  2014  2014-12\n",
       "1119    2014-12-16            Firma  322.0    12  2014  2014-12\n",
       "1124    2014-12-17            Firma  308.0    12  2014  2014-12\n",
       "1129    2014-12-18            Firma  428.0    12  2014  2014-12\n",
       "1133    2014-12-19            Firma  442.0    12  2014  2014-12\n",
       "1136    2014-12-20            Firma  169.0    12  2014  2014-12\n",
       "3706    2014-12-21            Firma    0.0    12  2014  2014-12\n",
       "1141    2014-12-22            Firma  335.0    12  2014  2014-12\n",
       "1144    2014-12-23            Firma  220.0    12  2014  2014-12\n",
       "1147    2014-12-27            Firma   19.0    12  2014  2014-12\n",
       "1150    2014-12-29            Firma  214.0    12  2014  2014-12\n",
       "1153    2014-12-30            Firma  140.0    12  2014  2014-12\n",
       "1157    2014-12-31            Firma    0.0    12  2014  2014-12\n",
       "3769    2018-02-21            Firma    0.0    02  2018  2018-02\n",
       "\n",
       "[315 rows x 6 columns]"
      ]
     },
     "execution_count": 255,
     "metadata": {},
     "output_type": "execute_result"
    }
   ],
   "source": [
    "tmp[tmp['Adressanredecode'] == 'Firma']"
   ]
  },
  {
   "cell_type": "code",
   "execution_count": 193,
   "metadata": {
    "collapsed": false
   },
   "outputs": [
    {
     "data": {
      "text/plain": [
       "'2013'"
      ]
     },
     "execution_count": 193,
     "metadata": {},
     "output_type": "execute_result"
    }
   ],
   "source": [
    "str(tmp['Auftragsdatum'][0].to_pydatetime().year) "
   ]
  },
  {
   "cell_type": "code",
   "execution_count": 217,
   "metadata": {
    "collapsed": false
   },
   "outputs": [],
   "source": [
    "tmp['Date'] = tmp['Auftragsdatum'].astype(str)"
   ]
  },
  {
   "cell_type": "code",
   "execution_count": 219,
   "metadata": {
    "collapsed": false
   },
   "outputs": [],
   "source": [
    "tmp['Date'] = tmp['Date']"
   ]
  },
  {
   "cell_type": "code",
   "execution_count": 220,
   "metadata": {
    "collapsed": false
   },
   "outputs": [
    {
     "data": {
      "text/html": [
       "<div>\n",
       "<style scoped>\n",
       "    .dataframe tbody tr th:only-of-type {\n",
       "        vertical-align: middle;\n",
       "    }\n",
       "\n",
       "    .dataframe tbody tr th {\n",
       "        vertical-align: top;\n",
       "    }\n",
       "\n",
       "    .dataframe thead th {\n",
       "        text-align: right;\n",
       "    }\n",
       "</style>\n",
       "<table border=\"1\" class=\"dataframe\">\n",
       "  <thead>\n",
       "    <tr style=\"text-align: right;\">\n",
       "      <th></th>\n",
       "      <th>Auftragsdatum</th>\n",
       "      <th>Adressanredecode</th>\n",
       "      <th>count</th>\n",
       "      <th>Date</th>\n",
       "    </tr>\n",
       "  </thead>\n",
       "  <tbody>\n",
       "    <tr>\n",
       "      <th>0</th>\n",
       "      <td>2013-12-30</td>\n",
       "      <td>Firma</td>\n",
       "      <td>2.0</td>\n",
       "      <td>2013-12-30</td>\n",
       "    </tr>\n",
       "    <tr>\n",
       "      <th>1163</th>\n",
       "      <td>2013-12-30</td>\n",
       "      <td>OHNE</td>\n",
       "      <td>0.0</td>\n",
       "      <td>2013-12-30</td>\n",
       "    </tr>\n",
       "    <tr>\n",
       "      <th>1164</th>\n",
       "      <td>2013-12-30</td>\n",
       "      <td>AN</td>\n",
       "      <td>0.0</td>\n",
       "      <td>2013-12-30</td>\n",
       "    </tr>\n",
       "    <tr>\n",
       "      <th>1165</th>\n",
       "      <td>2013-12-30</td>\n",
       "      <td>FA_F</td>\n",
       "      <td>0.0</td>\n",
       "      <td>2013-12-30</td>\n",
       "    </tr>\n",
       "    <tr>\n",
       "      <th>1166</th>\n",
       "      <td>2013-12-30</td>\n",
       "      <td>FR.DR.</td>\n",
       "      <td>0.0</td>\n",
       "      <td>2013-12-30</td>\n",
       "    </tr>\n",
       "    <tr>\n",
       "      <th>1167</th>\n",
       "      <td>2013-12-30</td>\n",
       "      <td>FA_M</td>\n",
       "      <td>0.0</td>\n",
       "      <td>2013-12-30</td>\n",
       "    </tr>\n",
       "    <tr>\n",
       "      <th>1168</th>\n",
       "      <td>2013-12-30</td>\n",
       "      <td>HR.DR.</td>\n",
       "      <td>0.0</td>\n",
       "      <td>2013-12-30</td>\n",
       "    </tr>\n",
       "    <tr>\n",
       "      <th>1169</th>\n",
       "      <td>2013-12-30</td>\n",
       "      <td>AUTOHAUS</td>\n",
       "      <td>0.0</td>\n",
       "      <td>NaN</td>\n",
       "    </tr>\n",
       "    <tr>\n",
       "      <th>1170</th>\n",
       "      <td>2013-12-30</td>\n",
       "      <td>HERR+FRAU</td>\n",
       "      <td>0.0</td>\n",
       "      <td>NaN</td>\n",
       "    </tr>\n",
       "    <tr>\n",
       "      <th>1171</th>\n",
       "      <td>2013-12-30</td>\n",
       "      <td>FAHRSCHULE</td>\n",
       "      <td>0.0</td>\n",
       "      <td>NaN</td>\n",
       "    </tr>\n",
       "    <tr>\n",
       "      <th>1162</th>\n",
       "      <td>2013-12-30</td>\n",
       "      <td>Herr</td>\n",
       "      <td>0.0</td>\n",
       "      <td>NaN</td>\n",
       "    </tr>\n",
       "    <tr>\n",
       "      <th>1161</th>\n",
       "      <td>2013-12-30</td>\n",
       "      <td>Frau</td>\n",
       "      <td>0.0</td>\n",
       "      <td>NaN</td>\n",
       "    </tr>\n",
       "    <tr>\n",
       "      <th>1</th>\n",
       "      <td>2014-01-02</td>\n",
       "      <td>Firma</td>\n",
       "      <td>95.0</td>\n",
       "      <td>NaN</td>\n",
       "    </tr>\n",
       "    <tr>\n",
       "      <th>1179</th>\n",
       "      <td>2014-01-02</td>\n",
       "      <td>HERR+FRAU</td>\n",
       "      <td>0.0</td>\n",
       "      <td>NaN</td>\n",
       "    </tr>\n",
       "    <tr>\n",
       "      <th>1178</th>\n",
       "      <td>2014-01-02</td>\n",
       "      <td>AUTOHAUS</td>\n",
       "      <td>0.0</td>\n",
       "      <td>NaN</td>\n",
       "    </tr>\n",
       "    <tr>\n",
       "      <th>1177</th>\n",
       "      <td>2014-01-02</td>\n",
       "      <td>HR.DR.</td>\n",
       "      <td>0.0</td>\n",
       "      <td>NaN</td>\n",
       "    </tr>\n",
       "    <tr>\n",
       "      <th>1176</th>\n",
       "      <td>2014-01-02</td>\n",
       "      <td>FA_M</td>\n",
       "      <td>0.0</td>\n",
       "      <td>NaN</td>\n",
       "    </tr>\n",
       "    <tr>\n",
       "      <th>1175</th>\n",
       "      <td>2014-01-02</td>\n",
       "      <td>FR.DR.</td>\n",
       "      <td>0.0</td>\n",
       "      <td>NaN</td>\n",
       "    </tr>\n",
       "    <tr>\n",
       "      <th>1174</th>\n",
       "      <td>2014-01-02</td>\n",
       "      <td>FA_F</td>\n",
       "      <td>0.0</td>\n",
       "      <td>NaN</td>\n",
       "    </tr>\n",
       "    <tr>\n",
       "      <th>1173</th>\n",
       "      <td>2014-01-02</td>\n",
       "      <td>AN</td>\n",
       "      <td>0.0</td>\n",
       "      <td>NaN</td>\n",
       "    </tr>\n",
       "    <tr>\n",
       "      <th>1172</th>\n",
       "      <td>2014-01-02</td>\n",
       "      <td>OHNE</td>\n",
       "      <td>0.0</td>\n",
       "      <td>NaN</td>\n",
       "    </tr>\n",
       "    <tr>\n",
       "      <th>2</th>\n",
       "      <td>2014-01-02</td>\n",
       "      <td>Frau</td>\n",
       "      <td>14.0</td>\n",
       "      <td>NaN</td>\n",
       "    </tr>\n",
       "    <tr>\n",
       "      <th>3</th>\n",
       "      <td>2014-01-02</td>\n",
       "      <td>Herr</td>\n",
       "      <td>19.0</td>\n",
       "      <td>NaN</td>\n",
       "    </tr>\n",
       "    <tr>\n",
       "      <th>1180</th>\n",
       "      <td>2014-01-02</td>\n",
       "      <td>FAHRSCHULE</td>\n",
       "      <td>0.0</td>\n",
       "      <td>NaN</td>\n",
       "    </tr>\n",
       "    <tr>\n",
       "      <th>1184</th>\n",
       "      <td>2014-01-03</td>\n",
       "      <td>FR.DR.</td>\n",
       "      <td>0.0</td>\n",
       "      <td>NaN</td>\n",
       "    </tr>\n",
       "    <tr>\n",
       "      <th>1185</th>\n",
       "      <td>2014-01-03</td>\n",
       "      <td>FA_M</td>\n",
       "      <td>0.0</td>\n",
       "      <td>NaN</td>\n",
       "    </tr>\n",
       "    <tr>\n",
       "      <th>1186</th>\n",
       "      <td>2014-01-03</td>\n",
       "      <td>HR.DR.</td>\n",
       "      <td>0.0</td>\n",
       "      <td>NaN</td>\n",
       "    </tr>\n",
       "    <tr>\n",
       "      <th>1188</th>\n",
       "      <td>2014-01-03</td>\n",
       "      <td>HERR+FRAU</td>\n",
       "      <td>0.0</td>\n",
       "      <td>NaN</td>\n",
       "    </tr>\n",
       "    <tr>\n",
       "      <th>1189</th>\n",
       "      <td>2014-01-03</td>\n",
       "      <td>FAHRSCHULE</td>\n",
       "      <td>0.0</td>\n",
       "      <td>NaN</td>\n",
       "    </tr>\n",
       "    <tr>\n",
       "      <th>1183</th>\n",
       "      <td>2014-01-03</td>\n",
       "      <td>FA_F</td>\n",
       "      <td>0.0</td>\n",
       "      <td>NaN</td>\n",
       "    </tr>\n",
       "    <tr>\n",
       "      <th>...</th>\n",
       "      <td>...</td>\n",
       "      <td>...</td>\n",
       "      <td>...</td>\n",
       "      <td>...</td>\n",
       "    </tr>\n",
       "    <tr>\n",
       "      <th>3759</th>\n",
       "      <td>2014-12-30</td>\n",
       "      <td>HERR+FRAU</td>\n",
       "      <td>0.0</td>\n",
       "      <td>NaN</td>\n",
       "    </tr>\n",
       "    <tr>\n",
       "      <th>1155</th>\n",
       "      <td>2014-12-30</td>\n",
       "      <td>Herr</td>\n",
       "      <td>136.0</td>\n",
       "      <td>NaN</td>\n",
       "    </tr>\n",
       "    <tr>\n",
       "      <th>3758</th>\n",
       "      <td>2014-12-30</td>\n",
       "      <td>AUTOHAUS</td>\n",
       "      <td>0.0</td>\n",
       "      <td>NaN</td>\n",
       "    </tr>\n",
       "    <tr>\n",
       "      <th>1154</th>\n",
       "      <td>2014-12-30</td>\n",
       "      <td>Frau</td>\n",
       "      <td>106.0</td>\n",
       "      <td>NaN</td>\n",
       "    </tr>\n",
       "    <tr>\n",
       "      <th>3756</th>\n",
       "      <td>2014-12-30</td>\n",
       "      <td>FA_M</td>\n",
       "      <td>0.0</td>\n",
       "      <td>NaN</td>\n",
       "    </tr>\n",
       "    <tr>\n",
       "      <th>3755</th>\n",
       "      <td>2014-12-30</td>\n",
       "      <td>FR.DR.</td>\n",
       "      <td>0.0</td>\n",
       "      <td>NaN</td>\n",
       "    </tr>\n",
       "    <tr>\n",
       "      <th>3767</th>\n",
       "      <td>2014-12-31</td>\n",
       "      <td>HERR+FRAU</td>\n",
       "      <td>0.0</td>\n",
       "      <td>NaN</td>\n",
       "    </tr>\n",
       "    <tr>\n",
       "      <th>3765</th>\n",
       "      <td>2014-12-31</td>\n",
       "      <td>HR.DR.</td>\n",
       "      <td>0.0</td>\n",
       "      <td>NaN</td>\n",
       "    </tr>\n",
       "    <tr>\n",
       "      <th>3764</th>\n",
       "      <td>2014-12-31</td>\n",
       "      <td>FA_M</td>\n",
       "      <td>0.0</td>\n",
       "      <td>NaN</td>\n",
       "    </tr>\n",
       "    <tr>\n",
       "      <th>3766</th>\n",
       "      <td>2014-12-31</td>\n",
       "      <td>AUTOHAUS</td>\n",
       "      <td>0.0</td>\n",
       "      <td>NaN</td>\n",
       "    </tr>\n",
       "    <tr>\n",
       "      <th>3768</th>\n",
       "      <td>2014-12-31</td>\n",
       "      <td>FAHRSCHULE</td>\n",
       "      <td>0.0</td>\n",
       "      <td>NaN</td>\n",
       "    </tr>\n",
       "    <tr>\n",
       "      <th>3763</th>\n",
       "      <td>2014-12-31</td>\n",
       "      <td>FR.DR.</td>\n",
       "      <td>0.0</td>\n",
       "      <td>NaN</td>\n",
       "    </tr>\n",
       "    <tr>\n",
       "      <th>1159</th>\n",
       "      <td>2014-12-31</td>\n",
       "      <td>Herr</td>\n",
       "      <td>0.0</td>\n",
       "      <td>NaN</td>\n",
       "    </tr>\n",
       "    <tr>\n",
       "      <th>3761</th>\n",
       "      <td>2014-12-31</td>\n",
       "      <td>OHNE</td>\n",
       "      <td>0.0</td>\n",
       "      <td>NaN</td>\n",
       "    </tr>\n",
       "    <tr>\n",
       "      <th>1156</th>\n",
       "      <td>2014-12-31</td>\n",
       "      <td>FA_F</td>\n",
       "      <td>0.0</td>\n",
       "      <td>NaN</td>\n",
       "    </tr>\n",
       "    <tr>\n",
       "      <th>1157</th>\n",
       "      <td>2014-12-31</td>\n",
       "      <td>Firma</td>\n",
       "      <td>0.0</td>\n",
       "      <td>NaN</td>\n",
       "    </tr>\n",
       "    <tr>\n",
       "      <th>1158</th>\n",
       "      <td>2014-12-31</td>\n",
       "      <td>Frau</td>\n",
       "      <td>0.0</td>\n",
       "      <td>NaN</td>\n",
       "    </tr>\n",
       "    <tr>\n",
       "      <th>3762</th>\n",
       "      <td>2014-12-31</td>\n",
       "      <td>AN</td>\n",
       "      <td>0.0</td>\n",
       "      <td>NaN</td>\n",
       "    </tr>\n",
       "    <tr>\n",
       "      <th>3777</th>\n",
       "      <td>2018-02-21</td>\n",
       "      <td>AUTOHAUS</td>\n",
       "      <td>0.0</td>\n",
       "      <td>NaN</td>\n",
       "    </tr>\n",
       "    <tr>\n",
       "      <th>3774</th>\n",
       "      <td>2018-02-21</td>\n",
       "      <td>FR.DR.</td>\n",
       "      <td>0.0</td>\n",
       "      <td>NaN</td>\n",
       "    </tr>\n",
       "    <tr>\n",
       "      <th>3776</th>\n",
       "      <td>2018-02-21</td>\n",
       "      <td>HR.DR.</td>\n",
       "      <td>0.0</td>\n",
       "      <td>NaN</td>\n",
       "    </tr>\n",
       "    <tr>\n",
       "      <th>3775</th>\n",
       "      <td>2018-02-21</td>\n",
       "      <td>FA_M</td>\n",
       "      <td>0.0</td>\n",
       "      <td>NaN</td>\n",
       "    </tr>\n",
       "    <tr>\n",
       "      <th>3773</th>\n",
       "      <td>2018-02-21</td>\n",
       "      <td>FA_F</td>\n",
       "      <td>0.0</td>\n",
       "      <td>NaN</td>\n",
       "    </tr>\n",
       "    <tr>\n",
       "      <th>3778</th>\n",
       "      <td>2018-02-21</td>\n",
       "      <td>HERR+FRAU</td>\n",
       "      <td>0.0</td>\n",
       "      <td>NaN</td>\n",
       "    </tr>\n",
       "    <tr>\n",
       "      <th>3771</th>\n",
       "      <td>2018-02-21</td>\n",
       "      <td>Herr</td>\n",
       "      <td>0.0</td>\n",
       "      <td>NaN</td>\n",
       "    </tr>\n",
       "    <tr>\n",
       "      <th>3770</th>\n",
       "      <td>2018-02-21</td>\n",
       "      <td>Frau</td>\n",
       "      <td>0.0</td>\n",
       "      <td>NaN</td>\n",
       "    </tr>\n",
       "    <tr>\n",
       "      <th>3769</th>\n",
       "      <td>2018-02-21</td>\n",
       "      <td>Firma</td>\n",
       "      <td>0.0</td>\n",
       "      <td>NaN</td>\n",
       "    </tr>\n",
       "    <tr>\n",
       "      <th>1160</th>\n",
       "      <td>2018-02-21</td>\n",
       "      <td>AN</td>\n",
       "      <td>0.0</td>\n",
       "      <td>NaN</td>\n",
       "    </tr>\n",
       "    <tr>\n",
       "      <th>3772</th>\n",
       "      <td>2018-02-21</td>\n",
       "      <td>OHNE</td>\n",
       "      <td>0.0</td>\n",
       "      <td>NaN</td>\n",
       "    </tr>\n",
       "    <tr>\n",
       "      <th>3779</th>\n",
       "      <td>2018-02-21</td>\n",
       "      <td>FAHRSCHULE</td>\n",
       "      <td>0.0</td>\n",
       "      <td>NaN</td>\n",
       "    </tr>\n",
       "  </tbody>\n",
       "</table>\n",
       "<p>3780 rows × 4 columns</p>\n",
       "</div>"
      ],
      "text/plain": [
       "     Auftragsdatum Adressanredecode  count        Date\n",
       "0       2013-12-30            Firma    2.0  2013-12-30\n",
       "1163    2013-12-30             OHNE    0.0  2013-12-30\n",
       "1164    2013-12-30               AN    0.0  2013-12-30\n",
       "1165    2013-12-30             FA_F    0.0  2013-12-30\n",
       "1166    2013-12-30           FR.DR.    0.0  2013-12-30\n",
       "1167    2013-12-30             FA_M    0.0  2013-12-30\n",
       "1168    2013-12-30           HR.DR.    0.0  2013-12-30\n",
       "1169    2013-12-30         AUTOHAUS    0.0         NaN\n",
       "1170    2013-12-30        HERR+FRAU    0.0         NaN\n",
       "1171    2013-12-30       FAHRSCHULE    0.0         NaN\n",
       "1162    2013-12-30             Herr    0.0         NaN\n",
       "1161    2013-12-30             Frau    0.0         NaN\n",
       "1       2014-01-02            Firma   95.0         NaN\n",
       "1179    2014-01-02        HERR+FRAU    0.0         NaN\n",
       "1178    2014-01-02         AUTOHAUS    0.0         NaN\n",
       "1177    2014-01-02           HR.DR.    0.0         NaN\n",
       "1176    2014-01-02             FA_M    0.0         NaN\n",
       "1175    2014-01-02           FR.DR.    0.0         NaN\n",
       "1174    2014-01-02             FA_F    0.0         NaN\n",
       "1173    2014-01-02               AN    0.0         NaN\n",
       "1172    2014-01-02             OHNE    0.0         NaN\n",
       "2       2014-01-02             Frau   14.0         NaN\n",
       "3       2014-01-02             Herr   19.0         NaN\n",
       "1180    2014-01-02       FAHRSCHULE    0.0         NaN\n",
       "1184    2014-01-03           FR.DR.    0.0         NaN\n",
       "1185    2014-01-03             FA_M    0.0         NaN\n",
       "1186    2014-01-03           HR.DR.    0.0         NaN\n",
       "1188    2014-01-03        HERR+FRAU    0.0         NaN\n",
       "1189    2014-01-03       FAHRSCHULE    0.0         NaN\n",
       "1183    2014-01-03             FA_F    0.0         NaN\n",
       "...            ...              ...    ...         ...\n",
       "3759    2014-12-30        HERR+FRAU    0.0         NaN\n",
       "1155    2014-12-30             Herr  136.0         NaN\n",
       "3758    2014-12-30         AUTOHAUS    0.0         NaN\n",
       "1154    2014-12-30             Frau  106.0         NaN\n",
       "3756    2014-12-30             FA_M    0.0         NaN\n",
       "3755    2014-12-30           FR.DR.    0.0         NaN\n",
       "3767    2014-12-31        HERR+FRAU    0.0         NaN\n",
       "3765    2014-12-31           HR.DR.    0.0         NaN\n",
       "3764    2014-12-31             FA_M    0.0         NaN\n",
       "3766    2014-12-31         AUTOHAUS    0.0         NaN\n",
       "3768    2014-12-31       FAHRSCHULE    0.0         NaN\n",
       "3763    2014-12-31           FR.DR.    0.0         NaN\n",
       "1159    2014-12-31             Herr    0.0         NaN\n",
       "3761    2014-12-31             OHNE    0.0         NaN\n",
       "1156    2014-12-31             FA_F    0.0         NaN\n",
       "1157    2014-12-31            Firma    0.0         NaN\n",
       "1158    2014-12-31             Frau    0.0         NaN\n",
       "3762    2014-12-31               AN    0.0         NaN\n",
       "3777    2018-02-21         AUTOHAUS    0.0         NaN\n",
       "3774    2018-02-21           FR.DR.    0.0         NaN\n",
       "3776    2018-02-21           HR.DR.    0.0         NaN\n",
       "3775    2018-02-21             FA_M    0.0         NaN\n",
       "3773    2018-02-21             FA_F    0.0         NaN\n",
       "3778    2018-02-21        HERR+FRAU    0.0         NaN\n",
       "3771    2018-02-21             Herr    0.0         NaN\n",
       "3770    2018-02-21             Frau    0.0         NaN\n",
       "3769    2018-02-21            Firma    0.0         NaN\n",
       "1160    2018-02-21               AN    0.0         NaN\n",
       "3772    2018-02-21             OHNE    0.0         NaN\n",
       "3779    2018-02-21       FAHRSCHULE    0.0         NaN\n",
       "\n",
       "[3780 rows x 4 columns]"
      ]
     },
     "execution_count": 220,
     "metadata": {},
     "output_type": "execute_result"
    }
   ],
   "source": []
  },
  {
   "cell_type": "code",
   "execution_count": 262,
   "metadata": {
    "collapsed": false
   },
   "outputs": [
    {
     "data": {
      "text/plain": [
       "array(['VW', 'SKODA', 'AUDI', nan, 'BMW', '27.04.2006', 'OPEL', 'SUBARU',\n",
       "       'SEAT', 'RENAULT', 'TOYOTA', '13.08.2009', 'FORD', 'CITROËN',\n",
       "       'MERCEDES', 'MAZDA', 'PORSCHE', 'CHRYSLER', 'PEUGEOT', '09.05.2005'], dtype=object)"
      ]
     },
     "execution_count": 262,
     "metadata": {},
     "output_type": "execute_result"
    }
   ],
   "source": [
    "lb_wsp_2014['Markencode'].unique()"
   ]
  },
  {
   "cell_type": "code",
   "execution_count": null,
   "metadata": {
    "collapsed": true
   },
   "outputs": [],
   "source": []
  },
  {
   "cell_type": "code",
   "execution_count": null,
   "metadata": {
    "collapsed": true
   },
   "outputs": [],
   "source": []
  },
  {
   "cell_type": "code",
   "execution_count": null,
   "metadata": {
    "collapsed": true
   },
   "outputs": [],
   "source": []
  },
  {
   "cell_type": "code",
   "execution_count": null,
   "metadata": {
    "collapsed": true
   },
   "outputs": [],
   "source": []
  },
  {
   "cell_type": "code",
   "execution_count": null,
   "metadata": {
    "collapsed": true
   },
   "outputs": [],
   "source": []
  },
  {
   "cell_type": "code",
   "execution_count": null,
   "metadata": {
    "collapsed": true
   },
   "outputs": [],
   "source": []
  },
  {
   "cell_type": "markdown",
   "metadata": {
    "collapsed": false
   },
   "source": [
    "### Anzhal von null wert"
   ]
  },
  {
   "cell_type": "code",
   "execution_count": 301,
   "metadata": {
    "collapsed": false
   },
   "outputs": [
    {
     "data": {
      "text/plain": [
       "count        74958\n",
       "unique        5490\n",
       "top       SCHRAUBE\n",
       "freq          6108\n",
       "Name: Beschreibung, dtype: object"
      ]
     },
     "execution_count": 301,
     "metadata": {},
     "output_type": "execute_result"
    }
   ],
   "source": [
    "tmp = lb_wsp_2014[lb_wsp_2014['Markencode'] == 'AUDI']\n",
    "tmp['Beschreibung'].describe()"
   ]
  },
  {
   "cell_type": "markdown",
   "metadata": {},
   "source": [
    "要每个项的个数和空值个数的对比图像"
   ]
  },
  {
   "cell_type": "code",
   "execution_count": 194,
   "metadata": {
    "collapsed": false
   },
   "outputs": [
    {
     "data": {
      "image/png": "[encoded data removed]",
      "text/plain": [
       "<Figure size 432x288 with 1 Axes>"
      ]
     },
     "metadata": {},
     "output_type": "display_data"
    }
   ],
   "source": [
    "sns.barplot(data = tmp, y = 'index', x = 'null count', hue = 'is null').get_figure().savefig('/tmp/tmp.png')"
   ]
  },
  {
   "cell_type": "code",
   "execution_count": 220,
   "metadata": {
    "collapsed": false
   },
   "outputs": [
    {
     "data": {
      "text/plain": [
       "<matplotlib.axes._subplots.AxesSubplot at 0x1a36f67ef0>"
      ]
     },
     "execution_count": 220,
     "metadata": {},
     "output_type": "execute_result"
    },
    {
     "data": {
      "image/png": "[encoded data removed]",
      "text/plain": [
       "<Figure size 1440x1152 with 2 Axes>"
      ]
     },
     "metadata": {},
     "output_type": "display_data"
    }
   ],
   "source": [
    "f, ax = plt.subplots(2, figsize=(20,16))\n",
    "sns.barplot(data = tmp1, y = 'index', x = 'null count')\n",
    "#sns.barplot(data = tmp2, y = 'index', x = 'null count', ax = ax[0], color = '#95a5a6')"
   ]
  },
  {
   "cell_type": "code",
   "execution_count": 218,
   "metadata": {
    "collapsed": false
   },
   "outputs": [],
   "source": [
    "tmp1.loc[21, 'index'] = 'all null'"
   ]
  },
  {
   "cell_type": "code",
   "execution_count": 219,
   "metadata": {
    "collapsed": false
   },
   "outputs": [
    {
     "data": {
      "text/html": [
       "<div>\n",
       "<style scoped>\n",
       "    .dataframe tbody tr th:only-of-type {\n",
       "        vertical-align: middle;\n",
       "    }\n",
       "\n",
       "    .dataframe tbody tr th {\n",
       "        vertical-align: top;\n",
       "    }\n",
       "\n",
       "    .dataframe thead th {\n",
       "        text-align: right;\n",
       "    }\n",
       "</style>\n",
       "<table border=\"1\" class=\"dataframe\">\n",
       "  <thead>\n",
       "    <tr style=\"text-align: right;\">\n",
       "      <th></th>\n",
       "      <th>index</th>\n",
       "      <th>null count</th>\n",
       "      <th>is null</th>\n",
       "    </tr>\n",
       "  </thead>\n",
       "  <tbody>\n",
       "    <tr>\n",
       "      <th>0</th>\n",
       "      <td>Auftragsnummer</td>\n",
       "      <td>0.0</td>\n",
       "      <td>TRUE</td>\n",
       "    </tr>\n",
       "    <tr>\n",
       "      <th>5</th>\n",
       "      <td>Auftragsdatum</td>\n",
       "      <td>0.0</td>\n",
       "      <td>TRUE</td>\n",
       "    </tr>\n",
       "    <tr>\n",
       "      <th>7</th>\n",
       "      <td>Lagerortcode</td>\n",
       "      <td>0.0</td>\n",
       "      <td>TRUE</td>\n",
       "    </tr>\n",
       "    <tr>\n",
       "      <th>3</th>\n",
       "      <td>KM-Stand</td>\n",
       "      <td>73.0</td>\n",
       "      <td>TRUE</td>\n",
       "    </tr>\n",
       "    <tr>\n",
       "      <th>4</th>\n",
       "      <td>Beschreibung</td>\n",
       "      <td>125.0</td>\n",
       "      <td>TRUE</td>\n",
       "    </tr>\n",
       "    <tr>\n",
       "      <th>9</th>\n",
       "      <td>Fahrgestellnummer</td>\n",
       "      <td>1036.0</td>\n",
       "      <td>TRUE</td>\n",
       "    </tr>\n",
       "    <tr>\n",
       "      <th>6</th>\n",
       "      <td>Markencode</td>\n",
       "      <td>1501.0</td>\n",
       "      <td>TRUE</td>\n",
       "    </tr>\n",
       "    <tr>\n",
       "      <th>11</th>\n",
       "      <td>Fahrzeugmodellnummer</td>\n",
       "      <td>1562.0</td>\n",
       "      <td>TRUE</td>\n",
       "    </tr>\n",
       "    <tr>\n",
       "      <th>18</th>\n",
       "      <td>Erstzulassungsdatum</td>\n",
       "      <td>1635.0</td>\n",
       "      <td>TRUE</td>\n",
       "    </tr>\n",
       "    <tr>\n",
       "      <th>17</th>\n",
       "      <td>Leistung (KW)</td>\n",
       "      <td>1635.0</td>\n",
       "      <td>TRUE</td>\n",
       "    </tr>\n",
       "    <tr>\n",
       "      <th>16</th>\n",
       "      <td>Gewicht</td>\n",
       "      <td>1635.0</td>\n",
       "      <td>TRUE</td>\n",
       "    </tr>\n",
       "    <tr>\n",
       "      <th>12</th>\n",
       "      <td>Modell</td>\n",
       "      <td>2145.0</td>\n",
       "      <td>TRUE</td>\n",
       "    </tr>\n",
       "    <tr>\n",
       "      <th>8</th>\n",
       "      <td>Adressanredecode</td>\n",
       "      <td>3457.0</td>\n",
       "      <td>TRUE</td>\n",
       "    </tr>\n",
       "    <tr>\n",
       "      <th>10</th>\n",
       "      <td>Motorcode</td>\n",
       "      <td>3898.0</td>\n",
       "      <td>TRUE</td>\n",
       "    </tr>\n",
       "    <tr>\n",
       "      <th>14</th>\n",
       "      <td>Getriebecode</td>\n",
       "      <td>4704.0</td>\n",
       "      <td>TRUE</td>\n",
       "    </tr>\n",
       "    <tr>\n",
       "      <th>13</th>\n",
       "      <td>Typ</td>\n",
       "      <td>70238.0</td>\n",
       "      <td>TRUE</td>\n",
       "    </tr>\n",
       "    <tr>\n",
       "      <th>2</th>\n",
       "      <td>Teile-Nr</td>\n",
       "      <td>107957.0</td>\n",
       "      <td>TRUE</td>\n",
       "    </tr>\n",
       "    <tr>\n",
       "      <th>19</th>\n",
       "      <td>Neuwagen</td>\n",
       "      <td>108033.0</td>\n",
       "      <td>TRUE</td>\n",
       "    </tr>\n",
       "    <tr>\n",
       "      <th>1</th>\n",
       "      <td>AW-Nr</td>\n",
       "      <td>138575.0</td>\n",
       "      <td>TRUE</td>\n",
       "    </tr>\n",
       "    <tr>\n",
       "      <th>15</th>\n",
       "      <td>Getriebeartcode</td>\n",
       "      <td>235453.0</td>\n",
       "      <td>TRUE</td>\n",
       "    </tr>\n",
       "    <tr>\n",
       "      <th>20</th>\n",
       "      <td>Unnamed: 20</td>\n",
       "      <td>235651.0</td>\n",
       "      <td>TRUE</td>\n",
       "    </tr>\n",
       "    <tr>\n",
       "      <th>21</th>\n",
       "      <td>all null</td>\n",
       "      <td>235651.0</td>\n",
       "      <td>NaN</td>\n",
       "    </tr>\n",
       "  </tbody>\n",
       "</table>\n",
       "</div>"
      ],
      "text/plain": [
       "                   index  null count is null\n",
       "0         Auftragsnummer         0.0    TRUE\n",
       "5          Auftragsdatum         0.0    TRUE\n",
       "7           Lagerortcode         0.0    TRUE\n",
       "3               KM-Stand        73.0    TRUE\n",
       "4           Beschreibung       125.0    TRUE\n",
       "9      Fahrgestellnummer      1036.0    TRUE\n",
       "6             Markencode      1501.0    TRUE\n",
       "11  Fahrzeugmodellnummer      1562.0    TRUE\n",
       "18   Erstzulassungsdatum      1635.0    TRUE\n",
       "17         Leistung (KW)      1635.0    TRUE\n",
       "16               Gewicht      1635.0    TRUE\n",
       "12                Modell      2145.0    TRUE\n",
       "8       Adressanredecode      3457.0    TRUE\n",
       "10             Motorcode      3898.0    TRUE\n",
       "14          Getriebecode      4704.0    TRUE\n",
       "13                   Typ     70238.0    TRUE\n",
       "2               Teile-Nr    107957.0    TRUE\n",
       "19              Neuwagen    108033.0    TRUE\n",
       "1                  AW-Nr    138575.0    TRUE\n",
       "15       Getriebeartcode    235453.0    TRUE\n",
       "20           Unnamed: 20    235651.0    TRUE\n",
       "21              all null    235651.0     NaN"
      ]
     },
     "execution_count": 219,
     "metadata": {},
     "output_type": "execute_result"
    }
   ],
   "source": [
    "tmp1"
   ]
  },
  {
   "cell_type": "code",
   "execution_count": 213,
   "metadata": {
    "collapsed": true
   },
   "outputs": [],
   "source": [
    "tmp = data[['Auftragsnummer', 'AW-Nr', 'Teile-Nr', 'KM-Stand', 'Beschreibung',\n",
    "       'Auftragsdatum', 'Markencode', 'Lagerortcode', 'Adressanredecode',\n",
    "       'Fahrgestellnummer', 'Motorcode', 'Fahrzeugmodellnummer', 'Modell',\n",
    "       'Getriebecode', 'Getriebeartcode', 'Gewicht',\n",
    "       'Erstzulassungsdatum']].copy()"
   ]
  },
  {
   "cell_type": "code",
   "execution_count": 78,
   "metadata": {
    "collapsed": false
   },
   "outputs": [],
   "source": [
    "newcar = lb_wsp_2014[lb_wsp_2014['Auftragsnummer'] == 'WSAU224330']"
   ]
  },
  {
   "cell_type": "code",
   "execution_count": 216,
   "metadata": {
    "collapsed": false
   },
   "outputs": [
    {
     "data": {
      "text/plain": [
       "22"
      ]
     },
     "execution_count": 216,
     "metadata": {},
     "output_type": "execute_result"
    }
   ],
   "source": [
    "len(tmp1)"
   ]
  },
  {
   "cell_type": "markdown",
   "metadata": {
    "collapsed": false
   },
   "source": [
    "### outlier in AW-Nr"
   ]
  },
  {
   "cell_type": "code",
   "execution_count": 228,
   "metadata": {
    "collapsed": true
   },
   "outputs": [],
   "source": [
    "fake = data['AW-Nr'].map(lambda x: bool(re.search('[a-zA-Z]', str(x))))"
   ]
  },
  {
   "cell_type": "code",
   "execution_count": 230,
   "metadata": {
    "collapsed": false
   },
   "outputs": [
    {
     "data": {
      "text/plain": [
       "array([nan, 'PX955500', 'PXISI710', ..., 'E130100', 'W+I', 'J46240008'], dtype=object)"
      ]
     },
     "execution_count": 230,
     "metadata": {},
     "output_type": "execute_result"
    }
   ],
   "source": [
    "data[fake]['AW-Nr'].unique()"
   ]
  },
  {
   "cell_type": "code",
   "execution_count": 231,
   "metadata": {
    "collapsed": true
   },
   "outputs": [],
   "source": [
    "tmp = data.copy()"
   ]
  },
  {
   "cell_type": "code",
   "execution_count": 232,
   "metadata": {
    "collapsed": true
   },
   "outputs": [],
   "source": [
    "tmp['count'] = 1"
   ]
  },
  {
   "cell_type": "code",
   "execution_count": 237,
   "metadata": {
    "collapsed": false
   },
   "outputs": [
    {
     "data": {
      "text/html": [
       "<div>\n",
       "<style scoped>\n",
       "    .dataframe tbody tr th:only-of-type {\n",
       "        vertical-align: middle;\n",
       "    }\n",
       "\n",
       "    .dataframe tbody tr th {\n",
       "        vertical-align: top;\n",
       "    }\n",
       "\n",
       "    .dataframe thead th {\n",
       "        text-align: right;\n",
       "    }\n",
       "</style>\n",
       "<table border=\"1\" class=\"dataframe\">\n",
       "  <thead>\n",
       "    <tr style=\"text-align: right;\">\n",
       "      <th></th>\n",
       "      <th>AW-Nr</th>\n",
       "      <th>count</th>\n",
       "    </tr>\n",
       "  </thead>\n",
       "  <tbody>\n",
       "    <tr>\n",
       "      <th>735</th>\n",
       "      <td>LACK</td>\n",
       "      <td>1553</td>\n",
       "    </tr>\n",
       "    <tr>\n",
       "      <th>1016</th>\n",
       "      <td>TÜV</td>\n",
       "      <td>1092</td>\n",
       "    </tr>\n",
       "    <tr>\n",
       "      <th>333</th>\n",
       "      <td>EINLAGERUNG</td>\n",
       "      <td>488</td>\n",
       "    </tr>\n",
       "    <tr>\n",
       "      <th>278</th>\n",
       "      <td>E002530</td>\n",
       "      <td>333</td>\n",
       "    </tr>\n",
       "    <tr>\n",
       "      <th>918</th>\n",
       "      <td>P000400</td>\n",
       "      <td>295</td>\n",
       "    </tr>\n",
       "    <tr>\n",
       "      <th>579</th>\n",
       "      <td>J792600</td>\n",
       "      <td>150</td>\n",
       "    </tr>\n",
       "    <tr>\n",
       "      <th>958</th>\n",
       "      <td>S000131</td>\n",
       "      <td>103</td>\n",
       "    </tr>\n",
       "    <tr>\n",
       "      <th>963</th>\n",
       "      <td>S000133011</td>\n",
       "      <td>97</td>\n",
       "    </tr>\n",
       "    <tr>\n",
       "      <th>3</th>\n",
       "      <td>A0000000</td>\n",
       "      <td>90</td>\n",
       "    </tr>\n",
       "    <tr>\n",
       "      <th>556</th>\n",
       "      <td>J635100</td>\n",
       "      <td>77</td>\n",
       "    </tr>\n",
       "    <tr>\n",
       "      <th>785</th>\n",
       "      <td>N111111</td>\n",
       "      <td>73</td>\n",
       "    </tr>\n",
       "    <tr>\n",
       "      <th>342</th>\n",
       "      <td>FLÜSSIGKEIT</td>\n",
       "      <td>72</td>\n",
       "    </tr>\n",
       "    <tr>\n",
       "      <th>962</th>\n",
       "      <td>S000133</td>\n",
       "      <td>72</td>\n",
       "    </tr>\n",
       "    <tr>\n",
       "      <th>862</th>\n",
       "      <td>N356500</td>\n",
       "      <td>67</td>\n",
       "    </tr>\n",
       "    <tr>\n",
       "      <th>363</th>\n",
       "      <td>H105000</td>\n",
       "      <td>59</td>\n",
       "    </tr>\n",
       "    <tr>\n",
       "      <th>1038</th>\n",
       "      <td>VW_FREMD</td>\n",
       "      <td>59</td>\n",
       "    </tr>\n",
       "    <tr>\n",
       "      <th>376</th>\n",
       "      <td>H126000</td>\n",
       "      <td>51</td>\n",
       "    </tr>\n",
       "    <tr>\n",
       "      <th>243</th>\n",
       "      <td>C90116E5</td>\n",
       "      <td>50</td>\n",
       "    </tr>\n",
       "    <tr>\n",
       "      <th>964</th>\n",
       "      <td>S000135</td>\n",
       "      <td>46</td>\n",
       "    </tr>\n",
       "    <tr>\n",
       "      <th>704</th>\n",
       "      <td>KV</td>\n",
       "      <td>46</td>\n",
       "    </tr>\n",
       "    <tr>\n",
       "      <th>992</th>\n",
       "      <td>T149400</td>\n",
       "      <td>43</td>\n",
       "    </tr>\n",
       "    <tr>\n",
       "      <th>368</th>\n",
       "      <td>H106000</td>\n",
       "      <td>40</td>\n",
       "    </tr>\n",
       "    <tr>\n",
       "      <th>372</th>\n",
       "      <td>H125000</td>\n",
       "      <td>36</td>\n",
       "    </tr>\n",
       "    <tr>\n",
       "      <th>917</th>\n",
       "      <td>Octavia Combi</td>\n",
       "      <td>35</td>\n",
       "    </tr>\n",
       "    <tr>\n",
       "      <th>328</th>\n",
       "      <td>E306500</td>\n",
       "      <td>34</td>\n",
       "    </tr>\n",
       "    <tr>\n",
       "      <th>966</th>\n",
       "      <td>S000135052</td>\n",
       "      <td>33</td>\n",
       "    </tr>\n",
       "    <tr>\n",
       "      <th>944</th>\n",
       "      <td>S000111</td>\n",
       "      <td>33</td>\n",
       "    </tr>\n",
       "    <tr>\n",
       "      <th>794</th>\n",
       "      <td>N115620</td>\n",
       "      <td>29</td>\n",
       "    </tr>\n",
       "    <tr>\n",
       "      <th>427</th>\n",
       "      <td>H905500</td>\n",
       "      <td>27</td>\n",
       "    </tr>\n",
       "    <tr>\n",
       "      <th>625</th>\n",
       "      <td>J851840</td>\n",
       "      <td>26</td>\n",
       "    </tr>\n",
       "    <tr>\n",
       "      <th>...</th>\n",
       "      <td>...</td>\n",
       "      <td>...</td>\n",
       "    </tr>\n",
       "    <tr>\n",
       "      <th>667</th>\n",
       "      <td>K113100</td>\n",
       "      <td>1</td>\n",
       "    </tr>\n",
       "    <tr>\n",
       "      <th>668</th>\n",
       "      <td>K204000</td>\n",
       "      <td>1</td>\n",
       "    </tr>\n",
       "    <tr>\n",
       "      <th>106</th>\n",
       "      <td>B012630040</td>\n",
       "      <td>1</td>\n",
       "    </tr>\n",
       "    <tr>\n",
       "      <th>670</th>\n",
       "      <td>K205100001</td>\n",
       "      <td>1</td>\n",
       "    </tr>\n",
       "    <tr>\n",
       "      <th>104</th>\n",
       "      <td>B00710102</td>\n",
       "      <td>1</td>\n",
       "    </tr>\n",
       "    <tr>\n",
       "      <th>115</th>\n",
       "      <td>B06210117</td>\n",
       "      <td>1</td>\n",
       "    </tr>\n",
       "    <tr>\n",
       "      <th>188</th>\n",
       "      <td>C424100</td>\n",
       "      <td>1</td>\n",
       "    </tr>\n",
       "    <tr>\n",
       "      <th>362</th>\n",
       "      <td>H028000</td>\n",
       "      <td>1</td>\n",
       "    </tr>\n",
       "    <tr>\n",
       "      <th>102</th>\n",
       "      <td>B004602</td>\n",
       "      <td>1</td>\n",
       "    </tr>\n",
       "    <tr>\n",
       "      <th>361</th>\n",
       "      <td>H026010075</td>\n",
       "      <td>1</td>\n",
       "    </tr>\n",
       "    <tr>\n",
       "      <th>360</th>\n",
       "      <td>H026010073</td>\n",
       "      <td>1</td>\n",
       "    </tr>\n",
       "    <tr>\n",
       "      <th>678</th>\n",
       "      <td>K205200</td>\n",
       "      <td>1</td>\n",
       "    </tr>\n",
       "    <tr>\n",
       "      <th>365</th>\n",
       "      <td>H105000006</td>\n",
       "      <td>1</td>\n",
       "    </tr>\n",
       "    <tr>\n",
       "      <th>661</th>\n",
       "      <td>K053500</td>\n",
       "      <td>1</td>\n",
       "    </tr>\n",
       "    <tr>\n",
       "      <th>108</th>\n",
       "      <td>B01263017</td>\n",
       "      <td>1</td>\n",
       "    </tr>\n",
       "    <tr>\n",
       "      <th>659</th>\n",
       "      <td>K013100002</td>\n",
       "      <td>1</td>\n",
       "    </tr>\n",
       "    <tr>\n",
       "      <th>109</th>\n",
       "      <td>B014610</td>\n",
       "      <td>1</td>\n",
       "    </tr>\n",
       "    <tr>\n",
       "      <th>657</th>\n",
       "      <td>K012100</td>\n",
       "      <td>1</td>\n",
       "    </tr>\n",
       "    <tr>\n",
       "      <th>110</th>\n",
       "      <td>B01461000</td>\n",
       "      <td>1</td>\n",
       "    </tr>\n",
       "    <tr>\n",
       "      <th>655</th>\n",
       "      <td>J980500996</td>\n",
       "      <td>1</td>\n",
       "    </tr>\n",
       "    <tr>\n",
       "      <th>654</th>\n",
       "      <td>J980500001</td>\n",
       "      <td>1</td>\n",
       "    </tr>\n",
       "    <tr>\n",
       "      <th>111</th>\n",
       "      <td>B02061018</td>\n",
       "      <td>1</td>\n",
       "    </tr>\n",
       "    <tr>\n",
       "      <th>652</th>\n",
       "      <td>J980400001</td>\n",
       "      <td>1</td>\n",
       "    </tr>\n",
       "    <tr>\n",
       "      <th>112</th>\n",
       "      <td>B04713017</td>\n",
       "      <td>1</td>\n",
       "    </tr>\n",
       "    <tr>\n",
       "      <th>113</th>\n",
       "      <td>B04715018</td>\n",
       "      <td>1</td>\n",
       "    </tr>\n",
       "    <tr>\n",
       "      <th>114</th>\n",
       "      <td>B04725018</td>\n",
       "      <td>1</td>\n",
       "    </tr>\n",
       "    <tr>\n",
       "      <th>648</th>\n",
       "      <td>J979400</td>\n",
       "      <td>1</td>\n",
       "    </tr>\n",
       "    <tr>\n",
       "      <th>647</th>\n",
       "      <td>J908740007</td>\n",
       "      <td>1</td>\n",
       "    </tr>\n",
       "    <tr>\n",
       "      <th>646</th>\n",
       "      <td>J908740002</td>\n",
       "      <td>1</td>\n",
       "    </tr>\n",
       "    <tr>\n",
       "      <th>631</th>\n",
       "      <td>J851840022</td>\n",
       "      <td>1</td>\n",
       "    </tr>\n",
       "  </tbody>\n",
       "</table>\n",
       "<p>1041 rows × 2 columns</p>\n",
       "</div>"
      ],
      "text/plain": [
       "              AW-Nr  count\n",
       "735            LACK   1553\n",
       "1016            TÜV   1092\n",
       "333     EINLAGERUNG    488\n",
       "278         E002530    333\n",
       "918         P000400    295\n",
       "579         J792600    150\n",
       "958         S000131    103\n",
       "963      S000133011     97\n",
       "3          A0000000     90\n",
       "556         J635100     77\n",
       "785         N111111     73\n",
       "342     FLÜSSIGKEIT     72\n",
       "962         S000133     72\n",
       "862         N356500     67\n",
       "363         H105000     59\n",
       "1038       VW_FREMD     59\n",
       "376         H126000     51\n",
       "243        C90116E5     50\n",
       "964         S000135     46\n",
       "704              KV     46\n",
       "992         T149400     43\n",
       "368         H106000     40\n",
       "372         H125000     36\n",
       "917   Octavia Combi     35\n",
       "328         E306500     34\n",
       "966      S000135052     33\n",
       "944         S000111     33\n",
       "794         N115620     29\n",
       "427         H905500     27\n",
       "625         J851840     26\n",
       "...             ...    ...\n",
       "667         K113100      1\n",
       "668         K204000      1\n",
       "106      B012630040      1\n",
       "670      K205100001      1\n",
       "104       B00710102      1\n",
       "115       B06210117      1\n",
       "188         C424100      1\n",
       "362         H028000      1\n",
       "102         B004602      1\n",
       "361      H026010075      1\n",
       "360      H026010073      1\n",
       "678         K205200      1\n",
       "365      H105000006      1\n",
       "661         K053500      1\n",
       "108       B01263017      1\n",
       "659      K013100002      1\n",
       "109         B014610      1\n",
       "657         K012100      1\n",
       "110       B01461000      1\n",
       "655      J980500996      1\n",
       "654      J980500001      1\n",
       "111       B02061018      1\n",
       "652      J980400001      1\n",
       "112       B04713017      1\n",
       "113       B04715018      1\n",
       "114       B04725018      1\n",
       "648         J979400      1\n",
       "647      J908740007      1\n",
       "646      J908740002      1\n",
       "631      J851840022      1\n",
       "\n",
       "[1041 rows x 2 columns]"
      ]
     },
     "execution_count": 237,
     "metadata": {},
     "output_type": "execute_result"
    }
   ],
   "source": [
    "tmp[fake][['AW-Nr', 'count']].groupby('AW-Nr', as_index = False).count().sort_values(by = 'count', ascending = False)"
   ]
  },
  {
   "cell_type": "markdown",
   "metadata": {},
   "source": [
    "### outlier in Markencode and distribution"
   ]
  },
  {
   "cell_type": "code",
   "execution_count": 108,
   "metadata": {
    "collapsed": false
   },
   "outputs": [],
   "source": [
    "tmp = data1.copy()\n",
    "#tmp['count'] = 1\n",
    "#tmp = tmp[['Markencode', 'count']]"
   ]
  },
  {
   "cell_type": "code",
   "execution_count": 109,
   "metadata": {
    "collapsed": false
   },
   "outputs": [],
   "source": [
    "fake = tmp['Markencode'].map(lambda x: bool(re.search('\\d', str(x))))"
   ]
  },
  {
   "cell_type": "code",
   "execution_count": 110,
   "metadata": {
    "collapsed": false,
    "scrolled": true
   },
   "outputs": [
    {
     "data": {
      "text/html": [
       "<div>\n",
       "<style scoped>\n",
       "    .dataframe tbody tr th:only-of-type {\n",
       "        vertical-align: middle;\n",
       "    }\n",
       "\n",
       "    .dataframe tbody tr th {\n",
       "        vertical-align: top;\n",
       "    }\n",
       "\n",
       "    .dataframe thead th {\n",
       "        text-align: right;\n",
       "    }\n",
       "</style>\n",
       "<table border=\"1\" class=\"dataframe\">\n",
       "  <thead>\n",
       "    <tr style=\"text-align: right;\">\n",
       "      <th></th>\n",
       "      <th>Auftragsnummer</th>\n",
       "      <th>Markencode</th>\n",
       "    </tr>\n",
       "  </thead>\n",
       "  <tbody>\n",
       "    <tr>\n",
       "      <th>14067</th>\n",
       "      <td>103K</td>\n",
       "      <td>27.04.2006</td>\n",
       "    </tr>\n",
       "    <tr>\n",
       "      <th>14069</th>\n",
       "      <td>103K</td>\n",
       "      <td>27.04.2006</td>\n",
       "    </tr>\n",
       "    <tr>\n",
       "      <th>14071</th>\n",
       "      <td>103K</td>\n",
       "      <td>27.04.2006</td>\n",
       "    </tr>\n",
       "    <tr>\n",
       "      <th>23457</th>\n",
       "      <td>103K</td>\n",
       "      <td>27.04.2006</td>\n",
       "    </tr>\n",
       "    <tr>\n",
       "      <th>23459</th>\n",
       "      <td>103K</td>\n",
       "      <td>27.04.2006</td>\n",
       "    </tr>\n",
       "    <tr>\n",
       "      <th>23461</th>\n",
       "      <td>103K</td>\n",
       "      <td>27.04.2006</td>\n",
       "    </tr>\n",
       "    <tr>\n",
       "      <th>23463</th>\n",
       "      <td>103K</td>\n",
       "      <td>27.04.2006</td>\n",
       "    </tr>\n",
       "    <tr>\n",
       "      <th>23465</th>\n",
       "      <td>103K</td>\n",
       "      <td>27.04.2006</td>\n",
       "    </tr>\n",
       "    <tr>\n",
       "      <th>23467</th>\n",
       "      <td>103K</td>\n",
       "      <td>27.04.2006</td>\n",
       "    </tr>\n",
       "    <tr>\n",
       "      <th>23469</th>\n",
       "      <td>103K</td>\n",
       "      <td>27.04.2006</td>\n",
       "    </tr>\n",
       "    <tr>\n",
       "      <th>23471</th>\n",
       "      <td>103K</td>\n",
       "      <td>27.04.2006</td>\n",
       "    </tr>\n",
       "    <tr>\n",
       "      <th>23477</th>\n",
       "      <td>103K</td>\n",
       "      <td>27.04.2006</td>\n",
       "    </tr>\n",
       "    <tr>\n",
       "      <th>67688</th>\n",
       "      <td>77KW</td>\n",
       "      <td>13.08.2009</td>\n",
       "    </tr>\n",
       "    <tr>\n",
       "      <th>67690</th>\n",
       "      <td>77KW</td>\n",
       "      <td>13.08.2009</td>\n",
       "    </tr>\n",
       "    <tr>\n",
       "      <th>67692</th>\n",
       "      <td>77KW</td>\n",
       "      <td>13.08.2009</td>\n",
       "    </tr>\n",
       "    <tr>\n",
       "      <th>67694</th>\n",
       "      <td>77KW</td>\n",
       "      <td>13.08.2009</td>\n",
       "    </tr>\n",
       "    <tr>\n",
       "      <th>67696</th>\n",
       "      <td>77KW</td>\n",
       "      <td>13.08.2009</td>\n",
       "    </tr>\n",
       "    <tr>\n",
       "      <th>67698</th>\n",
       "      <td>77KW</td>\n",
       "      <td>13.08.2009</td>\n",
       "    </tr>\n",
       "    <tr>\n",
       "      <th>67700</th>\n",
       "      <td>77KW</td>\n",
       "      <td>13.08.2009</td>\n",
       "    </tr>\n",
       "    <tr>\n",
       "      <th>67702</th>\n",
       "      <td>77KW</td>\n",
       "      <td>13.08.2009</td>\n",
       "    </tr>\n",
       "    <tr>\n",
       "      <th>67704</th>\n",
       "      <td>77KW</td>\n",
       "      <td>13.08.2009</td>\n",
       "    </tr>\n",
       "    <tr>\n",
       "      <th>67723</th>\n",
       "      <td>77KW</td>\n",
       "      <td>13.08.2009</td>\n",
       "    </tr>\n",
       "    <tr>\n",
       "      <th>67725</th>\n",
       "      <td>77KW</td>\n",
       "      <td>13.08.2009</td>\n",
       "    </tr>\n",
       "    <tr>\n",
       "      <th>67727</th>\n",
       "      <td>77KW</td>\n",
       "      <td>13.08.2009</td>\n",
       "    </tr>\n",
       "    <tr>\n",
       "      <th>67729</th>\n",
       "      <td>77KW</td>\n",
       "      <td>13.08.2009</td>\n",
       "    </tr>\n",
       "    <tr>\n",
       "      <th>67731</th>\n",
       "      <td>77KW</td>\n",
       "      <td>13.08.2009</td>\n",
       "    </tr>\n",
       "    <tr>\n",
       "      <th>67733</th>\n",
       "      <td>77KW</td>\n",
       "      <td>13.08.2009</td>\n",
       "    </tr>\n",
       "    <tr>\n",
       "      <th>67735</th>\n",
       "      <td>77KW</td>\n",
       "      <td>13.08.2009</td>\n",
       "    </tr>\n",
       "    <tr>\n",
       "      <th>67737</th>\n",
       "      <td>77KW</td>\n",
       "      <td>13.08.2009</td>\n",
       "    </tr>\n",
       "    <tr>\n",
       "      <th>67739</th>\n",
       "      <td>77KW</td>\n",
       "      <td>13.08.2009</td>\n",
       "    </tr>\n",
       "    <tr>\n",
       "      <th>...</th>\n",
       "      <td>...</td>\n",
       "      <td>...</td>\n",
       "    </tr>\n",
       "    <tr>\n",
       "      <th>180141</th>\n",
       "      <td>103K</td>\n",
       "      <td>27.04.2006</td>\n",
       "    </tr>\n",
       "    <tr>\n",
       "      <th>180143</th>\n",
       "      <td>103K</td>\n",
       "      <td>27.04.2006</td>\n",
       "    </tr>\n",
       "    <tr>\n",
       "      <th>203363</th>\n",
       "      <td>103K</td>\n",
       "      <td>27.04.2006</td>\n",
       "    </tr>\n",
       "    <tr>\n",
       "      <th>203365</th>\n",
       "      <td>103K</td>\n",
       "      <td>27.04.2006</td>\n",
       "    </tr>\n",
       "    <tr>\n",
       "      <th>228954</th>\n",
       "      <td>77KW</td>\n",
       "      <td>09.05.2005</td>\n",
       "    </tr>\n",
       "    <tr>\n",
       "      <th>228956</th>\n",
       "      <td>77KW</td>\n",
       "      <td>09.05.2005</td>\n",
       "    </tr>\n",
       "    <tr>\n",
       "      <th>228958</th>\n",
       "      <td>77KW</td>\n",
       "      <td>09.05.2005</td>\n",
       "    </tr>\n",
       "    <tr>\n",
       "      <th>17776</th>\n",
       "      <td>103K</td>\n",
       "      <td>16.06.2006</td>\n",
       "    </tr>\n",
       "    <tr>\n",
       "      <th>17778</th>\n",
       "      <td>103K</td>\n",
       "      <td>16.06.2006</td>\n",
       "    </tr>\n",
       "    <tr>\n",
       "      <th>17780</th>\n",
       "      <td>103K</td>\n",
       "      <td>16.06.2006</td>\n",
       "    </tr>\n",
       "    <tr>\n",
       "      <th>17782</th>\n",
       "      <td>103K</td>\n",
       "      <td>16.06.2006</td>\n",
       "    </tr>\n",
       "    <tr>\n",
       "      <th>17784</th>\n",
       "      <td>103K</td>\n",
       "      <td>16.06.2006</td>\n",
       "    </tr>\n",
       "    <tr>\n",
       "      <th>89341</th>\n",
       "      <td>103K</td>\n",
       "      <td>27.04.2006</td>\n",
       "    </tr>\n",
       "    <tr>\n",
       "      <th>89343</th>\n",
       "      <td>103K</td>\n",
       "      <td>27.04.2006</td>\n",
       "    </tr>\n",
       "    <tr>\n",
       "      <th>89345</th>\n",
       "      <td>103K</td>\n",
       "      <td>27.04.2006</td>\n",
       "    </tr>\n",
       "    <tr>\n",
       "      <th>89347</th>\n",
       "      <td>103K</td>\n",
       "      <td>27.04.2006</td>\n",
       "    </tr>\n",
       "    <tr>\n",
       "      <th>89349</th>\n",
       "      <td>103K</td>\n",
       "      <td>27.04.2006</td>\n",
       "    </tr>\n",
       "    <tr>\n",
       "      <th>89351</th>\n",
       "      <td>103K</td>\n",
       "      <td>27.04.2006</td>\n",
       "    </tr>\n",
       "    <tr>\n",
       "      <th>89353</th>\n",
       "      <td>103K</td>\n",
       "      <td>27.04.2006</td>\n",
       "    </tr>\n",
       "    <tr>\n",
       "      <th>89355</th>\n",
       "      <td>103K</td>\n",
       "      <td>27.04.2006</td>\n",
       "    </tr>\n",
       "    <tr>\n",
       "      <th>242104</th>\n",
       "      <td>103K</td>\n",
       "      <td>26.10.2006</td>\n",
       "    </tr>\n",
       "    <tr>\n",
       "      <th>242106</th>\n",
       "      <td>103K</td>\n",
       "      <td>26.10.2006</td>\n",
       "    </tr>\n",
       "    <tr>\n",
       "      <th>242108</th>\n",
       "      <td>103K</td>\n",
       "      <td>26.10.2006</td>\n",
       "    </tr>\n",
       "    <tr>\n",
       "      <th>242110</th>\n",
       "      <td>103K</td>\n",
       "      <td>26.10.2006</td>\n",
       "    </tr>\n",
       "    <tr>\n",
       "      <th>242112</th>\n",
       "      <td>103K</td>\n",
       "      <td>26.10.2006</td>\n",
       "    </tr>\n",
       "    <tr>\n",
       "      <th>242114</th>\n",
       "      <td>103K</td>\n",
       "      <td>26.10.2006</td>\n",
       "    </tr>\n",
       "    <tr>\n",
       "      <th>242116</th>\n",
       "      <td>103K</td>\n",
       "      <td>26.10.2006</td>\n",
       "    </tr>\n",
       "    <tr>\n",
       "      <th>242118</th>\n",
       "      <td>103K</td>\n",
       "      <td>26.10.2006</td>\n",
       "    </tr>\n",
       "    <tr>\n",
       "      <th>242120</th>\n",
       "      <td>103K</td>\n",
       "      <td>26.10.2006</td>\n",
       "    </tr>\n",
       "    <tr>\n",
       "      <th>242122</th>\n",
       "      <td>103K</td>\n",
       "      <td>26.10.2006</td>\n",
       "    </tr>\n",
       "  </tbody>\n",
       "</table>\n",
       "<p>96 rows × 2 columns</p>\n",
       "</div>"
      ],
      "text/plain": [
       "       Auftragsnummer  Markencode\n",
       "14067            103K  27.04.2006\n",
       "14069            103K  27.04.2006\n",
       "14071            103K  27.04.2006\n",
       "23457            103K  27.04.2006\n",
       "23459            103K  27.04.2006\n",
       "23461            103K  27.04.2006\n",
       "23463            103K  27.04.2006\n",
       "23465            103K  27.04.2006\n",
       "23467            103K  27.04.2006\n",
       "23469            103K  27.04.2006\n",
       "23471            103K  27.04.2006\n",
       "23477            103K  27.04.2006\n",
       "67688            77KW  13.08.2009\n",
       "67690            77KW  13.08.2009\n",
       "67692            77KW  13.08.2009\n",
       "67694            77KW  13.08.2009\n",
       "67696            77KW  13.08.2009\n",
       "67698            77KW  13.08.2009\n",
       "67700            77KW  13.08.2009\n",
       "67702            77KW  13.08.2009\n",
       "67704            77KW  13.08.2009\n",
       "67723            77KW  13.08.2009\n",
       "67725            77KW  13.08.2009\n",
       "67727            77KW  13.08.2009\n",
       "67729            77KW  13.08.2009\n",
       "67731            77KW  13.08.2009\n",
       "67733            77KW  13.08.2009\n",
       "67735            77KW  13.08.2009\n",
       "67737            77KW  13.08.2009\n",
       "67739            77KW  13.08.2009\n",
       "...               ...         ...\n",
       "180141           103K  27.04.2006\n",
       "180143           103K  27.04.2006\n",
       "203363           103K  27.04.2006\n",
       "203365           103K  27.04.2006\n",
       "228954           77KW  09.05.2005\n",
       "228956           77KW  09.05.2005\n",
       "228958           77KW  09.05.2005\n",
       "17776            103K  16.06.2006\n",
       "17778            103K  16.06.2006\n",
       "17780            103K  16.06.2006\n",
       "17782            103K  16.06.2006\n",
       "17784            103K  16.06.2006\n",
       "89341            103K  27.04.2006\n",
       "89343            103K  27.04.2006\n",
       "89345            103K  27.04.2006\n",
       "89347            103K  27.04.2006\n",
       "89349            103K  27.04.2006\n",
       "89351            103K  27.04.2006\n",
       "89353            103K  27.04.2006\n",
       "89355            103K  27.04.2006\n",
       "242104           103K  26.10.2006\n",
       "242106           103K  26.10.2006\n",
       "242108           103K  26.10.2006\n",
       "242110           103K  26.10.2006\n",
       "242112           103K  26.10.2006\n",
       "242114           103K  26.10.2006\n",
       "242116           103K  26.10.2006\n",
       "242118           103K  26.10.2006\n",
       "242120           103K  26.10.2006\n",
       "242122           103K  26.10.2006\n",
       "\n",
       "[96 rows x 2 columns]"
      ]
     },
     "execution_count": 110,
     "metadata": {},
     "output_type": "execute_result"
    }
   ],
   "source": [
    "#tmp.groupby('Markencode', as_index = False).count().sort_values(by = 'count', ascending = False)\n",
    "tmp[fake][['Auftragsnummer', 'Markencode']]"
   ]
  },
  {
   "cell_type": "code",
   "execution_count": 111,
   "metadata": {
    "collapsed": false
   },
   "outputs": [
    {
     "name": "stdout",
     "output_type": "stream",
     "text": [
      "Falls Null date exist, drop these dates directly\n"
     ]
    }
   ],
   "source": [
    "af = toAuftragTable(tmp, 'Markencode', 'Auftragsnummer')"
   ]
  },
  {
   "cell_type": "code",
   "execution_count": null,
   "metadata": {
    "collapsed": false
   },
   "outputs": [],
   "source": []
  },
  {
   "cell_type": "code",
   "execution_count": 112,
   "metadata": {
    "collapsed": false
   },
   "outputs": [],
   "source": [
    "# drop outlier\n",
    "af = af.drop(af[af['Markencode'].map(lambda x: bool(re.search('\\d', str(x))))].index, axis=0)"
   ]
  },
  {
   "cell_type": "code",
   "execution_count": 113,
   "metadata": {
    "collapsed": false,
    "scrolled": true
   },
   "outputs": [
    {
     "data": {
      "text/html": [
       "<div>\n",
       "<style scoped>\n",
       "    .dataframe tbody tr th:only-of-type {\n",
       "        vertical-align: middle;\n",
       "    }\n",
       "\n",
       "    .dataframe tbody tr th {\n",
       "        vertical-align: top;\n",
       "    }\n",
       "\n",
       "    .dataframe thead th {\n",
       "        text-align: right;\n",
       "    }\n",
       "</style>\n",
       "<table border=\"1\" class=\"dataframe\">\n",
       "  <thead>\n",
       "    <tr style=\"text-align: right;\">\n",
       "      <th></th>\n",
       "      <th>Markencode</th>\n",
       "      <th>Auftragsnummer</th>\n",
       "    </tr>\n",
       "  </thead>\n",
       "  <tbody>\n",
       "    <tr>\n",
       "      <th>2</th>\n",
       "      <td>AUDI</td>\n",
       "      <td>WSAU000839</td>\n",
       "    </tr>\n",
       "    <tr>\n",
       "      <th>3</th>\n",
       "      <td>VW</td>\n",
       "      <td>WSAU195981</td>\n",
       "    </tr>\n",
       "    <tr>\n",
       "      <th>4</th>\n",
       "      <td>AUDI</td>\n",
       "      <td>WSAU198256</td>\n",
       "    </tr>\n",
       "    <tr>\n",
       "      <th>5</th>\n",
       "      <td>VW</td>\n",
       "      <td>WSAU200129</td>\n",
       "    </tr>\n",
       "    <tr>\n",
       "      <th>6</th>\n",
       "      <td>VW</td>\n",
       "      <td>WSAU200223</td>\n",
       "    </tr>\n",
       "    <tr>\n",
       "      <th>7</th>\n",
       "      <td>AUDI</td>\n",
       "      <td>WSAU200258</td>\n",
       "    </tr>\n",
       "    <tr>\n",
       "      <th>8</th>\n",
       "      <td>AUDI</td>\n",
       "      <td>WSAU200259</td>\n",
       "    </tr>\n",
       "    <tr>\n",
       "      <th>9</th>\n",
       "      <td>AUDI</td>\n",
       "      <td>WSAU200260</td>\n",
       "    </tr>\n",
       "    <tr>\n",
       "      <th>10</th>\n",
       "      <td>AUDI</td>\n",
       "      <td>WSAU200263</td>\n",
       "    </tr>\n",
       "    <tr>\n",
       "      <th>11</th>\n",
       "      <td>AUDI</td>\n",
       "      <td>WSAU200264</td>\n",
       "    </tr>\n",
       "    <tr>\n",
       "      <th>12</th>\n",
       "      <td>AUDI</td>\n",
       "      <td>WSAU200269</td>\n",
       "    </tr>\n",
       "    <tr>\n",
       "      <th>13</th>\n",
       "      <td>AUDI</td>\n",
       "      <td>WSAU200270</td>\n",
       "    </tr>\n",
       "    <tr>\n",
       "      <th>14</th>\n",
       "      <td>AUDI</td>\n",
       "      <td>WSAU200272</td>\n",
       "    </tr>\n",
       "    <tr>\n",
       "      <th>15</th>\n",
       "      <td>AUDI</td>\n",
       "      <td>WSAU200275</td>\n",
       "    </tr>\n",
       "    <tr>\n",
       "      <th>16</th>\n",
       "      <td>AUDI</td>\n",
       "      <td>WSAU200276</td>\n",
       "    </tr>\n",
       "    <tr>\n",
       "      <th>17</th>\n",
       "      <td>AUDI</td>\n",
       "      <td>WSAU200278</td>\n",
       "    </tr>\n",
       "    <tr>\n",
       "      <th>18</th>\n",
       "      <td>AUDI</td>\n",
       "      <td>WSAU200279</td>\n",
       "    </tr>\n",
       "    <tr>\n",
       "      <th>19</th>\n",
       "      <td>VW</td>\n",
       "      <td>WSAU200286</td>\n",
       "    </tr>\n",
       "    <tr>\n",
       "      <th>20</th>\n",
       "      <td>VW</td>\n",
       "      <td>WSAU200287</td>\n",
       "    </tr>\n",
       "    <tr>\n",
       "      <th>21</th>\n",
       "      <td>AUDI</td>\n",
       "      <td>WSAU200288</td>\n",
       "    </tr>\n",
       "    <tr>\n",
       "      <th>22</th>\n",
       "      <td>VW</td>\n",
       "      <td>WSAU200289</td>\n",
       "    </tr>\n",
       "    <tr>\n",
       "      <th>23</th>\n",
       "      <td>AUDI</td>\n",
       "      <td>WSAU200293</td>\n",
       "    </tr>\n",
       "    <tr>\n",
       "      <th>24</th>\n",
       "      <td>AUDI</td>\n",
       "      <td>WSAU200294</td>\n",
       "    </tr>\n",
       "    <tr>\n",
       "      <th>25</th>\n",
       "      <td>AUDI</td>\n",
       "      <td>WSAU200325</td>\n",
       "    </tr>\n",
       "    <tr>\n",
       "      <th>26</th>\n",
       "      <td>AUDI</td>\n",
       "      <td>WSAU200326</td>\n",
       "    </tr>\n",
       "    <tr>\n",
       "      <th>27</th>\n",
       "      <td>AUDI</td>\n",
       "      <td>WSAU200327</td>\n",
       "    </tr>\n",
       "    <tr>\n",
       "      <th>28</th>\n",
       "      <td>AUDI</td>\n",
       "      <td>WSAU200328</td>\n",
       "    </tr>\n",
       "    <tr>\n",
       "      <th>29</th>\n",
       "      <td>AUDI</td>\n",
       "      <td>WSAU200329</td>\n",
       "    </tr>\n",
       "    <tr>\n",
       "      <th>30</th>\n",
       "      <td>VW</td>\n",
       "      <td>WSAU200371</td>\n",
       "    </tr>\n",
       "    <tr>\n",
       "      <th>31</th>\n",
       "      <td>AUDI</td>\n",
       "      <td>WSAU200384</td>\n",
       "    </tr>\n",
       "    <tr>\n",
       "      <th>...</th>\n",
       "      <td>...</td>\n",
       "      <td>...</td>\n",
       "    </tr>\n",
       "    <tr>\n",
       "      <th>86602</th>\n",
       "      <td>AUDI</td>\n",
       "      <td>WSAU319530</td>\n",
       "    </tr>\n",
       "    <tr>\n",
       "      <th>86603</th>\n",
       "      <td>SKODA</td>\n",
       "      <td>WSAU319532</td>\n",
       "    </tr>\n",
       "    <tr>\n",
       "      <th>86604</th>\n",
       "      <td>VW</td>\n",
       "      <td>WSAU319533</td>\n",
       "    </tr>\n",
       "    <tr>\n",
       "      <th>86605</th>\n",
       "      <td>VW</td>\n",
       "      <td>WSAU319535</td>\n",
       "    </tr>\n",
       "    <tr>\n",
       "      <th>86606</th>\n",
       "      <td>VW</td>\n",
       "      <td>WSAU319536</td>\n",
       "    </tr>\n",
       "    <tr>\n",
       "      <th>86607</th>\n",
       "      <td>VW</td>\n",
       "      <td>WSAU319537</td>\n",
       "    </tr>\n",
       "    <tr>\n",
       "      <th>86608</th>\n",
       "      <td>VW</td>\n",
       "      <td>WSAU319539</td>\n",
       "    </tr>\n",
       "    <tr>\n",
       "      <th>86609</th>\n",
       "      <td>SKODA</td>\n",
       "      <td>WSAU319543</td>\n",
       "    </tr>\n",
       "    <tr>\n",
       "      <th>86610</th>\n",
       "      <td>SKODA</td>\n",
       "      <td>WSAU319546</td>\n",
       "    </tr>\n",
       "    <tr>\n",
       "      <th>86611</th>\n",
       "      <td>VW</td>\n",
       "      <td>WSAU319547</td>\n",
       "    </tr>\n",
       "    <tr>\n",
       "      <th>86612</th>\n",
       "      <td>AUDI</td>\n",
       "      <td>WSAU319549</td>\n",
       "    </tr>\n",
       "    <tr>\n",
       "      <th>86613</th>\n",
       "      <td>AUDI</td>\n",
       "      <td>WSAU319551</td>\n",
       "    </tr>\n",
       "    <tr>\n",
       "      <th>86614</th>\n",
       "      <td>SKODA</td>\n",
       "      <td>WSAU319638</td>\n",
       "    </tr>\n",
       "    <tr>\n",
       "      <th>86615</th>\n",
       "      <td>AUDI</td>\n",
       "      <td>WSAU319851</td>\n",
       "    </tr>\n",
       "    <tr>\n",
       "      <th>86616</th>\n",
       "      <td>AUDI</td>\n",
       "      <td>WSAU319878</td>\n",
       "    </tr>\n",
       "    <tr>\n",
       "      <th>86617</th>\n",
       "      <td>VW</td>\n",
       "      <td>WSAU320347</td>\n",
       "    </tr>\n",
       "    <tr>\n",
       "      <th>86618</th>\n",
       "      <td>SKODA</td>\n",
       "      <td>WSAU320454</td>\n",
       "    </tr>\n",
       "    <tr>\n",
       "      <th>86619</th>\n",
       "      <td>SKODA</td>\n",
       "      <td>WSAU320539</td>\n",
       "    </tr>\n",
       "    <tr>\n",
       "      <th>86620</th>\n",
       "      <td>VW</td>\n",
       "      <td>WSAU320611</td>\n",
       "    </tr>\n",
       "    <tr>\n",
       "      <th>86621</th>\n",
       "      <td>SKODA</td>\n",
       "      <td>WSAU320643</td>\n",
       "    </tr>\n",
       "    <tr>\n",
       "      <th>86622</th>\n",
       "      <td>SKODA</td>\n",
       "      <td>WSAU320795</td>\n",
       "    </tr>\n",
       "    <tr>\n",
       "      <th>86623</th>\n",
       "      <td>SEAT</td>\n",
       "      <td>WSAU320922</td>\n",
       "    </tr>\n",
       "    <tr>\n",
       "      <th>86624</th>\n",
       "      <td>SKODA</td>\n",
       "      <td>WSAU321505</td>\n",
       "    </tr>\n",
       "    <tr>\n",
       "      <th>86625</th>\n",
       "      <td>AUDI</td>\n",
       "      <td>WSAU323927</td>\n",
       "    </tr>\n",
       "    <tr>\n",
       "      <th>86626</th>\n",
       "      <td>SKODA</td>\n",
       "      <td>WSAU325870</td>\n",
       "    </tr>\n",
       "    <tr>\n",
       "      <th>86627</th>\n",
       "      <td>SKODA</td>\n",
       "      <td>WSAU325976</td>\n",
       "    </tr>\n",
       "    <tr>\n",
       "      <th>86628</th>\n",
       "      <td>SKODA</td>\n",
       "      <td>WSAU326110</td>\n",
       "    </tr>\n",
       "    <tr>\n",
       "      <th>86629</th>\n",
       "      <td>SKODA</td>\n",
       "      <td>WSAU328805</td>\n",
       "    </tr>\n",
       "    <tr>\n",
       "      <th>86630</th>\n",
       "      <td>AUDI</td>\n",
       "      <td>WSAU329117</td>\n",
       "    </tr>\n",
       "    <tr>\n",
       "      <th>86631</th>\n",
       "      <td>VW</td>\n",
       "      <td>WSAU330854</td>\n",
       "    </tr>\n",
       "  </tbody>\n",
       "</table>\n",
       "<p>86630 rows × 2 columns</p>\n",
       "</div>"
      ],
      "text/plain": [
       "      Markencode Auftragsnummer\n",
       "2           AUDI     WSAU000839\n",
       "3             VW     WSAU195981\n",
       "4           AUDI     WSAU198256\n",
       "5             VW     WSAU200129\n",
       "6             VW     WSAU200223\n",
       "7           AUDI     WSAU200258\n",
       "8           AUDI     WSAU200259\n",
       "9           AUDI     WSAU200260\n",
       "10          AUDI     WSAU200263\n",
       "11          AUDI     WSAU200264\n",
       "12          AUDI     WSAU200269\n",
       "13          AUDI     WSAU200270\n",
       "14          AUDI     WSAU200272\n",
       "15          AUDI     WSAU200275\n",
       "16          AUDI     WSAU200276\n",
       "17          AUDI     WSAU200278\n",
       "18          AUDI     WSAU200279\n",
       "19            VW     WSAU200286\n",
       "20            VW     WSAU200287\n",
       "21          AUDI     WSAU200288\n",
       "22            VW     WSAU200289\n",
       "23          AUDI     WSAU200293\n",
       "24          AUDI     WSAU200294\n",
       "25          AUDI     WSAU200325\n",
       "26          AUDI     WSAU200326\n",
       "27          AUDI     WSAU200327\n",
       "28          AUDI     WSAU200328\n",
       "29          AUDI     WSAU200329\n",
       "30            VW     WSAU200371\n",
       "31          AUDI     WSAU200384\n",
       "...          ...            ...\n",
       "86602       AUDI     WSAU319530\n",
       "86603      SKODA     WSAU319532\n",
       "86604         VW     WSAU319533\n",
       "86605         VW     WSAU319535\n",
       "86606         VW     WSAU319536\n",
       "86607         VW     WSAU319537\n",
       "86608         VW     WSAU319539\n",
       "86609      SKODA     WSAU319543\n",
       "86610      SKODA     WSAU319546\n",
       "86611         VW     WSAU319547\n",
       "86612       AUDI     WSAU319549\n",
       "86613       AUDI     WSAU319551\n",
       "86614      SKODA     WSAU319638\n",
       "86615       AUDI     WSAU319851\n",
       "86616       AUDI     WSAU319878\n",
       "86617         VW     WSAU320347\n",
       "86618      SKODA     WSAU320454\n",
       "86619      SKODA     WSAU320539\n",
       "86620         VW     WSAU320611\n",
       "86621      SKODA     WSAU320643\n",
       "86622      SKODA     WSAU320795\n",
       "86623       SEAT     WSAU320922\n",
       "86624      SKODA     WSAU321505\n",
       "86625       AUDI     WSAU323927\n",
       "86626      SKODA     WSAU325870\n",
       "86627      SKODA     WSAU325976\n",
       "86628      SKODA     WSAU326110\n",
       "86629      SKODA     WSAU328805\n",
       "86630       AUDI     WSAU329117\n",
       "86631         VW     WSAU330854\n",
       "\n",
       "[86630 rows x 2 columns]"
      ]
     },
     "execution_count": 113,
     "metadata": {},
     "output_type": "execute_result"
    }
   ],
   "source": [
    "af"
   ]
  },
  {
   "cell_type": "code",
   "execution_count": 114,
   "metadata": {
    "collapsed": false
   },
   "outputs": [],
   "source": [
    "vc = af['Markencode'].value_counts()"
   ]
  },
  {
   "cell_type": "code",
   "execution_count": 115,
   "metadata": {
    "collapsed": false,
    "scrolled": true
   },
   "outputs": [
    {
     "data": {
      "text/plain": [
       "Index(['VW', 'AUDI', 'SKODA', 'nan', 'SEAT', 'MERCEDES', 'BMW', 'FORD', 'OPEL',\n",
       "       'PORSCHE', 'RENAULT', 'DIV', 'MAZDA', 'CITROËN', 'FIAT', 'TOYOTA',\n",
       "       'HYUNDAI', 'PEUGEOT', 'SUBARU', 'NISSAN', 'MCC SMART', 'KIA', 'JAGUAR',\n",
       "       'ROVER', 'MITSUBISHI', 'DAF', 'CHRYSLER', 'ALFA'],\n",
       "      dtype='object')"
      ]
     },
     "execution_count": 115,
     "metadata": {},
     "output_type": "execute_result"
    }
   ],
   "source": [
    "vc.index"
   ]
  },
  {
   "cell_type": "code",
   "execution_count": 116,
   "metadata": {
    "collapsed": false,
    "scrolled": true
   },
   "outputs": [],
   "source": [
    "df_vc = pd.DataFrame({'Markencode':vc.index, 'count': vc.tolist()})"
   ]
  },
  {
   "cell_type": "code",
   "execution_count": 124,
   "metadata": {
    "collapsed": false
   },
   "outputs": [
    {
     "data": {
      "text/html": [
       "<div>\n",
       "<style scoped>\n",
       "    .dataframe tbody tr th:only-of-type {\n",
       "        vertical-align: middle;\n",
       "    }\n",
       "\n",
       "    .dataframe tbody tr th {\n",
       "        vertical-align: top;\n",
       "    }\n",
       "\n",
       "    .dataframe thead th {\n",
       "        text-align: right;\n",
       "    }\n",
       "</style>\n",
       "<table border=\"1\" class=\"dataframe\">\n",
       "  <thead>\n",
       "    <tr style=\"text-align: right;\">\n",
       "      <th></th>\n",
       "      <th>Markencode</th>\n",
       "      <th>count</th>\n",
       "    </tr>\n",
       "  </thead>\n",
       "  <tbody>\n",
       "    <tr>\n",
       "      <th>0</th>\n",
       "      <td>VW</td>\n",
       "      <td>43531</td>\n",
       "    </tr>\n",
       "    <tr>\n",
       "      <th>1</th>\n",
       "      <td>AUDI</td>\n",
       "      <td>27261</td>\n",
       "    </tr>\n",
       "    <tr>\n",
       "      <th>2</th>\n",
       "      <td>SKODA</td>\n",
       "      <td>13444</td>\n",
       "    </tr>\n",
       "    <tr>\n",
       "      <th>3</th>\n",
       "      <td>nan</td>\n",
       "      <td>1807</td>\n",
       "    </tr>\n",
       "    <tr>\n",
       "      <th>4</th>\n",
       "      <td>SEAT</td>\n",
       "      <td>293</td>\n",
       "    </tr>\n",
       "  </tbody>\n",
       "</table>\n",
       "</div>"
      ],
      "text/plain": [
       "  Markencode  count\n",
       "0         VW  43531\n",
       "1       AUDI  27261\n",
       "2      SKODA  13444\n",
       "3        nan   1807\n",
       "4       SEAT    293"
      ]
     },
     "execution_count": 124,
     "metadata": {},
     "output_type": "execute_result"
    }
   ],
   "source": [
    "df_vc.head()"
   ]
  },
  {
   "cell_type": "code",
   "execution_count": 128,
   "metadata": {
    "collapsed": false
   },
   "outputs": [
    {
     "name": "stdout",
     "output_type": "stream",
     "text": [
      "0.821428571429\n",
      "0.00339374350687\n"
     ]
    }
   ],
   "source": [
    "print(df_vc[df_vc['count']<100]['count'].count()/df_vc['count'].count())\n",
    "print(df_vc[df_vc['count']<100]['count'].sum()/df_vc['count'].sum())"
   ]
  },
  {
   "cell_type": "code",
   "execution_count": 126,
   "metadata": {
    "collapsed": false
   },
   "outputs": [
    {
     "data": {
      "text/plain": [
       "0.0033937435068682902"
      ]
     },
     "execution_count": 126,
     "metadata": {},
     "output_type": "execute_result"
    }
   ],
   "source": [
    "df_vc[df_vc['count']<100]['count'].sum()/df_vc['count'].sum()"
   ]
  },
  {
   "cell_type": "code",
   "execution_count": 49,
   "metadata": {
    "collapsed": false
   },
   "outputs": [
    {
     "data": {
      "text/plain": [
       "Text(0.5,0,'Markencode')"
      ]
     },
     "execution_count": 49,
     "metadata": {},
     "output_type": "execute_result"
    },
    {
     "data": {
      "image/png": "[encoded data removed]",
      "text/plain": [
       "<Figure size 1008x576 with 1 Axes>"
      ]
     },
     "metadata": {},
     "output_type": "display_data"
    }
   ],
   "source": [
    "f, ax = plt.subplots(figsize = (14, 8))\n",
    "sns.barplot(x = 'Markencode', y = 'count', data = df_vc, ax = ax)\n",
    "ax.set_xticklabels(ax.get_xticklabels(), rotation=45)\n",
    "ax.set_ylabel('count', fontsize=20, color='r')\n",
    "ax.set_xlabel('Markencode', fontsize=20, color='b')"
   ]
  },
  {
   "cell_type": "markdown",
   "metadata": {},
   "source": [
    "### zeitreihe-count plot"
   ]
  },
  {
   "cell_type": "code",
   "execution_count": 313,
   "metadata": {
    "collapsed": false
   },
   "outputs": [
    {
     "name": "stdout",
     "output_type": "stream",
     "text": [
      "Fake date exist, drop these dates directly\n"
     ]
    }
   ],
   "source": [
    "av_ref = toFreqTable(tmp, 'Adressanredecode', 'Auftragsdatum')"
   ]
  },
  {
   "cell_type": "code",
   "execution_count": 314,
   "metadata": {
    "collapsed": false
   },
   "outputs": [],
   "source": [
    "tmp = av_ref[['Auftragsdatum', 'count']].groupby('Auftragsdatum').sum()"
   ]
  },
  {
   "cell_type": "code",
   "execution_count": 315,
   "metadata": {
    "collapsed": true
   },
   "outputs": [],
   "source": [
    "tmp = av_ref[['Auftragsdatum', 'count']].groupby('Auftragsdatum', as_index = False).sum()"
   ]
  },
  {
   "cell_type": "code",
   "execution_count": 321,
   "metadata": {
    "collapsed": false
   },
   "outputs": [],
   "source": [
    "tmp['date'] = tmp['Auftragsdatum'].map(lambda x: str(x)[0:7])"
   ]
  },
  {
   "cell_type": "code",
   "execution_count": 323,
   "metadata": {
    "collapsed": false
   },
   "outputs": [],
   "source": [
    "tmp = tmp[['date', 'count']].groupby('date', as_index = False).sum()"
   ]
  },
  {
   "cell_type": "code",
   "execution_count": 332,
   "metadata": {
    "collapsed": false
   },
   "outputs": [],
   "source": [
    "tmp = tmp.drop([0, 25], axis = 0)"
   ]
  },
  {
   "cell_type": "code",
   "execution_count": 342,
   "metadata": {
    "collapsed": false
   },
   "outputs": [],
   "source": [
    "tmp = tmp.drop([18], axis = 0)"
   ]
  },
  {
   "cell_type": "code",
   "execution_count": 343,
   "metadata": {
    "collapsed": false
   },
   "outputs": [
    {
     "data": {
      "text/plain": [
       "<matplotlib.axes._subplots.AxesSubplot at 0x1a3e290b38>"
      ]
     },
     "execution_count": 343,
     "metadata": {},
     "output_type": "execute_result"
    },
    {
     "data": {
      "image/png": "[encoded data removed]",
      "text/plain": [
       "<Figure size 864x576 with 1 Axes>"
      ]
     },
     "metadata": {},
     "output_type": "display_data"
    }
   ],
   "source": [
    "tmp['count'].plot()"
   ]
  },
  {
   "cell_type": "code",
   "execution_count": 339,
   "metadata": {
    "collapsed": false,
    "scrolled": true
   },
   "outputs": [
    {
     "data": {
      "text/html": [
       "<div>\n",
       "<style scoped>\n",
       "    .dataframe tbody tr th:only-of-type {\n",
       "        vertical-align: middle;\n",
       "    }\n",
       "\n",
       "    .dataframe tbody tr th {\n",
       "        vertical-align: top;\n",
       "    }\n",
       "\n",
       "    .dataframe thead th {\n",
       "        text-align: right;\n",
       "    }\n",
       "</style>\n",
       "<table border=\"1\" class=\"dataframe\">\n",
       "  <thead>\n",
       "    <tr style=\"text-align: right;\">\n",
       "      <th></th>\n",
       "      <th>date</th>\n",
       "      <th>count</th>\n",
       "    </tr>\n",
       "  </thead>\n",
       "  <tbody>\n",
       "    <tr>\n",
       "      <th>1</th>\n",
       "      <td>2014-01</td>\n",
       "      <td>19588</td>\n",
       "    </tr>\n",
       "    <tr>\n",
       "      <th>2</th>\n",
       "      <td>2014-02</td>\n",
       "      <td>17043</td>\n",
       "    </tr>\n",
       "    <tr>\n",
       "      <th>3</th>\n",
       "      <td>2014-03</td>\n",
       "      <td>21792</td>\n",
       "    </tr>\n",
       "    <tr>\n",
       "      <th>4</th>\n",
       "      <td>2014-04</td>\n",
       "      <td>18745</td>\n",
       "    </tr>\n",
       "    <tr>\n",
       "      <th>5</th>\n",
       "      <td>2014-05</td>\n",
       "      <td>20424</td>\n",
       "    </tr>\n",
       "    <tr>\n",
       "      <th>6</th>\n",
       "      <td>2014-06</td>\n",
       "      <td>18487</td>\n",
       "    </tr>\n",
       "    <tr>\n",
       "      <th>7</th>\n",
       "      <td>2014-07</td>\n",
       "      <td>20922</td>\n",
       "    </tr>\n",
       "    <tr>\n",
       "      <th>8</th>\n",
       "      <td>2014-08</td>\n",
       "      <td>18260</td>\n",
       "    </tr>\n",
       "    <tr>\n",
       "      <th>9</th>\n",
       "      <td>2014-09</td>\n",
       "      <td>16781</td>\n",
       "    </tr>\n",
       "    <tr>\n",
       "      <th>10</th>\n",
       "      <td>2014-10</td>\n",
       "      <td>26516</td>\n",
       "    </tr>\n",
       "    <tr>\n",
       "      <th>11</th>\n",
       "      <td>2014-11</td>\n",
       "      <td>20215</td>\n",
       "    </tr>\n",
       "    <tr>\n",
       "      <th>12</th>\n",
       "      <td>2014-12</td>\n",
       "      <td>13398</td>\n",
       "    </tr>\n",
       "    <tr>\n",
       "      <th>13</th>\n",
       "      <td>2015-01</td>\n",
       "      <td>16080</td>\n",
       "    </tr>\n",
       "    <tr>\n",
       "      <th>14</th>\n",
       "      <td>2015-02</td>\n",
       "      <td>17042</td>\n",
       "    </tr>\n",
       "    <tr>\n",
       "      <th>15</th>\n",
       "      <td>2015-03</td>\n",
       "      <td>20628</td>\n",
       "    </tr>\n",
       "    <tr>\n",
       "      <th>16</th>\n",
       "      <td>2015-04</td>\n",
       "      <td>20641</td>\n",
       "    </tr>\n",
       "    <tr>\n",
       "      <th>17</th>\n",
       "      <td>2015-05</td>\n",
       "      <td>17632</td>\n",
       "    </tr>\n",
       "    <tr>\n",
       "      <th>18</th>\n",
       "      <td>2015-06</td>\n",
       "      <td>17132</td>\n",
       "    </tr>\n",
       "    <tr>\n",
       "      <th>19</th>\n",
       "      <td>2015-07</td>\n",
       "      <td>22345</td>\n",
       "    </tr>\n",
       "  </tbody>\n",
       "</table>\n",
       "</div>"
      ],
      "text/plain": [
       "       date  count\n",
       "1   2014-01  19588\n",
       "2   2014-02  17043\n",
       "3   2014-03  21792\n",
       "4   2014-04  18745\n",
       "5   2014-05  20424\n",
       "6   2014-06  18487\n",
       "7   2014-07  20922\n",
       "8   2014-08  18260\n",
       "9   2014-09  16781\n",
       "10  2014-10  26516\n",
       "11  2014-11  20215\n",
       "12  2014-12  13398\n",
       "13  2015-01  16080\n",
       "14  2015-02  17042\n",
       "15  2015-03  20628\n",
       "16  2015-04  20641\n",
       "17  2015-05  17632\n",
       "18  2015-06  17132\n",
       "19  2015-07  22345"
      ]
     },
     "execution_count": 339,
     "metadata": {},
     "output_type": "execute_result"
    }
   ],
   "source": [
    "tmp"
   ]
  },
  {
   "cell_type": "markdown",
   "metadata": {
    "collapsed": true
   },
   "source": [
    "### Modell"
   ]
  },
  {
   "cell_type": "code",
   "execution_count": 132,
   "metadata": {
    "collapsed": false
   },
   "outputs": [
    {
     "name": "stdout",
     "output_type": "stream",
     "text": [
      "Falls Null date exist, drop these dates directly\n"
     ]
    }
   ],
   "source": [
    "af = toAuftragTable(data1, 'Modell', 'Auftragsnummer')\n",
    "cv = af['Modell'].value_counts()"
   ]
  },
  {
   "cell_type": "code",
   "execution_count": 133,
   "metadata": {
    "collapsed": false
   },
   "outputs": [],
   "source": [
    "df_vc = pd.DataFrame({'Markencode':cv.index, 'count': cv.tolist()})"
   ]
  },
  {
   "cell_type": "code",
   "execution_count": 134,
   "metadata": {
    "collapsed": false,
    "scrolled": true
   },
   "outputs": [],
   "source": [
    "tp = df_vc['count']"
   ]
  },
  {
   "cell_type": "code",
   "execution_count": 135,
   "metadata": {
    "collapsed": false
   },
   "outputs": [
    {
     "data": {
      "text/plain": [
       "Text(0.5,0,'Modell(sotiert nach Anzahl der Auftrags)')"
      ]
     },
     "execution_count": 135,
     "metadata": {},
     "output_type": "execute_result"
    },
    {
     "data": {
      "image/png": "[encoded data removed]",
      "text/plain": [
       "<Figure size 720x576 with 1 Axes>"
      ]
     },
     "metadata": {},
     "output_type": "display_data"
    }
   ],
   "source": [
    "f, ax = plt.subplots(figsize = (10, 8))\n",
    "tp.plot(ax=ax)\n",
    "ax.set_ylabel('count', fontsize=20, color='r')\n",
    "ax.set_xlabel('Modell(sotiert nach Anzahl der Auftrags)', fontsize=20, color='b')"
   ]
  },
  {
   "cell_type": "code",
   "execution_count": 136,
   "metadata": {
    "collapsed": false
   },
   "outputs": [
    {
     "data": {
      "text/plain": [
       "count                             993023\n",
       "unique                              4796\n",
       "top       Passat Variant Comfortline BM \n",
       "freq                               19857\n",
       "Name: Modell, dtype: object"
      ]
     },
     "execution_count": 136,
     "metadata": {},
     "output_type": "execute_result"
    }
   ],
   "source": [
    "data1['Modell'].describe()"
   ]
  },
  {
   "cell_type": "code",
   "execution_count": 137,
   "metadata": {
    "collapsed": false
   },
   "outputs": [
    {
     "name": "stdout",
     "output_type": "stream",
     "text": [
      "0.969355847405\n",
      "0.576519069166\n"
     ]
    }
   ],
   "source": [
    "print(df_vc[df_vc['count']<100]['count'].count()/df_vc['count'].count())\n",
    "print(df_vc[df_vc['count']<100]['count'].sum()/df_vc['count'].sum())"
   ]
  },
  {
   "cell_type": "code",
   "execution_count": null,
   "metadata": {
    "collapsed": false,
    "scrolled": true
   },
   "outputs": [],
   "source": []
  },
  {
   "cell_type": "markdown",
   "metadata": {},
   "source": [
    "### Motor"
   ]
  },
  {
   "cell_type": "code",
   "execution_count": 138,
   "metadata": {
    "collapsed": false
   },
   "outputs": [
    {
     "name": "stdout",
     "output_type": "stream",
     "text": [
      "Falls Null date exist, drop these dates directly\n"
     ]
    }
   ],
   "source": [
    "af = toAuftragTable(data1, 'Motorcode', 'Auftragsnummer')\n",
    "cv = af['Motorcode'].value_counts()"
   ]
  },
  {
   "cell_type": "code",
   "execution_count": 139,
   "metadata": {
    "collapsed": false,
    "scrolled": true
   },
   "outputs": [],
   "source": [
    "df_vc = pd.DataFrame({'Markencode':cv.index, 'count': cv.tolist()})"
   ]
  },
  {
   "cell_type": "code",
   "execution_count": 140,
   "metadata": {
    "collapsed": false
   },
   "outputs": [],
   "source": [
    "tp = df_vc[['count']]"
   ]
  },
  {
   "cell_type": "code",
   "execution_count": 141,
   "metadata": {
    "collapsed": false
   },
   "outputs": [
    {
     "data": {
      "text/plain": [
       "<matplotlib.axes._subplots.AxesSubplot at 0x1a2bbb9fd0>"
      ]
     },
     "execution_count": 141,
     "metadata": {},
     "output_type": "execute_result"
    },
    {
     "data": {
      "image/png": "[encoded data removed]",
      "text/plain": [
       "<Figure size 432x288 with 1 Axes>"
      ]
     },
     "metadata": {},
     "output_type": "display_data"
    }
   ],
   "source": [
    "tp.plot()"
   ]
  },
  {
   "cell_type": "code",
   "execution_count": 142,
   "metadata": {
    "collapsed": false
   },
   "outputs": [
    {
     "data": {
      "text/plain": [
       "Text(0.5,0,'Motorcode(sotiert nach Anzahl der Auftrags)')"
      ]
     },
     "execution_count": 142,
     "metadata": {},
     "output_type": "execute_result"
    },
    {
     "data": {
      "image/png": "[encoded data removed]",
      "text/plain": [
       "<Figure size 720x576 with 1 Axes>"
      ]
     },
     "metadata": {},
     "output_type": "display_data"
    }
   ],
   "source": [
    "f, ax = plt.subplots(figsize = (10, 8))\n",
    "tp.plot(ax=ax)\n",
    "ax.set_ylabel('count', fontsize=20, color='r')\n",
    "ax.set_xlabel('Motorcode(sotiert nach Anzahl der Auftrags)', fontsize=20, color='b')"
   ]
  },
  {
   "cell_type": "code",
   "execution_count": 143,
   "metadata": {
    "collapsed": false
   },
   "outputs": [
    {
     "data": {
      "text/html": [
       "<div>\n",
       "<style scoped>\n",
       "    .dataframe tbody tr th:only-of-type {\n",
       "        vertical-align: middle;\n",
       "    }\n",
       "\n",
       "    .dataframe tbody tr th {\n",
       "        vertical-align: top;\n",
       "    }\n",
       "\n",
       "    .dataframe thead th {\n",
       "        text-align: right;\n",
       "    }\n",
       "</style>\n",
       "<table border=\"1\" class=\"dataframe\">\n",
       "  <thead>\n",
       "    <tr style=\"text-align: right;\">\n",
       "      <th></th>\n",
       "      <th>Markencode</th>\n",
       "      <th>count</th>\n",
       "    </tr>\n",
       "  </thead>\n",
       "  <tbody>\n",
       "    <tr>\n",
       "      <th>0</th>\n",
       "      <td>CFFB</td>\n",
       "      <td>4668</td>\n",
       "    </tr>\n",
       "    <tr>\n",
       "      <th>1</th>\n",
       "      <td>nan</td>\n",
       "      <td>3826</td>\n",
       "    </tr>\n",
       "    <tr>\n",
       "      <th>2</th>\n",
       "      <td>CAYC</td>\n",
       "      <td>3360</td>\n",
       "    </tr>\n",
       "    <tr>\n",
       "      <th>3</th>\n",
       "      <td>CRLB</td>\n",
       "      <td>2581</td>\n",
       "    </tr>\n",
       "    <tr>\n",
       "      <th>4</th>\n",
       "      <td>CAXA</td>\n",
       "      <td>2415</td>\n",
       "    </tr>\n",
       "    <tr>\n",
       "      <th>5</th>\n",
       "      <td>CBZB</td>\n",
       "      <td>1983</td>\n",
       "    </tr>\n",
       "    <tr>\n",
       "      <th>6</th>\n",
       "      <td>CFHC</td>\n",
       "      <td>1885</td>\n",
       "    </tr>\n",
       "    <tr>\n",
       "      <th>7</th>\n",
       "      <td>CFGB</td>\n",
       "      <td>1231</td>\n",
       "    </tr>\n",
       "    <tr>\n",
       "      <th>8</th>\n",
       "      <td>CXXB</td>\n",
       "      <td>1224</td>\n",
       "    </tr>\n",
       "    <tr>\n",
       "      <th>9</th>\n",
       "      <td>CBZA</td>\n",
       "      <td>1198</td>\n",
       "    </tr>\n",
       "    <tr>\n",
       "      <th>10</th>\n",
       "      <td>CGLC</td>\n",
       "      <td>1140</td>\n",
       "    </tr>\n",
       "    <tr>\n",
       "      <th>11</th>\n",
       "      <td>BLS</td>\n",
       "      <td>1111</td>\n",
       "    </tr>\n",
       "    <tr>\n",
       "      <th>12</th>\n",
       "      <td>CAYD</td>\n",
       "      <td>1092</td>\n",
       "    </tr>\n",
       "    <tr>\n",
       "      <th>13</th>\n",
       "      <td>CFGC</td>\n",
       "      <td>1067</td>\n",
       "    </tr>\n",
       "    <tr>\n",
       "      <th>14</th>\n",
       "      <td>CHYB</td>\n",
       "      <td>1022</td>\n",
       "    </tr>\n",
       "    <tr>\n",
       "      <th>15</th>\n",
       "      <td>CLHA</td>\n",
       "      <td>955</td>\n",
       "    </tr>\n",
       "    <tr>\n",
       "      <th>16</th>\n",
       "      <td>CGL</td>\n",
       "      <td>925</td>\n",
       "    </tr>\n",
       "    <tr>\n",
       "      <th>17</th>\n",
       "      <td>CNHA</td>\n",
       "      <td>837</td>\n",
       "    </tr>\n",
       "    <tr>\n",
       "      <th>18</th>\n",
       "      <td>CRBC</td>\n",
       "      <td>774</td>\n",
       "    </tr>\n",
       "    <tr>\n",
       "      <th>19</th>\n",
       "      <td>CKFC</td>\n",
       "      <td>768</td>\n",
       "    </tr>\n",
       "    <tr>\n",
       "      <th>20</th>\n",
       "      <td>CLAB</td>\n",
       "      <td>706</td>\n",
       "    </tr>\n",
       "    <tr>\n",
       "      <th>21</th>\n",
       "      <td>BSE</td>\n",
       "      <td>702</td>\n",
       "    </tr>\n",
       "    <tr>\n",
       "      <th>22</th>\n",
       "      <td>CUNA</td>\n",
       "      <td>699</td>\n",
       "    </tr>\n",
       "    <tr>\n",
       "      <th>23</th>\n",
       "      <td>CHYA</td>\n",
       "      <td>680</td>\n",
       "    </tr>\n",
       "    <tr>\n",
       "      <th>24</th>\n",
       "      <td>CJC</td>\n",
       "      <td>670</td>\n",
       "    </tr>\n",
       "    <tr>\n",
       "      <th>25</th>\n",
       "      <td>CBAB</td>\n",
       "      <td>669</td>\n",
       "    </tr>\n",
       "    <tr>\n",
       "      <th>26</th>\n",
       "      <td>BMM</td>\n",
       "      <td>663</td>\n",
       "    </tr>\n",
       "    <tr>\n",
       "      <th>27</th>\n",
       "      <td>CDAA</td>\n",
       "      <td>649</td>\n",
       "    </tr>\n",
       "    <tr>\n",
       "      <th>28</th>\n",
       "      <td>CAAC</td>\n",
       "      <td>642</td>\n",
       "    </tr>\n",
       "    <tr>\n",
       "      <th>29</th>\n",
       "      <td>CAAA</td>\n",
       "      <td>574</td>\n",
       "    </tr>\n",
       "    <tr>\n",
       "      <th>...</th>\n",
       "      <td>...</td>\n",
       "      <td>...</td>\n",
       "    </tr>\n",
       "    <tr>\n",
       "      <th>880</th>\n",
       "      <td>DFSF</td>\n",
       "      <td>1</td>\n",
       "    </tr>\n",
       "    <tr>\n",
       "      <th>881</th>\n",
       "      <td>AUH</td>\n",
       "      <td>1</td>\n",
       "    </tr>\n",
       "    <tr>\n",
       "      <th>882</th>\n",
       "      <td>CHCB</td>\n",
       "      <td>1</td>\n",
       "    </tr>\n",
       "    <tr>\n",
       "      <th>883</th>\n",
       "      <td>DF</td>\n",
       "      <td>1</td>\n",
       "    </tr>\n",
       "    <tr>\n",
       "      <th>884</th>\n",
       "      <td>AMT</td>\n",
       "      <td>1</td>\n",
       "    </tr>\n",
       "    <tr>\n",
       "      <th>885</th>\n",
       "      <td>AVB_</td>\n",
       "      <td>1</td>\n",
       "    </tr>\n",
       "    <tr>\n",
       "      <th>886</th>\n",
       "      <td>CHYF</td>\n",
       "      <td>1</td>\n",
       "    </tr>\n",
       "    <tr>\n",
       "      <th>887</th>\n",
       "      <td>CRUA</td>\n",
       "      <td>1</td>\n",
       "    </tr>\n",
       "    <tr>\n",
       "      <th>888</th>\n",
       "      <td>ALT_</td>\n",
       "      <td>1</td>\n",
       "    </tr>\n",
       "    <tr>\n",
       "      <th>889</th>\n",
       "      <td>CFK</td>\n",
       "      <td>1</td>\n",
       "    </tr>\n",
       "    <tr>\n",
       "      <th>890</th>\n",
       "      <td>HDU</td>\n",
       "      <td>1</td>\n",
       "    </tr>\n",
       "    <tr>\n",
       "      <th>891</th>\n",
       "      <td>CBWA</td>\n",
       "      <td>1</td>\n",
       "    </tr>\n",
       "    <tr>\n",
       "      <th>892</th>\n",
       "      <td>ARZ</td>\n",
       "      <td>1</td>\n",
       "    </tr>\n",
       "    <tr>\n",
       "      <th>893</th>\n",
       "      <td>AJS</td>\n",
       "      <td>1</td>\n",
       "    </tr>\n",
       "    <tr>\n",
       "      <th>894</th>\n",
       "      <td>CAJA</td>\n",
       "      <td>1</td>\n",
       "    </tr>\n",
       "    <tr>\n",
       "      <th>895</th>\n",
       "      <td>BBF</td>\n",
       "      <td>1</td>\n",
       "    </tr>\n",
       "    <tr>\n",
       "      <th>896</th>\n",
       "      <td>CAS</td>\n",
       "      <td>1</td>\n",
       "    </tr>\n",
       "    <tr>\n",
       "      <th>897</th>\n",
       "      <td>CHNA</td>\n",
       "      <td>1</td>\n",
       "    </tr>\n",
       "    <tr>\n",
       "      <th>898</th>\n",
       "      <td>DDV</td>\n",
       "      <td>1</td>\n",
       "    </tr>\n",
       "    <tr>\n",
       "      <th>899</th>\n",
       "      <td>Z16SE</td>\n",
       "      <td>1</td>\n",
       "    </tr>\n",
       "    <tr>\n",
       "      <th>900</th>\n",
       "      <td>CYP</td>\n",
       "      <td>1</td>\n",
       "    </tr>\n",
       "    <tr>\n",
       "      <th>901</th>\n",
       "      <td>AGL</td>\n",
       "      <td>1</td>\n",
       "    </tr>\n",
       "    <tr>\n",
       "      <th>902</th>\n",
       "      <td>PHB</td>\n",
       "      <td>1</td>\n",
       "    </tr>\n",
       "    <tr>\n",
       "      <th>903</th>\n",
       "      <td>PT</td>\n",
       "      <td>1</td>\n",
       "    </tr>\n",
       "    <tr>\n",
       "      <th>904</th>\n",
       "      <td>GP</td>\n",
       "      <td>1</td>\n",
       "    </tr>\n",
       "    <tr>\n",
       "      <th>905</th>\n",
       "      <td>BMPK</td>\n",
       "      <td>1</td>\n",
       "    </tr>\n",
       "    <tr>\n",
       "      <th>906</th>\n",
       "      <td>CDT</td>\n",
       "      <td>1</td>\n",
       "    </tr>\n",
       "    <tr>\n",
       "      <th>907</th>\n",
       "      <td>AMB</td>\n",
       "      <td>1</td>\n",
       "    </tr>\n",
       "    <tr>\n",
       "      <th>908</th>\n",
       "      <td>AHH</td>\n",
       "      <td>1</td>\n",
       "    </tr>\n",
       "    <tr>\n",
       "      <th>909</th>\n",
       "      <td>CTHG</td>\n",
       "      <td>1</td>\n",
       "    </tr>\n",
       "  </tbody>\n",
       "</table>\n",
       "<p>910 rows × 2 columns</p>\n",
       "</div>"
      ],
      "text/plain": [
       "    Markencode  count\n",
       "0         CFFB   4668\n",
       "1          nan   3826\n",
       "2         CAYC   3360\n",
       "3         CRLB   2581\n",
       "4         CAXA   2415\n",
       "5         CBZB   1983\n",
       "6         CFHC   1885\n",
       "7         CFGB   1231\n",
       "8         CXXB   1224\n",
       "9         CBZA   1198\n",
       "10        CGLC   1140\n",
       "11         BLS   1111\n",
       "12        CAYD   1092\n",
       "13        CFGC   1067\n",
       "14        CHYB   1022\n",
       "15        CLHA    955\n",
       "16         CGL    925\n",
       "17        CNHA    837\n",
       "18        CRBC    774\n",
       "19        CKFC    768\n",
       "20        CLAB    706\n",
       "21         BSE    702\n",
       "22        CUNA    699\n",
       "23        CHYA    680\n",
       "24         CJC    670\n",
       "25        CBAB    669\n",
       "26         BMM    663\n",
       "27        CDAA    649\n",
       "28        CAAC    642\n",
       "29        CAAA    574\n",
       "..         ...    ...\n",
       "880       DFSF      1\n",
       "881        AUH      1\n",
       "882       CHCB      1\n",
       "883         DF      1\n",
       "884        AMT      1\n",
       "885       AVB_      1\n",
       "886       CHYF      1\n",
       "887       CRUA      1\n",
       "888       ALT_      1\n",
       "889        CFK      1\n",
       "890        HDU      1\n",
       "891       CBWA      1\n",
       "892        ARZ      1\n",
       "893        AJS      1\n",
       "894       CAJA      1\n",
       "895        BBF      1\n",
       "896        CAS      1\n",
       "897       CHNA      1\n",
       "898        DDV      1\n",
       "899      Z16SE      1\n",
       "900        CYP      1\n",
       "901        AGL      1\n",
       "902        PHB      1\n",
       "903         PT      1\n",
       "904         GP      1\n",
       "905       BMPK      1\n",
       "906        CDT      1\n",
       "907        AMB      1\n",
       "908        AHH      1\n",
       "909       CTHG      1\n",
       "\n",
       "[910 rows x 2 columns]"
      ]
     },
     "execution_count": 143,
     "metadata": {},
     "output_type": "execute_result"
    }
   ],
   "source": [
    "df_vc"
   ]
  },
  {
   "cell_type": "code",
   "execution_count": 144,
   "metadata": {
    "collapsed": false
   },
   "outputs": [
    {
     "name": "stdout",
     "output_type": "stream",
     "text": [
      "0.813186813187\n",
      "0.149332810047\n"
     ]
    }
   ],
   "source": [
    "print(df_vc[df_vc['count']<100]['count'].count()/df_vc['count'].count())\n",
    "print(df_vc[df_vc['count']<100]['count'].sum()/df_vc['count'].sum())"
   ]
  },
  {
   "cell_type": "markdown",
   "metadata": {},
   "source": [
    "### Getriebecode"
   ]
  },
  {
   "cell_type": "code",
   "execution_count": 145,
   "metadata": {
    "collapsed": true
   },
   "outputs": [],
   "source": [
    "def draw_distribution(var):\n",
    "    af = toAuftragTable(data1, var, 'Auftragsnummer')\n",
    "    cv = af[var].value_counts()\n",
    "    df_vc = pd.DataFrame({var:cv.index, 'count': cv.tolist()})\n",
    "    tp = df_vc[['count']]\n",
    "    f, ax = plt.subplots(figsize = (10, 8))\n",
    "    tp.plot(ax=ax)\n",
    "    ax.set_ylabel('count', fontsize=20, color='r')\n",
    "    ax.set_xlabel(var+'(sotiert nach Anzahl der Auftrags)', fontsize=20, color='b')\n",
    "    return df_vc"
   ]
  },
  {
   "cell_type": "code",
   "execution_count": 146,
   "metadata": {
    "collapsed": false
   },
   "outputs": [
    {
     "name": "stdout",
     "output_type": "stream",
     "text": [
      "Falls Null date exist, drop these dates directly\n"
     ]
    },
    {
     "data": {
      "image/png": "[encoded data removed]",
      "text/plain": [
       "<Figure size 720x576 with 1 Axes>"
      ]
     },
     "metadata": {},
     "output_type": "display_data"
    }
   ],
   "source": [
    "df_vc = draw_distribution('Getriebecode')"
   ]
  },
  {
   "cell_type": "code",
   "execution_count": 147,
   "metadata": {
    "collapsed": false
   },
   "outputs": [
    {
     "name": "stdout",
     "output_type": "stream",
     "text": [
      "0.908705882353\n",
      "0.366111829347\n"
     ]
    }
   ],
   "source": [
    "print(df_vc[df_vc['count']<100]['count'].count()/df_vc['count'].count())\n",
    "print(df_vc[df_vc['count']<100]['count'].sum()/df_vc['count'].sum())"
   ]
  },
  {
   "cell_type": "markdown",
   "metadata": {},
   "source": [
    "### Fahrzeugmodellnummer"
   ]
  },
  {
   "cell_type": "code",
   "execution_count": 148,
   "metadata": {
    "collapsed": false
   },
   "outputs": [
    {
     "name": "stdout",
     "output_type": "stream",
     "text": [
      "Falls Null date exist, drop these dates directly\n"
     ]
    },
    {
     "data": {
      "image/png": "[encoded data removed]",
      "text/plain": [
       "<Figure size 720x576 with 1 Axes>"
      ]
     },
     "metadata": {},
     "output_type": "display_data"
    }
   ],
   "source": [
    "df_vc = draw_distribution('Fahrzeugmodellnummer')"
   ]
  },
  {
   "cell_type": "code",
   "execution_count": 149,
   "metadata": {
    "collapsed": false
   },
   "outputs": [
    {
     "name": "stdout",
     "output_type": "stream",
     "text": [
      "0.962438146649\n",
      "0.633957429125\n"
     ]
    }
   ],
   "source": [
    "print(df_vc[df_vc['count']<100]['count'].count()/df_vc['count'].count())\n",
    "print(df_vc[df_vc['count']<100]['count'].sum()/df_vc['count'].sum())"
   ]
  },
  {
   "cell_type": "code",
   "execution_count": 150,
   "metadata": {
    "collapsed": false
   },
   "outputs": [
    {
     "name": "stdout",
     "output_type": "stream",
     "text": [
      "Falls Null date exist, drop these dates directly\n"
     ]
    },
    {
     "data": {
      "image/png": "[encoded data removed]",
      "text/plain": [
       "<Figure size 720x576 with 1 Axes>"
      ]
     },
     "metadata": {},
     "output_type": "display_data"
    }
   ],
   "source": [
    "df_cv = draw_distribution('Markencode')"
   ]
  },
  {
   "cell_type": "code",
   "execution_count": 151,
   "metadata": {
    "collapsed": false
   },
   "outputs": [],
   "source": [
    "#df_cv"
   ]
  },
  {
   "cell_type": "code",
   "execution_count": null,
   "metadata": {
    "collapsed": true
   },
   "outputs": [],
   "source": []
  },
  {
   "cell_type": "code",
   "execution_count": 50,
   "metadata": {
    "collapsed": true
   },
   "outputs": [],
   "source": [
    "def draw_distribution2(data, var, n = 10, re= True):\n",
    "    \"\"\"only show one distribution\"\"\"\n",
    "    af = toAuftragTable(data, var, 'Auftragsnummer')\n",
    "    cv = af[var].value_counts()\n",
    "    print(cv.count())\n",
    "    target = []\n",
    "    count = []\n",
    "    for i in range(n):\n",
    "        target.append(cv.index[i])\n",
    "        count.append(cv[i])\n",
    "    rest = cv.sum() - sum(count)\n",
    "    if re:\n",
    "        target.append('REST')\n",
    "        count.append(rest)\n",
    "    count = count/cv.sum()\n",
    "    print('top '+str(n)+' machen ' +str(100* sum(count)*1.0/cv.sum())+ '% der Gesamtsummer aus')\n",
    "    df = pd.DataFrame({'Target': target, 'count': count})\n",
    "    # deop na\n",
    "    df = df.drop(df[df['Target'] == 'nan'].index, axis=0)\n",
    "    f, ax = plt.subplots(figsize = (14, 8))\n",
    "    sns.barplot(x='Target', y='count', data=df)\n",
    "    ax.set_ylabel('Propotion', fontsize=20, color='r')\n",
    "    ax.set_xlabel(var, fontsize=20, color='b')\n",
    "    ax.set_xticklabels(ax.get_xticklabels(), rotation=45, fontsize = 10)\n",
    "    return cv"
   ]
  },
  {
   "cell_type": "code",
   "execution_count": 237,
   "metadata": {
    "collapsed": false
   },
   "outputs": [
    {
     "data": {
      "text/plain": [
       "Text(0.5,1.05,'Leonberg')"
      ]
     },
     "execution_count": 237,
     "metadata": {},
     "output_type": "execute_result"
    },
    {
     "data": {
      "image/png": "[encoded data removed]",
      "text/plain": [
       "<Figure size 1440x576 with 1 Axes>"
      ]
     },
     "metadata": {},
     "output_type": "display_data"
    }
   ],
   "source": [
    "f, ax = plt.subplots(figsize = (20, 8))\n",
    "sns.barplot(x='Target', y='count', data=df)\n",
    "ax.set_ylabel('propotion', fontsize=20, color='r')\n",
    "ax.set_xlabel('ddd', fontsize=20, color='b')\n",
    "ax.set_yticklabels(ax.get_yticklabels(), fontsize = 20)\n",
    "ax.set_xticklabels(ax.get_xticklabels(), rotation=45, fontsize = 20)\n",
    "ax.set_title('Leonberg', fontsize=22, position=(0.5,1.05))"
   ]
  },
  {
   "cell_type": "code",
   "execution_count": 216,
   "metadata": {
    "collapsed": false
   },
   "outputs": [
    {
     "name": "stdout",
     "output_type": "stream",
     "text": [
      "Falls Null date exist, drop these dates directly\n"
     ]
    },
    {
     "data": {
      "text/html": [
       "<div>\n",
       "<style scoped>\n",
       "    .dataframe tbody tr th:only-of-type {\n",
       "        vertical-align: middle;\n",
       "    }\n",
       "\n",
       "    .dataframe tbody tr th {\n",
       "        vertical-align: top;\n",
       "    }\n",
       "\n",
       "    .dataframe thead th {\n",
       "        text-align: right;\n",
       "    }\n",
       "</style>\n",
       "<table border=\"1\" class=\"dataframe\">\n",
       "  <thead>\n",
       "    <tr style=\"text-align: right;\">\n",
       "      <th></th>\n",
       "      <th>Target</th>\n",
       "      <th>count</th>\n",
       "    </tr>\n",
       "  </thead>\n",
       "  <tbody>\n",
       "    <tr>\n",
       "      <th>0</th>\n",
       "      <td>VW</td>\n",
       "      <td>43531</td>\n",
       "    </tr>\n",
       "    <tr>\n",
       "      <th>1</th>\n",
       "      <td>AUDI</td>\n",
       "      <td>27261</td>\n",
       "    </tr>\n",
       "    <tr>\n",
       "      <th>2</th>\n",
       "      <td>SKODA</td>\n",
       "      <td>13444</td>\n",
       "    </tr>\n",
       "    <tr>\n",
       "      <th>3</th>\n",
       "      <td>REST</td>\n",
       "      <td>2396</td>\n",
       "    </tr>\n",
       "  </tbody>\n",
       "</table>\n",
       "</div>"
      ],
      "text/plain": [
       "  Target  count\n",
       "0     VW  43531\n",
       "1   AUDI  27261\n",
       "2  SKODA  13444\n",
       "3   REST   2396"
      ]
     },
     "execution_count": 216,
     "metadata": {},
     "output_type": "execute_result"
    },
    {
     "data": {
      "image/png": "[encoded data removed]",
      "text/plain": [
       "<Figure size 1008x576 with 1 Axes>"
      ]
     },
     "metadata": {},
     "output_type": "display_data"
    }
   ],
   "source": [
    "draw_distribution2(data1, 'Markencode', 3)"
   ]
  },
  {
   "cell_type": "code",
   "execution_count": 221,
   "metadata": {
    "collapsed": false
   },
   "outputs": [
    {
     "name": "stdout",
     "output_type": "stream",
     "text": [
      "Falls Null date exist, drop these dates directly\n"
     ]
    },
    {
     "data": {
      "text/html": [
       "<div>\n",
       "<style scoped>\n",
       "    .dataframe tbody tr th:only-of-type {\n",
       "        vertical-align: middle;\n",
       "    }\n",
       "\n",
       "    .dataframe tbody tr th {\n",
       "        vertical-align: top;\n",
       "    }\n",
       "\n",
       "    .dataframe thead th {\n",
       "        text-align: right;\n",
       "    }\n",
       "</style>\n",
       "<table border=\"1\" class=\"dataframe\">\n",
       "  <thead>\n",
       "    <tr style=\"text-align: right;\">\n",
       "      <th></th>\n",
       "      <th>Target</th>\n",
       "      <th>count</th>\n",
       "    </tr>\n",
       "  </thead>\n",
       "  <tbody>\n",
       "    <tr>\n",
       "      <th>0</th>\n",
       "      <td>VW</td>\n",
       "      <td>108766</td>\n",
       "    </tr>\n",
       "    <tr>\n",
       "      <th>1</th>\n",
       "      <td>AUDI</td>\n",
       "      <td>51539</td>\n",
       "    </tr>\n",
       "    <tr>\n",
       "      <th>2</th>\n",
       "      <td>SKODA</td>\n",
       "      <td>20273</td>\n",
       "    </tr>\n",
       "    <tr>\n",
       "      <th>3</th>\n",
       "      <td>REST</td>\n",
       "      <td>12669</td>\n",
       "    </tr>\n",
       "  </tbody>\n",
       "</table>\n",
       "</div>"
      ],
      "text/plain": [
       "  Target   count\n",
       "0     VW  108766\n",
       "1   AUDI   51539\n",
       "2  SKODA   20273\n",
       "3   REST   12669"
      ]
     },
     "execution_count": 221,
     "metadata": {},
     "output_type": "execute_result"
    },
    {
     "data": {
      "image/png": "[encoded data removed]",
      "text/plain": [
       "<Figure size 1008x576 with 1 Axes>"
      ]
     },
     "metadata": {},
     "output_type": "display_data"
    }
   ],
   "source": [
    "draw_distribution2(data2, 'Markencode', 3)"
   ]
  },
  {
   "cell_type": "code",
   "execution_count": 238,
   "metadata": {
    "collapsed": true
   },
   "outputs": [],
   "source": [
    "def draw_distribution3(data1, data2, var, n = 10):\n",
    "    \"\"\"compare two datasets: leonberg and weil\"\"\"\n",
    "    af = toAuftragTable(data1, var, 'Auftragsnummer')\n",
    "    cv = af[var].value_counts()\n",
    "    print(cv.count())\n",
    "    target = []\n",
    "    count = []\n",
    "    for i in range(n):\n",
    "        target.append(cv.index[i])\n",
    "        count.append(cv[i])\n",
    "    rest = cv.sum() - sum(count)\n",
    "    print('top '+str(n)+' machen ' +str(100* sum(count)*1.0/cv.sum())+ '% der Gesamtsummer aus')\n",
    "    target.append('REST')\n",
    "    count.append(rest)\n",
    "    count = count/cv.sum()\n",
    "    df1 = pd.DataFrame({'Target': target, 'count': count})\n",
    "    af = toAuftragTable(data2, var, 'Auftragsnummer')\n",
    "    cv = af[var].value_counts()\n",
    "    print(cv.count())\n",
    "    target = []\n",
    "    count = []\n",
    "    for i in range(n):\n",
    "        target.append(cv.index[i])\n",
    "        count.append(cv[i])\n",
    "    rest = cv.sum() - sum(count)\n",
    "    print('top '+str(n)+' machen ' +str(100* sum(count)*1.0/cv.sum())+ '% der Gesamtsummer aus')\n",
    "    target.append('REST')\n",
    "    count.append(rest)\n",
    "    count = count/cv.sum()\n",
    "    df2 = pd.DataFrame({'Target': target, 'count': count})\n",
    "    df1['Autohaus'] = 'Leonberg'\n",
    "    df2['Autohaus'] = 'Weil'\n",
    "    df = pd.concat([df1, df2], axis=0)\n",
    "    f, ax = plt.subplots(figsize = (14, 8))\n",
    "    sns.barplot(x='Target', y='count', data=df, hue='Autohaus')\n",
    "    ax.set_ylabel('Propotion', fontsize=20, color='r')\n",
    "    ax.set_xlabel(var, fontsize=20, color='b')\n",
    "    ax.set_xticklabels(ax.get_xticklabels(), rotation=45, fontsize = 20)\n",
    "    return df"
   ]
  },
  {
   "cell_type": "code",
   "execution_count": 239,
   "metadata": {
    "collapsed": false
   },
   "outputs": [
    {
     "name": "stdout",
     "output_type": "stream",
     "text": [
      "Falls Null date exist, drop these dates directly\n",
      "30\n",
      "top 3 machen 97.1807294447% der Gesamtsummer aus\n",
      "Falls Null date exist, drop these dates directly\n",
      "43\n",
      "top 3 machen 93.4441414356% der Gesamtsummer aus\n"
     ]
    },
    {
     "data": {
      "text/html": [
       "<div>\n",
       "<style scoped>\n",
       "    .dataframe tbody tr th:only-of-type {\n",
       "        vertical-align: middle;\n",
       "    }\n",
       "\n",
       "    .dataframe tbody tr th {\n",
       "        vertical-align: top;\n",
       "    }\n",
       "\n",
       "    .dataframe thead th {\n",
       "        text-align: right;\n",
       "    }\n",
       "</style>\n",
       "<table border=\"1\" class=\"dataframe\">\n",
       "  <thead>\n",
       "    <tr style=\"text-align: right;\">\n",
       "      <th></th>\n",
       "      <th>Target</th>\n",
       "      <th>count</th>\n",
       "      <th>Autohaus</th>\n",
       "    </tr>\n",
       "  </thead>\n",
       "  <tbody>\n",
       "    <tr>\n",
       "      <th>0</th>\n",
       "      <td>VW</td>\n",
       "      <td>0.499683</td>\n",
       "      <td>Leonberg</td>\n",
       "    </tr>\n",
       "    <tr>\n",
       "      <th>1</th>\n",
       "      <td>AUDI</td>\n",
       "      <td>0.313736</td>\n",
       "      <td>Leonberg</td>\n",
       "    </tr>\n",
       "    <tr>\n",
       "      <th>2</th>\n",
       "      <td>SKODA</td>\n",
       "      <td>0.158389</td>\n",
       "      <td>Leonberg</td>\n",
       "    </tr>\n",
       "    <tr>\n",
       "      <th>3</th>\n",
       "      <td>REST</td>\n",
       "      <td>0.028193</td>\n",
       "      <td>Leonberg</td>\n",
       "    </tr>\n",
       "    <tr>\n",
       "      <th>0</th>\n",
       "      <td>VW</td>\n",
       "      <td>0.562834</td>\n",
       "      <td>Weil</td>\n",
       "    </tr>\n",
       "    <tr>\n",
       "      <th>1</th>\n",
       "      <td>AUDI</td>\n",
       "      <td>0.266700</td>\n",
       "      <td>Weil</td>\n",
       "    </tr>\n",
       "    <tr>\n",
       "      <th>2</th>\n",
       "      <td>SKODA</td>\n",
       "      <td>0.104907</td>\n",
       "      <td>Weil</td>\n",
       "    </tr>\n",
       "    <tr>\n",
       "      <th>3</th>\n",
       "      <td>REST</td>\n",
       "      <td>0.065559</td>\n",
       "      <td>Weil</td>\n",
       "    </tr>\n",
       "  </tbody>\n",
       "</table>\n",
       "</div>"
      ],
      "text/plain": [
       "  Target     count  Autohaus\n",
       "0     VW  0.499683  Leonberg\n",
       "1   AUDI  0.313736  Leonberg\n",
       "2  SKODA  0.158389  Leonberg\n",
       "3   REST  0.028193  Leonberg\n",
       "0     VW  0.562834      Weil\n",
       "1   AUDI  0.266700      Weil\n",
       "2  SKODA  0.104907      Weil\n",
       "3   REST  0.065559      Weil"
      ]
     },
     "execution_count": 239,
     "metadata": {},
     "output_type": "execute_result"
    },
    {
     "data": {
      "image/png": "[encoded data removed]",
      "text/plain": [
       "<Figure size 1008x576 with 1 Axes>"
      ]
     },
     "metadata": {},
     "output_type": "display_data"
    }
   ],
   "source": [
    "draw_distribution3(data1, data2, 'Markencode', n = 3)"
   ]
  },
  {
   "cell_type": "code",
   "execution_count": 240,
   "metadata": {
    "collapsed": false
   },
   "outputs": [
    {
     "name": "stdout",
     "output_type": "stream",
     "text": [
      "Falls Null date exist, drop these dates directly\n",
      "958\n",
      "top 10 machen 27.5128171553% der Gesamtsummer aus\n",
      "Falls Null date exist, drop these dates directly\n",
      "1179\n",
      "top 10 machen 27.8446754671% der Gesamtsummer aus\n"
     ]
    },
    {
     "data": {
      "text/html": [
       "<div>\n",
       "<style scoped>\n",
       "    .dataframe tbody tr th:only-of-type {\n",
       "        vertical-align: middle;\n",
       "    }\n",
       "\n",
       "    .dataframe tbody tr th {\n",
       "        vertical-align: top;\n",
       "    }\n",
       "\n",
       "    .dataframe thead th {\n",
       "        text-align: right;\n",
       "    }\n",
       "</style>\n",
       "<table border=\"1\" class=\"dataframe\">\n",
       "  <thead>\n",
       "    <tr style=\"text-align: right;\">\n",
       "      <th></th>\n",
       "      <th>Target</th>\n",
       "      <th>count</th>\n",
       "      <th>Autohaus</th>\n",
       "    </tr>\n",
       "  </thead>\n",
       "  <tbody>\n",
       "    <tr>\n",
       "      <th>0</th>\n",
       "      <td>CFFB</td>\n",
       "      <td>0.050251</td>\n",
       "      <td>Leonberg</td>\n",
       "    </tr>\n",
       "    <tr>\n",
       "      <th>1</th>\n",
       "      <td>nan</td>\n",
       "      <td>0.046343</td>\n",
       "      <td>Leonberg</td>\n",
       "    </tr>\n",
       "    <tr>\n",
       "      <th>2</th>\n",
       "      <td>CAYC</td>\n",
       "      <td>0.036120</td>\n",
       "      <td>Leonberg</td>\n",
       "    </tr>\n",
       "    <tr>\n",
       "      <th>3</th>\n",
       "      <td>CRLB</td>\n",
       "      <td>0.031637</td>\n",
       "      <td>Leonberg</td>\n",
       "    </tr>\n",
       "    <tr>\n",
       "      <th>4</th>\n",
       "      <td>CAXA</td>\n",
       "      <td>0.026793</td>\n",
       "      <td>Leonberg</td>\n",
       "    </tr>\n",
       "    <tr>\n",
       "      <th>5</th>\n",
       "      <td>CBZB</td>\n",
       "      <td>0.022109</td>\n",
       "      <td>Leonberg</td>\n",
       "    </tr>\n",
       "    <tr>\n",
       "      <th>6</th>\n",
       "      <td>CFHC</td>\n",
       "      <td>0.020578</td>\n",
       "      <td>Leonberg</td>\n",
       "    </tr>\n",
       "    <tr>\n",
       "      <th>7</th>\n",
       "      <td>CXXB</td>\n",
       "      <td>0.014897</td>\n",
       "      <td>Leonberg</td>\n",
       "    </tr>\n",
       "    <tr>\n",
       "      <th>8</th>\n",
       "      <td>CBZA</td>\n",
       "      <td>0.013215</td>\n",
       "      <td>Leonberg</td>\n",
       "    </tr>\n",
       "    <tr>\n",
       "      <th>9</th>\n",
       "      <td>CFGB</td>\n",
       "      <td>0.013185</td>\n",
       "      <td>Leonberg</td>\n",
       "    </tr>\n",
       "    <tr>\n",
       "      <th>10</th>\n",
       "      <td>REST</td>\n",
       "      <td>0.724872</td>\n",
       "      <td>Leonberg</td>\n",
       "    </tr>\n",
       "    <tr>\n",
       "      <th>0</th>\n",
       "      <td>nan</td>\n",
       "      <td>0.057331</td>\n",
       "      <td>Weil</td>\n",
       "    </tr>\n",
       "    <tr>\n",
       "      <th>1</th>\n",
       "      <td>CFFB</td>\n",
       "      <td>0.054412</td>\n",
       "      <td>Weil</td>\n",
       "    </tr>\n",
       "    <tr>\n",
       "      <th>2</th>\n",
       "      <td>CAYC</td>\n",
       "      <td>0.033144</td>\n",
       "      <td>Weil</td>\n",
       "    </tr>\n",
       "    <tr>\n",
       "      <th>3</th>\n",
       "      <td>CBZB</td>\n",
       "      <td>0.026707</td>\n",
       "      <td>Weil</td>\n",
       "    </tr>\n",
       "    <tr>\n",
       "      <th>4</th>\n",
       "      <td>CAXA</td>\n",
       "      <td>0.026531</td>\n",
       "      <td>Weil</td>\n",
       "    </tr>\n",
       "    <tr>\n",
       "      <th>5</th>\n",
       "      <td>CRLB</td>\n",
       "      <td>0.024875</td>\n",
       "      <td>Weil</td>\n",
       "    </tr>\n",
       "    <tr>\n",
       "      <th>6</th>\n",
       "      <td>CFHC</td>\n",
       "      <td>0.019338</td>\n",
       "      <td>Weil</td>\n",
       "    </tr>\n",
       "    <tr>\n",
       "      <th>7</th>\n",
       "      <td>CHYB</td>\n",
       "      <td>0.012285</td>\n",
       "      <td>Weil</td>\n",
       "    </tr>\n",
       "    <tr>\n",
       "      <th>8</th>\n",
       "      <td>CFGC</td>\n",
       "      <td>0.011938</td>\n",
       "      <td>Weil</td>\n",
       "    </tr>\n",
       "    <tr>\n",
       "      <th>9</th>\n",
       "      <td>BLS</td>\n",
       "      <td>0.011886</td>\n",
       "      <td>Weil</td>\n",
       "    </tr>\n",
       "    <tr>\n",
       "      <th>10</th>\n",
       "      <td>REST</td>\n",
       "      <td>0.721553</td>\n",
       "      <td>Weil</td>\n",
       "    </tr>\n",
       "  </tbody>\n",
       "</table>\n",
       "</div>"
      ],
      "text/plain": [
       "   Target     count  Autohaus\n",
       "0    CFFB  0.050251  Leonberg\n",
       "1     nan  0.046343  Leonberg\n",
       "2    CAYC  0.036120  Leonberg\n",
       "3    CRLB  0.031637  Leonberg\n",
       "4    CAXA  0.026793  Leonberg\n",
       "5    CBZB  0.022109  Leonberg\n",
       "6    CFHC  0.020578  Leonberg\n",
       "7    CXXB  0.014897  Leonberg\n",
       "8    CBZA  0.013215  Leonberg\n",
       "9    CFGB  0.013185  Leonberg\n",
       "10   REST  0.724872  Leonberg\n",
       "0     nan  0.057331      Weil\n",
       "1    CFFB  0.054412      Weil\n",
       "2    CAYC  0.033144      Weil\n",
       "3    CBZB  0.026707      Weil\n",
       "4    CAXA  0.026531      Weil\n",
       "5    CRLB  0.024875      Weil\n",
       "6    CFHC  0.019338      Weil\n",
       "7    CHYB  0.012285      Weil\n",
       "8    CFGC  0.011938      Weil\n",
       "9     BLS  0.011886      Weil\n",
       "10   REST  0.721553      Weil"
      ]
     },
     "execution_count": 240,
     "metadata": {},
     "output_type": "execute_result"
    },
    {
     "data": {
      "image/png": "[encoded data removed]",
      "text/plain": [
       "<Figure size 1008x576 with 1 Axes>"
      ]
     },
     "metadata": {},
     "output_type": "display_data"
    }
   ],
   "source": [
    "draw_distribution3(data1,data2, 'Motorcode', n = 10)"
   ]
  },
  {
   "cell_type": "code",
   "execution_count": 241,
   "metadata": {
    "collapsed": false
   },
   "outputs": [
    {
     "name": "stdout",
     "output_type": "stream",
     "text": [
      "Falls Null date exist, drop these dates directly\n",
      "5109\n",
      "top 10 machen 10.9577864848% der Gesamtsummer aus\n",
      "Falls Null date exist, drop these dates directly\n",
      "9231\n",
      "top 10 machen 9.46405377574% der Gesamtsummer aus\n"
     ]
    },
    {
     "data": {
      "text/html": [
       "<div>\n",
       "<style scoped>\n",
       "    .dataframe tbody tr th:only-of-type {\n",
       "        vertical-align: middle;\n",
       "    }\n",
       "\n",
       "    .dataframe tbody tr th {\n",
       "        vertical-align: top;\n",
       "    }\n",
       "\n",
       "    .dataframe thead th {\n",
       "        text-align: right;\n",
       "    }\n",
       "</style>\n",
       "<table border=\"1\" class=\"dataframe\">\n",
       "  <thead>\n",
       "    <tr style=\"text-align: right;\">\n",
       "      <th></th>\n",
       "      <th>Target</th>\n",
       "      <th>count</th>\n",
       "      <th>Autohaus</th>\n",
       "    </tr>\n",
       "  </thead>\n",
       "  <tbody>\n",
       "    <tr>\n",
       "      <th>0</th>\n",
       "      <td>nan</td>\n",
       "      <td>0.022119</td>\n",
       "      <td>Leonberg</td>\n",
       "    </tr>\n",
       "    <tr>\n",
       "      <th>1</th>\n",
       "      <td>Passat Variant Comfortline BM</td>\n",
       "      <td>0.016841</td>\n",
       "      <td>Leonberg</td>\n",
       "    </tr>\n",
       "    <tr>\n",
       "      <th>2</th>\n",
       "      <td>Golf Comfortline BlueMotion Te</td>\n",
       "      <td>0.015018</td>\n",
       "      <td>Leonberg</td>\n",
       "    </tr>\n",
       "    <tr>\n",
       "      <th>3</th>\n",
       "      <td>Passat Variant Comfortline</td>\n",
       "      <td>0.013306</td>\n",
       "      <td>Leonberg</td>\n",
       "    </tr>\n",
       "    <tr>\n",
       "      <th>4</th>\n",
       "      <td>Touran Comfortline BlueMotion</td>\n",
       "      <td>0.008441</td>\n",
       "      <td>Leonberg</td>\n",
       "    </tr>\n",
       "    <tr>\n",
       "      <th>5</th>\n",
       "      <td>VW Golf IV &gt; 98 / Variant &gt; 99</td>\n",
       "      <td>0.007806</td>\n",
       "      <td>Leonberg</td>\n",
       "    </tr>\n",
       "    <tr>\n",
       "      <th>6</th>\n",
       "      <td>Transporter Kasten Radstand: 3</td>\n",
       "      <td>0.006658</td>\n",
       "      <td>Leonberg</td>\n",
       "    </tr>\n",
       "    <tr>\n",
       "      <th>7</th>\n",
       "      <td>Caddy Trendline 5-Sitzer</td>\n",
       "      <td>0.006567</td>\n",
       "      <td>Leonberg</td>\n",
       "    </tr>\n",
       "    <tr>\n",
       "      <th>8</th>\n",
       "      <td>Octavia Combi Elegance 2,0l 11</td>\n",
       "      <td>0.006416</td>\n",
       "      <td>Leonberg</td>\n",
       "    </tr>\n",
       "    <tr>\n",
       "      <th>9</th>\n",
       "      <td>Caddy Kastenwagen Radstand: 26</td>\n",
       "      <td>0.006406</td>\n",
       "      <td>Leonberg</td>\n",
       "    </tr>\n",
       "    <tr>\n",
       "      <th>10</th>\n",
       "      <td>REST</td>\n",
       "      <td>0.890422</td>\n",
       "      <td>Leonberg</td>\n",
       "    </tr>\n",
       "    <tr>\n",
       "      <th>0</th>\n",
       "      <td>nan</td>\n",
       "      <td>0.019742</td>\n",
       "      <td>Weil</td>\n",
       "    </tr>\n",
       "    <tr>\n",
       "      <th>1</th>\n",
       "      <td>Golf Comfortline BlueMotion Te</td>\n",
       "      <td>0.015146</td>\n",
       "      <td>Weil</td>\n",
       "    </tr>\n",
       "    <tr>\n",
       "      <th>2</th>\n",
       "      <td>Passat Variant Comfortline</td>\n",
       "      <td>0.013941</td>\n",
       "      <td>Weil</td>\n",
       "    </tr>\n",
       "    <tr>\n",
       "      <th>3</th>\n",
       "      <td>Passat Variant Comfortline BM</td>\n",
       "      <td>0.010650</td>\n",
       "      <td>Weil</td>\n",
       "    </tr>\n",
       "    <tr>\n",
       "      <th>4</th>\n",
       "      <td>Tiguan Sport &amp; Style 4MOTION 2</td>\n",
       "      <td>0.006650</td>\n",
       "      <td>Weil</td>\n",
       "    </tr>\n",
       "    <tr>\n",
       "      <th>5</th>\n",
       "      <td>Touran Comfortline BlueMotion</td>\n",
       "      <td>0.006360</td>\n",
       "      <td>Weil</td>\n",
       "    </tr>\n",
       "    <tr>\n",
       "      <th>6</th>\n",
       "      <td>VW Golf IV &gt; 98 / Variant &gt; 99</td>\n",
       "      <td>0.006080</td>\n",
       "      <td>Weil</td>\n",
       "    </tr>\n",
       "    <tr>\n",
       "      <th>7</th>\n",
       "      <td>Tiguan Sport &amp; Style 4MOTION B</td>\n",
       "      <td>0.005811</td>\n",
       "      <td>Weil</td>\n",
       "    </tr>\n",
       "    <tr>\n",
       "      <th>8</th>\n",
       "      <td>Audi A4 Ambition Avant 2.0 TDI</td>\n",
       "      <td>0.005278</td>\n",
       "      <td>Weil</td>\n",
       "    </tr>\n",
       "    <tr>\n",
       "      <th>9</th>\n",
       "      <td>Golf Variant</td>\n",
       "      <td>0.004983</td>\n",
       "      <td>Weil</td>\n",
       "    </tr>\n",
       "    <tr>\n",
       "      <th>10</th>\n",
       "      <td>REST</td>\n",
       "      <td>0.905359</td>\n",
       "      <td>Weil</td>\n",
       "    </tr>\n",
       "  </tbody>\n",
       "</table>\n",
       "</div>"
      ],
      "text/plain": [
       "                            Target     count  Autohaus\n",
       "0                              nan  0.022119  Leonberg\n",
       "1   Passat Variant Comfortline BM   0.016841  Leonberg\n",
       "2   Golf Comfortline BlueMotion Te  0.015018  Leonberg\n",
       "3       Passat Variant Comfortline  0.013306  Leonberg\n",
       "4   Touran Comfortline BlueMotion   0.008441  Leonberg\n",
       "5   VW Golf IV > 98 / Variant > 99  0.007806  Leonberg\n",
       "6   Transporter Kasten Radstand: 3  0.006658  Leonberg\n",
       "7         Caddy Trendline 5-Sitzer  0.006567  Leonberg\n",
       "8   Octavia Combi Elegance 2,0l 11  0.006416  Leonberg\n",
       "9   Caddy Kastenwagen Radstand: 26  0.006406  Leonberg\n",
       "10                            REST  0.890422  Leonberg\n",
       "0                              nan  0.019742      Weil\n",
       "1   Golf Comfortline BlueMotion Te  0.015146      Weil\n",
       "2       Passat Variant Comfortline  0.013941      Weil\n",
       "3   Passat Variant Comfortline BM   0.010650      Weil\n",
       "4   Tiguan Sport & Style 4MOTION 2  0.006650      Weil\n",
       "5   Touran Comfortline BlueMotion   0.006360      Weil\n",
       "6   VW Golf IV > 98 / Variant > 99  0.006080      Weil\n",
       "7   Tiguan Sport & Style 4MOTION B  0.005811      Weil\n",
       "8   Audi A4 Ambition Avant 2.0 TDI  0.005278      Weil\n",
       "9                     Golf Variant  0.004983      Weil\n",
       "10                            REST  0.905359      Weil"
      ]
     },
     "execution_count": 241,
     "metadata": {},
     "output_type": "execute_result"
    },
    {
     "data": {
      "image/png": "[encoded data removed]",
      "text/plain": [
       "<Figure size 1008x576 with 1 Axes>"
      ]
     },
     "metadata": {},
     "output_type": "display_data"
    }
   ],
   "source": [
    "draw_distribution3(data1, data2, 'Modell', n = 10)"
   ]
  },
  {
   "cell_type": "code",
   "execution_count": 38,
   "metadata": {
    "collapsed": false
   },
   "outputs": [
    {
     "name": "stdout",
     "output_type": "stream",
     "text": [
      "Falls Null date exist, drop these dates directly\n",
      "70486\n",
      "top 10 machen 2.84783361431e-05% der Gesamtsummer aus\n"
     ]
    },
    {
     "data": {
      "image/png": "[encoded data removed]",
      "text/plain": [
       "<Figure size 1008x576 with 1 Axes>"
      ]
     },
     "metadata": {},
     "output_type": "display_data"
    }
   ],
   "source": [
    "df = draw_distribution2(data, 'Modell', n = 10, re = False)"
   ]
  },
  {
   "cell_type": "code",
   "execution_count": 39,
   "metadata": {
    "collapsed": false
   },
   "outputs": [
    {
     "data": {
      "text/html": [
       "<div>\n",
       "<style scoped>\n",
       "    .dataframe tbody tr th:only-of-type {\n",
       "        vertical-align: middle;\n",
       "    }\n",
       "\n",
       "    .dataframe tbody tr th {\n",
       "        vertical-align: top;\n",
       "    }\n",
       "\n",
       "    .dataframe thead th {\n",
       "        text-align: right;\n",
       "    }\n",
       "</style>\n",
       "<table border=\"1\" class=\"dataframe\">\n",
       "  <thead>\n",
       "    <tr style=\"text-align: right;\">\n",
       "      <th></th>\n",
       "      <th>Target</th>\n",
       "      <th>count</th>\n",
       "    </tr>\n",
       "  </thead>\n",
       "  <tbody>\n",
       "    <tr>\n",
       "      <th>1</th>\n",
       "      <td>Golf Comfortline BlueMotion Te</td>\n",
       "      <td>0.010661</td>\n",
       "    </tr>\n",
       "    <tr>\n",
       "      <th>2</th>\n",
       "      <td>Passat Variant Comfortline</td>\n",
       "      <td>0.007946</td>\n",
       "    </tr>\n",
       "    <tr>\n",
       "      <th>3</th>\n",
       "      <td>Passat Variant Comfortline BM</td>\n",
       "      <td>0.007346</td>\n",
       "    </tr>\n",
       "    <tr>\n",
       "      <th>4</th>\n",
       "      <td>Touran Comfortline BlueMotion</td>\n",
       "      <td>0.004578</td>\n",
       "    </tr>\n",
       "    <tr>\n",
       "      <th>5</th>\n",
       "      <td>Tiguan Sport &amp; Style 4MOTION 2</td>\n",
       "      <td>0.003987</td>\n",
       "    </tr>\n",
       "    <tr>\n",
       "      <th>6</th>\n",
       "      <td>VW Golf IV &gt; 98 / Variant &gt; 99</td>\n",
       "      <td>0.003969</td>\n",
       "    </tr>\n",
       "    <tr>\n",
       "      <th>7</th>\n",
       "      <td>Caddy Trendline 5-Sitzer</td>\n",
       "      <td>0.003718</td>\n",
       "    </tr>\n",
       "    <tr>\n",
       "      <th>8</th>\n",
       "      <td>Transporter Kasten Radstand: 3</td>\n",
       "      <td>0.003588</td>\n",
       "    </tr>\n",
       "    <tr>\n",
       "      <th>9</th>\n",
       "      <td>Tiguan Sport &amp; Style 4MOTION B</td>\n",
       "      <td>0.003494</td>\n",
       "    </tr>\n",
       "  </tbody>\n",
       "</table>\n",
       "</div>"
      ],
      "text/plain": [
       "                           Target     count\n",
       "1  Golf Comfortline BlueMotion Te  0.010661\n",
       "2      Passat Variant Comfortline  0.007946\n",
       "3  Passat Variant Comfortline BM   0.007346\n",
       "4  Touran Comfortline BlueMotion   0.004578\n",
       "5  Tiguan Sport & Style 4MOTION 2  0.003987\n",
       "6  VW Golf IV > 98 / Variant > 99  0.003969\n",
       "7        Caddy Trendline 5-Sitzer  0.003718\n",
       "8  Transporter Kasten Radstand: 3  0.003588\n",
       "9  Tiguan Sport & Style 4MOTION B  0.003494"
      ]
     },
     "execution_count": 39,
     "metadata": {},
     "output_type": "execute_result"
    }
   ],
   "source": [
    "df"
   ]
  },
  {
   "cell_type": "code",
   "execution_count": 51,
   "metadata": {
    "collapsed": false,
    "scrolled": false
   },
   "outputs": [
    {
     "name": "stdout",
     "output_type": "stream",
     "text": [
      "Falls Null date exist, drop these dates directly\n",
      "27843\n",
      "top 10 machen 8.64282287768e-05% der Gesamtsummer aus\n"
     ]
    },
    {
     "data": {
      "image/png": "[encoded data removed]",
      "text/plain": [
       "<Figure size 1008x576 with 1 Axes>"
      ]
     },
     "metadata": {},
     "output_type": "display_data"
    }
   ],
   "source": [
    "cv = draw_distribution2(data, 'Motorcode', n = 10, re = False)"
   ]
  },
  {
   "cell_type": "code",
   "execution_count": 41,
   "metadata": {
    "collapsed": false
   },
   "outputs": [
    {
     "data": {
      "text/plain": [
       "3322918"
      ]
     },
     "execution_count": 41,
     "metadata": {},
     "output_type": "execute_result"
    }
   ],
   "source": [
    "cv.sum()"
   ]
  },
  {
   "cell_type": "code",
   "execution_count": 6,
   "metadata": {
    "collapsed": false
   },
   "outputs": [
    {
     "data": {
      "text/plain": [
       "0.017698901989155316"
      ]
     },
     "execution_count": 6,
     "metadata": {},
     "output_type": "execute_result"
    }
   ],
   "source": [
    "58812/3322918"
   ]
  },
  {
   "cell_type": "code",
   "execution_count": 8,
   "metadata": {
    "collapsed": false
   },
   "outputs": [
    {
     "data": {
      "text/plain": [
       "Auftragsnummer          27197\n",
       "AW-Nr                    9215\n",
       "Teile-Nr                16634\n",
       "KM-Stand                27042\n",
       "Beschreibung            27122\n",
       "Auftragsdatum           27197\n",
       "Markencode              15506\n",
       "Lagerortcode            27192\n",
       "Adressanredecode        26479\n",
       "Fahrgestellnummer       17806\n",
       "Motorcode                7029\n",
       "Fahrzeugmodellnummer    15490\n",
       "Modell                      0\n",
       "Typ                       791\n",
       "Getriebecode             6867\n",
       "Getriebeartcode           401\n",
       "Gewicht                 15490\n",
       "Leistung (KW)           15490\n",
       "Erstzulassungsdatum     15490\n",
       "Neuwagen                14489\n",
       "Unnamed: 20                 0\n",
       "dtype: int64"
      ]
     },
     "execution_count": 8,
     "metadata": {},
     "output_type": "execute_result"
    }
   ],
   "source": [
    "data[data['Modell'].isna()].count()"
   ]
  },
  {
   "cell_type": "code",
   "execution_count": 28,
   "metadata": {
    "collapsed": false
   },
   "outputs": [
    {
     "data": {
      "text/plain": [
       "Int64Index([0], dtype='int64')"
      ]
     },
     "execution_count": 28,
     "metadata": {},
     "output_type": "execute_result"
    }
   ],
   "source": [
    "df[df['Target'] == 'nan'].index"
   ]
  },
  {
   "cell_type": "code",
   "execution_count": 33,
   "metadata": {
    "collapsed": false
   },
   "outputs": [
    {
     "data": {
      "text/html": [
       "<div>\n",
       "<style scoped>\n",
       "    .dataframe tbody tr th:only-of-type {\n",
       "        vertical-align: middle;\n",
       "    }\n",
       "\n",
       "    .dataframe tbody tr th {\n",
       "        vertical-align: top;\n",
       "    }\n",
       "\n",
       "    .dataframe thead th {\n",
       "        text-align: right;\n",
       "    }\n",
       "</style>\n",
       "<table border=\"1\" class=\"dataframe\">\n",
       "  <thead>\n",
       "    <tr style=\"text-align: right;\">\n",
       "      <th></th>\n",
       "      <th>Target</th>\n",
       "      <th>count</th>\n",
       "    </tr>\n",
       "  </thead>\n",
       "  <tbody>\n",
       "    <tr>\n",
       "      <th>1</th>\n",
       "      <td>Golf Comfortline BlueMotion Te</td>\n",
       "      <td>0.010661</td>\n",
       "    </tr>\n",
       "    <tr>\n",
       "      <th>2</th>\n",
       "      <td>Passat Variant Comfortline</td>\n",
       "      <td>0.007946</td>\n",
       "    </tr>\n",
       "    <tr>\n",
       "      <th>3</th>\n",
       "      <td>Passat Variant Comfortline BM</td>\n",
       "      <td>0.007346</td>\n",
       "    </tr>\n",
       "    <tr>\n",
       "      <th>4</th>\n",
       "      <td>Touran Comfortline BlueMotion</td>\n",
       "      <td>0.004578</td>\n",
       "    </tr>\n",
       "    <tr>\n",
       "      <th>5</th>\n",
       "      <td>Tiguan Sport &amp; Style 4MOTION 2</td>\n",
       "      <td>0.003987</td>\n",
       "    </tr>\n",
       "    <tr>\n",
       "      <th>6</th>\n",
       "      <td>VW Golf IV &gt; 98 / Variant &gt; 99</td>\n",
       "      <td>0.003969</td>\n",
       "    </tr>\n",
       "    <tr>\n",
       "      <th>7</th>\n",
       "      <td>Caddy Trendline 5-Sitzer</td>\n",
       "      <td>0.003718</td>\n",
       "    </tr>\n",
       "    <tr>\n",
       "      <th>8</th>\n",
       "      <td>Transporter Kasten Radstand: 3</td>\n",
       "      <td>0.003588</td>\n",
       "    </tr>\n",
       "    <tr>\n",
       "      <th>9</th>\n",
       "      <td>Tiguan Sport &amp; Style 4MOTION B</td>\n",
       "      <td>0.003494</td>\n",
       "    </tr>\n",
       "  </tbody>\n",
       "</table>\n",
       "</div>"
      ],
      "text/plain": [
       "                           Target     count\n",
       "1  Golf Comfortline BlueMotion Te  0.010661\n",
       "2      Passat Variant Comfortline  0.007946\n",
       "3  Passat Variant Comfortline BM   0.007346\n",
       "4  Touran Comfortline BlueMotion   0.004578\n",
       "5  Tiguan Sport & Style 4MOTION 2  0.003987\n",
       "6  VW Golf IV > 98 / Variant > 99  0.003969\n",
       "7        Caddy Trendline 5-Sitzer  0.003718\n",
       "8  Transporter Kasten Radstand: 3  0.003588\n",
       "9  Tiguan Sport & Style 4MOTION B  0.003494"
      ]
     },
     "execution_count": 33,
     "metadata": {},
     "output_type": "execute_result"
    }
   ],
   "source": [
    "df.drop(df[df['Target'] == 'nan'].index, axis=0)"
   ]
  },
  {
   "cell_type": "code",
   "execution_count": 49,
   "metadata": {
    "collapsed": false,
    "scrolled": true
   },
   "outputs": [
    {
     "data": {
      "text/html": [
       "<div>\n",
       "<style scoped>\n",
       "    .dataframe tbody tr th:only-of-type {\n",
       "        vertical-align: middle;\n",
       "    }\n",
       "\n",
       "    .dataframe tbody tr th {\n",
       "        vertical-align: top;\n",
       "    }\n",
       "\n",
       "    .dataframe thead th {\n",
       "        text-align: right;\n",
       "    }\n",
       "</style>\n",
       "<table border=\"1\" class=\"dataframe\">\n",
       "  <thead>\n",
       "    <tr style=\"text-align: right;\">\n",
       "      <th></th>\n",
       "      <th>Target</th>\n",
       "      <th>count</th>\n",
       "    </tr>\n",
       "  </thead>\n",
       "  <tbody>\n",
       "    <tr>\n",
       "      <th>1</th>\n",
       "      <td>CFFB</td>\n",
       "      <td>0.033663</td>\n",
       "    </tr>\n",
       "    <tr>\n",
       "      <th>2</th>\n",
       "      <td>CAYC</td>\n",
       "      <td>0.023472</td>\n",
       "    </tr>\n",
       "    <tr>\n",
       "      <th>3</th>\n",
       "      <td>CRLB</td>\n",
       "      <td>0.018724</td>\n",
       "    </tr>\n",
       "    <tr>\n",
       "      <th>4</th>\n",
       "      <td>CAXA</td>\n",
       "      <td>0.017841</td>\n",
       "    </tr>\n",
       "    <tr>\n",
       "      <th>5</th>\n",
       "      <td>CBZB</td>\n",
       "      <td>0.016950</td>\n",
       "    </tr>\n",
       "    <tr>\n",
       "      <th>6</th>\n",
       "      <td>CFHC</td>\n",
       "      <td>0.012632</td>\n",
       "    </tr>\n",
       "    <tr>\n",
       "      <th>7</th>\n",
       "      <td>CXXB</td>\n",
       "      <td>0.008829</td>\n",
       "    </tr>\n",
       "    <tr>\n",
       "      <th>8</th>\n",
       "      <td>CHYB</td>\n",
       "      <td>0.008780</td>\n",
       "    </tr>\n",
       "    <tr>\n",
       "      <th>9</th>\n",
       "      <td>CFGC</td>\n",
       "      <td>0.008090</td>\n",
       "    </tr>\n",
       "  </tbody>\n",
       "</table>\n",
       "</div>"
      ],
      "text/plain": [
       "  Target     count\n",
       "1   CFFB  0.033663\n",
       "2   CAYC  0.023472\n",
       "3   CRLB  0.018724\n",
       "4   CAXA  0.017841\n",
       "5   CBZB  0.016950\n",
       "6   CFHC  0.012632\n",
       "7   CXXB  0.008829\n",
       "8   CHYB  0.008780\n",
       "9   CFGC  0.008090"
      ]
     },
     "execution_count": 49,
     "metadata": {},
     "output_type": "execute_result"
    }
   ],
   "source": [
    "df"
   ]
  },
  {
   "cell_type": "code",
   "execution_count": 52,
   "metadata": {
    "collapsed": false
   },
   "outputs": [
    {
     "data": {
      "text/plain": [
       "nan            9815\n",
       "CFFB           7515\n",
       "CAYC           5240\n",
       "CRLB           4180\n",
       "CAXA           3983\n",
       "CBZB           3784\n",
       "CFHC           2820\n",
       "CXXB           1971\n",
       "CHYB           1960\n",
       "CFGC           1806\n",
       "CFGB           1773\n",
       "CBZA           1720\n",
       "BLS            1706\n",
       "CZCA           1606\n",
       "CGL            1568\n",
       "CHYA           1420\n",
       "CLHA           1371\n",
       "CAYD           1365\n",
       "BSE            1300\n",
       "CUNA           1240\n",
       "CNH            1199\n",
       "CYVB           1198\n",
       "CJZC           1198\n",
       "CZDA           1194\n",
       "CNHA           1163\n",
       "CBAB           1131\n",
       "CAY            1105\n",
       "BMM            1094\n",
       "CRBC           1094\n",
       "CAAC           1047\n",
       "               ... \n",
       "BSE;ALH           1\n",
       "CBZA;CDLJ         1\n",
       "BUD;DFEA          1\n",
       "CHHA;CXGB         1\n",
       "BMD;BRU           1\n",
       "CJZC;A14NEL       1\n",
       "AWY;CLHA          1\n",
       "CBZB;AEK          1\n",
       "CGGB;CGW          1\n",
       "CRT;CTFA          1\n",
       "AZD;CGQ           1\n",
       "CJS;CJZC          1\n",
       "CANC;CGKA         1\n",
       "CUSA;AZJ          1\n",
       "BDG;CGW           1\n",
       "CLA;DLBA          1\n",
       "DETA;CUN          1\n",
       "BMK;CJG           1\n",
       "AVQ;CFF           1\n",
       "CGPB;CJZC         1\n",
       "CGWD;CAYD         1\n",
       "EG                1\n",
       "CCZC;CJZA         1\n",
       "CRCA;CHYA         1\n",
       "AMX;CJCA          1\n",
       "CANC;BMY          1\n",
       "BDG;A16XER        1\n",
       "CGQ;CTHC          1\n",
       "CVUA;CBAC         1\n",
       "CZCA;CGKA         1\n",
       "Name: Motorcode, Length: 27843, dtype: int64"
      ]
     },
     "execution_count": 52,
     "metadata": {},
     "output_type": "execute_result"
    }
   ],
   "source": [
    "cv"
   ]
  },
  {
   "cell_type": "code",
   "execution_count": null,
   "metadata": {
    "collapsed": true
   },
   "outputs": [],
   "source": []
  }
 ],
 "metadata": {
  "kernelspec": {
   "display_name": "data_mining",
   "language": "python",
   "name": "data_mining"
  },
  "language_info": {
   "codemirror_mode": {
    "name": "ipython",
    "version": 3
   },
   "file_extension": ".py",
   "mimetype": "text/x-python",
   "name": "python",
   "nbconvert_exporter": "python",
   "pygments_lexer": "ipython3",
   "version": "3.6.5"
  }
 },
 "nbformat": 4,
 "nbformat_minor": 2
}
